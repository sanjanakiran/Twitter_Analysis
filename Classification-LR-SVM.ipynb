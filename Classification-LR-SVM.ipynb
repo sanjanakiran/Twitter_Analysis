{
 "cells": [
  {
   "cell_type": "markdown",
   "metadata": {
    "collapsed": true
   },
   "source": [
    "# CIS600 - Social Media & Data Mining\n",
    "###  \n",
    "<img src=\"https://www.syracuse.edu/wp-content/themes/g6-carbon/img/syracuse-university-seal.svg?ver=6.3.9\" style=\"width: 200px;\"/>\n",
    "\n",
    "# Classification - LR & SVM\n",
    "\n",
    "###  March 8, 2018"
   ]
  },
  {
   "cell_type": "markdown",
   "metadata": {},
   "source": [
    "# Remarks\n",
    "- Your midterm exams will be scored over the break.\n",
    "- You will have another assignment tomorrow: a proposal for your term project.\n",
    "- I will not be able to support graduate students this summer, but thanks to those of you who expressed interest."
   ]
  },
  {
   "cell_type": "markdown",
   "metadata": {},
   "source": [
    "# LR & SVM\n",
    "#### (Data and examples for today taken from Bishop's *Pattern Recognition and Machine Learning*.)"
   ]
  },
  {
   "cell_type": "markdown",
   "metadata": {},
   "source": [
    "### Today we will look in more detail at two related families of classification algorithm. We will need the notions of *precision* and *recall* and the language of *conditional probability*. To review:"
   ]
  },
  {
   "cell_type": "markdown",
   "metadata": {},
   "source": [
    "### If $A$ and $B$ are *events* (e.g. belonging to a class, buying a computer, etc.), then we denote the *conditional probability of $A$ given $B$* by"
   ]
  },
  {
   "cell_type": "markdown",
   "metadata": {},
   "source": [
    "## $P(A \\mid B)$"
   ]
  },
  {
   "cell_type": "markdown",
   "metadata": {},
   "source": [
    "### The conditional probability is a relative thing, giving the proportion of $B$ that consists of $A$. Formally:"
   ]
  },
  {
   "cell_type": "markdown",
   "metadata": {},
   "source": [
    "## $P(A \\mid B) \\color{red}{\\equiv} P(A \\cap B) \\big / P(B)$"
   ]
  },
  {
   "cell_type": "markdown",
   "metadata": {},
   "source": [
    "### (This is a definition.)"
   ]
  },
  {
   "cell_type": "markdown",
   "metadata": {},
   "source": [
    "### We saw a very simple example of Naïve Bayes classification. Let's look at that again"
   ]
  },
  {
   "cell_type": "markdown",
   "metadata": {},
   "source": [
    "## Naïve Bayes"
   ]
  },
  {
   "cell_type": "markdown",
   "metadata": {},
   "source": [
    "### In a *naïve Bayes classifier*, the *events* or *conditions* are the observation of the data and the hypothesis that the data belong to a particular class. For that reason, you will often see Bayes' Theorem written like this:"
   ]
  },
  {
   "cell_type": "markdown",
   "metadata": {},
   "source": [
    "## $ P(H \\mid {\\bf X}) = \\frac{P({\\bf X } \\mid H) P(H)}{P({\\bf X})}$"
   ]
  },
  {
   "cell_type": "markdown",
   "metadata": {},
   "source": [
    "### where $H$ is the hypothesis that the data $\\bf X$ belong to a given class."
   ]
  },
  {
   "cell_type": "markdown",
   "metadata": {},
   "source": [
    "### The term on the left is calling the *posterior* probability, estimate or distribution, depening on context."
   ]
  },
  {
   "cell_type": "markdown",
   "metadata": {},
   "source": [
    "### In terms of formulas, the naïve model assumes *independence* of the probabilities of the various attributes or features of the data."
   ]
  },
  {
   "cell_type": "markdown",
   "metadata": {},
   "source": [
    "## $ P({\\bf X} \\mid C_i) = \\prod_{k=1}^n P(x_k \\mid C_i)$"
   ]
  },
  {
   "cell_type": "markdown",
   "metadata": {},
   "source": [
    "### (This is a *totally unreasonable assumption*, but very often doesn't cost much at the level of classifier results. Why?)"
   ]
  },
  {
   "cell_type": "markdown",
   "metadata": {},
   "source": [
    "### Example"
   ]
  },
  {
   "cell_type": "markdown",
   "metadata": {},
   "source": [
    "<img src=\"notebook-images/bayes.png\" style=\"width: 600px;\"/>"
   ]
  },
  {
   "cell_type": "markdown",
   "metadata": {},
   "source": [
    "### This is the dataset, $X$. Each row is an observation. Note that in this case, the data is categorical. More advanced methods are needed to update continuous variables, but here we use simple proportions."
   ]
  },
  {
   "cell_type": "markdown",
   "metadata": {},
   "source": [
    "### Goal: to classify the datapoint $X=$ (age $\\leq 30$, income $= $medium, student $= $yes, credit_rating $= $ fair)."
   ]
  },
  {
   "cell_type": "markdown",
   "metadata": {},
   "source": [
    "### We are able to calculate directly from aggregate stats the values of $P(x \\mid C_i)$ for any given feature $x$ and category $C_i$. Here, we want two classes:"
   ]
  },
  {
   "cell_type": "markdown",
   "metadata": {},
   "source": [
    "## $C_1: \\text{buys_computer=\"yes\"}$\n",
    "## $C_2: \\text{buys_computer=\"no\"}$"
   ]
  },
  {
   "cell_type": "markdown",
   "metadata": {},
   "source": [
    "### We want to find out which is larger, $P(C_1 \\mid X)$ or $P(C_2 \\mid X)$."
   ]
  },
  {
   "cell_type": "code",
   "execution_count": 1,
   "metadata": {
    "collapsed": true
   },
   "outputs": [],
   "source": [
    "# Let's store probabilities in dictionaries.\n",
    "PXC1, PXC2 = dict(), dict()\n",
    "PXC1['age <= 30'], PXC2['age <= 30'] = 2/9, 3/5\n",
    "PXC1['income = medium'], PXC2['income = medium'] = 4/9, 2/5\n",
    "PXC1['student = yes'], PXC2['student = yes'] = 6/9, 1/5\n",
    "PXC1['credit_rating = fair'], PXC2['credit_rating = fair'] = 6/9, 2/5"
   ]
  },
  {
   "cell_type": "code",
   "execution_count": 2,
   "metadata": {
    "collapsed": true
   },
   "outputs": [],
   "source": [
    "# Calculating the first posterior\n",
    "prod = 1\n",
    "for key in PXC1:\n",
    "    prod *= PXC1[key]"
   ]
  },
  {
   "cell_type": "markdown",
   "metadata": {},
   "source": [
    "### The joint probability of $X$ (our data) and category $1$ is..."
   ]
  },
  {
   "cell_type": "code",
   "execution_count": 3,
   "metadata": {},
   "outputs": [
    {
     "data": {
      "text/plain": [
       "0.028218694885361547"
      ]
     },
     "execution_count": 3,
     "metadata": {},
     "output_type": "execute_result"
    }
   ],
   "source": [
    "prod * (9/14)"
   ]
  },
  {
   "cell_type": "markdown",
   "metadata": {},
   "source": [
    "### For the second category..."
   ]
  },
  {
   "cell_type": "code",
   "execution_count": 4,
   "metadata": {
    "collapsed": true
   },
   "outputs": [],
   "source": [
    "# Calculating the first posterior\n",
    "prod = 1\n",
    "for key in PXC2:\n",
    "    prod *= PXC2[key]"
   ]
  },
  {
   "cell_type": "code",
   "execution_count": 5,
   "metadata": {},
   "outputs": [
    {
     "data": {
      "text/plain": [
       "0.006857142857142858"
      ]
     },
     "execution_count": 5,
     "metadata": {},
     "output_type": "execute_result"
    }
   ],
   "source": [
    "prod * (5/14)"
   ]
  },
  {
   "cell_type": "markdown",
   "metadata": {},
   "source": [
    "### Therefore, our $X$ gets classified into $C_1$, \"buys computer\"."
   ]
  },
  {
   "cell_type": "markdown",
   "metadata": {},
   "source": [
    "# Logistic Regression"
   ]
  },
  {
   "cell_type": "markdown",
   "metadata": {},
   "source": [
    "### The idea that will carry over from Naïve Bayes is that we are trying to classify by finding the largest conditional probability"
   ]
  },
  {
   "cell_type": "markdown",
   "metadata": {},
   "source": [
    "## $ P(C_k \\mid {\\bf X})$"
   ]
  },
  {
   "cell_type": "markdown",
   "metadata": {},
   "source": [
    "### (There is an important distinction to be made here between *generative* and *discriminative* models. See Bishop for more.)"
   ]
  },
  {
   "cell_type": "markdown",
   "metadata": {},
   "source": [
    "### As in other examples, such as SVC, we take our model to be a function with knobs on it."
   ]
  },
  {
   "cell_type": "markdown",
   "metadata": {},
   "source": [
    "### Remeber the *sigmoid* function?"
   ]
  },
  {
   "cell_type": "code",
   "execution_count": 7,
   "metadata": {},
   "outputs": [
    {
     "data": {
      "text/html": [
       "\n",
       "    <div class=\"bk-root\">\n",
       "        <a href=\"https://bokeh.pydata.org\" target=\"_blank\" class=\"bk-logo bk-logo-small bk-logo-notebook\"></a>\n",
       "        <span id=\"c890082d-3f71-44bb-95a2-7467605ceda1\">Loading BokehJS ...</span>\n",
       "    </div>"
      ]
     },
     "metadata": {},
     "output_type": "display_data"
    },
    {
     "data": {
      "application/javascript": [
       "\n",
       "(function(root) {\n",
       "  function now() {\n",
       "    return new Date();\n",
       "  }\n",
       "\n",
       "  var force = true;\n",
       "\n",
       "  if (typeof (root._bokeh_onload_callbacks) === \"undefined\" || force === true) {\n",
       "    root._bokeh_onload_callbacks = [];\n",
       "    root._bokeh_is_loading = undefined;\n",
       "  }\n",
       "\n",
       "  var JS_MIME_TYPE = 'application/javascript';\n",
       "  var HTML_MIME_TYPE = 'text/html';\n",
       "  var EXEC_MIME_TYPE = 'application/vnd.bokehjs_exec.v0+json';\n",
       "  var CLASS_NAME = 'output_bokeh rendered_html';\n",
       "\n",
       "  /**\n",
       "   * Render data to the DOM node\n",
       "   */\n",
       "  function render(props, node) {\n",
       "    var script = document.createElement(\"script\");\n",
       "    node.appendChild(script);\n",
       "  }\n",
       "\n",
       "  /**\n",
       "   * Handle when an output is cleared or removed\n",
       "   */\n",
       "  function handleClearOutput(event, handle) {\n",
       "    var cell = handle.cell;\n",
       "\n",
       "    var id = cell.output_area._bokeh_element_id;\n",
       "    var server_id = cell.output_area._bokeh_server_id;\n",
       "    // Clean up Bokeh references\n",
       "    if (id !== undefined) {\n",
       "      Bokeh.index[id].model.document.clear();\n",
       "      delete Bokeh.index[id];\n",
       "    }\n",
       "\n",
       "    if (server_id !== undefined) {\n",
       "      // Clean up Bokeh references\n",
       "      var cmd = \"from bokeh.io.state import curstate; print(curstate().uuid_to_server['\" + server_id + \"'].get_sessions()[0].document.roots[0]._id)\";\n",
       "      cell.notebook.kernel.execute(cmd, {\n",
       "        iopub: {\n",
       "          output: function(msg) {\n",
       "            var element_id = msg.content.text.trim();\n",
       "            Bokeh.index[element_id].model.document.clear();\n",
       "            delete Bokeh.index[element_id];\n",
       "          }\n",
       "        }\n",
       "      });\n",
       "      // Destroy server and session\n",
       "      var cmd = \"import bokeh.io.notebook as ion; ion.destroy_server('\" + server_id + \"')\";\n",
       "      cell.notebook.kernel.execute(cmd);\n",
       "    }\n",
       "  }\n",
       "\n",
       "  /**\n",
       "   * Handle when a new output is added\n",
       "   */\n",
       "  function handleAddOutput(event, handle) {\n",
       "    var output_area = handle.output_area;\n",
       "    var output = handle.output;\n",
       "\n",
       "    // limit handleAddOutput to display_data with EXEC_MIME_TYPE content only\n",
       "    if ((output.output_type != \"display_data\") || (!output.data.hasOwnProperty(EXEC_MIME_TYPE))) {\n",
       "      return\n",
       "    }\n",
       "\n",
       "    var toinsert = output_area.element.find(`.${CLASS_NAME.split(' ')[0]}`);\n",
       "\n",
       "    if (output.metadata[EXEC_MIME_TYPE][\"id\"] !== undefined) {\n",
       "      toinsert[0].firstChild.textContent = output.data[JS_MIME_TYPE];\n",
       "      // store reference to embed id on output_area\n",
       "      output_area._bokeh_element_id = output.metadata[EXEC_MIME_TYPE][\"id\"];\n",
       "    }\n",
       "    if (output.metadata[EXEC_MIME_TYPE][\"server_id\"] !== undefined) {\n",
       "      var bk_div = document.createElement(\"div\");\n",
       "      bk_div.innerHTML = output.data[HTML_MIME_TYPE];\n",
       "      var script_attrs = bk_div.children[0].attributes;\n",
       "      for (var i = 0; i < script_attrs.length; i++) {\n",
       "        toinsert[0].firstChild.setAttribute(script_attrs[i].name, script_attrs[i].value);\n",
       "      }\n",
       "      // store reference to server id on output_area\n",
       "      output_area._bokeh_server_id = output.metadata[EXEC_MIME_TYPE][\"server_id\"];\n",
       "    }\n",
       "  }\n",
       "\n",
       "  function register_renderer(events, OutputArea) {\n",
       "\n",
       "    function append_mime(data, metadata, element) {\n",
       "      // create a DOM node to render to\n",
       "      var toinsert = this.create_output_subarea(\n",
       "        metadata,\n",
       "        CLASS_NAME,\n",
       "        EXEC_MIME_TYPE\n",
       "      );\n",
       "      this.keyboard_manager.register_events(toinsert);\n",
       "      // Render to node\n",
       "      var props = {data: data, metadata: metadata[EXEC_MIME_TYPE]};\n",
       "      render(props, toinsert[0]);\n",
       "      element.append(toinsert);\n",
       "      return toinsert\n",
       "    }\n",
       "\n",
       "    /* Handle when an output is cleared or removed */\n",
       "    events.on('clear_output.CodeCell', handleClearOutput);\n",
       "    events.on('delete.Cell', handleClearOutput);\n",
       "\n",
       "    /* Handle when a new output is added */\n",
       "    events.on('output_added.OutputArea', handleAddOutput);\n",
       "\n",
       "    /**\n",
       "     * Register the mime type and append_mime function with output_area\n",
       "     */\n",
       "    OutputArea.prototype.register_mime_type(EXEC_MIME_TYPE, append_mime, {\n",
       "      /* Is output safe? */\n",
       "      safe: true,\n",
       "      /* Index of renderer in `output_area.display_order` */\n",
       "      index: 0\n",
       "    });\n",
       "  }\n",
       "\n",
       "  // register the mime type if in Jupyter Notebook environment and previously unregistered\n",
       "  if (root.Jupyter !== undefined) {\n",
       "    var events = require('base/js/events');\n",
       "    var OutputArea = require('notebook/js/outputarea').OutputArea;\n",
       "\n",
       "    if (OutputArea.prototype.mime_types().indexOf(EXEC_MIME_TYPE) == -1) {\n",
       "      register_renderer(events, OutputArea);\n",
       "    }\n",
       "  }\n",
       "\n",
       "  \n",
       "  if (typeof (root._bokeh_timeout) === \"undefined\" || force === true) {\n",
       "    root._bokeh_timeout = Date.now() + 5000;\n",
       "    root._bokeh_failed_load = false;\n",
       "  }\n",
       "\n",
       "  var NB_LOAD_WARNING = {'data': {'text/html':\n",
       "     \"<div style='background-color: #fdd'>\\n\"+\n",
       "     \"<p>\\n\"+\n",
       "     \"BokehJS does not appear to have successfully loaded. If loading BokehJS from CDN, this \\n\"+\n",
       "     \"may be due to a slow or bad network connection. Possible fixes:\\n\"+\n",
       "     \"</p>\\n\"+\n",
       "     \"<ul>\\n\"+\n",
       "     \"<li>re-rerun `output_notebook()` to attempt to load from CDN again, or</li>\\n\"+\n",
       "     \"<li>use INLINE resources instead, as so:</li>\\n\"+\n",
       "     \"</ul>\\n\"+\n",
       "     \"<code>\\n\"+\n",
       "     \"from bokeh.resources import INLINE\\n\"+\n",
       "     \"output_notebook(resources=INLINE)\\n\"+\n",
       "     \"</code>\\n\"+\n",
       "     \"</div>\"}};\n",
       "\n",
       "  function display_loaded() {\n",
       "    var el = document.getElementById(\"c890082d-3f71-44bb-95a2-7467605ceda1\");\n",
       "    if (el != null) {\n",
       "      el.textContent = \"BokehJS is loading...\";\n",
       "    }\n",
       "    if (root.Bokeh !== undefined) {\n",
       "      if (el != null) {\n",
       "        el.textContent = \"BokehJS \" + root.Bokeh.version + \" successfully loaded.\";\n",
       "      }\n",
       "    } else if (Date.now() < root._bokeh_timeout) {\n",
       "      setTimeout(display_loaded, 100)\n",
       "    }\n",
       "  }\n",
       "\n",
       "\n",
       "  function run_callbacks() {\n",
       "    try {\n",
       "      root._bokeh_onload_callbacks.forEach(function(callback) { callback() });\n",
       "    }\n",
       "    finally {\n",
       "      delete root._bokeh_onload_callbacks\n",
       "    }\n",
       "    console.info(\"Bokeh: all callbacks have finished\");\n",
       "  }\n",
       "\n",
       "  function load_libs(js_urls, callback) {\n",
       "    root._bokeh_onload_callbacks.push(callback);\n",
       "    if (root._bokeh_is_loading > 0) {\n",
       "      console.log(\"Bokeh: BokehJS is being loaded, scheduling callback at\", now());\n",
       "      return null;\n",
       "    }\n",
       "    if (js_urls == null || js_urls.length === 0) {\n",
       "      run_callbacks();\n",
       "      return null;\n",
       "    }\n",
       "    console.log(\"Bokeh: BokehJS not loaded, scheduling load and callback at\", now());\n",
       "    root._bokeh_is_loading = js_urls.length;\n",
       "    for (var i = 0; i < js_urls.length; i++) {\n",
       "      var url = js_urls[i];\n",
       "      var s = document.createElement('script');\n",
       "      s.src = url;\n",
       "      s.async = false;\n",
       "      s.onreadystatechange = s.onload = function() {\n",
       "        root._bokeh_is_loading--;\n",
       "        if (root._bokeh_is_loading === 0) {\n",
       "          console.log(\"Bokeh: all BokehJS libraries loaded\");\n",
       "          run_callbacks()\n",
       "        }\n",
       "      };\n",
       "      s.onerror = function() {\n",
       "        console.warn(\"failed to load library \" + url);\n",
       "      };\n",
       "      console.log(\"Bokeh: injecting script tag for BokehJS library: \", url);\n",
       "      document.getElementsByTagName(\"head\")[0].appendChild(s);\n",
       "    }\n",
       "  };var element = document.getElementById(\"c890082d-3f71-44bb-95a2-7467605ceda1\");\n",
       "  if (element == null) {\n",
       "    console.log(\"Bokeh: ERROR: autoload.js configured with elementid 'c890082d-3f71-44bb-95a2-7467605ceda1' but no matching script tag was found. \")\n",
       "    return false;\n",
       "  }\n",
       "\n",
       "  var js_urls = [\"https://cdn.pydata.org/bokeh/release/bokeh-0.12.10.min.js\", \"https://cdn.pydata.org/bokeh/release/bokeh-widgets-0.12.10.min.js\", \"https://cdn.pydata.org/bokeh/release/bokeh-tables-0.12.10.min.js\", \"https://cdn.pydata.org/bokeh/release/bokeh-gl-0.12.10.min.js\"];\n",
       "\n",
       "  var inline_js = [\n",
       "    function(Bokeh) {\n",
       "      Bokeh.set_log_level(\"info\");\n",
       "    },\n",
       "    \n",
       "    function(Bokeh) {\n",
       "      \n",
       "    },\n",
       "    function(Bokeh) {\n",
       "      console.log(\"Bokeh: injecting CSS: https://cdn.pydata.org/bokeh/release/bokeh-0.12.10.min.css\");\n",
       "      Bokeh.embed.inject_css(\"https://cdn.pydata.org/bokeh/release/bokeh-0.12.10.min.css\");\n",
       "      console.log(\"Bokeh: injecting CSS: https://cdn.pydata.org/bokeh/release/bokeh-widgets-0.12.10.min.css\");\n",
       "      Bokeh.embed.inject_css(\"https://cdn.pydata.org/bokeh/release/bokeh-widgets-0.12.10.min.css\");\n",
       "      console.log(\"Bokeh: injecting CSS: https://cdn.pydata.org/bokeh/release/bokeh-tables-0.12.10.min.css\");\n",
       "      Bokeh.embed.inject_css(\"https://cdn.pydata.org/bokeh/release/bokeh-tables-0.12.10.min.css\");\n",
       "    }\n",
       "  ];\n",
       "\n",
       "  function run_inline_js() {\n",
       "    \n",
       "    if ((root.Bokeh !== undefined) || (force === true)) {\n",
       "      for (var i = 0; i < inline_js.length; i++) {\n",
       "        inline_js[i].call(root, root.Bokeh);\n",
       "      }if (force === true) {\n",
       "        display_loaded();\n",
       "      }} else if (Date.now() < root._bokeh_timeout) {\n",
       "      setTimeout(run_inline_js, 100);\n",
       "    } else if (!root._bokeh_failed_load) {\n",
       "      console.log(\"Bokeh: BokehJS failed to load within specified timeout.\");\n",
       "      root._bokeh_failed_load = true;\n",
       "    } else if (force !== true) {\n",
       "      var cell = $(document.getElementById(\"c890082d-3f71-44bb-95a2-7467605ceda1\")).parents('.cell').data().cell;\n",
       "      cell.output_area.append_execute_result(NB_LOAD_WARNING)\n",
       "    }\n",
       "\n",
       "  }\n",
       "\n",
       "  if (root._bokeh_is_loading === 0) {\n",
       "    console.log(\"Bokeh: BokehJS loaded, going straight to plotting\");\n",
       "    run_inline_js();\n",
       "  } else {\n",
       "    load_libs(js_urls, function() {\n",
       "      console.log(\"Bokeh: BokehJS plotting callback run at\", now());\n",
       "      run_inline_js();\n",
       "    });\n",
       "  }\n",
       "}(window));"
      ],
      "application/vnd.bokehjs_load.v0+json": "\n(function(root) {\n  function now() {\n    return new Date();\n  }\n\n  var force = true;\n\n  if (typeof (root._bokeh_onload_callbacks) === \"undefined\" || force === true) {\n    root._bokeh_onload_callbacks = [];\n    root._bokeh_is_loading = undefined;\n  }\n\n  \n\n  \n  if (typeof (root._bokeh_timeout) === \"undefined\" || force === true) {\n    root._bokeh_timeout = Date.now() + 5000;\n    root._bokeh_failed_load = false;\n  }\n\n  var NB_LOAD_WARNING = {'data': {'text/html':\n     \"<div style='background-color: #fdd'>\\n\"+\n     \"<p>\\n\"+\n     \"BokehJS does not appear to have successfully loaded. If loading BokehJS from CDN, this \\n\"+\n     \"may be due to a slow or bad network connection. Possible fixes:\\n\"+\n     \"</p>\\n\"+\n     \"<ul>\\n\"+\n     \"<li>re-rerun `output_notebook()` to attempt to load from CDN again, or</li>\\n\"+\n     \"<li>use INLINE resources instead, as so:</li>\\n\"+\n     \"</ul>\\n\"+\n     \"<code>\\n\"+\n     \"from bokeh.resources import INLINE\\n\"+\n     \"output_notebook(resources=INLINE)\\n\"+\n     \"</code>\\n\"+\n     \"</div>\"}};\n\n  function display_loaded() {\n    var el = document.getElementById(\"c890082d-3f71-44bb-95a2-7467605ceda1\");\n    if (el != null) {\n      el.textContent = \"BokehJS is loading...\";\n    }\n    if (root.Bokeh !== undefined) {\n      if (el != null) {\n        el.textContent = \"BokehJS \" + root.Bokeh.version + \" successfully loaded.\";\n      }\n    } else if (Date.now() < root._bokeh_timeout) {\n      setTimeout(display_loaded, 100)\n    }\n  }\n\n\n  function run_callbacks() {\n    try {\n      root._bokeh_onload_callbacks.forEach(function(callback) { callback() });\n    }\n    finally {\n      delete root._bokeh_onload_callbacks\n    }\n    console.info(\"Bokeh: all callbacks have finished\");\n  }\n\n  function load_libs(js_urls, callback) {\n    root._bokeh_onload_callbacks.push(callback);\n    if (root._bokeh_is_loading > 0) {\n      console.log(\"Bokeh: BokehJS is being loaded, scheduling callback at\", now());\n      return null;\n    }\n    if (js_urls == null || js_urls.length === 0) {\n      run_callbacks();\n      return null;\n    }\n    console.log(\"Bokeh: BokehJS not loaded, scheduling load and callback at\", now());\n    root._bokeh_is_loading = js_urls.length;\n    for (var i = 0; i < js_urls.length; i++) {\n      var url = js_urls[i];\n      var s = document.createElement('script');\n      s.src = url;\n      s.async = false;\n      s.onreadystatechange = s.onload = function() {\n        root._bokeh_is_loading--;\n        if (root._bokeh_is_loading === 0) {\n          console.log(\"Bokeh: all BokehJS libraries loaded\");\n          run_callbacks()\n        }\n      };\n      s.onerror = function() {\n        console.warn(\"failed to load library \" + url);\n      };\n      console.log(\"Bokeh: injecting script tag for BokehJS library: \", url);\n      document.getElementsByTagName(\"head\")[0].appendChild(s);\n    }\n  };var element = document.getElementById(\"c890082d-3f71-44bb-95a2-7467605ceda1\");\n  if (element == null) {\n    console.log(\"Bokeh: ERROR: autoload.js configured with elementid 'c890082d-3f71-44bb-95a2-7467605ceda1' but no matching script tag was found. \")\n    return false;\n  }\n\n  var js_urls = [\"https://cdn.pydata.org/bokeh/release/bokeh-0.12.10.min.js\", \"https://cdn.pydata.org/bokeh/release/bokeh-widgets-0.12.10.min.js\", \"https://cdn.pydata.org/bokeh/release/bokeh-tables-0.12.10.min.js\", \"https://cdn.pydata.org/bokeh/release/bokeh-gl-0.12.10.min.js\"];\n\n  var inline_js = [\n    function(Bokeh) {\n      Bokeh.set_log_level(\"info\");\n    },\n    \n    function(Bokeh) {\n      \n    },\n    function(Bokeh) {\n      console.log(\"Bokeh: injecting CSS: https://cdn.pydata.org/bokeh/release/bokeh-0.12.10.min.css\");\n      Bokeh.embed.inject_css(\"https://cdn.pydata.org/bokeh/release/bokeh-0.12.10.min.css\");\n      console.log(\"Bokeh: injecting CSS: https://cdn.pydata.org/bokeh/release/bokeh-widgets-0.12.10.min.css\");\n      Bokeh.embed.inject_css(\"https://cdn.pydata.org/bokeh/release/bokeh-widgets-0.12.10.min.css\");\n      console.log(\"Bokeh: injecting CSS: https://cdn.pydata.org/bokeh/release/bokeh-tables-0.12.10.min.css\");\n      Bokeh.embed.inject_css(\"https://cdn.pydata.org/bokeh/release/bokeh-tables-0.12.10.min.css\");\n    }\n  ];\n\n  function run_inline_js() {\n    \n    if ((root.Bokeh !== undefined) || (force === true)) {\n      for (var i = 0; i < inline_js.length; i++) {\n        inline_js[i].call(root, root.Bokeh);\n      }if (force === true) {\n        display_loaded();\n      }} else if (Date.now() < root._bokeh_timeout) {\n      setTimeout(run_inline_js, 100);\n    } else if (!root._bokeh_failed_load) {\n      console.log(\"Bokeh: BokehJS failed to load within specified timeout.\");\n      root._bokeh_failed_load = true;\n    } else if (force !== true) {\n      var cell = $(document.getElementById(\"c890082d-3f71-44bb-95a2-7467605ceda1\")).parents('.cell').data().cell;\n      cell.output_area.append_execute_result(NB_LOAD_WARNING)\n    }\n\n  }\n\n  if (root._bokeh_is_loading === 0) {\n    console.log(\"Bokeh: BokehJS loaded, going straight to plotting\");\n    run_inline_js();\n  } else {\n    load_libs(js_urls, function() {\n      console.log(\"Bokeh: BokehJS plotting callback run at\", now());\n      run_inline_js();\n    });\n  }\n}(window));"
     },
     "metadata": {},
     "output_type": "display_data"
    },
    {
     "data": {
      "text/html": [
       "\n",
       "<div class=\"bk-root\">\n",
       "    <div class=\"bk-plotdiv\" id=\"725d1c38-eb14-4713-b3de-4a51ef4f4e62\"></div>\n",
       "</div>"
      ]
     },
     "metadata": {},
     "output_type": "display_data"
    },
    {
     "data": {
      "application/javascript": [
       "(function(root) {\n",
       "  function embed_document(root) {\n",
       "    var docs_json = {\"99975456-2631-4e0e-8f25-86a0ff8d5470\":{\"roots\":{\"references\":[{\"attributes\":{\"plot\":{\"id\":\"cbf0f97b-d120-46e4-9074-3b2f74e228e0\",\"subtype\":\"Figure\",\"type\":\"Plot\"},\"ticker\":{\"id\":\"5f9af409-1c92-4f1c-98a4-c467cf075cec\",\"type\":\"BasicTicker\"}},\"id\":\"8e23f0fb-aad6-459a-8fa1-2a1886cb25de\",\"type\":\"Grid\"},{\"attributes\":{},\"id\":\"5f9af409-1c92-4f1c-98a4-c467cf075cec\",\"type\":\"BasicTicker\"},{\"attributes\":{\"formatter\":{\"id\":\"424e5df4-f7fd-4c7b-a3c5-8fae251ceb9f\",\"type\":\"BasicTickFormatter\"},\"plot\":{\"id\":\"cbf0f97b-d120-46e4-9074-3b2f74e228e0\",\"subtype\":\"Figure\",\"type\":\"Plot\"},\"ticker\":{\"id\":\"f93ddea2-6a0f-4ac8-aa48-cb17e7239561\",\"type\":\"BasicTicker\"}},\"id\":\"d0fdb6a1-9940-48fb-a894-0afe9bc12664\",\"type\":\"LinearAxis\"},{\"attributes\":{\"line_color\":{\"value\":\"#1f77b4\"},\"x\":{\"field\":\"x\"},\"y\":{\"field\":\"y\"}},\"id\":\"905ca5f6-836b-43eb-b54e-4d69e5c9cb61\",\"type\":\"Line\"},{\"attributes\":{},\"id\":\"f93ddea2-6a0f-4ac8-aa48-cb17e7239561\",\"type\":\"BasicTicker\"},{\"attributes\":{},\"id\":\"424e5df4-f7fd-4c7b-a3c5-8fae251ceb9f\",\"type\":\"BasicTickFormatter\"},{\"attributes\":{\"dimension\":1,\"plot\":{\"id\":\"cbf0f97b-d120-46e4-9074-3b2f74e228e0\",\"subtype\":\"Figure\",\"type\":\"Plot\"},\"ticker\":{\"id\":\"f93ddea2-6a0f-4ac8-aa48-cb17e7239561\",\"type\":\"BasicTicker\"}},\"id\":\"014b2b52-38a3-4533-b4ba-2fada9756310\",\"type\":\"Grid\"},{\"attributes\":{\"data_source\":{\"id\":\"2808067d-3cfd-4ec2-b9eb-dfa83e842cb8\",\"type\":\"ColumnDataSource\"},\"glyph\":{\"id\":\"905ca5f6-836b-43eb-b54e-4d69e5c9cb61\",\"type\":\"Line\"},\"hover_glyph\":null,\"muted_glyph\":null,\"nonselection_glyph\":{\"id\":\"60f77589-a2e7-41a0-ac9c-ce62c5121be1\",\"type\":\"Line\"},\"selection_glyph\":null,\"view\":{\"id\":\"e2f8a474-dda6-405c-bcc4-0deee1aecfb4\",\"type\":\"CDSView\"}},\"id\":\"cae78371-37a8-4c41-a9f5-b9145cd7f431\",\"type\":\"GlyphRenderer\"},{\"attributes\":{\"source\":{\"id\":\"2808067d-3cfd-4ec2-b9eb-dfa83e842cb8\",\"type\":\"ColumnDataSource\"}},\"id\":\"e2f8a474-dda6-405c-bcc4-0deee1aecfb4\",\"type\":\"CDSView\"},{\"attributes\":{\"bottom_units\":\"screen\",\"fill_alpha\":{\"value\":0.5},\"fill_color\":{\"value\":\"lightgrey\"},\"left_units\":\"screen\",\"level\":\"overlay\",\"line_alpha\":{\"value\":1.0},\"line_color\":{\"value\":\"black\"},\"line_dash\":[4,4],\"line_width\":{\"value\":2},\"plot\":null,\"render_mode\":\"css\",\"right_units\":\"screen\",\"top_units\":\"screen\"},\"id\":\"722083f0-2fae-43a9-81ec-dbd7c670e069\",\"type\":\"BoxAnnotation\"},{\"attributes\":{\"callback\":null,\"column_names\":[\"x\",\"y\"],\"data\":{\"x\":{\"__ndarray__\":\"GC1EVPshGcBD1GGYAKAYwG97f9wFHhjAmiKdIAucF8DGybpkEBoXwPFw2KgVmBbAHRj27BoWFsBIvxMxIJQVwHRmMXUlEhXAnw1PuSqQFMDLtGz9Lw4UwPZbikE1jBPAIgOohToKE8BNqsXJP4gSwHhR4w1FBhLApPgAUkqEEcDQnx6WTwIRwPtGPNpUgBDATdyzPLT8D8CkKu/EvvgOwPt4Kk3J9A3AUsdl1dPwDMCpFaFd3uwLwABk3OXo6ArAVrIXbvPkCcCtAFP2/eAIwARPjn4I3QfAW53JBhPZBsCy6wSPHdUFwAk6QBco0QTAYIh7nzLNA8C31rYnPckCwA4l8q9HxQHAZHMtOFLBAMB4g9GAuXr/vyQgSJHOcv2/1Ly+oeNq+7+AWTWy+GL5vzD2q8INW/e/3JIi0yJT9b+ML5njN0vzvzjMD/RMQ/G/0NEMCcR27r8oC/op7mbqv4hE50oYV+a/4H3Ua0JH4r+AboMZ2W7cvzDhXVstT9S/wKdwOgNfyL+AGkt8Vz+wv8AaS3xXP7A/4KdwOgNfyD9A4V1bLU/UP4BugxnZbtw/6H3Ua0JH4j+IROdKGFfmPzAL+inuZuo/0NEMCcR27j88zA/0TEPxP4wvmeM3S/M/4JIi0yJT9T8w9qvCDVv3P4RZNbL4Yvk/1Ly+oeNq+z8oIEiRznL9P3iD0YC5ev8/aHMtOFLBAEAQJfKvR8UBQLjWtic9yQJAYIh7nzLNA0AMOkAXKNEEQLTrBI8d1QVAXJ3JBhPZBkAET45+CN0HQLAAU/b94AhAWLIXbvPkCUAAZNzl6OgKQKgVoV3e7AtAVMdl1dPwDED8eCpNyfQNQKQq78S++A5AUNyzPLT8D0D8RjzaVIAQQNCfHpZPAhFApPgAUkqEEUB6UeMNRQYSQE6qxck/iBJAIgOohToKE0D2W4pBNYwTQMy0bP0vDhRAoA1PuSqQFEB0ZjF1JRIVQEi/EzEglBVAHhj27BoWFkDycNioFZgWQMbJumQQGhdAnCKdIAucF0Bwe3/cBR4YQETUYZgAoBhAGC1EVPshGUA=\",\"dtype\":\"float64\",\"shape\":[100]},\"y\":{\"__ndarray__\":\"VfDX1gWKXj/x010K8VRhPzsKh+b/q2M/5UYEG7hTZj99saa+5VZpPwm5aDfCwWw/G+telBFRcD+FGcWC14NyP7O5/OoLAnU/MNFsY67Vdz/rukONCQp7P9CIwIjbq34/Gx8nVsFkgT/I8Jpel7mDP71zbm2LXYY/AsEvHNpaiT+mXtnQAL2MP4qIr+dvSJA/jMo7M29ykj/yAsRuiOSUP+ne5Muvp5c/nBmnUNfFmj8IZotFAkqePxHudsYrIKE/L+Fg9Rhboz8X1i1/Ft2lP7X4N7AWrqg/yrh4/7DWqz8/Sw45HmCvP45GwWkXqrE/xjAx+Zzesz+Fln27AVO2P8Y8MbjLDLk/m/ROpIwRvD/xFhOhwma/P+BbItHYiME//79pqZqLwz+fyz/mxb3FP3M86g4NIcg/YP29Mpa2yj+EeA4Y2n7NPxcusSzCPNA/fMh3VKvS0T+JRaTfCIDTP76sLEozQ9U/wnwvK/kZ1z93uVqKowHZP1UmQyEB99o/T8w9jnj23D8/WZHcIPzeP2NTt5HvgeA/2hnhuMOE4T/YbF5vf4TiP0Sj0jouf+M/oEFoagNz5D+hqelaZl7lPz3dLZD7P+Y/wxvEVaoW5z/2aKfpnuHnP+Bh/HlJoOg/qYBQc1pS6T/jcEW8vPfpPxoNcIaOkOo/AJClVRkd6z8KabfLyZ3rPyGd3asnE+w/byF2a8597D9o2PmIZt7sPzBNkMifNe0/59nZYCyE7T8v18cSvcrtP0wbbxz+Ce4/c3QI8JRC7j91gPyUHnXuP58iDZguou4/7vGpcE7K7j8fkZhD/e3uP9Ck0+2vDe8/NMd6RdEp7z8I2aCBwkLvP+nfibzbWO8/qyFmhmxs7z+8g8KAvH3vP4aavPwLje8//ECPl5Sa7z8xRkrSiabvPz2UhaIZse8/g2On+my67z/vfu5IqMLvP4l45ezrye8/XiY5o1TQ7z+NBiro+9XvP811+lD42u8/K0LX3F3f7z9Il8g9PuPvP09ZQRqp5u8/ufvkR6zp7z/1eBkAVOzvPy2i9Q6r7u8/CJQU/brw7z8=\",\"dtype\":\"float64\",\"shape\":[100]}}},\"id\":\"2808067d-3cfd-4ec2-b9eb-dfa83e842cb8\",\"type\":\"ColumnDataSource\"},{\"attributes\":{},\"id\":\"57033e22-c732-455f-b54b-899f4ccc094f\",\"type\":\"PanTool\"},{\"attributes\":{\"plot\":null,\"text\":\"\"},\"id\":\"84aacf02-43ed-47c3-832a-894f21ce0ca2\",\"type\":\"Title\"},{\"attributes\":{},\"id\":\"37a8f55a-d244-4869-afc1-da590fa4ad63\",\"type\":\"WheelZoomTool\"},{\"attributes\":{},\"id\":\"4e57fb82-8a55-4b86-9b08-cc8dac0b5344\",\"type\":\"LinearScale\"},{\"attributes\":{\"overlay\":{\"id\":\"722083f0-2fae-43a9-81ec-dbd7c670e069\",\"type\":\"BoxAnnotation\"}},\"id\":\"b436311e-61d4-46a4-b6fe-408d34daca9d\",\"type\":\"BoxZoomTool\"},{\"attributes\":{\"active_drag\":\"auto\",\"active_inspect\":\"auto\",\"active_scroll\":\"auto\",\"active_tap\":\"auto\",\"tools\":[{\"id\":\"57033e22-c732-455f-b54b-899f4ccc094f\",\"type\":\"PanTool\"},{\"id\":\"37a8f55a-d244-4869-afc1-da590fa4ad63\",\"type\":\"WheelZoomTool\"},{\"id\":\"b436311e-61d4-46a4-b6fe-408d34daca9d\",\"type\":\"BoxZoomTool\"},{\"id\":\"cbbd3aa7-ceff-4d0b-bb34-255e7ceb0c69\",\"type\":\"SaveTool\"},{\"id\":\"d55b7752-3051-42f9-807e-e8c0f15d6ecc\",\"type\":\"ResetTool\"},{\"id\":\"93ba040b-ec40-46df-8a44-7076bbc3373b\",\"type\":\"HelpTool\"}]},\"id\":\"c781062e-09d2-4fdc-8b6c-3cf50fefa791\",\"type\":\"Toolbar\"},{\"attributes\":{},\"id\":\"cbbd3aa7-ceff-4d0b-bb34-255e7ceb0c69\",\"type\":\"SaveTool\"},{\"attributes\":{\"callback\":null},\"id\":\"6a17dc76-f46c-40b1-abb9-fa52e47247af\",\"type\":\"DataRange1d\"},{\"attributes\":{},\"id\":\"d55b7752-3051-42f9-807e-e8c0f15d6ecc\",\"type\":\"ResetTool\"},{\"attributes\":{\"line_alpha\":{\"value\":0.1},\"line_color\":{\"value\":\"#1f77b4\"},\"x\":{\"field\":\"x\"},\"y\":{\"field\":\"y\"}},\"id\":\"60f77589-a2e7-41a0-ac9c-ce62c5121be1\",\"type\":\"Line\"},{\"attributes\":{\"below\":[{\"id\":\"6c0b886c-19d8-4439-afa0-2ac1f0f2d5d0\",\"type\":\"LinearAxis\"}],\"left\":[{\"id\":\"d0fdb6a1-9940-48fb-a894-0afe9bc12664\",\"type\":\"LinearAxis\"}],\"plot_height\":400,\"plot_width\":400,\"renderers\":[{\"id\":\"6c0b886c-19d8-4439-afa0-2ac1f0f2d5d0\",\"type\":\"LinearAxis\"},{\"id\":\"8e23f0fb-aad6-459a-8fa1-2a1886cb25de\",\"type\":\"Grid\"},{\"id\":\"d0fdb6a1-9940-48fb-a894-0afe9bc12664\",\"type\":\"LinearAxis\"},{\"id\":\"014b2b52-38a3-4533-b4ba-2fada9756310\",\"type\":\"Grid\"},{\"id\":\"722083f0-2fae-43a9-81ec-dbd7c670e069\",\"type\":\"BoxAnnotation\"},{\"id\":\"cae78371-37a8-4c41-a9f5-b9145cd7f431\",\"type\":\"GlyphRenderer\"}],\"title\":{\"id\":\"84aacf02-43ed-47c3-832a-894f21ce0ca2\",\"type\":\"Title\"},\"toolbar\":{\"id\":\"c781062e-09d2-4fdc-8b6c-3cf50fefa791\",\"type\":\"Toolbar\"},\"x_range\":{\"id\":\"6a17dc76-f46c-40b1-abb9-fa52e47247af\",\"type\":\"DataRange1d\"},\"x_scale\":{\"id\":\"233fb02b-2839-43ab-843c-83af92baa7ea\",\"type\":\"LinearScale\"},\"y_range\":{\"id\":\"c0d8effb-663a-4bf0-a702-021e80f88a5b\",\"type\":\"DataRange1d\"},\"y_scale\":{\"id\":\"4e57fb82-8a55-4b86-9b08-cc8dac0b5344\",\"type\":\"LinearScale\"}},\"id\":\"cbf0f97b-d120-46e4-9074-3b2f74e228e0\",\"subtype\":\"Figure\",\"type\":\"Plot\"},{\"attributes\":{},\"id\":\"93ba040b-ec40-46df-8a44-7076bbc3373b\",\"type\":\"HelpTool\"},{\"attributes\":{\"formatter\":{\"id\":\"99816ca2-afa5-4f92-be8c-d6ea4890d765\",\"type\":\"BasicTickFormatter\"},\"plot\":{\"id\":\"cbf0f97b-d120-46e4-9074-3b2f74e228e0\",\"subtype\":\"Figure\",\"type\":\"Plot\"},\"ticker\":{\"id\":\"5f9af409-1c92-4f1c-98a4-c467cf075cec\",\"type\":\"BasicTicker\"}},\"id\":\"6c0b886c-19d8-4439-afa0-2ac1f0f2d5d0\",\"type\":\"LinearAxis\"},{\"attributes\":{\"callback\":null},\"id\":\"c0d8effb-663a-4bf0-a702-021e80f88a5b\",\"type\":\"DataRange1d\"},{\"attributes\":{},\"id\":\"233fb02b-2839-43ab-843c-83af92baa7ea\",\"type\":\"LinearScale\"},{\"attributes\":{},\"id\":\"99816ca2-afa5-4f92-be8c-d6ea4890d765\",\"type\":\"BasicTickFormatter\"}],\"root_ids\":[\"cbf0f97b-d120-46e4-9074-3b2f74e228e0\"]},\"title\":\"Bokeh Application\",\"version\":\"0.12.10\"}};\n",
       "    var render_items = [{\"docid\":\"99975456-2631-4e0e-8f25-86a0ff8d5470\",\"elementid\":\"725d1c38-eb14-4713-b3de-4a51ef4f4e62\",\"modelid\":\"cbf0f97b-d120-46e4-9074-3b2f74e228e0\"}];\n",
       "\n",
       "    root.Bokeh.embed.embed_items(docs_json, render_items);\n",
       "  }\n",
       "\n",
       "  if (root.Bokeh !== undefined) {\n",
       "    embed_document(root);\n",
       "  } else {\n",
       "    var attempts = 0;\n",
       "    var timer = setInterval(function(root) {\n",
       "      if (root.Bokeh !== undefined) {\n",
       "        embed_document(root);\n",
       "        clearInterval(timer);\n",
       "      }\n",
       "      attempts++;\n",
       "      if (attempts > 100) {\n",
       "        console.log(\"Bokeh: ERROR: Unable to embed document because BokehJS library is missing\")\n",
       "        clearInterval(timer);\n",
       "      }\n",
       "    }, 10, root)\n",
       "  }\n",
       "})(window);"
      ],
      "application/vnd.bokehjs_exec.v0+json": ""
     },
     "metadata": {
      "application/vnd.bokehjs_exec.v0+json": {
       "id": "cbf0f97b-d120-46e4-9074-3b2f74e228e0"
      }
     },
     "output_type": "display_data"
    }
   ],
   "source": [
    "import numpy as np\n",
    "from bokeh.plotting import figure, output_notebook, show\n",
    "output_notebook()\n",
    "sgmd = lambda x: 1 / (1 + np.exp(-x))\n",
    "x = np.linspace(-2*np.pi, 2*np.pi, 100)\n",
    "y = sgmd(x)\n",
    "p = figure(plot_width=400, plot_height=400)\n",
    "p.line(x,y)\n",
    "show(p)"
   ]
  },
  {
   "cell_type": "markdown",
   "metadata": {},
   "source": [
    "### Note the *domain* and *codomain*. The sigmoid function can take any input and returns a value between $0$ and $1$. This means we can use any discriminant function we like and feed its output into the sigmoid. You can think of the output of the sigmoid as a probability."
   ]
  },
  {
   "cell_type": "markdown",
   "metadata": {},
   "source": [
    "### A more readable expression for the *logistic* sigmoid:"
   ]
  },
  {
   "cell_type": "markdown",
   "metadata": {},
   "source": [
    "## $\\sigma(a) = \\frac{1}{1 + e^{-a}}$"
   ]
  },
  {
   "cell_type": "markdown",
   "metadata": {},
   "source": [
    "### Given data $\\bf X$ and weights $\\color{blue}{W}$, we compute the dot product $\\color{blue}{W} \\cdot \\bf X$ and feed the result into the sigmoid function. This is a simple *GLM*, or *Generalized Linear Model*. The model is this:"
   ]
  },
  {
   "cell_type": "markdown",
   "metadata": {},
   "source": [
    "## $P(C_k \\mid {\\bf X}) = \\sigma(\\color{blue}{W} \\cdot {\\bf X})$"
   ]
  },
  {
   "cell_type": "markdown",
   "metadata": {},
   "source": [
    "### Remember from last time that the weights $\\color{blue}{W}$ are really the optimization variables. In this case, the mathematical optimization can be done via *iterative reweighted least squares* (IRLS). But what on Earth are we optimizing? We are actually *maximizing* the likelihood of the parameters given the data. We find the $\\color{blue}{W}$ (a vector), which maximizes this:"
   ]
  },
  {
   "cell_type": "markdown",
   "metadata": {},
   "source": [
    "## $ P( {\\bf t} \\mid \\color{blue}{W} ) = \\prod_{n=1}^N y_n^{t_n}(1 - y_n)^{1-t_n}$"
   ]
  },
  {
   "cell_type": "markdown",
   "metadata": {},
   "source": [
    "### where ${\\bf t} = (t_1,\\ldots,t_N)$ are the *labels* from the training set (i.e. $t_n \\in \\{0,1\\}$) and $y_n = P(C_1 \\mid x_n) = \\sigma(\\color{blue}{W} \\cdot x_n)$ are the probabilities predicted by the model with weights $\\color{blue}{W}$."
   ]
  },
  {
   "cell_type": "markdown",
   "metadata": {},
   "source": [
    "### We are left with a model that takes $\\bf X$ as input and outputs a value $\\sigma(\\color{blue}{W} \\cdot {\\bf X}) \\in (0,1)$. In the case of two-class classification, this can be interpreted as the probability that the datapoint $\\bf X$ belongs to class $C_1$."
   ]
  },
  {
   "cell_type": "markdown",
   "metadata": {},
   "source": [
    "### Let's look at an example."
   ]
  },
  {
   "cell_type": "code",
   "execution_count": 38,
   "metadata": {},
   "outputs": [
    {
     "data": {
      "text/html": [
       "\n",
       "    <div class=\"bk-root\">\n",
       "        <a href=\"https://bokeh.pydata.org\" target=\"_blank\" class=\"bk-logo bk-logo-small bk-logo-notebook\"></a>\n",
       "        <span id=\"46cec18e-808d-4567-af56-5938becf6b22\">Loading BokehJS ...</span>\n",
       "    </div>"
      ]
     },
     "metadata": {},
     "output_type": "display_data"
    },
    {
     "data": {
      "application/javascript": [
       "\n",
       "(function(root) {\n",
       "  function now() {\n",
       "    return new Date();\n",
       "  }\n",
       "\n",
       "  var force = true;\n",
       "\n",
       "  if (typeof (root._bokeh_onload_callbacks) === \"undefined\" || force === true) {\n",
       "    root._bokeh_onload_callbacks = [];\n",
       "    root._bokeh_is_loading = undefined;\n",
       "  }\n",
       "\n",
       "  var JS_MIME_TYPE = 'application/javascript';\n",
       "  var HTML_MIME_TYPE = 'text/html';\n",
       "  var EXEC_MIME_TYPE = 'application/vnd.bokehjs_exec.v0+json';\n",
       "  var CLASS_NAME = 'output_bokeh rendered_html';\n",
       "\n",
       "  /**\n",
       "   * Render data to the DOM node\n",
       "   */\n",
       "  function render(props, node) {\n",
       "    var script = document.createElement(\"script\");\n",
       "    node.appendChild(script);\n",
       "  }\n",
       "\n",
       "  /**\n",
       "   * Handle when an output is cleared or removed\n",
       "   */\n",
       "  function handleClearOutput(event, handle) {\n",
       "    var cell = handle.cell;\n",
       "\n",
       "    var id = cell.output_area._bokeh_element_id;\n",
       "    var server_id = cell.output_area._bokeh_server_id;\n",
       "    // Clean up Bokeh references\n",
       "    if (id !== undefined) {\n",
       "      Bokeh.index[id].model.document.clear();\n",
       "      delete Bokeh.index[id];\n",
       "    }\n",
       "\n",
       "    if (server_id !== undefined) {\n",
       "      // Clean up Bokeh references\n",
       "      var cmd = \"from bokeh.io.state import curstate; print(curstate().uuid_to_server['\" + server_id + \"'].get_sessions()[0].document.roots[0]._id)\";\n",
       "      cell.notebook.kernel.execute(cmd, {\n",
       "        iopub: {\n",
       "          output: function(msg) {\n",
       "            var element_id = msg.content.text.trim();\n",
       "            Bokeh.index[element_id].model.document.clear();\n",
       "            delete Bokeh.index[element_id];\n",
       "          }\n",
       "        }\n",
       "      });\n",
       "      // Destroy server and session\n",
       "      var cmd = \"import bokeh.io.notebook as ion; ion.destroy_server('\" + server_id + \"')\";\n",
       "      cell.notebook.kernel.execute(cmd);\n",
       "    }\n",
       "  }\n",
       "\n",
       "  /**\n",
       "   * Handle when a new output is added\n",
       "   */\n",
       "  function handleAddOutput(event, handle) {\n",
       "    var output_area = handle.output_area;\n",
       "    var output = handle.output;\n",
       "\n",
       "    // limit handleAddOutput to display_data with EXEC_MIME_TYPE content only\n",
       "    if ((output.output_type != \"display_data\") || (!output.data.hasOwnProperty(EXEC_MIME_TYPE))) {\n",
       "      return\n",
       "    }\n",
       "\n",
       "    var toinsert = output_area.element.find(`.${CLASS_NAME.split(' ')[0]}`);\n",
       "\n",
       "    if (output.metadata[EXEC_MIME_TYPE][\"id\"] !== undefined) {\n",
       "      toinsert[0].firstChild.textContent = output.data[JS_MIME_TYPE];\n",
       "      // store reference to embed id on output_area\n",
       "      output_area._bokeh_element_id = output.metadata[EXEC_MIME_TYPE][\"id\"];\n",
       "    }\n",
       "    if (output.metadata[EXEC_MIME_TYPE][\"server_id\"] !== undefined) {\n",
       "      var bk_div = document.createElement(\"div\");\n",
       "      bk_div.innerHTML = output.data[HTML_MIME_TYPE];\n",
       "      var script_attrs = bk_div.children[0].attributes;\n",
       "      for (var i = 0; i < script_attrs.length; i++) {\n",
       "        toinsert[0].firstChild.setAttribute(script_attrs[i].name, script_attrs[i].value);\n",
       "      }\n",
       "      // store reference to server id on output_area\n",
       "      output_area._bokeh_server_id = output.metadata[EXEC_MIME_TYPE][\"server_id\"];\n",
       "    }\n",
       "  }\n",
       "\n",
       "  function register_renderer(events, OutputArea) {\n",
       "\n",
       "    function append_mime(data, metadata, element) {\n",
       "      // create a DOM node to render to\n",
       "      var toinsert = this.create_output_subarea(\n",
       "        metadata,\n",
       "        CLASS_NAME,\n",
       "        EXEC_MIME_TYPE\n",
       "      );\n",
       "      this.keyboard_manager.register_events(toinsert);\n",
       "      // Render to node\n",
       "      var props = {data: data, metadata: metadata[EXEC_MIME_TYPE]};\n",
       "      render(props, toinsert[0]);\n",
       "      element.append(toinsert);\n",
       "      return toinsert\n",
       "    }\n",
       "\n",
       "    /* Handle when an output is cleared or removed */\n",
       "    events.on('clear_output.CodeCell', handleClearOutput);\n",
       "    events.on('delete.Cell', handleClearOutput);\n",
       "\n",
       "    /* Handle when a new output is added */\n",
       "    events.on('output_added.OutputArea', handleAddOutput);\n",
       "\n",
       "    /**\n",
       "     * Register the mime type and append_mime function with output_area\n",
       "     */\n",
       "    OutputArea.prototype.register_mime_type(EXEC_MIME_TYPE, append_mime, {\n",
       "      /* Is output safe? */\n",
       "      safe: true,\n",
       "      /* Index of renderer in `output_area.display_order` */\n",
       "      index: 0\n",
       "    });\n",
       "  }\n",
       "\n",
       "  // register the mime type if in Jupyter Notebook environment and previously unregistered\n",
       "  if (root.Jupyter !== undefined) {\n",
       "    var events = require('base/js/events');\n",
       "    var OutputArea = require('notebook/js/outputarea').OutputArea;\n",
       "\n",
       "    if (OutputArea.prototype.mime_types().indexOf(EXEC_MIME_TYPE) == -1) {\n",
       "      register_renderer(events, OutputArea);\n",
       "    }\n",
       "  }\n",
       "\n",
       "  \n",
       "  if (typeof (root._bokeh_timeout) === \"undefined\" || force === true) {\n",
       "    root._bokeh_timeout = Date.now() + 5000;\n",
       "    root._bokeh_failed_load = false;\n",
       "  }\n",
       "\n",
       "  var NB_LOAD_WARNING = {'data': {'text/html':\n",
       "     \"<div style='background-color: #fdd'>\\n\"+\n",
       "     \"<p>\\n\"+\n",
       "     \"BokehJS does not appear to have successfully loaded. If loading BokehJS from CDN, this \\n\"+\n",
       "     \"may be due to a slow or bad network connection. Possible fixes:\\n\"+\n",
       "     \"</p>\\n\"+\n",
       "     \"<ul>\\n\"+\n",
       "     \"<li>re-rerun `output_notebook()` to attempt to load from CDN again, or</li>\\n\"+\n",
       "     \"<li>use INLINE resources instead, as so:</li>\\n\"+\n",
       "     \"</ul>\\n\"+\n",
       "     \"<code>\\n\"+\n",
       "     \"from bokeh.resources import INLINE\\n\"+\n",
       "     \"output_notebook(resources=INLINE)\\n\"+\n",
       "     \"</code>\\n\"+\n",
       "     \"</div>\"}};\n",
       "\n",
       "  function display_loaded() {\n",
       "    var el = document.getElementById(\"46cec18e-808d-4567-af56-5938becf6b22\");\n",
       "    if (el != null) {\n",
       "      el.textContent = \"BokehJS is loading...\";\n",
       "    }\n",
       "    if (root.Bokeh !== undefined) {\n",
       "      if (el != null) {\n",
       "        el.textContent = \"BokehJS \" + root.Bokeh.version + \" successfully loaded.\";\n",
       "      }\n",
       "    } else if (Date.now() < root._bokeh_timeout) {\n",
       "      setTimeout(display_loaded, 100)\n",
       "    }\n",
       "  }\n",
       "\n",
       "\n",
       "  function run_callbacks() {\n",
       "    try {\n",
       "      root._bokeh_onload_callbacks.forEach(function(callback) { callback() });\n",
       "    }\n",
       "    finally {\n",
       "      delete root._bokeh_onload_callbacks\n",
       "    }\n",
       "    console.info(\"Bokeh: all callbacks have finished\");\n",
       "  }\n",
       "\n",
       "  function load_libs(js_urls, callback) {\n",
       "    root._bokeh_onload_callbacks.push(callback);\n",
       "    if (root._bokeh_is_loading > 0) {\n",
       "      console.log(\"Bokeh: BokehJS is being loaded, scheduling callback at\", now());\n",
       "      return null;\n",
       "    }\n",
       "    if (js_urls == null || js_urls.length === 0) {\n",
       "      run_callbacks();\n",
       "      return null;\n",
       "    }\n",
       "    console.log(\"Bokeh: BokehJS not loaded, scheduling load and callback at\", now());\n",
       "    root._bokeh_is_loading = js_urls.length;\n",
       "    for (var i = 0; i < js_urls.length; i++) {\n",
       "      var url = js_urls[i];\n",
       "      var s = document.createElement('script');\n",
       "      s.src = url;\n",
       "      s.async = false;\n",
       "      s.onreadystatechange = s.onload = function() {\n",
       "        root._bokeh_is_loading--;\n",
       "        if (root._bokeh_is_loading === 0) {\n",
       "          console.log(\"Bokeh: all BokehJS libraries loaded\");\n",
       "          run_callbacks()\n",
       "        }\n",
       "      };\n",
       "      s.onerror = function() {\n",
       "        console.warn(\"failed to load library \" + url);\n",
       "      };\n",
       "      console.log(\"Bokeh: injecting script tag for BokehJS library: \", url);\n",
       "      document.getElementsByTagName(\"head\")[0].appendChild(s);\n",
       "    }\n",
       "  };var element = document.getElementById(\"46cec18e-808d-4567-af56-5938becf6b22\");\n",
       "  if (element == null) {\n",
       "    console.log(\"Bokeh: ERROR: autoload.js configured with elementid '46cec18e-808d-4567-af56-5938becf6b22' but no matching script tag was found. \")\n",
       "    return false;\n",
       "  }\n",
       "\n",
       "  var js_urls = [\"https://cdn.pydata.org/bokeh/release/bokeh-0.12.10.min.js\", \"https://cdn.pydata.org/bokeh/release/bokeh-widgets-0.12.10.min.js\", \"https://cdn.pydata.org/bokeh/release/bokeh-tables-0.12.10.min.js\", \"https://cdn.pydata.org/bokeh/release/bokeh-gl-0.12.10.min.js\"];\n",
       "\n",
       "  var inline_js = [\n",
       "    function(Bokeh) {\n",
       "      Bokeh.set_log_level(\"info\");\n",
       "    },\n",
       "    \n",
       "    function(Bokeh) {\n",
       "      \n",
       "    },\n",
       "    function(Bokeh) {\n",
       "      console.log(\"Bokeh: injecting CSS: https://cdn.pydata.org/bokeh/release/bokeh-0.12.10.min.css\");\n",
       "      Bokeh.embed.inject_css(\"https://cdn.pydata.org/bokeh/release/bokeh-0.12.10.min.css\");\n",
       "      console.log(\"Bokeh: injecting CSS: https://cdn.pydata.org/bokeh/release/bokeh-widgets-0.12.10.min.css\");\n",
       "      Bokeh.embed.inject_css(\"https://cdn.pydata.org/bokeh/release/bokeh-widgets-0.12.10.min.css\");\n",
       "      console.log(\"Bokeh: injecting CSS: https://cdn.pydata.org/bokeh/release/bokeh-tables-0.12.10.min.css\");\n",
       "      Bokeh.embed.inject_css(\"https://cdn.pydata.org/bokeh/release/bokeh-tables-0.12.10.min.css\");\n",
       "    }\n",
       "  ];\n",
       "\n",
       "  function run_inline_js() {\n",
       "    \n",
       "    if ((root.Bokeh !== undefined) || (force === true)) {\n",
       "      for (var i = 0; i < inline_js.length; i++) {\n",
       "        inline_js[i].call(root, root.Bokeh);\n",
       "      }if (force === true) {\n",
       "        display_loaded();\n",
       "      }} else if (Date.now() < root._bokeh_timeout) {\n",
       "      setTimeout(run_inline_js, 100);\n",
       "    } else if (!root._bokeh_failed_load) {\n",
       "      console.log(\"Bokeh: BokehJS failed to load within specified timeout.\");\n",
       "      root._bokeh_failed_load = true;\n",
       "    } else if (force !== true) {\n",
       "      var cell = $(document.getElementById(\"46cec18e-808d-4567-af56-5938becf6b22\")).parents('.cell').data().cell;\n",
       "      cell.output_area.append_execute_result(NB_LOAD_WARNING)\n",
       "    }\n",
       "\n",
       "  }\n",
       "\n",
       "  if (root._bokeh_is_loading === 0) {\n",
       "    console.log(\"Bokeh: BokehJS loaded, going straight to plotting\");\n",
       "    run_inline_js();\n",
       "  } else {\n",
       "    load_libs(js_urls, function() {\n",
       "      console.log(\"Bokeh: BokehJS plotting callback run at\", now());\n",
       "      run_inline_js();\n",
       "    });\n",
       "  }\n",
       "}(window));"
      ],
      "application/vnd.bokehjs_load.v0+json": "\n(function(root) {\n  function now() {\n    return new Date();\n  }\n\n  var force = true;\n\n  if (typeof (root._bokeh_onload_callbacks) === \"undefined\" || force === true) {\n    root._bokeh_onload_callbacks = [];\n    root._bokeh_is_loading = undefined;\n  }\n\n  \n\n  \n  if (typeof (root._bokeh_timeout) === \"undefined\" || force === true) {\n    root._bokeh_timeout = Date.now() + 5000;\n    root._bokeh_failed_load = false;\n  }\n\n  var NB_LOAD_WARNING = {'data': {'text/html':\n     \"<div style='background-color: #fdd'>\\n\"+\n     \"<p>\\n\"+\n     \"BokehJS does not appear to have successfully loaded. If loading BokehJS from CDN, this \\n\"+\n     \"may be due to a slow or bad network connection. Possible fixes:\\n\"+\n     \"</p>\\n\"+\n     \"<ul>\\n\"+\n     \"<li>re-rerun `output_notebook()` to attempt to load from CDN again, or</li>\\n\"+\n     \"<li>use INLINE resources instead, as so:</li>\\n\"+\n     \"</ul>\\n\"+\n     \"<code>\\n\"+\n     \"from bokeh.resources import INLINE\\n\"+\n     \"output_notebook(resources=INLINE)\\n\"+\n     \"</code>\\n\"+\n     \"</div>\"}};\n\n  function display_loaded() {\n    var el = document.getElementById(\"46cec18e-808d-4567-af56-5938becf6b22\");\n    if (el != null) {\n      el.textContent = \"BokehJS is loading...\";\n    }\n    if (root.Bokeh !== undefined) {\n      if (el != null) {\n        el.textContent = \"BokehJS \" + root.Bokeh.version + \" successfully loaded.\";\n      }\n    } else if (Date.now() < root._bokeh_timeout) {\n      setTimeout(display_loaded, 100)\n    }\n  }\n\n\n  function run_callbacks() {\n    try {\n      root._bokeh_onload_callbacks.forEach(function(callback) { callback() });\n    }\n    finally {\n      delete root._bokeh_onload_callbacks\n    }\n    console.info(\"Bokeh: all callbacks have finished\");\n  }\n\n  function load_libs(js_urls, callback) {\n    root._bokeh_onload_callbacks.push(callback);\n    if (root._bokeh_is_loading > 0) {\n      console.log(\"Bokeh: BokehJS is being loaded, scheduling callback at\", now());\n      return null;\n    }\n    if (js_urls == null || js_urls.length === 0) {\n      run_callbacks();\n      return null;\n    }\n    console.log(\"Bokeh: BokehJS not loaded, scheduling load and callback at\", now());\n    root._bokeh_is_loading = js_urls.length;\n    for (var i = 0; i < js_urls.length; i++) {\n      var url = js_urls[i];\n      var s = document.createElement('script');\n      s.src = url;\n      s.async = false;\n      s.onreadystatechange = s.onload = function() {\n        root._bokeh_is_loading--;\n        if (root._bokeh_is_loading === 0) {\n          console.log(\"Bokeh: all BokehJS libraries loaded\");\n          run_callbacks()\n        }\n      };\n      s.onerror = function() {\n        console.warn(\"failed to load library \" + url);\n      };\n      console.log(\"Bokeh: injecting script tag for BokehJS library: \", url);\n      document.getElementsByTagName(\"head\")[0].appendChild(s);\n    }\n  };var element = document.getElementById(\"46cec18e-808d-4567-af56-5938becf6b22\");\n  if (element == null) {\n    console.log(\"Bokeh: ERROR: autoload.js configured with elementid '46cec18e-808d-4567-af56-5938becf6b22' but no matching script tag was found. \")\n    return false;\n  }\n\n  var js_urls = [\"https://cdn.pydata.org/bokeh/release/bokeh-0.12.10.min.js\", \"https://cdn.pydata.org/bokeh/release/bokeh-widgets-0.12.10.min.js\", \"https://cdn.pydata.org/bokeh/release/bokeh-tables-0.12.10.min.js\", \"https://cdn.pydata.org/bokeh/release/bokeh-gl-0.12.10.min.js\"];\n\n  var inline_js = [\n    function(Bokeh) {\n      Bokeh.set_log_level(\"info\");\n    },\n    \n    function(Bokeh) {\n      \n    },\n    function(Bokeh) {\n      console.log(\"Bokeh: injecting CSS: https://cdn.pydata.org/bokeh/release/bokeh-0.12.10.min.css\");\n      Bokeh.embed.inject_css(\"https://cdn.pydata.org/bokeh/release/bokeh-0.12.10.min.css\");\n      console.log(\"Bokeh: injecting CSS: https://cdn.pydata.org/bokeh/release/bokeh-widgets-0.12.10.min.css\");\n      Bokeh.embed.inject_css(\"https://cdn.pydata.org/bokeh/release/bokeh-widgets-0.12.10.min.css\");\n      console.log(\"Bokeh: injecting CSS: https://cdn.pydata.org/bokeh/release/bokeh-tables-0.12.10.min.css\");\n      Bokeh.embed.inject_css(\"https://cdn.pydata.org/bokeh/release/bokeh-tables-0.12.10.min.css\");\n    }\n  ];\n\n  function run_inline_js() {\n    \n    if ((root.Bokeh !== undefined) || (force === true)) {\n      for (var i = 0; i < inline_js.length; i++) {\n        inline_js[i].call(root, root.Bokeh);\n      }if (force === true) {\n        display_loaded();\n      }} else if (Date.now() < root._bokeh_timeout) {\n      setTimeout(run_inline_js, 100);\n    } else if (!root._bokeh_failed_load) {\n      console.log(\"Bokeh: BokehJS failed to load within specified timeout.\");\n      root._bokeh_failed_load = true;\n    } else if (force !== true) {\n      var cell = $(document.getElementById(\"46cec18e-808d-4567-af56-5938becf6b22\")).parents('.cell').data().cell;\n      cell.output_area.append_execute_result(NB_LOAD_WARNING)\n    }\n\n  }\n\n  if (root._bokeh_is_loading === 0) {\n    console.log(\"Bokeh: BokehJS loaded, going straight to plotting\");\n    run_inline_js();\n  } else {\n    load_libs(js_urls, function() {\n      console.log(\"Bokeh: BokehJS plotting callback run at\", now());\n      run_inline_js();\n    });\n  }\n}(window));"
     },
     "metadata": {},
     "output_type": "display_data"
    },
    {
     "data": {
      "text/html": [
       "\n",
       "<div class=\"bk-root\">\n",
       "    <div class=\"bk-plotdiv\" id=\"06673808-3621-4e20-9938-c0f2561181ae\"></div>\n",
       "</div>"
      ]
     },
     "metadata": {},
     "output_type": "display_data"
    },
    {
     "data": {
      "application/javascript": [
       "(function(root) {\n",
       "  function embed_document(root) {\n",
       "    var docs_json = {\"aa747f72-f908-4dc0-bbbf-c3580815252a\":{\"roots\":{\"references\":[{\"attributes\":{\"formatter\":{\"id\":\"80eff6be-7615-4bbc-ad3a-c3a76c751c10\",\"type\":\"BasicTickFormatter\"},\"plot\":{\"id\":\"17764469-c4c3-47d2-9328-3c2aee632b6f\",\"subtype\":\"Figure\",\"type\":\"Plot\"},\"ticker\":{\"id\":\"32bfcfa0-998c-4314-8abb-03258a1d6517\",\"type\":\"BasicTicker\"}},\"id\":\"f156ae4b-0bb8-497c-bb60-e25d5969426b\",\"type\":\"LinearAxis\"},{\"attributes\":{},\"id\":\"32bfcfa0-998c-4314-8abb-03258a1d6517\",\"type\":\"BasicTicker\"},{\"attributes\":{\"formatter\":{\"id\":\"bfe63559-fe02-410f-b1bd-421cf25eb824\",\"type\":\"BasicTickFormatter\"},\"plot\":{\"id\":\"17764469-c4c3-47d2-9328-3c2aee632b6f\",\"subtype\":\"Figure\",\"type\":\"Plot\"},\"ticker\":{\"id\":\"478861f5-50d1-494b-a2a8-1bf0ad934d07\",\"type\":\"BasicTicker\"}},\"id\":\"d98f02f7-4004-4bfb-9ff7-cdfde0ff940c\",\"type\":\"LinearAxis\"},{\"attributes\":{\"fill_alpha\":{\"value\":0.5},\"fill_color\":{\"value\":\"orange\"},\"line_alpha\":{\"value\":0.5},\"line_color\":{\"value\":\"navy\"},\"size\":{\"units\":\"screen\",\"value\":15},\"x\":{\"field\":\"x\"},\"y\":{\"field\":\"y\"}},\"id\":\"d8953613-1c72-46f3-81dc-325cac60d8e4\",\"type\":\"Square\"},{\"attributes\":{},\"id\":\"478861f5-50d1-494b-a2a8-1bf0ad934d07\",\"type\":\"BasicTicker\"},{\"attributes\":{\"dimension\":1,\"grid_line_color\":{\"value\":null},\"plot\":{\"id\":\"17764469-c4c3-47d2-9328-3c2aee632b6f\",\"subtype\":\"Figure\",\"type\":\"Plot\"},\"ticker\":{\"id\":\"478861f5-50d1-494b-a2a8-1bf0ad934d07\",\"type\":\"BasicTicker\"}},\"id\":\"a1704e18-30ab-4cfe-9df0-21a19bffc944\",\"type\":\"Grid\"},{\"attributes\":{\"fill_alpha\":{\"value\":0.1},\"fill_color\":{\"value\":\"#1f77b4\"},\"line_alpha\":{\"value\":0.1},\"line_color\":{\"value\":\"#1f77b4\"},\"size\":{\"units\":\"screen\",\"value\":15},\"x\":{\"field\":\"x\"},\"y\":{\"field\":\"y\"}},\"id\":\"f1d05892-4834-441e-85ad-5e3153072e0d\",\"type\":\"Circle\"},{\"attributes\":{},\"id\":\"bfe63559-fe02-410f-b1bd-421cf25eb824\",\"type\":\"BasicTickFormatter\"},{\"attributes\":{\"source\":{\"id\":\"f814f004-286a-47eb-b202-12355e61bb24\",\"type\":\"ColumnDataSource\"}},\"id\":\"ad8e3872-2ab2-42ac-a0ee-dcfd15114927\",\"type\":\"CDSView\"},{\"attributes\":{\"callback\":null,\"column_names\":[\"x\",\"y\"],\"data\":{\"x\":{\"__ndarray__\":\"BPWZOfSawr/ZGKN3x1zjv/D2IPavebY/OJZ5b5A1ub9gs7mnPO/bv85JZ6/okuC/oMbbRVEcqb/iQUelmT7Uv6pw2UgrwtK/JX7qWNHP4r/QMkOaqyegP9z2lGeFvc8/9G9htlSKyb9kFwBLKS/TPwzpv4WGQ8a/UG2o+RJu3L9geY5sSI+5P9CeAkvkOMu/AHvNCueSm7+A8EsUQwx3v2CfiWdvDdm/+GB5MMGUyD/rl8tYVVvhvwB2rUISCNe//NWyFdEn3r+kLNM9rzTMv4YQsNOlRNM/FhTEaU+52795e/TYC5Hjv7qDZMDAbN2/VGN5pvHAzz+ztS1ZnrPhv2jJHfjbGrg/YMdFlCtIsL9EcuaAnbPAv9h9h8/hT7A/QsB3lnHZ1D8wSHIUrgncv/T6bRqUDuS/8Hz83NMzyr/mkor5P47ev8uyjVOOSeG/TLz6ZZUIwr+os/M5rkOwv/QLmJRb4MS/GvG3m+3z0T+aHr6IGu3Uv/z/yWIdzNa/AviYaEqu0T+Om/AjpdHYv2CyhVL2mZI/omJOZt5J0T+IXi1NUzHVP6Am6Vitccm/LJPC7cHyxb9wyDbSQIG1v0ja1d+v08+/y8ZZxe1O4b/wAlHhFMDLP/gL7/uojOO/4gw+CJw04b/gDsNSliKfP6xSfHPfAtO/C58sFusN4b9OsU9GfxfkvyBkLd24lri/gGiGRljBur9kowI130LIPzG3bcm0oOO/RuxMVMpU4L+eT/tVra3Qv+LxgePcPtG//OpteM320T/FDNrQpojivywnep5EieG/hSRuI44l4r8QIiP6l9Dbv0xroJUmLMO/gDq3YZ0Olr9Ygo0NLubOv0DPXUnmz9G//WAgJ7QL5b+IuuKEfza9v0hMzGrFkM2/pKP5S98/yj/ORdDcrJLUP15sFRn1rdQ/KoeshLTc4b9YlHLDwf+xv7DkYMWyeOC/gl6/bKCR5L+LigH92xThv8ii0puLc82/fKMbyDSj0D/8LodhCxfTPyAoCbFk0du/2QO0br+54b9eph+kexTRP+RGgZryv8Q//wriDAUp5b8=\",\"dtype\":\"float64\",\"shape\":[100]},\"y\":{\"__ndarray__\":\"98UG5UEp+T+AcQ+qlUX6P5LbBlYaL/I/rFTsSgWw9D/i5qKSiJ31P8SG34Q9HOs/GD3m5tqz8T86I3+oH9bzP9Yy6Lh0wfk/fk20EKEN+j/+gqoEnaD6P6V5EBbNxPk/3Jo/4Agu7z8IZgYpq1r2P2GszJDkvvk/EN5fh4Vz5z/g71qY5kP1P8jlFQkMAus/frB0zWrl8D8uB0rrspv1P7QxdhZbyes/IZzgYfIi6z/IcMK45ir5P3iI+jVOXOk/l0XiJm3q6D/QbQZPz4j2P+A/Yh7py/Q/CBkdR2pB+D/rIHxKmBvsP6XLwRHddeY/NXOJ/Gfn8D8eCQI+JyXrP9sKnAm9n+0/BL1jcsut5j+d7PiR2YfxP+hpRWkxOPY/hjoMas7s7z9Hnse2XEX2P5d01C01G/Q//hz1zWBF7z88yeaSBUL0Pz3NWSupsOU/VvVu/WUs6T+8C2Wsj0v1P6pviXfmRvo/YEY2eXIk7D/HiHEGAf3qP74o4NTpb/o/61Xx2TmQ8D+RoNpe5M7lP22so+pSivM/qBBBtlkj9j8yd7SrbtjsP1xEnE2eyvE/KFgS9bql9T9IyerA2Gf4P/+nmiuKLOw/ZvcZfWjI9T8USJufmwnyP4qSxSd0WPo/fjfu4/qT9D9oWSURCfT1P+I3jtCFL/I/KESySx659T+OoBW/S1nnPy5A9Hb5rvg/R7mkG6dh7T/7Ph2OcDL2P2SkhScKYPM/YBLqJPNe9D8fu/3ZaU7tPzJjpY+qoPQ/jDvnAYCt8j98kD1FKiv1PzCXUq2RK/M/MN8Lwe1c6D84e1YMncvsP0aeUPH8Quk/pFyesthI8z/HC/ac1WTrP0kdnQMuw/A/XVb8Al/a+T/+I7mgFP7tP+aR10jrWfM/EGjNV6s18z+btFbMgKnoP617DLMgffM/2n90IgTg+T/YVOImqDbwP7x6nTTVQ/Y/unCzmImY9z8M6Id7AbvtP/zke3GtT/c/TBkTFUCs+D+3CsorblruP2SuTL1j9fU/FJIErgBL6D/qrcoAo23xPyy+ZpBEjfY/+j2A/8Qb9j8=\",\"dtype\":\"float64\",\"shape\":[100]}}},\"id\":\"f814f004-286a-47eb-b202-12355e61bb24\",\"type\":\"ColumnDataSource\"},{\"attributes\":{\"bottom_units\":\"screen\",\"fill_alpha\":{\"value\":0.5},\"fill_color\":{\"value\":\"lightgrey\"},\"left_units\":\"screen\",\"level\":\"overlay\",\"line_alpha\":{\"value\":1.0},\"line_color\":{\"value\":\"black\"},\"line_dash\":[4,4],\"line_width\":{\"value\":2},\"plot\":null,\"render_mode\":\"css\",\"right_units\":\"screen\",\"top_units\":\"screen\"},\"id\":\"1b3b4910-5dea-4f91-8f1c-e9d47cf3befc\",\"type\":\"BoxAnnotation\"},{\"attributes\":{\"data_source\":{\"id\":\"438738c5-4144-4811-93dc-147d64e62c08\",\"type\":\"ColumnDataSource\"},\"glyph\":{\"id\":\"925c1603-aa78-4354-a611-e27a528a28e8\",\"type\":\"Circle\"},\"hover_glyph\":null,\"muted_glyph\":null,\"nonselection_glyph\":{\"id\":\"f1d05892-4834-441e-85ad-5e3153072e0d\",\"type\":\"Circle\"},\"selection_glyph\":null,\"view\":{\"id\":\"47f9df87-70d9-409a-b4fa-b1d320cb98c2\",\"type\":\"CDSView\"}},\"id\":\"188985f1-eb57-4575-888c-ca52578f1a5f\",\"type\":\"GlyphRenderer\"},{\"attributes\":{\"fill_alpha\":{\"value\":0.1},\"fill_color\":{\"value\":\"#1f77b4\"},\"line_alpha\":{\"value\":0.1},\"line_color\":{\"value\":\"#1f77b4\"},\"size\":{\"units\":\"screen\",\"value\":15},\"x\":{\"field\":\"x\"},\"y\":{\"field\":\"y\"}},\"id\":\"dec51a86-8a52-468b-ba31-54941e1e3f80\",\"type\":\"Square\"},{\"attributes\":{},\"id\":\"79add742-7383-43f3-b904-b4f20971331b\",\"type\":\"PanTool\"},{\"attributes\":{\"data_source\":{\"id\":\"f814f004-286a-47eb-b202-12355e61bb24\",\"type\":\"ColumnDataSource\"},\"glyph\":{\"id\":\"d8953613-1c72-46f3-81dc-325cac60d8e4\",\"type\":\"Square\"},\"hover_glyph\":null,\"muted_glyph\":null,\"nonselection_glyph\":{\"id\":\"dec51a86-8a52-468b-ba31-54941e1e3f80\",\"type\":\"Square\"},\"selection_glyph\":null,\"view\":{\"id\":\"ad8e3872-2ab2-42ac-a0ee-dcfd15114927\",\"type\":\"CDSView\"}},\"id\":\"db43a615-ec84-4790-90d5-e5307a3f39ce\",\"type\":\"GlyphRenderer\"},{\"attributes\":{\"callback\":null,\"column_names\":[\"x\",\"y\"],\"data\":{\"x\":{\"__ndarray__\":\"cOeU9Vh/oT9QXOu57vi2P5dC2EvRWOs/VvxU/8Zj4D/Y+nLHlgnYPzAR+RgOfqo/lAXHtKzw5T9VkU2flmvrP+L9FXLBs9Y/WX3UZxW74z98RLxxiYzAP5encpoAKeU/CEBNB0FJyD/YWAaTEKmyP2hfgNtdzrI/HAHNFvED2D/MxzXnFp7BP5TV5GZa4MU/Di/2UuVf7D/QYMSbZWfmP4b8fFo3aN4/oCdyf/yisz+xKu+5BaDkP8ne6XhRYOs/HfSdqSiU7z/B9ancndPnP1U5GHyAbO4/8v3AD1/h0D8TTuVuyxTnP9ze0/yIO9M/JKa9XYq5wT9QqlVnzvGoP3TQOLjd7sY/sBhFq/PKxj/1TA4oLT7nP/YqMnqqi9M/QO25nVyNgD8HoTEmbjniPw5vsQfsaOA/4KX0pjp0xz+Cgffv9LnkP8Htjj8nneQ/YCBUopO11z/VaM6CuuPtP7t8kcKtyus/hZmlFv2Y4T9IaucjV4DQPzqOIvVWDeQ/TnYyqewC0T+5hcYmsxbvPxzjpFBle+U/az+BG4Tb7D8ZQKg1QmHtPzTTOcuETeo/CHb6ljSYuT8QFolVXA2kP5rXBb+iud0/lUBpXht64z9iTsNmbZ/sPwwls+6IG+s/qFDEGuJ54T8ANOezUzK/P35XgnSbU+Q/FGhTulpTxT94tMDUIUKzP1AKr1bPXbc/wAMI/tqDyT9ExxkZSqjGP9BCFlYrTbM/6/r9kvBd4D8FnLyUOx3uP4WxDPHvTuU/MEF5sUEN5z/I63FMUXfdP41OX6ckFes/oCfDaeu83T8sUJrJerDJPwBjHazwJGE/zlbxYimx6z8GEN3QbgbuP2CodfjPvsk/vuNAl1tl0j+oJWff4ArqPzRYRuVct+A/pRsFjxGw4z8laRMWpqjlP+hFlpmPUbw/BnGsDmVE7j96Q5/rU2/eP4RwRIjDqtM/fPtoUHbq1z/DVgUmQ7TrP2S062m9++E/BzWVjWkd6j/wapulqxiyP7rPLcRdWd4/qN2fwkyL5z8k199LRCXfP685MUuTJOg/p//hf/SJ7z8=\",\"dtype\":\"float64\",\"shape\":[100]},\"y\":{\"__ndarray__\":\"ibI9KhdZ4T8AYFXfDaWZP7eblhmH7uk/DhHnSldr2j8X1efEjmLoP9xc35f6dMs/J46d3Njx5z/EBOqIoxzkPwQalTyvM+g/apdO5vB04T9aILLdmoHjP0I/j4RDJ+c/AkA8gVaZ4T8TDNQY7t3qP2TaK9pkrsk/aPgNsv4nwz/wSLI6ddvYP9V3DoOy5+A/Clxamw+Y0z9451OdmG/pPwuZyUNDoe4/DNLjDLv57j/kXti5+lLCP4M87tnbsu8/8HVXMBrRsT8wrPadaeasPydmLPvjfuY/KgoJAIGg7j/QQDKweHXiP4KGXYWO1dI/QJuS+fUsoD/Pl9gn2sbgP1x9JltAUOw/uEsRML6qsD+ezbbhwjHcP2Dek7a9oug/Ul0tufV30T+0rmiapTbcPwYEtC8KW9o/CWf8saTU4D82cK3expTrP1RtZSQ9PdU/4Dz5NeLroz8PBxZAU6PiPzDlUOCj3sk/Kic0DeeB1D+gM8Yug8CmP99Zt6iu8uo/1sdLCLWk3D8MiXOn7L7CPyqu3rR4ueg/3CwEgA/G7z/op7Zf9gXXP+W2YCfBLeM/OAOUTLgs0D+geSzczhGcP5Hc1tkmquA/Cpohhaxq6D+mRtGjnx3uP/y9pPXgEu0/V5FBtw4D4z8AvnoiDOXHP8ivWTR1mdI/+/yV2ZfI7j8EbV4BU73RP2a5aWZC/Ow/e38XtpA36T9CMCFDYazZPxhxav5G+M0//NugTyd66z8UXQmPvr3qPzSRf2vBDNY/sM6J438+uT9FUf0SNKLoP/v0WsNEieo/rhhu4jxE7z9wQuCxm+reP26yuXwketo/mKRXaeMyvD86MH58Ko7qP7B+gyf1BKo/MS+dmbzt4D/iHRJ8bHXtP0ZtjfeBPeU/AHwZPi6zcT+KPcl1szrpP3h0TA7ncus/dBGccQrNxT9w4rb1vta5P6ZI/t/Bltg/AZ/+t8rk5T+onKbOizzWPx44iisf89U/SIqNf3zjxj9oMNSyPSjeP96pFfoHl9A//BW4I2Zgxj/IItQ6tLboP0YWPu7T4OY/lRDYTZTK5D8=\",\"dtype\":\"float64\",\"shape\":[100]}}},\"id\":\"438738c5-4144-4811-93dc-147d64e62c08\",\"type\":\"ColumnDataSource\"},{\"attributes\":{\"source\":{\"id\":\"438738c5-4144-4811-93dc-147d64e62c08\",\"type\":\"ColumnDataSource\"}},\"id\":\"47f9df87-70d9-409a-b4fa-b1d320cb98c2\",\"type\":\"CDSView\"},{\"attributes\":{},\"id\":\"c60fafad-b088-44b9-9949-a8f06e9cac22\",\"type\":\"LinearScale\"},{\"attributes\":{\"background_fill_color\":{\"value\":\"#eeeeee\"},\"below\":[{\"id\":\"f156ae4b-0bb8-497c-bb60-e25d5969426b\",\"type\":\"LinearAxis\"}],\"left\":[{\"id\":\"d98f02f7-4004-4bfb-9ff7-cdfde0ff940c\",\"type\":\"LinearAxis\"}],\"renderers\":[{\"id\":\"f156ae4b-0bb8-497c-bb60-e25d5969426b\",\"type\":\"LinearAxis\"},{\"id\":\"715e5075-7340-4279-b49c-e61446e0c753\",\"type\":\"Grid\"},{\"id\":\"d98f02f7-4004-4bfb-9ff7-cdfde0ff940c\",\"type\":\"LinearAxis\"},{\"id\":\"a1704e18-30ab-4cfe-9df0-21a19bffc944\",\"type\":\"Grid\"},{\"id\":\"1b3b4910-5dea-4f91-8f1c-e9d47cf3befc\",\"type\":\"BoxAnnotation\"},{\"id\":\"188985f1-eb57-4575-888c-ca52578f1a5f\",\"type\":\"GlyphRenderer\"},{\"id\":\"db43a615-ec84-4790-90d5-e5307a3f39ce\",\"type\":\"GlyphRenderer\"}],\"title\":{\"id\":\"e7bcf419-8ba3-44af-afbe-0be9e1acc72c\",\"type\":\"Title\"},\"toolbar\":{\"id\":\"346df462-bc8b-43c2-b1ba-32287681c16f\",\"type\":\"Toolbar\"},\"toolbar_location\":null,\"x_range\":{\"id\":\"9e840478-acdc-48fe-82f5-91019d63f924\",\"type\":\"DataRange1d\"},\"x_scale\":{\"id\":\"c60fafad-b088-44b9-9949-a8f06e9cac22\",\"type\":\"LinearScale\"},\"y_range\":{\"id\":\"37bc0884-c376-4345-bd5d-5d81c4e6edc4\",\"type\":\"DataRange1d\"},\"y_scale\":{\"id\":\"c827a143-8708-4443-a600-53e6808fe239\",\"type\":\"LinearScale\"}},\"id\":\"17764469-c4c3-47d2-9328-3c2aee632b6f\",\"subtype\":\"Figure\",\"type\":\"Plot\"},{\"attributes\":{},\"id\":\"59f7116e-9675-4f1e-bd8d-c1165d47780b\",\"type\":\"WheelZoomTool\"},{\"attributes\":{\"active_drag\":\"auto\",\"active_inspect\":\"auto\",\"active_scroll\":\"auto\",\"active_tap\":\"auto\",\"tools\":[{\"id\":\"79add742-7383-43f3-b904-b4f20971331b\",\"type\":\"PanTool\"},{\"id\":\"59f7116e-9675-4f1e-bd8d-c1165d47780b\",\"type\":\"WheelZoomTool\"},{\"id\":\"20b3ea14-b836-4015-a7d9-d108352926fd\",\"type\":\"BoxZoomTool\"},{\"id\":\"521a6725-d1fa-49b2-9c8f-7a504a1ee6be\",\"type\":\"SaveTool\"},{\"id\":\"1173266c-9cab-4bc7-95e1-d903272326c9\",\"type\":\"ResetTool\"},{\"id\":\"02ca535d-0f66-4378-9912-4a5e57c996d7\",\"type\":\"HelpTool\"}]},\"id\":\"346df462-bc8b-43c2-b1ba-32287681c16f\",\"type\":\"Toolbar\"},{\"attributes\":{\"overlay\":{\"id\":\"1b3b4910-5dea-4f91-8f1c-e9d47cf3befc\",\"type\":\"BoxAnnotation\"}},\"id\":\"20b3ea14-b836-4015-a7d9-d108352926fd\",\"type\":\"BoxZoomTool\"},{\"attributes\":{\"callback\":null},\"id\":\"9e840478-acdc-48fe-82f5-91019d63f924\",\"type\":\"DataRange1d\"},{\"attributes\":{},\"id\":\"521a6725-d1fa-49b2-9c8f-7a504a1ee6be\",\"type\":\"SaveTool\"},{\"attributes\":{\"plot\":null,\"text\":\"Bokeh Markers\"},\"id\":\"e7bcf419-8ba3-44af-afbe-0be9e1acc72c\",\"type\":\"Title\"},{\"attributes\":{},\"id\":\"1173266c-9cab-4bc7-95e1-d903272326c9\",\"type\":\"ResetTool\"},{\"attributes\":{\"callback\":null},\"id\":\"37bc0884-c376-4345-bd5d-5d81c4e6edc4\",\"type\":\"DataRange1d\"},{\"attributes\":{},\"id\":\"02ca535d-0f66-4378-9912-4a5e57c996d7\",\"type\":\"HelpTool\"},{\"attributes\":{\"fill_alpha\":{\"value\":0.5},\"fill_color\":{\"value\":\"blue\"},\"line_alpha\":{\"value\":0.5},\"line_color\":{\"value\":\"navy\"},\"size\":{\"units\":\"screen\",\"value\":15},\"x\":{\"field\":\"x\"},\"y\":{\"field\":\"y\"}},\"id\":\"925c1603-aa78-4354-a611-e27a528a28e8\",\"type\":\"Circle\"},{\"attributes\":{},\"id\":\"80eff6be-7615-4bbc-ad3a-c3a76c751c10\",\"type\":\"BasicTickFormatter\"},{\"attributes\":{},\"id\":\"c827a143-8708-4443-a600-53e6808fe239\",\"type\":\"LinearScale\"},{\"attributes\":{\"grid_line_color\":{\"value\":null},\"plot\":{\"id\":\"17764469-c4c3-47d2-9328-3c2aee632b6f\",\"subtype\":\"Figure\",\"type\":\"Plot\"},\"ticker\":{\"id\":\"32bfcfa0-998c-4314-8abb-03258a1d6517\",\"type\":\"BasicTicker\"}},\"id\":\"715e5075-7340-4279-b49c-e61446e0c753\",\"type\":\"Grid\"}],\"root_ids\":[\"17764469-c4c3-47d2-9328-3c2aee632b6f\"]},\"title\":\"Bokeh Application\",\"version\":\"0.12.10\"}};\n",
       "    var render_items = [{\"docid\":\"aa747f72-f908-4dc0-bbbf-c3580815252a\",\"elementid\":\"06673808-3621-4e20-9938-c0f2561181ae\",\"modelid\":\"17764469-c4c3-47d2-9328-3c2aee632b6f\"}];\n",
       "\n",
       "    root.Bokeh.embed.embed_items(docs_json, render_items);\n",
       "  }\n",
       "\n",
       "  if (root.Bokeh !== undefined) {\n",
       "    embed_document(root);\n",
       "  } else {\n",
       "    var attempts = 0;\n",
       "    var timer = setInterval(function(root) {\n",
       "      if (root.Bokeh !== undefined) {\n",
       "        embed_document(root);\n",
       "        clearInterval(timer);\n",
       "      }\n",
       "      attempts++;\n",
       "      if (attempts > 100) {\n",
       "        console.log(\"Bokeh: ERROR: Unable to embed document because BokehJS library is missing\")\n",
       "        clearInterval(timer);\n",
       "      }\n",
       "    }, 10, root)\n",
       "  }\n",
       "})(window);"
      ],
      "application/vnd.bokehjs_exec.v0+json": ""
     },
     "metadata": {
      "application/vnd.bokehjs_exec.v0+json": {
       "id": "17764469-c4c3-47d2-9328-3c2aee632b6f"
      }
     },
     "output_type": "display_data"
    }
   ],
   "source": [
    "# For random points\n",
    "import numpy as np\n",
    "\n",
    "# Plotting using Bokeh\n",
    "from bokeh.plotting import figure, show, output_notebook\n",
    "\n",
    "# Show in notebook.\n",
    "output_notebook()\n",
    "\n",
    "# Build a figure\n",
    "p = figure(title=\"Bokeh Markers\", toolbar_location=None)\n",
    "p.grid.grid_line_color = None\n",
    "p.background_fill_color = \"#eeeeee\"\n",
    "\n",
    "def mscatter(p, x, y, marker, fill):\n",
    "    p.scatter(x, y, marker=marker, size=15,\n",
    "              line_color=\"navy\", fill_color=fill, alpha=0.5)\n",
    "\n",
    "# Number of datapoints\n",
    "N = 100\n",
    "\n",
    "# First cluster\n",
    "X1 = np.random.random(100)\n",
    "Y1 = np.random.random(100)\n",
    "\n",
    "# Second Cluster\n",
    "X2 = np.random.random(100) - 1/2\n",
    "Y2 = np.random.random(100) + 1/2\n",
    "    \n",
    "# Throw in clusters\n",
    "mscatter(p, X1, Y1, \"circle\", \"blue\")\n",
    "mscatter(p, X2, Y2, \"square\", \"orange\")\n",
    "\n",
    "# # A line separating them\n",
    "# X = np.linspace(-2,2,100)\n",
    "# Y = 2*X**2\n",
    "# p.line(X,Y, line_color='red')\n",
    "show(p)"
   ]
  },
  {
   "cell_type": "code",
   "execution_count": 61,
   "metadata": {},
   "outputs": [
    {
     "data": {
      "text/plain": [
       "LogisticRegression(C=1.0, class_weight=None, dual=False, fit_intercept=True,\n",
       "          intercept_scaling=1, max_iter=100, multi_class='ovr', n_jobs=1,\n",
       "          penalty='l2', random_state=None, solver='liblinear', tol=0.0001,\n",
       "          verbose=0, warm_start=False)"
      ]
     },
     "execution_count": 61,
     "metadata": {},
     "output_type": "execute_result"
    }
   ],
   "source": [
    "# Create a logistic regression object\n",
    "logreg = linear_model.LogisticRegression()\n",
    "\n",
    "# Combine all data\n",
    "X = np.append(X1,X2)\n",
    "Y = np.append(Y1,Y2)\n",
    "features = np.array([X,Y]).transpose()\n",
    "\n",
    "# Create labels\n",
    "T = 100*[1] + 100*[0]\n",
    "\n",
    "# Train the model\n",
    "logreg.fit(features,T)"
   ]
  },
  {
   "cell_type": "markdown",
   "metadata": {},
   "source": [
    "### Now we must grab the predicted probabilities. Let's do it on new data."
   ]
  },
  {
   "cell_type": "code",
   "execution_count": 74,
   "metadata": {
    "collapsed": true
   },
   "outputs": [],
   "source": [
    "# First cluster\n",
    "X1 = np.random.random(100)\n",
    "Y1 = np.random.random(100)\n",
    "\n",
    "# Second Cluster\n",
    "X2 = np.random.random(100) - 1/2\n",
    "Y2 = np.random.random(100) + 1/2\n",
    "\n",
    "# Combining data\n",
    "X = np.append(X1,X2)\n",
    "Y = np.append(Y1,Y2)\n",
    "features = np.array([X,Y]).transpose()\n",
    "\n",
    "# (Leave labels as before)\n",
    "\n",
    "# Run the model on our new data...\n",
    "\n",
    "pred = logreg.predict_proba(features)\n",
    "\n",
    "# This function computes the p-r values for us\n",
    "from sklearn.metrics import precision_recall_curve\n",
    "\n",
    "precision, recall, thresholds = precision_recall_curve(T,pred[:,1])\n"
   ]
  },
  {
   "cell_type": "markdown",
   "metadata": {},
   "source": [
    "## Precision-Recall Curve"
   ]
  },
  {
   "cell_type": "markdown",
   "metadata": {},
   "source": [
    "### Now, let's look at a precision-recall curve for our classifier."
   ]
  },
  {
   "cell_type": "code",
   "execution_count": 75,
   "metadata": {},
   "outputs": [
    {
     "data": {
      "text/html": [
       "\n",
       "<div class=\"bk-root\">\n",
       "    <div class=\"bk-plotdiv\" id=\"64e02e21-cc33-4358-b732-480b686a54e2\"></div>\n",
       "</div>"
      ]
     },
     "metadata": {},
     "output_type": "display_data"
    },
    {
     "data": {
      "application/javascript": [
       "(function(root) {\n",
       "  function embed_document(root) {\n",
       "    var docs_json = {\"ea08e97a-4813-41e8-855e-4837f531f77d\":{\"roots\":{\"references\":[{\"attributes\":{},\"id\":\"b3ee6a46-6c75-4a05-b15f-36fc819ae506\",\"type\":\"LinearScale\"},{\"attributes\":{\"overlay\":{\"id\":\"4fea1820-5a3c-49df-a40d-ec9b3e43ba14\",\"type\":\"BoxAnnotation\"}},\"id\":\"d65e8bca-3451-457d-8524-bb8b05bda366\",\"type\":\"BoxZoomTool\"},{\"attributes\":{\"line_color\":{\"value\":\"#1f77b4\"},\"x\":{\"field\":\"x\"},\"y\":{\"field\":\"y\"}},\"id\":\"a2c1a935-63d8-48ef-ae0b-8bb91777ef8d\",\"type\":\"Line\"},{\"attributes\":{\"plot\":null,\"text\":\"\"},\"id\":\"cd82e185-7d4a-41c8-b10e-41b2ef5b2c07\",\"type\":\"Title\"},{\"attributes\":{},\"id\":\"07e67efc-bcdd-46a7-abb3-713b0e9de4ca\",\"type\":\"HelpTool\"},{\"attributes\":{\"source\":{\"id\":\"717fc7f1-d432-4d8b-b69b-03c5a91ef819\",\"type\":\"ColumnDataSource\"}},\"id\":\"73696b46-84a3-4d6e-8da6-bd42ee320000\",\"type\":\"CDSView\"},{\"attributes\":{\"plot\":{\"id\":\"d5e21021-4ff8-4db4-80be-248f8d901866\",\"subtype\":\"Figure\",\"type\":\"Plot\"},\"ticker\":{\"id\":\"939af589-c00e-4043-bb24-424f9fd4aaec\",\"type\":\"BasicTicker\"}},\"id\":\"df97ab21-9d80-4ad6-9af6-04c12bcd198a\",\"type\":\"Grid\"},{\"attributes\":{},\"id\":\"14623d77-ff20-40fa-bfe7-0dff9693cc99\",\"type\":\"WheelZoomTool\"},{\"attributes\":{},\"id\":\"ce303d92-d432-495f-b6b7-286766a8580d\",\"type\":\"ResetTool\"},{\"attributes\":{\"callback\":null},\"id\":\"a4799c45-834a-4fff-a8e0-21f5e12e734d\",\"type\":\"DataRange1d\"},{\"attributes\":{\"data_source\":{\"id\":\"717fc7f1-d432-4d8b-b69b-03c5a91ef819\",\"type\":\"ColumnDataSource\"},\"glyph\":{\"id\":\"a2c1a935-63d8-48ef-ae0b-8bb91777ef8d\",\"type\":\"Line\"},\"hover_glyph\":null,\"muted_glyph\":null,\"nonselection_glyph\":{\"id\":\"d3a5cd6c-83ad-473f-9948-cc36c1223c26\",\"type\":\"Line\"},\"selection_glyph\":null,\"view\":{\"id\":\"73696b46-84a3-4d6e-8da6-bd42ee320000\",\"type\":\"CDSView\"}},\"id\":\"ce1e6bfb-9a52-4fd7-8c47-fab49fd72cc5\",\"type\":\"GlyphRenderer\"},{\"attributes\":{\"dimension\":1,\"plot\":{\"id\":\"d5e21021-4ff8-4db4-80be-248f8d901866\",\"subtype\":\"Figure\",\"type\":\"Plot\"},\"ticker\":{\"id\":\"9e064dc0-2d89-48c3-ba46-d4238c04233f\",\"type\":\"BasicTicker\"}},\"id\":\"ef1597b1-d9fb-422a-bad0-7daaf9987894\",\"type\":\"Grid\"},{\"attributes\":{\"callback\":null},\"id\":\"906dcde6-996a-415f-ba0c-d1017e486687\",\"type\":\"DataRange1d\"},{\"attributes\":{\"below\":[{\"id\":\"e0a464a8-7788-42a1-866d-f44d5df94efe\",\"type\":\"LinearAxis\"}],\"left\":[{\"id\":\"823edfa1-8310-4585-a206-1af29ca7ac94\",\"type\":\"LinearAxis\"}],\"plot_height\":400,\"plot_width\":400,\"renderers\":[{\"id\":\"e0a464a8-7788-42a1-866d-f44d5df94efe\",\"type\":\"LinearAxis\"},{\"id\":\"df97ab21-9d80-4ad6-9af6-04c12bcd198a\",\"type\":\"Grid\"},{\"id\":\"823edfa1-8310-4585-a206-1af29ca7ac94\",\"type\":\"LinearAxis\"},{\"id\":\"ef1597b1-d9fb-422a-bad0-7daaf9987894\",\"type\":\"Grid\"},{\"id\":\"4fea1820-5a3c-49df-a40d-ec9b3e43ba14\",\"type\":\"BoxAnnotation\"},{\"id\":\"ce1e6bfb-9a52-4fd7-8c47-fab49fd72cc5\",\"type\":\"GlyphRenderer\"}],\"title\":{\"id\":\"cd82e185-7d4a-41c8-b10e-41b2ef5b2c07\",\"type\":\"Title\"},\"toolbar\":{\"id\":\"ac14b92e-9e3c-4aae-a2b3-293b6bc91dab\",\"type\":\"Toolbar\"},\"x_range\":{\"id\":\"906dcde6-996a-415f-ba0c-d1017e486687\",\"type\":\"DataRange1d\"},\"x_scale\":{\"id\":\"b3ee6a46-6c75-4a05-b15f-36fc819ae506\",\"type\":\"LinearScale\"},\"y_range\":{\"id\":\"a4799c45-834a-4fff-a8e0-21f5e12e734d\",\"type\":\"DataRange1d\"},\"y_scale\":{\"id\":\"eacf3bcb-00b7-474f-9aae-a73b57d68cbf\",\"type\":\"LinearScale\"}},\"id\":\"d5e21021-4ff8-4db4-80be-248f8d901866\",\"subtype\":\"Figure\",\"type\":\"Plot\"},{\"attributes\":{\"bottom_units\":\"screen\",\"fill_alpha\":{\"value\":0.5},\"fill_color\":{\"value\":\"lightgrey\"},\"left_units\":\"screen\",\"level\":\"overlay\",\"line_alpha\":{\"value\":1.0},\"line_color\":{\"value\":\"black\"},\"line_dash\":[4,4],\"line_width\":{\"value\":2},\"plot\":null,\"render_mode\":\"css\",\"right_units\":\"screen\",\"top_units\":\"screen\"},\"id\":\"4fea1820-5a3c-49df-a40d-ec9b3e43ba14\",\"type\":\"BoxAnnotation\"},{\"attributes\":{},\"id\":\"3fe09394-7770-4663-910f-a58f0ded445d\",\"type\":\"BasicTickFormatter\"},{\"attributes\":{},\"id\":\"8ffc92e3-7951-4a03-ae3d-f1f7adc15a26\",\"type\":\"SaveTool\"},{\"attributes\":{\"active_drag\":\"auto\",\"active_inspect\":\"auto\",\"active_scroll\":\"auto\",\"active_tap\":\"auto\",\"tools\":[{\"id\":\"d187c410-47e9-4714-ab82-fdc3b04d3a55\",\"type\":\"PanTool\"},{\"id\":\"14623d77-ff20-40fa-bfe7-0dff9693cc99\",\"type\":\"WheelZoomTool\"},{\"id\":\"d65e8bca-3451-457d-8524-bb8b05bda366\",\"type\":\"BoxZoomTool\"},{\"id\":\"8ffc92e3-7951-4a03-ae3d-f1f7adc15a26\",\"type\":\"SaveTool\"},{\"id\":\"ce303d92-d432-495f-b6b7-286766a8580d\",\"type\":\"ResetTool\"},{\"id\":\"07e67efc-bcdd-46a7-abb3-713b0e9de4ca\",\"type\":\"HelpTool\"}]},\"id\":\"ac14b92e-9e3c-4aae-a2b3-293b6bc91dab\",\"type\":\"Toolbar\"},{\"attributes\":{},\"id\":\"939af589-c00e-4043-bb24-424f9fd4aaec\",\"type\":\"BasicTicker\"},{\"attributes\":{},\"id\":\"8fe9e20c-0fa9-436c-80d9-50a6b60185a8\",\"type\":\"BasicTickFormatter\"},{\"attributes\":{\"formatter\":{\"id\":\"3fe09394-7770-4663-910f-a58f0ded445d\",\"type\":\"BasicTickFormatter\"},\"plot\":{\"id\":\"d5e21021-4ff8-4db4-80be-248f8d901866\",\"subtype\":\"Figure\",\"type\":\"Plot\"},\"ticker\":{\"id\":\"9e064dc0-2d89-48c3-ba46-d4238c04233f\",\"type\":\"BasicTicker\"}},\"id\":\"823edfa1-8310-4585-a206-1af29ca7ac94\",\"type\":\"LinearAxis\"},{\"attributes\":{\"callback\":null,\"column_names\":[\"x\",\"y\"],\"data\":{\"x\":{\"__ndarray__\":\"AAAAAAAA8D+uR+F6FK7vP65H4XoUru8/rkfhehSu7z9cj8L1KFzvPwrXo3A9Cu8/uB6F61G47j+4HoXrUbjuP7gehetRuO4/uB6F61G47j+4HoXrUbjuP7gehetRuO4/uB6F61G47j+4HoXrUbjuP2ZmZmZmZu4/ZmZmZmZm7j9mZmZmZmbuP2ZmZmZmZu4/FK5H4XoU7j8UrkfhehTuPxSuR+F6FO4/w/UoXI/C7T9xPQrXo3DtPx+F61G4Hu0/zczMzMzM7D97FK5H4XrsPylcj8L1KOw/KVyPwvUo7D/Xo3A9CtfrP4XrUbgehes/MzMzMzMz6z8zMzMzMzPrP+F6FK5H4eo/4XoUrkfh6j+PwvUoXI/qPz0K16NwPeo/7FG4HoXr6T+amZmZmZnpP5qZmZmZmek/SOF6FK5H6T/2KFyPwvXoP6RwPQrXo+g/UrgehetR6D8AAAAAAADoPwAAAAAAAOg/AAAAAAAA6D+uR+F6FK7nP1yPwvUoXOc/XI/C9Shc5z8K16NwPQrnP7gehetRuOY/ZmZmZmZm5j9mZmZmZmbmPxSuR+F6FOY/w/UoXI/C5T9xPQrXo3DlPx+F61G4HuU/zczMzMzM5D/NzMzMzMzkP3sUrkfheuQ/KVyPwvUo5D/Xo3A9CtfjP4XrUbgeheM/MzMzMzMz4z/hehSuR+HiP4/C9Shcj+I/j8L1KFyP4j89CtejcD3iPz0K16NwPeI/7FG4HoXr4T+amZmZmZnhP0jhehSuR+E/9ihcj8L14D+kcD0K16PgP1K4HoXrUeA/AAAAAAAA4D9cj8L1KFzfP7gehetRuN4/FK5H4XoU3j9xPQrXo3DdP83MzMzMzNw/KVyPwvUo3D+F61G4HoXbP+F6FK5H4do/PQrXo3A92j+amZmZmZnZP/YoXI/C9dg/UrgehetR2D+uR+F6FK7XPwrXo3A9Ctc/ZmZmZmZm1j/D9Shcj8LVPx+F61G4HtU/exSuR+F61D/Xo3A9CtfTPzMzMzMzM9M/j8L1KFyP0j/sUbgehevRP0jhehSuR9E/pHA9Ctej0D8AAAAAAADQP7gehetRuM4/cT0K16NwzT8pXI/C9SjMP+F6FK5H4co/mpmZmZmZyT9SuB6F61HIPwrXo3A9Csc/w/UoXI/CxT97FK5H4XrEPzMzMzMzM8M/7FG4HoXrwT+kcD0K16PAP7gehetRuL4/KVyPwvUovD+amZmZmZm5PwrXo3A9Crc/exSuR+F6tD/sUbgeheuxP7gehetRuK4/mpmZmZmZqT97FK5H4XqkP7gehetRuJ4/exSuR+F6lD97FK5H4XqEPwAAAAAAAAAA\",\"dtype\":\"float64\",\"shape\":[126]},\"y\":{\"__ndarray__\":\"mpmZmZmZ6T+MMcYYY4zpP8L5GJyPwek/kyFYR5v36T+8HznN1+rpP97d3d3d3ek/GqzQGazQ6T+Uui+PrQjqPxqkQRqkQeo/YbmnEZZ76j+rwXMEirbqPyivobyG8uo/NPmyQZMv6z/btm3btm3rPzO239ErY+s/o4suuuii6z89vgsH0ePrP19CewntJew/mUDv1LUc7D9c2eeQmmDsP13KpVzKpew/2Ymd2Imd7D/0sohPIJXsP42MjIyMjOw/iQKTTs2D7D97FK5H4XrsPxzHcRzHcew/L6fg5RS87D89iUzDdrPsP6uqqqqqquw/G8prKK+h7D+0Ud/ZqO/sP+ecc8455+w/05ve9KY37T/90i/90i/tP33SJ33SJ+0/0o9+9KMf7T8XXXTRRRftP/rN1qHfbO0/WVPWlDVl7T9dXV1dXV3tP1VVVVVVVe0/WTFQwhtN7T9F7UrUrkTtPxPaS2gvoe0/AAAAAAAA7j/zu1rchPntPy7f8i3f8u0/xFn5CXFW7j8N5TWU11DuP0t+seQXS+4/U+SzbjBF7j/16tWrV6/uP6uqqqqqqu4/u9ST8dul7j8P6qAO6qDuP+pNb3rTm+4/l5aWlpaW7j9FeqBydgvvPwgffPDBB+8/P/ADP/AD7z8AAAAAAADvP7/v+77v++4/+N5777337j9cMgTraPPuP+/u7u7u7u4/yFYEDSd17z8jLPc0wnLvPwAAAAAAAPA/AAAAAAAA8D8AAAAAAADwPwAAAAAAAPA/AAAAAAAA8D8AAAAAAADwPwAAAAAAAPA/AAAAAAAA8D8AAAAAAADwPwAAAAAAAPA/AAAAAAAA8D8AAAAAAADwPwAAAAAAAPA/AAAAAAAA8D8AAAAAAADwPwAAAAAAAPA/AAAAAAAA8D8AAAAAAADwPwAAAAAAAPA/AAAAAAAA8D8AAAAAAADwPwAAAAAAAPA/AAAAAAAA8D8AAAAAAADwPwAAAAAAAPA/AAAAAAAA8D8AAAAAAADwPwAAAAAAAPA/AAAAAAAA8D8AAAAAAADwPwAAAAAAAPA/AAAAAAAA8D8AAAAAAADwPwAAAAAAAPA/AAAAAAAA8D8AAAAAAADwPwAAAAAAAPA/AAAAAAAA8D8AAAAAAADwPwAAAAAAAPA/AAAAAAAA8D8AAAAAAADwPwAAAAAAAPA/AAAAAAAA8D8AAAAAAADwPwAAAAAAAPA/AAAAAAAA8D8AAAAAAADwPwAAAAAAAPA/AAAAAAAA8D8AAAAAAADwPwAAAAAAAPA/AAAAAAAA8D8AAAAAAADwPwAAAAAAAPA/AAAAAAAA8D8AAAAAAADwPwAAAAAAAPA/\",\"dtype\":\"float64\",\"shape\":[126]}}},\"id\":\"717fc7f1-d432-4d8b-b69b-03c5a91ef819\",\"type\":\"ColumnDataSource\"},{\"attributes\":{\"line_alpha\":{\"value\":0.1},\"line_color\":{\"value\":\"#1f77b4\"},\"x\":{\"field\":\"x\"},\"y\":{\"field\":\"y\"}},\"id\":\"d3a5cd6c-83ad-473f-9948-cc36c1223c26\",\"type\":\"Line\"},{\"attributes\":{},\"id\":\"d187c410-47e9-4714-ab82-fdc3b04d3a55\",\"type\":\"PanTool\"},{\"attributes\":{\"formatter\":{\"id\":\"8fe9e20c-0fa9-436c-80d9-50a6b60185a8\",\"type\":\"BasicTickFormatter\"},\"plot\":{\"id\":\"d5e21021-4ff8-4db4-80be-248f8d901866\",\"subtype\":\"Figure\",\"type\":\"Plot\"},\"ticker\":{\"id\":\"939af589-c00e-4043-bb24-424f9fd4aaec\",\"type\":\"BasicTicker\"}},\"id\":\"e0a464a8-7788-42a1-866d-f44d5df94efe\",\"type\":\"LinearAxis\"},{\"attributes\":{},\"id\":\"eacf3bcb-00b7-474f-9aae-a73b57d68cbf\",\"type\":\"LinearScale\"},{\"attributes\":{},\"id\":\"9e064dc0-2d89-48c3-ba46-d4238c04233f\",\"type\":\"BasicTicker\"}],\"root_ids\":[\"d5e21021-4ff8-4db4-80be-248f8d901866\"]},\"title\":\"Bokeh Application\",\"version\":\"0.12.10\"}};\n",
       "    var render_items = [{\"docid\":\"ea08e97a-4813-41e8-855e-4837f531f77d\",\"elementid\":\"64e02e21-cc33-4358-b732-480b686a54e2\",\"modelid\":\"d5e21021-4ff8-4db4-80be-248f8d901866\"}];\n",
       "\n",
       "    root.Bokeh.embed.embed_items(docs_json, render_items);\n",
       "  }\n",
       "\n",
       "  if (root.Bokeh !== undefined) {\n",
       "    embed_document(root);\n",
       "  } else {\n",
       "    var attempts = 0;\n",
       "    var timer = setInterval(function(root) {\n",
       "      if (root.Bokeh !== undefined) {\n",
       "        embed_document(root);\n",
       "        clearInterval(timer);\n",
       "      }\n",
       "      attempts++;\n",
       "      if (attempts > 100) {\n",
       "        console.log(\"Bokeh: ERROR: Unable to embed document because BokehJS library is missing\")\n",
       "        clearInterval(timer);\n",
       "      }\n",
       "    }, 10, root)\n",
       "  }\n",
       "})(window);"
      ],
      "application/vnd.bokehjs_exec.v0+json": ""
     },
     "metadata": {
      "application/vnd.bokehjs_exec.v0+json": {
       "id": "d5e21021-4ff8-4db4-80be-248f8d901866"
      }
     },
     "output_type": "display_data"
    }
   ],
   "source": [
    "p1 = figure(plot_width=400, plot_height=400)\n",
    "p1.line(recall,precision)\n",
    "show(p1)"
   ]
  },
  {
   "cell_type": "markdown",
   "metadata": {},
   "source": [
    "# Support Vector Machines"
   ]
  },
  {
   "cell_type": "markdown",
   "metadata": {},
   "source": [
    "### Remember the parameter $C$? Let's learn what that's about. This lets us deal with overlapping classes and gives an example of *regularization*. In general, there is a (precisely defined) tradeoff between fitting the training data well and building a model that performs well on other data. Regularization is a way to penalize too much complexity in the model without banishing complexity outright. \n",
    "\n",
    "### The parameter $C$ controls the *slack variables* that allow for some misclassification on the training set."
   ]
  },
  {
   "cell_type": "markdown",
   "metadata": {},
   "source": [
    "### The optimization problem here, with *linearly separable data*, is to minimize the length of the weight vector:"
   ]
  },
  {
   "cell_type": "markdown",
   "metadata": {},
   "source": [
    "## $\\|\\color{blue}{W}\\|^2$"
   ]
  },
  {
   "cell_type": "markdown",
   "metadata": {},
   "source": [
    "### If we want to allow for overlapping data, then we can throw in the extra variables $\\xi_n$, *one for each data point*(!). They depend on the weights $\\color{blue}{W}$; $\\xi_n = 0$ if $f_{\\color{blue}{W}}(x_n) = t_n$, and otherwise $\\xi_n = |t_n - f_{\\color{blue}{W}}(x_n)|$."
   ]
  },
  {
   "cell_type": "markdown",
   "metadata": {},
   "source": [
    "<img src=\"prmlfigs-png/Figure7.3.png\" style=\"width: 600px;\"/>"
   ]
  },
  {
   "cell_type": "markdown",
   "metadata": {},
   "source": [
    "### Then the objective function becomes"
   ]
  },
  {
   "cell_type": "markdown",
   "metadata": {},
   "source": [
    "## $\\sum_{n=1}^N \\xi_n + \\|\\color{blue}{W}\\|^2$"
   ]
  },
  {
   "cell_type": "markdown",
   "metadata": {},
   "source": [
    "### But that could be too great a cost. We want to scale the cost of these slack variables."
   ]
  },
  {
   "cell_type": "markdown",
   "metadata": {},
   "source": [
    "## $C\\sum_{n=1}^N \\xi_n + \\|\\color{blue}{W}\\|^2$"
   ]
  },
  {
   "cell_type": "markdown",
   "metadata": {},
   "source": [
    "### In technical terms, $C$ is a regularization parameter. The larger it is, the more strongly misclassifications are avoided."
   ]
  }
 ],
 "metadata": {
  "kernelspec": {
   "display_name": "Python 3",
   "language": "python",
   "name": "python3"
  },
  "language_info": {
   "codemirror_mode": {
    "name": "ipython",
    "version": 3
   },
   "file_extension": ".py",
   "mimetype": "text/x-python",
   "name": "python",
   "nbconvert_exporter": "python",
   "pygments_lexer": "ipython3",
   "version": "3.6.3"
  }
 },
 "nbformat": 4,
 "nbformat_minor": 2
}
