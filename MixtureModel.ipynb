{
 "cells": [
  {
   "cell_type": "markdown",
   "metadata": {},
   "source": [
    "# CIS600 - Social Media & Data Mining\n",
    "###  \n",
    "<img src=\"https://www.syracuse.edu/wp-content/themes/g6-carbon/img/syracuse-university-seal.svg?ver=6.3.9\" style=\"width: 200px;\"/>\n",
    "\n",
    "# Clustering & Mixture Models\n",
    "#### *Taken mostly from Bishop's text on machine learning*\n",
    "###  April 16, 2018"
   ]
  },
  {
   "cell_type": "markdown",
   "metadata": {},
   "source": [
    "# $k$-means"
   ]
  },
  {
   "cell_type": "markdown",
   "metadata": {},
   "source": [
    "## Optimization Formulation"
   ]
  },
  {
   "cell_type": "markdown",
   "metadata": {},
   "source": [
    "> Everything is an optimization problem, yes. Realize that, and then get over it as soon as you can. (Boyd)"
   ]
  },
  {
   "cell_type": "markdown",
   "metadata": {},
   "source": [
    "### We have used $k$-means and discussed the algorithm. Here is the setup:"
   ]
  },
  {
   "cell_type": "markdown",
   "metadata": {},
   "source": [
    "### We have a dataset $\\{x_1,\\ldots,x_N\\}$ of observations from $\\mathbb{R}^D$. We seek clusters with centers $\\mu_k \\in \\mathbb{R}^D$. *The cluster centers are the things we are choosing*. We are choosing them so that the sum of squared distances are minimized. That is, we are minimizing:"
   ]
  },
  {
   "cell_type": "markdown",
   "metadata": {},
   "source": [
    "## $J = \\sum_{n=1}^N\\sum_{k=1}^K r_{nk} \\|x_n - \\mu_k\\|^2$"
   ]
  },
  {
   "cell_type": "markdown",
   "metadata": {},
   "source": [
    "### where"
   ]
  },
  {
   "cell_type": "markdown",
   "metadata": {},
   "source": [
    "## $ r_{nk} = \\begin{cases} 1 & x_n \\in \\text{Cluster } k \\\\\n",
    "                             0 & \\text{otherwise}   \\end{cases}$"
   ]
  },
  {
   "cell_type": "markdown",
   "metadata": {},
   "source": [
    "### The standard algorithm can be broken down into two steps\n",
    "\n",
    "### *Expectation* - minimize $J$ wrt the $r_{nk}$, leaving $\\mu_k$ fixed.\n",
    "\n",
    "### *Maximization* - minimize $J$ wrt the $\\mu_k$ leaving $r$ fixed."
   ]
  },
  {
   "cell_type": "markdown",
   "metadata": {},
   "source": [
    "### (This is an instance of a more general method called EM.)"
   ]
  },
  {
   "cell_type": "markdown",
   "metadata": {},
   "source": [
    "### The expectation step makes the following update to the $r$ values:"
   ]
  },
  {
   "cell_type": "markdown",
   "metadata": {},
   "source": [
    "## $ r_{nk} = \\begin{cases} 1 & \\text{ if } k= argmin_j \\|x_n - \\mu_j\\|^2 \\\\\n",
    "                             0 & \\text{otherwise}   \\end{cases}$"
   ]
  },
  {
   "cell_type": "markdown",
   "metadata": {},
   "source": [
    "### The maximization step is done by calculus. The partial equations"
   ]
  },
  {
   "cell_type": "markdown",
   "metadata": {},
   "source": [
    "## $2\\sum_{n=1}^Nr_{nk}(x_n - \\mu_k) = 0$"
   ]
  },
  {
   "cell_type": "markdown",
   "metadata": {},
   "source": [
    "### lead to the formula for $\\mu_k$"
   ]
  },
  {
   "cell_type": "markdown",
   "metadata": {},
   "source": [
    "## $ \\mu_k = \\frac{\\sum_nr_{nk}x_n}{\\sum_nr_{nk}}$"
   ]
  },
  {
   "cell_type": "markdown",
   "metadata": {},
   "source": [
    "### Which is exactly the mean of all the things that had been assigned to cluster $k$ in the previous step."
   ]
  },
  {
   "cell_type": "markdown",
   "metadata": {},
   "source": [
    "### We keep doing this until the clusters stop changing (or until a certain number of iterations has been completed."
   ]
  },
  {
   "cell_type": "markdown",
   "metadata": {},
   "source": [
    "### Let's get some data. This is a good opportunity to use what we already know. Bishop used the famous *Old Faithful* dataset. It can be found, among other places, [here](http://www.stat.cmu.edu/~larry/all-of-statistics/=data/faithful.dat). Let's pull it into our python session."
   ]
  },
  {
   "cell_type": "code",
   "execution_count": 1,
   "metadata": {},
   "outputs": [],
   "source": [
    "import numpy as np\n",
    "import urllib.request\n",
    "url = 'http://www.stat.cmu.edu/~larry/all-of-statistics/=data/faithful.dat'\n",
    "with urllib.request.urlopen(url) as response:\n",
    "    olf = response.readlines()"
   ]
  },
  {
   "cell_type": "markdown",
   "metadata": {},
   "source": [
    "### Convert to strings"
   ]
  },
  {
   "cell_type": "code",
   "execution_count": 3,
   "metadata": {},
   "outputs": [],
   "source": [
    "olf = [x.decode('utf-8') for x in olf]"
   ]
  },
  {
   "cell_type": "markdown",
   "metadata": {},
   "source": [
    "### Strip off endline garbage"
   ]
  },
  {
   "cell_type": "code",
   "execution_count": 4,
   "metadata": {},
   "outputs": [],
   "source": [
    "olf = [x.strip() for x in olf]"
   ]
  },
  {
   "cell_type": "code",
   "execution_count": 5,
   "metadata": {},
   "outputs": [
    {
     "name": "stdout",
     "output_type": "stream",
     "text": [
      "Old Faithful Geyser Data\n",
      "\n",
      "Description: (From R manual):\n",
      "\n",
      "Waiting time between eruptions and the duration of the eruption\n",
      "for the Old Faithful geyser in Yellowstone National Park, Wyoming,\n",
      "USA.\n",
      "\n",
      "A data frame with 272 observations on 2 variables.\n",
      "\n",
      "eruptions  numeric  Eruption time in mins\n",
      "waiting    numeric  Waiting time to next eruption\n",
      "\n",
      "References:\n",
      "\n",
      "Hardle, W. (1991) Smoothing Techniques with Implementation in S.\n",
      "New York: Springer.\n",
      "\n",
      "Azzalini, A. and Bowman, A. W. (1990). A look at some data on the\n",
      "Old Faithful geyser. Applied Statistics 39, 357-365.\n",
      "\n",
      "\n",
      "\n",
      "\n",
      "\n",
      "eruptions waiting\n",
      "1       3.600      79\n",
      "2       1.800      54\n",
      "3       3.333      74\n",
      "4       2.283      62\n",
      "5       4.533      85\n",
      "6       2.883      55\n",
      "7       4.700      88\n",
      "8       3.600      85\n",
      "9       1.950      51\n",
      "10      4.350      85\n",
      "11      1.833      54\n",
      "12      3.917      84\n",
      "13      4.200      78\n",
      "14      1.750      47\n",
      "15      4.700      83\n",
      "16      2.167      52\n",
      "17      1.750      62\n",
      "18      4.800      84\n",
      "19      1.600      52\n",
      "20      4.250      79\n",
      "21      1.800      51\n",
      "22      1.750      47\n",
      "23      3.450      78\n",
      "24      3.067      69\n",
      "25      4.533      74\n",
      "26      3.600      83\n",
      "27      1.967      55\n",
      "28      4.083      76\n",
      "29      3.850      78\n",
      "30      4.433      79\n",
      "31      4.300      73\n",
      "32      4.467      77\n",
      "33      3.367      66\n",
      "34      4.033      80\n",
      "35      3.833      74\n",
      "36      2.017      52\n",
      "37      1.867      48\n",
      "38      4.833      80\n",
      "39      1.833      59\n",
      "40      4.783      90\n",
      "41      4.350      80\n",
      "42      1.883      58\n",
      "43      4.567      84\n",
      "44      1.750      58\n",
      "45      4.533      73\n",
      "46      3.317      83\n",
      "47      3.833      64\n",
      "48      2.100      53\n",
      "49      4.633      82\n",
      "50      2.000      59\n",
      "51      4.800      75\n",
      "52      4.716      90\n",
      "53      1.833      54\n",
      "54      4.833      80\n",
      "55      1.733      54\n",
      "56      4.883      83\n",
      "57      3.717      71\n",
      "58      1.667      64\n",
      "59      4.567      77\n",
      "60      4.317      81\n",
      "61      2.233      59\n",
      "62      4.500      84\n",
      "63      1.750      48\n",
      "64      4.800      82\n",
      "65      1.817      60\n",
      "66      4.400      92\n",
      "67      4.167      78\n",
      "68      4.700      78\n",
      "69      2.067      65\n",
      "70      4.700      73\n",
      "71      4.033      82\n",
      "72      1.967      56\n",
      "73      4.500      79\n",
      "74      4.000      71\n",
      "75      1.983      62\n",
      "76      5.067      76\n",
      "77      2.017      60\n",
      "78      4.567      78\n",
      "79      3.883      76\n",
      "80      3.600      83\n",
      "81      4.133      75\n",
      "82      4.333      82\n",
      "83      4.100      70\n",
      "84      2.633      65\n",
      "85      4.067      73\n",
      "86      4.933      88\n",
      "87      3.950      76\n",
      "88      4.517      80\n",
      "89      2.167      48\n",
      "90      4.000      86\n",
      "91      2.200      60\n",
      "92      4.333      90\n",
      "93      1.867      50\n",
      "94      4.817      78\n",
      "95      1.833      63\n",
      "96      4.300      72\n",
      "97      4.667      84\n",
      "98      3.750      75\n",
      "99      1.867      51\n",
      "100     4.900      82\n",
      "101     2.483      62\n",
      "102     4.367      88\n",
      "103     2.100      49\n",
      "104     4.500      83\n",
      "105     4.050      81\n",
      "106     1.867      47\n",
      "107     4.700      84\n",
      "108     1.783      52\n",
      "109     4.850      86\n",
      "110     3.683      81\n",
      "111     4.733      75\n",
      "112     2.300      59\n",
      "113     4.900      89\n",
      "114     4.417      79\n",
      "115     1.700      59\n",
      "116     4.633      81\n",
      "117     2.317      50\n",
      "118     4.600      85\n",
      "119     1.817      59\n",
      "120     4.417      87\n",
      "121     2.617      53\n",
      "122     4.067      69\n",
      "123     4.250      77\n",
      "124     1.967      56\n",
      "125     4.600      88\n",
      "126     3.767      81\n",
      "127     1.917      45\n",
      "128     4.500      82\n",
      "129     2.267      55\n",
      "130     4.650      90\n",
      "131     1.867      45\n",
      "132     4.167      83\n",
      "133     2.800      56\n",
      "134     4.333      89\n",
      "135     1.833      46\n",
      "136     4.383      82\n",
      "137     1.883      51\n",
      "138     4.933      86\n",
      "139     2.033      53\n",
      "140     3.733      79\n",
      "141     4.233      81\n",
      "142     2.233      60\n",
      "143     4.533      82\n",
      "144     4.817      77\n",
      "145     4.333      76\n",
      "146     1.983      59\n",
      "147     4.633      80\n",
      "148     2.017      49\n",
      "149     5.100      96\n",
      "150     1.800      53\n",
      "151     5.033      77\n",
      "152     4.000      77\n",
      "153     2.400      65\n",
      "154     4.600      81\n",
      "155     3.567      71\n",
      "156     4.000      70\n",
      "157     4.500      81\n",
      "158     4.083      93\n",
      "159     1.800      53\n",
      "160     3.967      89\n",
      "161     2.200      45\n",
      "162     4.150      86\n",
      "163     2.000      58\n",
      "164     3.833      78\n",
      "165     3.500      66\n",
      "166     4.583      76\n",
      "167     2.367      63\n",
      "168     5.000      88\n",
      "169     1.933      52\n",
      "170     4.617      93\n",
      "171     1.917      49\n",
      "172     2.083      57\n",
      "173     4.583      77\n",
      "174     3.333      68\n",
      "175     4.167      81\n",
      "176     4.333      81\n",
      "177     4.500      73\n",
      "178     2.417      50\n",
      "179     4.000      85\n",
      "180     4.167      74\n",
      "181     1.883      55\n",
      "182     4.583      77\n",
      "183     4.250      83\n",
      "184     3.767      83\n",
      "185     2.033      51\n",
      "186     4.433      78\n",
      "187     4.083      84\n",
      "188     1.833      46\n",
      "189     4.417      83\n",
      "190     2.183      55\n",
      "191     4.800      81\n",
      "192     1.833      57\n",
      "193     4.800      76\n",
      "194     4.100      84\n",
      "195     3.966      77\n",
      "196     4.233      81\n",
      "197     3.500      87\n",
      "198     4.366      77\n",
      "199     2.250      51\n",
      "200     4.667      78\n",
      "201     2.100      60\n",
      "202     4.350      82\n",
      "203     4.133      91\n",
      "204     1.867      53\n",
      "205     4.600      78\n",
      "206     1.783      46\n",
      "207     4.367      77\n",
      "208     3.850      84\n",
      "209     1.933      49\n",
      "210     4.500      83\n",
      "211     2.383      71\n",
      "212     4.700      80\n",
      "213     1.867      49\n",
      "214     3.833      75\n",
      "215     3.417      64\n",
      "216     4.233      76\n",
      "217     2.400      53\n",
      "218     4.800      94\n",
      "219     2.000      55\n",
      "220     4.150      76\n",
      "221     1.867      50\n",
      "222     4.267      82\n",
      "223     1.750      54\n",
      "224     4.483      75\n",
      "225     4.000      78\n",
      "226     4.117      79\n",
      "227     4.083      78\n",
      "228     4.267      78\n",
      "229     3.917      70\n",
      "230     4.550      79\n",
      "231     4.083      70\n",
      "232     2.417      54\n",
      "233     4.183      86\n",
      "234     2.217      50\n",
      "235     4.450      90\n",
      "236     1.883      54\n",
      "237     1.850      54\n",
      "238     4.283      77\n",
      "239     3.950      79\n",
      "240     2.333      64\n",
      "241     4.150      75\n",
      "242     2.350      47\n",
      "243     4.933      86\n",
      "244     2.900      63\n",
      "245     4.583      85\n",
      "246     3.833      82\n",
      "247     2.083      57\n",
      "248     4.367      82\n",
      "249     2.133      67\n",
      "250     4.350      74\n",
      "251     2.200      54\n",
      "252     4.450      83\n",
      "253     3.567      73\n",
      "254     4.500      73\n",
      "255     4.150      88\n",
      "256     3.817      80\n",
      "257     3.917      71\n",
      "258     4.450      83\n",
      "259     2.000      56\n",
      "260     4.283      79\n",
      "261     4.767      78\n",
      "262     4.533      84\n",
      "263     1.850      58\n",
      "264     4.250      83\n",
      "265     1.983      43\n",
      "266     2.250      60\n",
      "267     4.750      75\n",
      "268     4.117      81\n",
      "269     2.150      46\n",
      "270     4.417      90\n",
      "271     1.817      46\n",
      "272     4.467      74\n"
     ]
    }
   ],
   "source": [
    "for x in olf: print(x)"
   ]
  },
  {
   "cell_type": "markdown",
   "metadata": {},
   "source": [
    "### Where does the data start?"
   ]
  },
  {
   "cell_type": "code",
   "execution_count": 6,
   "metadata": {},
   "outputs": [
    {
     "data": {
      "text/plain": [
       "25"
      ]
     },
     "execution_count": 6,
     "metadata": {},
     "output_type": "execute_result"
    }
   ],
   "source": [
    "olf.index('eruptions waiting')"
   ]
  },
  {
   "cell_type": "markdown",
   "metadata": {},
   "source": [
    "### Where does it end?"
   ]
  },
  {
   "cell_type": "code",
   "execution_count": 7,
   "metadata": {},
   "outputs": [
    {
     "data": {
      "text/plain": [
       "'272     4.467      74'"
      ]
     },
     "execution_count": 7,
     "metadata": {},
     "output_type": "execute_result"
    }
   ],
   "source": [
    "olf[-1]"
   ]
  },
  {
   "cell_type": "markdown",
   "metadata": {},
   "source": [
    "### Let's put it in an array."
   ]
  },
  {
   "cell_type": "code",
   "execution_count": 5,
   "metadata": {},
   "outputs": [],
   "source": [
    "dat = [[float(y) for y in x.split()[1:]] for x in olf[26:]]\n",
    "olf_mat = np.array(dat)"
   ]
  },
  {
   "cell_type": "code",
   "execution_count": 6,
   "metadata": {},
   "outputs": [
    {
     "data": {
      "text/plain": [
       "(272, 2)"
      ]
     },
     "execution_count": 6,
     "metadata": {},
     "output_type": "execute_result"
    }
   ],
   "source": [
    "olf_mat.shape"
   ]
  },
  {
   "cell_type": "markdown",
   "metadata": {},
   "source": [
    "### Checks out. Let's apply $k$-means to this data. We'll take $k = 2$."
   ]
  },
  {
   "cell_type": "markdown",
   "metadata": {},
   "source": [
    "### First, let's initialize with random centers from our *Old Faithful* datapoints."
   ]
  },
  {
   "cell_type": "code",
   "execution_count": 7,
   "metadata": {},
   "outputs": [],
   "source": [
    "# Choosing Centers\n",
    "#mu = olf_mat[[3, 5]]\n",
    "\n",
    "mu = np.array([[2,80],[4, 50]])\n",
    "\n",
    "\n",
    "# Creating r_nk\n",
    "ar = np.zeros((len(olf_mat),2))\n",
    "\n",
    "# Initializing r_nk\n",
    "for row in range(olf_mat.shape[0]):\n",
    "    dists = np.linalg.norm(row - mu, axis=1)\n",
    "    smallest = min(dists)\n",
    "    center = list(dists).index(smallest)\n",
    "    ar[row,center] = 1"
   ]
  },
  {
   "cell_type": "markdown",
   "metadata": {},
   "source": [
    "### Let's have functions to execute the two steps."
   ]
  },
  {
   "cell_type": "code",
   "execution_count": 8,
   "metadata": {},
   "outputs": [],
   "source": [
    "# This does the expectation step\n",
    "def estep():\n",
    "    # Make sure we're dealing with the right one\n",
    "    global ar\n",
    "    # Reset the matrix\n",
    "    ar = np.zeros((len(olf_mat),2))\n",
    "    for row in range(olf_mat.shape[0]):\n",
    "        dists = np.linalg.norm(olf_mat[row] - mu, axis=1)\n",
    "        smallest = min(dists)\n",
    "        center = list(dists).index(smallest)\n",
    "        ar[row,center] = 1\n",
    "        \n",
    "# This does the maximization step\n",
    "def mstep():\n",
    "    for row in range(len(mu)):\n",
    "        in_cluster = olf_mat[np.where(ar[:,row])]\n",
    "        mu[row] = np.sum(in_cluster,axis=0) / in_cluster.shape[0]"
   ]
  },
  {
   "cell_type": "markdown",
   "metadata": {},
   "source": [
    "### Let's now plot the clusters we are computing"
   ]
  },
  {
   "cell_type": "code",
   "execution_count": 11,
   "metadata": {},
   "outputs": [
    {
     "data": {
      "text/html": [
       "\n",
       "    <div class=\"bk-root\">\n",
       "        <a href=\"https://bokeh.pydata.org\" target=\"_blank\" class=\"bk-logo bk-logo-small bk-logo-notebook\"></a>\n",
       "        <span id=\"89b3a77f-b51f-4fd1-97f6-3688daf27ba8\">Loading BokehJS ...</span>\n",
       "    </div>"
      ]
     },
     "metadata": {},
     "output_type": "display_data"
    },
    {
     "data": {
      "application/javascript": [
       "\n",
       "(function(root) {\n",
       "  function now() {\n",
       "    return new Date();\n",
       "  }\n",
       "\n",
       "  var force = true;\n",
       "\n",
       "  if (typeof (root._bokeh_onload_callbacks) === \"undefined\" || force === true) {\n",
       "    root._bokeh_onload_callbacks = [];\n",
       "    root._bokeh_is_loading = undefined;\n",
       "  }\n",
       "\n",
       "  var JS_MIME_TYPE = 'application/javascript';\n",
       "  var HTML_MIME_TYPE = 'text/html';\n",
       "  var EXEC_MIME_TYPE = 'application/vnd.bokehjs_exec.v0+json';\n",
       "  var CLASS_NAME = 'output_bokeh rendered_html';\n",
       "\n",
       "  /**\n",
       "   * Render data to the DOM node\n",
       "   */\n",
       "  function render(props, node) {\n",
       "    var script = document.createElement(\"script\");\n",
       "    node.appendChild(script);\n",
       "  }\n",
       "\n",
       "  /**\n",
       "   * Handle when an output is cleared or removed\n",
       "   */\n",
       "  function handleClearOutput(event, handle) {\n",
       "    var cell = handle.cell;\n",
       "\n",
       "    var id = cell.output_area._bokeh_element_id;\n",
       "    var server_id = cell.output_area._bokeh_server_id;\n",
       "    // Clean up Bokeh references\n",
       "    if (id !== undefined) {\n",
       "      Bokeh.index[id].model.document.clear();\n",
       "      delete Bokeh.index[id];\n",
       "    }\n",
       "\n",
       "    if (server_id !== undefined) {\n",
       "      // Clean up Bokeh references\n",
       "      var cmd = \"from bokeh.io.state import curstate; print(curstate().uuid_to_server['\" + server_id + \"'].get_sessions()[0].document.roots[0]._id)\";\n",
       "      cell.notebook.kernel.execute(cmd, {\n",
       "        iopub: {\n",
       "          output: function(msg) {\n",
       "            var element_id = msg.content.text.trim();\n",
       "            Bokeh.index[element_id].model.document.clear();\n",
       "            delete Bokeh.index[element_id];\n",
       "          }\n",
       "        }\n",
       "      });\n",
       "      // Destroy server and session\n",
       "      var cmd = \"import bokeh.io.notebook as ion; ion.destroy_server('\" + server_id + \"')\";\n",
       "      cell.notebook.kernel.execute(cmd);\n",
       "    }\n",
       "  }\n",
       "\n",
       "  /**\n",
       "   * Handle when a new output is added\n",
       "   */\n",
       "  function handleAddOutput(event, handle) {\n",
       "    var output_area = handle.output_area;\n",
       "    var output = handle.output;\n",
       "\n",
       "    // limit handleAddOutput to display_data with EXEC_MIME_TYPE content only\n",
       "    if ((output.output_type != \"display_data\") || (!output.data.hasOwnProperty(EXEC_MIME_TYPE))) {\n",
       "      return\n",
       "    }\n",
       "\n",
       "    var toinsert = output_area.element.find(\".\" + CLASS_NAME.split(' ')[0]);\n",
       "\n",
       "    if (output.metadata[EXEC_MIME_TYPE][\"id\"] !== undefined) {\n",
       "      toinsert[0].firstChild.textContent = output.data[JS_MIME_TYPE];\n",
       "      // store reference to embed id on output_area\n",
       "      output_area._bokeh_element_id = output.metadata[EXEC_MIME_TYPE][\"id\"];\n",
       "    }\n",
       "    if (output.metadata[EXEC_MIME_TYPE][\"server_id\"] !== undefined) {\n",
       "      var bk_div = document.createElement(\"div\");\n",
       "      bk_div.innerHTML = output.data[HTML_MIME_TYPE];\n",
       "      var script_attrs = bk_div.children[0].attributes;\n",
       "      for (var i = 0; i < script_attrs.length; i++) {\n",
       "        toinsert[0].firstChild.setAttribute(script_attrs[i].name, script_attrs[i].value);\n",
       "      }\n",
       "      // store reference to server id on output_area\n",
       "      output_area._bokeh_server_id = output.metadata[EXEC_MIME_TYPE][\"server_id\"];\n",
       "    }\n",
       "  }\n",
       "\n",
       "  function register_renderer(events, OutputArea) {\n",
       "\n",
       "    function append_mime(data, metadata, element) {\n",
       "      // create a DOM node to render to\n",
       "      var toinsert = this.create_output_subarea(\n",
       "        metadata,\n",
       "        CLASS_NAME,\n",
       "        EXEC_MIME_TYPE\n",
       "      );\n",
       "      this.keyboard_manager.register_events(toinsert);\n",
       "      // Render to node\n",
       "      var props = {data: data, metadata: metadata[EXEC_MIME_TYPE]};\n",
       "      render(props, toinsert[0]);\n",
       "      element.append(toinsert);\n",
       "      return toinsert\n",
       "    }\n",
       "\n",
       "    /* Handle when an output is cleared or removed */\n",
       "    events.on('clear_output.CodeCell', handleClearOutput);\n",
       "    events.on('delete.Cell', handleClearOutput);\n",
       "\n",
       "    /* Handle when a new output is added */\n",
       "    events.on('output_added.OutputArea', handleAddOutput);\n",
       "\n",
       "    /**\n",
       "     * Register the mime type and append_mime function with output_area\n",
       "     */\n",
       "    OutputArea.prototype.register_mime_type(EXEC_MIME_TYPE, append_mime, {\n",
       "      /* Is output safe? */\n",
       "      safe: true,\n",
       "      /* Index of renderer in `output_area.display_order` */\n",
       "      index: 0\n",
       "    });\n",
       "  }\n",
       "\n",
       "  // register the mime type if in Jupyter Notebook environment and previously unregistered\n",
       "  if (root.Jupyter !== undefined) {\n",
       "    var events = require('base/js/events');\n",
       "    var OutputArea = require('notebook/js/outputarea').OutputArea;\n",
       "\n",
       "    if (OutputArea.prototype.mime_types().indexOf(EXEC_MIME_TYPE) == -1) {\n",
       "      register_renderer(events, OutputArea);\n",
       "    }\n",
       "  }\n",
       "\n",
       "  \n",
       "  if (typeof (root._bokeh_timeout) === \"undefined\" || force === true) {\n",
       "    root._bokeh_timeout = Date.now() + 5000;\n",
       "    root._bokeh_failed_load = false;\n",
       "  }\n",
       "\n",
       "  var NB_LOAD_WARNING = {'data': {'text/html':\n",
       "     \"<div style='background-color: #fdd'>\\n\"+\n",
       "     \"<p>\\n\"+\n",
       "     \"BokehJS does not appear to have successfully loaded. If loading BokehJS from CDN, this \\n\"+\n",
       "     \"may be due to a slow or bad network connection. Possible fixes:\\n\"+\n",
       "     \"</p>\\n\"+\n",
       "     \"<ul>\\n\"+\n",
       "     \"<li>re-rerun `output_notebook()` to attempt to load from CDN again, or</li>\\n\"+\n",
       "     \"<li>use INLINE resources instead, as so:</li>\\n\"+\n",
       "     \"</ul>\\n\"+\n",
       "     \"<code>\\n\"+\n",
       "     \"from bokeh.resources import INLINE\\n\"+\n",
       "     \"output_notebook(resources=INLINE)\\n\"+\n",
       "     \"</code>\\n\"+\n",
       "     \"</div>\"}};\n",
       "\n",
       "  function display_loaded() {\n",
       "    var el = document.getElementById(\"89b3a77f-b51f-4fd1-97f6-3688daf27ba8\");\n",
       "    if (el != null) {\n",
       "      el.textContent = \"BokehJS is loading...\";\n",
       "    }\n",
       "    if (root.Bokeh !== undefined) {\n",
       "      if (el != null) {\n",
       "        el.textContent = \"BokehJS \" + root.Bokeh.version + \" successfully loaded.\";\n",
       "      }\n",
       "    } else if (Date.now() < root._bokeh_timeout) {\n",
       "      setTimeout(display_loaded, 100)\n",
       "    }\n",
       "  }\n",
       "\n",
       "\n",
       "  function run_callbacks() {\n",
       "    try {\n",
       "      root._bokeh_onload_callbacks.forEach(function(callback) { callback() });\n",
       "    }\n",
       "    finally {\n",
       "      delete root._bokeh_onload_callbacks\n",
       "    }\n",
       "    console.info(\"Bokeh: all callbacks have finished\");\n",
       "  }\n",
       "\n",
       "  function load_libs(js_urls, callback) {\n",
       "    root._bokeh_onload_callbacks.push(callback);\n",
       "    if (root._bokeh_is_loading > 0) {\n",
       "      console.log(\"Bokeh: BokehJS is being loaded, scheduling callback at\", now());\n",
       "      return null;\n",
       "    }\n",
       "    if (js_urls == null || js_urls.length === 0) {\n",
       "      run_callbacks();\n",
       "      return null;\n",
       "    }\n",
       "    console.log(\"Bokeh: BokehJS not loaded, scheduling load and callback at\", now());\n",
       "    root._bokeh_is_loading = js_urls.length;\n",
       "    for (var i = 0; i < js_urls.length; i++) {\n",
       "      var url = js_urls[i];\n",
       "      var s = document.createElement('script');\n",
       "      s.src = url;\n",
       "      s.async = false;\n",
       "      s.onreadystatechange = s.onload = function() {\n",
       "        root._bokeh_is_loading--;\n",
       "        if (root._bokeh_is_loading === 0) {\n",
       "          console.log(\"Bokeh: all BokehJS libraries loaded\");\n",
       "          run_callbacks()\n",
       "        }\n",
       "      };\n",
       "      s.onerror = function() {\n",
       "        console.warn(\"failed to load library \" + url);\n",
       "      };\n",
       "      console.log(\"Bokeh: injecting script tag for BokehJS library: \", url);\n",
       "      document.getElementsByTagName(\"head\")[0].appendChild(s);\n",
       "    }\n",
       "  };var element = document.getElementById(\"89b3a77f-b51f-4fd1-97f6-3688daf27ba8\");\n",
       "  if (element == null) {\n",
       "    console.log(\"Bokeh: ERROR: autoload.js configured with elementid '89b3a77f-b51f-4fd1-97f6-3688daf27ba8' but no matching script tag was found. \")\n",
       "    return false;\n",
       "  }\n",
       "\n",
       "  var js_urls = [\"https://cdn.pydata.org/bokeh/release/bokeh-0.12.14.min.js\", \"https://cdn.pydata.org/bokeh/release/bokeh-widgets-0.12.14.min.js\", \"https://cdn.pydata.org/bokeh/release/bokeh-tables-0.12.14.min.js\", \"https://cdn.pydata.org/bokeh/release/bokeh-gl-0.12.14.min.js\"];\n",
       "\n",
       "  var inline_js = [\n",
       "    function(Bokeh) {\n",
       "      Bokeh.set_log_level(\"info\");\n",
       "    },\n",
       "    \n",
       "    function(Bokeh) {\n",
       "      \n",
       "    },\n",
       "    function(Bokeh) {\n",
       "      console.log(\"Bokeh: injecting CSS: https://cdn.pydata.org/bokeh/release/bokeh-0.12.14.min.css\");\n",
       "      Bokeh.embed.inject_css(\"https://cdn.pydata.org/bokeh/release/bokeh-0.12.14.min.css\");\n",
       "      console.log(\"Bokeh: injecting CSS: https://cdn.pydata.org/bokeh/release/bokeh-widgets-0.12.14.min.css\");\n",
       "      Bokeh.embed.inject_css(\"https://cdn.pydata.org/bokeh/release/bokeh-widgets-0.12.14.min.css\");\n",
       "      console.log(\"Bokeh: injecting CSS: https://cdn.pydata.org/bokeh/release/bokeh-tables-0.12.14.min.css\");\n",
       "      Bokeh.embed.inject_css(\"https://cdn.pydata.org/bokeh/release/bokeh-tables-0.12.14.min.css\");\n",
       "    }\n",
       "  ];\n",
       "\n",
       "  function run_inline_js() {\n",
       "    \n",
       "    if ((root.Bokeh !== undefined) || (force === true)) {\n",
       "      for (var i = 0; i < inline_js.length; i++) {\n",
       "        inline_js[i].call(root, root.Bokeh);\n",
       "      }if (force === true) {\n",
       "        display_loaded();\n",
       "      }} else if (Date.now() < root._bokeh_timeout) {\n",
       "      setTimeout(run_inline_js, 100);\n",
       "    } else if (!root._bokeh_failed_load) {\n",
       "      console.log(\"Bokeh: BokehJS failed to load within specified timeout.\");\n",
       "      root._bokeh_failed_load = true;\n",
       "    } else if (force !== true) {\n",
       "      var cell = $(document.getElementById(\"89b3a77f-b51f-4fd1-97f6-3688daf27ba8\")).parents('.cell').data().cell;\n",
       "      cell.output_area.append_execute_result(NB_LOAD_WARNING)\n",
       "    }\n",
       "\n",
       "  }\n",
       "\n",
       "  if (root._bokeh_is_loading === 0) {\n",
       "    console.log(\"Bokeh: BokehJS loaded, going straight to plotting\");\n",
       "    run_inline_js();\n",
       "  } else {\n",
       "    load_libs(js_urls, function() {\n",
       "      console.log(\"Bokeh: BokehJS plotting callback run at\", now());\n",
       "      run_inline_js();\n",
       "    });\n",
       "  }\n",
       "}(window));"
      ],
      "application/vnd.bokehjs_load.v0+json": "\n(function(root) {\n  function now() {\n    return new Date();\n  }\n\n  var force = true;\n\n  if (typeof (root._bokeh_onload_callbacks) === \"undefined\" || force === true) {\n    root._bokeh_onload_callbacks = [];\n    root._bokeh_is_loading = undefined;\n  }\n\n  \n\n  \n  if (typeof (root._bokeh_timeout) === \"undefined\" || force === true) {\n    root._bokeh_timeout = Date.now() + 5000;\n    root._bokeh_failed_load = false;\n  }\n\n  var NB_LOAD_WARNING = {'data': {'text/html':\n     \"<div style='background-color: #fdd'>\\n\"+\n     \"<p>\\n\"+\n     \"BokehJS does not appear to have successfully loaded. If loading BokehJS from CDN, this \\n\"+\n     \"may be due to a slow or bad network connection. Possible fixes:\\n\"+\n     \"</p>\\n\"+\n     \"<ul>\\n\"+\n     \"<li>re-rerun `output_notebook()` to attempt to load from CDN again, or</li>\\n\"+\n     \"<li>use INLINE resources instead, as so:</li>\\n\"+\n     \"</ul>\\n\"+\n     \"<code>\\n\"+\n     \"from bokeh.resources import INLINE\\n\"+\n     \"output_notebook(resources=INLINE)\\n\"+\n     \"</code>\\n\"+\n     \"</div>\"}};\n\n  function display_loaded() {\n    var el = document.getElementById(\"89b3a77f-b51f-4fd1-97f6-3688daf27ba8\");\n    if (el != null) {\n      el.textContent = \"BokehJS is loading...\";\n    }\n    if (root.Bokeh !== undefined) {\n      if (el != null) {\n        el.textContent = \"BokehJS \" + root.Bokeh.version + \" successfully loaded.\";\n      }\n    } else if (Date.now() < root._bokeh_timeout) {\n      setTimeout(display_loaded, 100)\n    }\n  }\n\n\n  function run_callbacks() {\n    try {\n      root._bokeh_onload_callbacks.forEach(function(callback) { callback() });\n    }\n    finally {\n      delete root._bokeh_onload_callbacks\n    }\n    console.info(\"Bokeh: all callbacks have finished\");\n  }\n\n  function load_libs(js_urls, callback) {\n    root._bokeh_onload_callbacks.push(callback);\n    if (root._bokeh_is_loading > 0) {\n      console.log(\"Bokeh: BokehJS is being loaded, scheduling callback at\", now());\n      return null;\n    }\n    if (js_urls == null || js_urls.length === 0) {\n      run_callbacks();\n      return null;\n    }\n    console.log(\"Bokeh: BokehJS not loaded, scheduling load and callback at\", now());\n    root._bokeh_is_loading = js_urls.length;\n    for (var i = 0; i < js_urls.length; i++) {\n      var url = js_urls[i];\n      var s = document.createElement('script');\n      s.src = url;\n      s.async = false;\n      s.onreadystatechange = s.onload = function() {\n        root._bokeh_is_loading--;\n        if (root._bokeh_is_loading === 0) {\n          console.log(\"Bokeh: all BokehJS libraries loaded\");\n          run_callbacks()\n        }\n      };\n      s.onerror = function() {\n        console.warn(\"failed to load library \" + url);\n      };\n      console.log(\"Bokeh: injecting script tag for BokehJS library: \", url);\n      document.getElementsByTagName(\"head\")[0].appendChild(s);\n    }\n  };var element = document.getElementById(\"89b3a77f-b51f-4fd1-97f6-3688daf27ba8\");\n  if (element == null) {\n    console.log(\"Bokeh: ERROR: autoload.js configured with elementid '89b3a77f-b51f-4fd1-97f6-3688daf27ba8' but no matching script tag was found. \")\n    return false;\n  }\n\n  var js_urls = [\"https://cdn.pydata.org/bokeh/release/bokeh-0.12.14.min.js\", \"https://cdn.pydata.org/bokeh/release/bokeh-widgets-0.12.14.min.js\", \"https://cdn.pydata.org/bokeh/release/bokeh-tables-0.12.14.min.js\", \"https://cdn.pydata.org/bokeh/release/bokeh-gl-0.12.14.min.js\"];\n\n  var inline_js = [\n    function(Bokeh) {\n      Bokeh.set_log_level(\"info\");\n    },\n    \n    function(Bokeh) {\n      \n    },\n    function(Bokeh) {\n      console.log(\"Bokeh: injecting CSS: https://cdn.pydata.org/bokeh/release/bokeh-0.12.14.min.css\");\n      Bokeh.embed.inject_css(\"https://cdn.pydata.org/bokeh/release/bokeh-0.12.14.min.css\");\n      console.log(\"Bokeh: injecting CSS: https://cdn.pydata.org/bokeh/release/bokeh-widgets-0.12.14.min.css\");\n      Bokeh.embed.inject_css(\"https://cdn.pydata.org/bokeh/release/bokeh-widgets-0.12.14.min.css\");\n      console.log(\"Bokeh: injecting CSS: https://cdn.pydata.org/bokeh/release/bokeh-tables-0.12.14.min.css\");\n      Bokeh.embed.inject_css(\"https://cdn.pydata.org/bokeh/release/bokeh-tables-0.12.14.min.css\");\n    }\n  ];\n\n  function run_inline_js() {\n    \n    if ((root.Bokeh !== undefined) || (force === true)) {\n      for (var i = 0; i < inline_js.length; i++) {\n        inline_js[i].call(root, root.Bokeh);\n      }if (force === true) {\n        display_loaded();\n      }} else if (Date.now() < root._bokeh_timeout) {\n      setTimeout(run_inline_js, 100);\n    } else if (!root._bokeh_failed_load) {\n      console.log(\"Bokeh: BokehJS failed to load within specified timeout.\");\n      root._bokeh_failed_load = true;\n    } else if (force !== true) {\n      var cell = $(document.getElementById(\"89b3a77f-b51f-4fd1-97f6-3688daf27ba8\")).parents('.cell').data().cell;\n      cell.output_area.append_execute_result(NB_LOAD_WARNING)\n    }\n\n  }\n\n  if (root._bokeh_is_loading === 0) {\n    console.log(\"Bokeh: BokehJS loaded, going straight to plotting\");\n    run_inline_js();\n  } else {\n    load_libs(js_urls, function() {\n      console.log(\"Bokeh: BokehJS plotting callback run at\", now());\n      run_inline_js();\n    });\n  }\n}(window));"
     },
     "metadata": {},
     "output_type": "display_data"
    },
    {
     "data": {
      "text/html": [
       "\n",
       "<div class=\"bk-root\">\n",
       "    <div class=\"bk-plotdiv\" id=\"79c637f0-ba21-4741-a5bf-4d6ab7d57dc7\"></div>\n",
       "</div>"
      ]
     },
     "metadata": {},
     "output_type": "display_data"
    },
    {
     "data": {
      "application/javascript": [
       "(function(root) {\n",
       "  function embed_document(root) {\n",
       "    \n",
       "  var docs_json = {\"96107c8c-26e6-45b0-832c-ba51aa8af03b\":{\"roots\":{\"references\":[{\"attributes\":{},\"id\":\"a24f50b1-ab74-4632-ae91-1be07a8d0c57\",\"type\":\"BasicTickFormatter\"},{\"attributes\":{\"background_fill_color\":{\"value\":\"#eeeeee\"},\"below\":[{\"id\":\"9cabb52a-627a-48ff-8fb4-74ef3ad6a46b\",\"type\":\"LinearAxis\"}],\"left\":[{\"id\":\"f5bf140f-031c-4ac8-8710-0a06adf57c5d\",\"type\":\"LinearAxis\"}],\"renderers\":[{\"id\":\"9cabb52a-627a-48ff-8fb4-74ef3ad6a46b\",\"type\":\"LinearAxis\"},{\"id\":\"c204bec8-b135-4286-95ce-d4dec955d291\",\"type\":\"Grid\"},{\"id\":\"f5bf140f-031c-4ac8-8710-0a06adf57c5d\",\"type\":\"LinearAxis\"},{\"id\":\"4481d137-fd70-4a92-89a7-b3bfe798d83a\",\"type\":\"Grid\"},{\"id\":\"8c56d7d2-ed9a-430c-8d21-7ea939584e92\",\"type\":\"BoxAnnotation\"},{\"id\":\"e8279381-1d47-4cf6-90fa-db5efebda744\",\"type\":\"GlyphRenderer\"},{\"id\":\"a078f491-1282-4eb1-8b3f-f0c475ea1a60\",\"type\":\"GlyphRenderer\"}],\"title\":{\"id\":\"89555aab-a8de-418a-b0cc-6910df8dac6b\",\"type\":\"Title\"},\"toolbar\":{\"id\":\"06881cb3-c9de-4cbb-a7f8-3a04e6cccb30\",\"type\":\"Toolbar\"},\"toolbar_location\":null,\"x_range\":{\"id\":\"d8670aab-1128-4584-8bcd-87001b1c5ef2\",\"type\":\"DataRange1d\"},\"x_scale\":{\"id\":\"32570ef7-36d8-411a-9771-82f6f6381315\",\"type\":\"LinearScale\"},\"y_range\":{\"id\":\"aa9971a0-d0bc-4277-97e2-a91022b6b891\",\"type\":\"DataRange1d\"},\"y_scale\":{\"id\":\"2e387ad4-6faf-4e83-9f42-495722404a23\",\"type\":\"LinearScale\"}},\"id\":\"64d62262-bbcb-4117-b3d0-2a751b666a63\",\"subtype\":\"Figure\",\"type\":\"Plot\"},{\"attributes\":{\"fill_alpha\":{\"value\":0.1},\"fill_color\":{\"value\":\"#1f77b4\"},\"line_alpha\":{\"value\":0.1},\"line_color\":{\"value\":\"#1f77b4\"},\"size\":{\"units\":\"screen\",\"value\":15},\"x\":{\"field\":\"x\"},\"y\":{\"field\":\"y\"}},\"id\":\"9337fe5a-d26b-41eb-b0e8-0d60f4534ca3\",\"type\":\"Circle\"},{\"attributes\":{\"active_drag\":\"auto\",\"active_inspect\":\"auto\",\"active_scroll\":\"auto\",\"active_tap\":\"auto\",\"tools\":[{\"id\":\"916f6dd5-c900-4781-abcf-5051eb8e4a7a\",\"type\":\"PanTool\"},{\"id\":\"7eba6b8f-07c9-4e8b-90b7-0735d159ee76\",\"type\":\"WheelZoomTool\"},{\"id\":\"4b97dbdf-9acf-4c35-bfa5-8b0f63545491\",\"type\":\"BoxZoomTool\"},{\"id\":\"0bc901a9-9dce-4bfb-865c-f8a11565b68d\",\"type\":\"SaveTool\"},{\"id\":\"9bed50bd-07aa-42ec-b7ae-c6a4f5c0a6cf\",\"type\":\"ResetTool\"},{\"id\":\"dbda7f66-24e7-4820-bd3d-e0f69bd49147\",\"type\":\"HelpTool\"}]},\"id\":\"06881cb3-c9de-4cbb-a7f8-3a04e6cccb30\",\"type\":\"Toolbar\"},{\"attributes\":{\"plot\":null,\"text\":\"Old Faithful\"},\"id\":\"89555aab-a8de-418a-b0cc-6910df8dac6b\",\"type\":\"Title\"},{\"attributes\":{\"callback\":null},\"id\":\"d8670aab-1128-4584-8bcd-87001b1c5ef2\",\"type\":\"DataRange1d\"},{\"attributes\":{},\"id\":\"32570ef7-36d8-411a-9771-82f6f6381315\",\"type\":\"LinearScale\"},{\"attributes\":{\"callback\":null},\"id\":\"aa9971a0-d0bc-4277-97e2-a91022b6b891\",\"type\":\"DataRange1d\"},{\"attributes\":{},\"id\":\"2e387ad4-6faf-4e83-9f42-495722404a23\",\"type\":\"LinearScale\"},{\"attributes\":{\"formatter\":{\"id\":\"c9eb17ba-6808-4d08-a762-bc8a32b97e82\",\"type\":\"BasicTickFormatter\"},\"plot\":{\"id\":\"64d62262-bbcb-4117-b3d0-2a751b666a63\",\"subtype\":\"Figure\",\"type\":\"Plot\"},\"ticker\":{\"id\":\"2e363dcf-d888-4581-ac4a-a28374565ee2\",\"type\":\"BasicTicker\"}},\"id\":\"9cabb52a-627a-48ff-8fb4-74ef3ad6a46b\",\"type\":\"LinearAxis\"},{\"attributes\":{},\"id\":\"2e363dcf-d888-4581-ac4a-a28374565ee2\",\"type\":\"BasicTicker\"},{\"attributes\":{\"grid_line_color\":{\"value\":null},\"plot\":{\"id\":\"64d62262-bbcb-4117-b3d0-2a751b666a63\",\"subtype\":\"Figure\",\"type\":\"Plot\"},\"ticker\":{\"id\":\"2e363dcf-d888-4581-ac4a-a28374565ee2\",\"type\":\"BasicTicker\"}},\"id\":\"c204bec8-b135-4286-95ce-d4dec955d291\",\"type\":\"Grid\"},{\"attributes\":{\"formatter\":{\"id\":\"a24f50b1-ab74-4632-ae91-1be07a8d0c57\",\"type\":\"BasicTickFormatter\"},\"plot\":{\"id\":\"64d62262-bbcb-4117-b3d0-2a751b666a63\",\"subtype\":\"Figure\",\"type\":\"Plot\"},\"ticker\":{\"id\":\"3d2ea815-7544-4514-8108-f27ec6a16fda\",\"type\":\"BasicTicker\"}},\"id\":\"f5bf140f-031c-4ac8-8710-0a06adf57c5d\",\"type\":\"LinearAxis\"},{\"attributes\":{\"data_source\":{\"id\":\"d8396396-7924-47be-9f46-08e76cf0b6be\",\"type\":\"ColumnDataSource\"},\"glyph\":{\"id\":\"5fa13e33-a208-4c3c-b448-ccf34a7a0818\",\"type\":\"Circle\"},\"hover_glyph\":null,\"muted_glyph\":null,\"nonselection_glyph\":{\"id\":\"9337fe5a-d26b-41eb-b0e8-0d60f4534ca3\",\"type\":\"Circle\"},\"selection_glyph\":null,\"view\":{\"id\":\"2fdb663f-e547-4461-a406-89be501e3251\",\"type\":\"CDSView\"}},\"id\":\"e8279381-1d47-4cf6-90fa-db5efebda744\",\"type\":\"GlyphRenderer\"},{\"attributes\":{},\"id\":\"3d2ea815-7544-4514-8108-f27ec6a16fda\",\"type\":\"BasicTicker\"},{\"attributes\":{\"dimension\":1,\"grid_line_color\":{\"value\":null},\"plot\":{\"id\":\"64d62262-bbcb-4117-b3d0-2a751b666a63\",\"subtype\":\"Figure\",\"type\":\"Plot\"},\"ticker\":{\"id\":\"3d2ea815-7544-4514-8108-f27ec6a16fda\",\"type\":\"BasicTicker\"}},\"id\":\"4481d137-fd70-4a92-89a7-b3bfe798d83a\",\"type\":\"Grid\"},{\"attributes\":{\"bottom_units\":\"screen\",\"fill_alpha\":{\"value\":0.5},\"fill_color\":{\"value\":\"lightgrey\"},\"left_units\":\"screen\",\"level\":\"overlay\",\"line_alpha\":{\"value\":1.0},\"line_color\":{\"value\":\"black\"},\"line_dash\":[4,4],\"line_width\":{\"value\":2},\"plot\":null,\"render_mode\":\"css\",\"right_units\":\"screen\",\"top_units\":\"screen\"},\"id\":\"8c56d7d2-ed9a-430c-8d21-7ea939584e92\",\"type\":\"BoxAnnotation\"},{\"attributes\":{\"fill_alpha\":{\"value\":0.1},\"fill_color\":{\"value\":\"#1f77b4\"},\"line_alpha\":{\"value\":0.1},\"line_color\":{\"value\":\"#1f77b4\"},\"size\":{\"units\":\"screen\",\"value\":15},\"x\":{\"field\":\"x\"},\"y\":{\"field\":\"y\"}},\"id\":\"c52dd7a9-a4a4-48a1-aa6f-c37b1aa1796b\",\"type\":\"Square\"},{\"attributes\":{\"fill_alpha\":{\"value\":0.5},\"fill_color\":{\"value\":\"blue\"},\"line_alpha\":{\"value\":0.5},\"line_color\":{\"value\":\"navy\"},\"size\":{\"units\":\"screen\",\"value\":15},\"x\":{\"field\":\"x\"},\"y\":{\"field\":\"y\"}},\"id\":\"5fa13e33-a208-4c3c-b448-ccf34a7a0818\",\"type\":\"Circle\"},{\"attributes\":{\"callback\":null,\"column_names\":[\"x\",\"y\"],\"data\":{\"x\":{\"__ndarray__\":\"zczMzMzMDEBEi2zn+6kKQG8Sg8DKIRJAzczMzMzMEkDNzMzMzMwMQGZmZmZmZhFAvHSTGARWD0DNzMzMzMwQQM3MzMzMzBJAMzMzMzMzE0AAAAAAAAARQJqZmZmZmQtAbxKDwMohEkDNzMzMzMwMQKJFtvP9VBBAzczMzMzMDkAIrBxaZLsRQDMzMzMzMxFAke18PzXeEUBvEoPAyiEQQESLbOf7qQ5AokW28/1UE0BvEoPAyiETQGZmZmZmZhFA+FPjpZtEEkBvEoPAyiESQPCnxks3iQpA1XjpJjGIEkAzMzMzMzMTQHe+nxov3RJAokW28/1UE0DVeOkmMYgTQCPb+X5qvA1A+FPjpZtEEkD4U+Olm0QRQAAAAAAAABJAMzMzMzMzE0CamZmZmZkRQF66SQwCqxBAzczMzMzMEkDNzMzMzMwSQG8Sg8DKIRBAAAAAAAAAEkAAAAAAAAAQQPhT46WbRBRA+FPjpZtEEkCq8dJNYhAPQM3MzMzMzAxA1XjpJjGIEECiRbbz/VQRQPhT46WbRBBACKwcWmS7E0CamZmZmZkPQMUgsHJoERJAAAAAAAAAEECiRbbz/VQRQPhT46WbRBNAMzMzMzMzEUBeukkMAqsSQAAAAAAAAA5AmpmZmZmZE0ArhxbZzncRQAAAAAAAABJAMzMzMzMzEEDNzMzMzMwSQGZmZmZmZhNAEFg5tMh2DUA730+Nl+4SQJqZmZmZmRNAXrpJDAKrEUDVeOkmMYgSQGZmZmZmZhJAXrpJDAKrEUAAAAAAAAARQGZmZmZmZhJAiUFg5dAiDkAAAAAAAAASQJqZmZmZmRJAXrpJDAKrEECiRbbz/VQRQNV46SYxiBFACKwcWmS7E0B3vp8aL90NQDvfT42X7hBAbxKDwMohEkD4U+Olm0QTQKJFtvP9VBFA1XjpJjGIEkBmZmZmZmYUQG8Sg8DKIRRAAAAAAAAAEEBmZmZmZmYSQPCnxks3iQxAAAAAAAAAEkCiRbbz/VQQQCPb+X5qvA9AmpmZmZmZEEBEi2zn+6kOQKJFtvP9VBJAAAAAAAAAFEArhxbZzncSQKJFtvP9VBJAXrpJDAKrEECiRbbz/VQRQAAAAAAAABJAAAAAAAAAEEBeukkMAqsQQKJFtvP9VBJAAAAAAAAAEUCJQWDl0CIOQAisHFpkuxFAokW28/1UEEBeukkMAqsRQDMzMzMzMxNAMzMzMzMzE0BmZmZmZmYQQO58PzVeug9AO99PjZfuEEAAAAAAAAAMQBBYObTIdhFAXrpJDAKrEkBmZmZmZmYRQNV46SYxiBBAZmZmZmZmEkArhxbZzncRQM3MzMzMzA5AAAAAAAAAEkCq8dJNYhADQM3MzMzMzBJARIts5/upDkA730+Nl+4QQDMzMzMzMxNAmpmZmZmZEEDFILByaBERQDvfT42X7hFAAAAAAAAAEEArhxbZzncQQKJFtvP9VBBAxSCwcmgREUAzMzMzMzMSQAisHFpkuxBAzczMzMzMEUBvEoPAyiERQJqZmZmZmQ9AmpmZmZmZEEAIrBxaZLsTQKJFtvP9VBJARIts5/upDkArhxbZzncRQGZmZmZmZhFAzczMzMzMEUDwp8ZLN4kMQAAAAAAAABJAmpmZmZmZEEDwp8ZLN4kOQLx0kxgEVg9AzczMzMzMEUBvEoPAyiERQMUgsHJoERNAbxKDwMohEkAAAAAAAAARQAAAAAAAABNAK4cW2c53EEBeukkMAqsRQJHtfD813hFA\",\"dtype\":\"float64\",\"shape\":[165]},\"y\":{\"__ndarray__\":\"AAAAAADAU0AAAAAAAIBSQAAAAAAAQFVAAAAAAAAAVkAAAAAAAEBVQAAAAAAAQFVAAAAAAAAAVUAAAAAAAIBTQAAAAAAAwFRAAAAAAAAAVUAAAAAAAMBTQAAAAAAAgFNAAAAAAACAUkAAAAAAAMBUQAAAAAAAAFNAAAAAAACAU0AAAAAAAMBTQAAAAAAAQFJAAAAAAABAU0AAAAAAAABUQAAAAAAAgFJAAAAAAAAAVEAAAAAAAIBWQAAAAAAAAFRAAAAAAAAAVUAAAAAAAEBSQAAAAAAAwFRAAAAAAACAVEAAAAAAAMBSQAAAAAAAgFZAAAAAAAAAVEAAAAAAAMBUQAAAAAAAwFFAAAAAAABAU0AAAAAAAEBUQAAAAAAAAFVAAAAAAACAVEAAAAAAAABXQAAAAAAAgFNAAAAAAACAU0AAAAAAAEBSQAAAAAAAgFRAAAAAAADAU0AAAAAAAMBRQAAAAAAAAFNAAAAAAACAU0AAAAAAAABTQAAAAAAAwFRAAAAAAADAUkAAAAAAAIBUQAAAAAAAQFJAAAAAAAAAVkAAAAAAAABTQAAAAAAAAFRAAAAAAACAVUAAAAAAAIBWQAAAAAAAgFNAAAAAAAAAUkAAAAAAAABVQAAAAAAAwFJAAAAAAACAVEAAAAAAAABWQAAAAAAAwFRAAAAAAABAVEAAAAAAAABVQAAAAAAAgFVAAAAAAABAVEAAAAAAAMBSQAAAAAAAQFZAAAAAAADAU0AAAAAAAEBUQAAAAAAAQFVAAAAAAADAVUAAAAAAAEBTQAAAAAAAAFZAAAAAAABAVEAAAAAAAIBUQAAAAAAAgFZAAAAAAADAVEAAAAAAAEBWQAAAAAAAgFRAAAAAAACAVUAAAAAAAMBTQAAAAAAAQFRAAAAAAACAVEAAAAAAAEBTQAAAAAAAAFNAAAAAAAAAVEAAAAAAAABYQAAAAAAAQFNAAAAAAABAU0AAAAAAAEBUQAAAAAAAwFFAAAAAAABAVEAAAAAAAEBXQAAAAAAAQFZAAAAAAACAVUAAAAAAAIBTQAAAAAAAAFNAAAAAAAAAVkAAAAAAAEBXQAAAAAAAQFNAAAAAAABAVEAAAAAAAEBUQAAAAAAAQFJAAAAAAABAVUAAAAAAAIBSQAAAAAAAQFNAAAAAAADAVEAAAAAAAMBUQAAAAAAAgFNAAAAAAAAAVUAAAAAAAMBUQAAAAAAAQFRAAAAAAAAAU0AAAAAAAABVQAAAAAAAQFNAAAAAAABAVEAAAAAAAMBVQAAAAAAAQFNAAAAAAACAU0AAAAAAAIBUQAAAAAAAwFZAAAAAAACAU0AAAAAAAEBTQAAAAAAAAFVAAAAAAADAVEAAAAAAAMBRQAAAAAAAAFRAAAAAAADAUkAAAAAAAABTQAAAAAAAgFdAAAAAAAAAU0AAAAAAAIBUQAAAAAAAwFJAAAAAAACAU0AAAAAAAMBTQAAAAAAAgFNAAAAAAACAU0AAAAAAAMBTQAAAAAAAgFVAAAAAAACAVkAAAAAAAEBTQAAAAAAAwFNAAAAAAADAUkAAAAAAAIBVQAAAAAAAQFVAAAAAAACAVEAAAAAAAIBUQAAAAAAAgFJAAAAAAADAVEAAAAAAAEBSQAAAAAAAQFJAAAAAAAAAVkAAAAAAAABUQAAAAAAAwFFAAAAAAADAVEAAAAAAAMBTQAAAAAAAgFNAAAAAAAAAVUAAAAAAAMBUQAAAAAAAwFJAAAAAAABAVEAAAAAAAIBWQAAAAAAAgFJA\",\"dtype\":\"float64\",\"shape\":[165]}}},\"id\":\"d8396396-7924-47be-9f46-08e76cf0b6be\",\"type\":\"ColumnDataSource\"},{\"attributes\":{\"callback\":null,\"column_names\":[\"x\",\"y\"],\"data\":{\"x\":{\"__ndarray__\":\"zczMzMzM/D/dJAaBlUMCQKrx0k1iEAdAMzMzMzMz/z+HFtnO91P9PwAAAAAAAPw/vHSTGARWAUAAAAAAAAD8P5qZmZmZmfk/zczMzMzM/D8AAAAAAAD8P/Cnxks3iQhARrbz/dR4/z9WDi2yne8KQIlBYOXQIgBArBxaZDvf/T+HFtnO91P9P1TjpZvEIP4/AAAAAAAA/D9Ei2zn+6kOQM3MzMzMzABAAAAAAAAAAECHFtnO91P9P+58PzVeuvs/eekmMQis+j93vp8aL90BQAAAAAAAAPw/30+Nl24S/T/wp8ZLN4kAQEa28/3UeP8/7nw/NV66/z+JQWDl0CIAQGZmZmZmZhBAqvHSTWIQBUC8dJMYBFYBQJqZmZmZmQFArBxaZDvf/T+HFtnO91P9P6wcWmQ73/0/d76fGi/dA0DNzMzMzMwAQKwcWmQ73/0/ukkMAiuH/D9mZmZmZmYCQDMzMzMzM/s/8KfGSzeJAkDfT42XbhL9P1YOLbKd7wRA+FPjpZtEEEBGtvP91Hj/P3npJjEIrP4/iUFg5dAiAkCsHFpkO9/9P2ZmZmZmZgZAhxbZzvdT/T9U46WbxCD+P90kBoGVQwBAd76fGi/dAUDufD81Xrr/P4lBYOXQIgBAzczMzMzM/D8zMzMzMzMDQAAAAAAAABBAzczMzMzM/D+amZmZmZkBQAAAAAAAAABAAAAAAAAADEBWDi2yne8CQCGwcmiR7f4/eekmMQis/j9Ei2zn+6kAQESLbOf7qQpAvHSTGARWA0BU46WbxCD+P90kBoGVQwBAhxbZzvdT/T8QWDm0yHYBQIcW2c73U/0/AAAAAAAAAkDNzMzMzMwAQKwcWmQ73/0/ukkMAiuH/D8hsHJoke3+P6wcWmQ73/0/vHSTGARWC0AzMzMzMzMDQAAAAAAAAABArBxaZDvf/T8AAAAAAAD8P7x0kxgEVg9AokW28/1UEEC8dJMYBFYDQCPb+X5qvAFAVOOlm8Qg/j+amZmZmZn9P0SLbOf7qQJAzczMzMzMAkAzMzMzMzMHQESLbOf7qQBAqvHSTWIQAUCamZmZmZkBQAAAAAAAAABAmpmZmZmZ/T/ufD81Xrr/PwAAAAAAAAJAMzMzMzMzAUDfT42XbhL9Pw==\",\"dtype\":\"float64\",\"shape\":[107]},\"y\":{\"__ndarray__\":\"AAAAAAAAS0AAAAAAAABPQAAAAAAAgEtAAAAAAACASUAAAAAAAABLQAAAAAAAgEdAAAAAAAAASkAAAAAAAABPQAAAAAAAAEpAAAAAAACASUAAAAAAAIBHQAAAAAAAQFFAAAAAAACAS0AAAAAAAIBQQAAAAAAAAEpAAAAAAAAASEAAAAAAAIBNQAAAAAAAAE1AAAAAAAAATUAAAAAAAABQQAAAAAAAgEpAAAAAAACATUAAAAAAAABLQAAAAAAAAEtAAAAAAAAAUEAAAAAAAIBNQAAAAAAAAEhAAAAAAAAATkAAAAAAAEBQQAAAAAAAAExAAAAAAAAAT0AAAAAAAABOQAAAAAAAgFFAAAAAAABAUEAAAAAAAABIQAAAAAAAAE5AAAAAAAAASUAAAAAAAIBPQAAAAAAAgElAAAAAAAAAT0AAAAAAAIBIQAAAAAAAgEdAAAAAAAAASkAAAAAAAIBNQAAAAAAAgE1AAAAAAAAASUAAAAAAAIBNQAAAAAAAgEpAAAAAAABAUUAAAAAAAABMQAAAAAAAgEZAAAAAAACAS0AAAAAAAIBGQAAAAAAAAExAAAAAAAAAR0AAAAAAAIBJQAAAAAAAgEpAAAAAAAAATkAAAAAAAIBNQAAAAAAAgEhAAAAAAACASkAAAAAAAEBQQAAAAAAAgFFAAAAAAACASkAAAAAAAIBGQAAAAAAAAE1AAAAAAACAUEAAAAAAAIBPQAAAAAAAAEpAAAAAAACASEAAAAAAAIBMQAAAAAAAAFFAAAAAAAAASUAAAAAAAIBLQAAAAAAAgElAAAAAAAAAR0AAAAAAAIBLQAAAAAAAgExAAAAAAACASUAAAAAAAABOQAAAAAAAgEpAAAAAAAAAR0AAAAAAAIBIQAAAAAAAgEhAAAAAAAAAUEAAAAAAAIBKQAAAAAAAgEtAAAAAAAAASUAAAAAAAABLQAAAAAAAgFFAAAAAAACAUUAAAAAAAABLQAAAAAAAAElAAAAAAAAAS0AAAAAAAABLQAAAAAAAAFBAAAAAAACAR0AAAAAAAIBPQAAAAAAAgExAAAAAAADAUEAAAAAAAABLQAAAAAAAAExAAAAAAAAATUAAAAAAAIBFQAAAAAAAAE5AAAAAAAAAR0AAAAAAAABHQA==\",\"dtype\":\"float64\",\"shape\":[107]}}},\"id\":\"9110ee51-3895-402d-9b00-34dc8015f760\",\"type\":\"ColumnDataSource\"},{\"attributes\":{},\"id\":\"916f6dd5-c900-4781-abcf-5051eb8e4a7a\",\"type\":\"PanTool\"},{\"attributes\":{},\"id\":\"7eba6b8f-07c9-4e8b-90b7-0735d159ee76\",\"type\":\"WheelZoomTool\"},{\"attributes\":{\"source\":{\"id\":\"d8396396-7924-47be-9f46-08e76cf0b6be\",\"type\":\"ColumnDataSource\"}},\"id\":\"2fdb663f-e547-4461-a406-89be501e3251\",\"type\":\"CDSView\"},{\"attributes\":{\"overlay\":{\"id\":\"8c56d7d2-ed9a-430c-8d21-7ea939584e92\",\"type\":\"BoxAnnotation\"}},\"id\":\"4b97dbdf-9acf-4c35-bfa5-8b0f63545491\",\"type\":\"BoxZoomTool\"},{\"attributes\":{},\"id\":\"0bc901a9-9dce-4bfb-865c-f8a11565b68d\",\"type\":\"SaveTool\"},{\"attributes\":{},\"id\":\"9bed50bd-07aa-42ec-b7ae-c6a4f5c0a6cf\",\"type\":\"ResetTool\"},{\"attributes\":{},\"id\":\"dbda7f66-24e7-4820-bd3d-e0f69bd49147\",\"type\":\"HelpTool\"},{\"attributes\":{\"data_source\":{\"id\":\"9110ee51-3895-402d-9b00-34dc8015f760\",\"type\":\"ColumnDataSource\"},\"glyph\":{\"id\":\"8f1d5129-5c4f-4385-9036-ef0242b1abb3\",\"type\":\"Square\"},\"hover_glyph\":null,\"muted_glyph\":null,\"nonselection_glyph\":{\"id\":\"c52dd7a9-a4a4-48a1-aa6f-c37b1aa1796b\",\"type\":\"Square\"},\"selection_glyph\":null,\"view\":{\"id\":\"c8838677-63ff-48dd-9cb3-d609d222c1d7\",\"type\":\"CDSView\"}},\"id\":\"a078f491-1282-4eb1-8b3f-f0c475ea1a60\",\"type\":\"GlyphRenderer\"},{\"attributes\":{\"source\":{\"id\":\"9110ee51-3895-402d-9b00-34dc8015f760\",\"type\":\"ColumnDataSource\"}},\"id\":\"c8838677-63ff-48dd-9cb3-d609d222c1d7\",\"type\":\"CDSView\"},{\"attributes\":{},\"id\":\"c9eb17ba-6808-4d08-a762-bc8a32b97e82\",\"type\":\"BasicTickFormatter\"},{\"attributes\":{\"fill_alpha\":{\"value\":0.5},\"fill_color\":{\"value\":\"orange\"},\"line_alpha\":{\"value\":0.5},\"line_color\":{\"value\":\"navy\"},\"size\":{\"units\":\"screen\",\"value\":15},\"x\":{\"field\":\"x\"},\"y\":{\"field\":\"y\"}},\"id\":\"8f1d5129-5c4f-4385-9036-ef0242b1abb3\",\"type\":\"Square\"}],\"root_ids\":[\"64d62262-bbcb-4117-b3d0-2a751b666a63\"]},\"title\":\"Bokeh Application\",\"version\":\"0.12.14\"}};\n",
       "  var render_items = [{\"docid\":\"96107c8c-26e6-45b0-832c-ba51aa8af03b\",\"elementid\":\"79c637f0-ba21-4741-a5bf-4d6ab7d57dc7\",\"modelid\":\"64d62262-bbcb-4117-b3d0-2a751b666a63\"}];\n",
       "  root.Bokeh.embed.embed_items_notebook(docs_json, render_items);\n",
       "\n",
       "  }\n",
       "  if (root.Bokeh !== undefined) {\n",
       "    embed_document(root);\n",
       "  } else {\n",
       "    var attempts = 0;\n",
       "    var timer = setInterval(function(root) {\n",
       "      if (root.Bokeh !== undefined) {\n",
       "        embed_document(root);\n",
       "        clearInterval(timer);\n",
       "      }\n",
       "      attempts++;\n",
       "      if (attempts > 100) {\n",
       "        console.log(\"Bokeh: ERROR: Unable to run BokehJS code because BokehJS library is missing\")\n",
       "        clearInterval(timer);\n",
       "      }\n",
       "    }, 10, root)\n",
       "  }\n",
       "})(window);"
      ],
      "application/vnd.bokehjs_exec.v0+json": ""
     },
     "metadata": {
      "application/vnd.bokehjs_exec.v0+json": {
       "id": "64d62262-bbcb-4117-b3d0-2a751b666a63"
      }
     },
     "output_type": "display_data"
    }
   ],
   "source": [
    "from bokeh.plotting import figure, show, output_notebook\n",
    "output_notebook()\n",
    "\n",
    "mstep()\n",
    "estep()\n",
    "\n",
    "\n",
    "# Build a figure\n",
    "p = figure(title=\"Old Faithful\", toolbar_location=None)\n",
    "p.grid.grid_line_color = None\n",
    "p.background_fill_color = \"#eeeeee\"\n",
    "\n",
    "def mscatter(p, x, y, marker, fill):\n",
    "    p.scatter(x, y, marker=marker, size=15,\n",
    "              line_color=\"navy\", fill_color=fill, alpha=0.5)\n",
    "\n",
    "\n",
    "# First cluster\n",
    "C1 = olf_mat[np.where(ar[:,0])]\n",
    "\n",
    "# Second Cluster\n",
    "C2 = olf_mat[np.where(ar[:,1])]\n",
    "    \n",
    "# Throw in clusters\n",
    "mscatter(p, C1[:,0], C1[:,1], \"circle\", \"blue\")\n",
    "mscatter(p, C2[:,0], C2[:,1], \"square\", \"orange\")\n",
    "\n",
    "\n",
    "\n",
    "show(p)"
   ]
  },
  {
   "cell_type": "markdown",
   "metadata": {},
   "source": [
    "## Checking Progress - plots of $J$"
   ]
  },
  {
   "cell_type": "markdown",
   "metadata": {},
   "source": [
    "### Recall our cost function. Let's make it into a python function. What should it take as input?"
   ]
  },
  {
   "cell_type": "code",
   "execution_count": 77,
   "metadata": {},
   "outputs": [
    {
     "data": {
      "text/plain": [
       "0.0"
      ]
     },
     "execution_count": 77,
     "metadata": {},
     "output_type": "execute_result"
    }
   ],
   "source": [
    "ar[4,1]"
   ]
  },
  {
   "cell_type": "code",
   "execution_count": 9,
   "metadata": {},
   "outputs": [],
   "source": [
    "def Jay(ars,m):\n",
    "    total = 0\n",
    "    for row in range(olf_mat.shape[0]):\n",
    "        for k in range(2):\n",
    "            if ar[row,k]:\n",
    "                total += np.linalg.norm(olf_mat[row] - mu[k])**2\n",
    "    return total"
   ]
  },
  {
   "cell_type": "code",
   "execution_count": 80,
   "metadata": {},
   "outputs": [
    {
     "data": {
      "text/plain": [
       "8988.134974999995"
      ]
     },
     "execution_count": 80,
     "metadata": {},
     "output_type": "execute_result"
    }
   ],
   "source": [
    "Jay(ar,mu)"
   ]
  },
  {
   "cell_type": "markdown",
   "metadata": {},
   "source": [
    "### Let's reinitialize, and then make a plot."
   ]
  },
  {
   "cell_type": "code",
   "execution_count": 12,
   "metadata": {},
   "outputs": [],
   "source": [
    "# Choosing Centers\n",
    "#mu = olf_mat[[3, 5]]\n",
    "\n",
    "mu = np.array([[2,80],[4, 50]])\n",
    "\n",
    "\n",
    "# Creating r_nk\n",
    "ar = np.zeros((len(olf_mat),2))\n",
    "\n",
    "# Initializing r_nk\n",
    "for row in range(olf_mat.shape[0]):\n",
    "    dists = np.linalg.norm(row - mu, axis=1)\n",
    "    smallest = min(dists)\n",
    "    center = list(dists).index(smallest)\n",
    "    ar[row,center] = 1"
   ]
  },
  {
   "cell_type": "code",
   "execution_count": 13,
   "metadata": {},
   "outputs": [
    {
     "data": {
      "text/html": [
       "\n",
       "<div class=\"bk-root\">\n",
       "    <div class=\"bk-plotdiv\" id=\"46534ca3-b860-4bad-a955-702499b8bf38\"></div>\n",
       "</div>"
      ]
     },
     "metadata": {},
     "output_type": "display_data"
    },
    {
     "data": {
      "application/javascript": [
       "(function(root) {\n",
       "  function embed_document(root) {\n",
       "    \n",
       "  var docs_json = {\"ba476851-468c-4aa5-ac10-3ca286bdf8ae\":{\"roots\":{\"references\":[{\"attributes\":{},\"id\":\"17d19596-351b-4a10-b995-f3cbc94170f5\",\"type\":\"BasicTickFormatter\"},{\"attributes\":{},\"id\":\"789bc45c-6800-40fc-9580-35d1bfe295b9\",\"type\":\"ResetTool\"},{\"attributes\":{\"callback\":null},\"id\":\"96cdd18c-722f-42d2-88ba-280095597869\",\"type\":\"DataRange1d\"},{\"attributes\":{},\"id\":\"778e4248-6b0f-445a-b649-ea9f1b982d6a\",\"type\":\"SaveTool\"},{\"attributes\":{},\"id\":\"d057710a-37ad-4a38-a51c-808dd43f1beb\",\"type\":\"LinearScale\"},{\"attributes\":{\"line_alpha\":0.1,\"line_color\":\"#1f77b4\",\"x\":{\"field\":\"x\"},\"y\":{\"field\":\"y\"}},\"id\":\"0ea0119e-2f01-4a23-bb5e-a7f5dd18d28d\",\"type\":\"Line\"},{\"attributes\":{\"overlay\":{\"id\":\"9ed50cfd-5e0c-41d8-b7b3-1d0336a586f4\",\"type\":\"BoxAnnotation\"}},\"id\":\"2831e9b8-0699-4551-b526-aa74fd0a551d\",\"type\":\"BoxZoomTool\"},{\"attributes\":{\"active_drag\":\"auto\",\"active_inspect\":\"auto\",\"active_scroll\":\"auto\",\"active_tap\":\"auto\",\"tools\":[{\"id\":\"7642078a-63c9-4858-aea7-d4cf4cb7afe8\",\"type\":\"PanTool\"},{\"id\":\"cac6cc36-deb8-4c21-a6c8-02a4d23fd47b\",\"type\":\"WheelZoomTool\"},{\"id\":\"2831e9b8-0699-4551-b526-aa74fd0a551d\",\"type\":\"BoxZoomTool\"},{\"id\":\"778e4248-6b0f-445a-b649-ea9f1b982d6a\",\"type\":\"SaveTool\"},{\"id\":\"789bc45c-6800-40fc-9580-35d1bfe295b9\",\"type\":\"ResetTool\"},{\"id\":\"a1cdd78f-5938-4aa5-8645-4b12ef492161\",\"type\":\"HelpTool\"}]},\"id\":\"348fce0e-1ac5-4311-b60c-00425749367f\",\"type\":\"Toolbar\"},{\"attributes\":{\"dimension\":1,\"grid_line_color\":{\"value\":null},\"plot\":{\"id\":\"164a255a-7df1-47e5-9940-249866edde04\",\"subtype\":\"Figure\",\"type\":\"Plot\"},\"ticker\":{\"id\":\"8812ae73-3c29-41b4-beed-8f2b175b5833\",\"type\":\"BasicTicker\"}},\"id\":\"a7da1a7b-3f48-4763-8cf5-1d93c698a389\",\"type\":\"Grid\"},{\"attributes\":{\"data_source\":{\"id\":\"f737f319-2580-4464-b139-94d22294c3b9\",\"type\":\"ColumnDataSource\"},\"glyph\":{\"id\":\"e54a954d-3296-47e3-a2a4-78214972160b\",\"type\":\"Line\"},\"hover_glyph\":null,\"muted_glyph\":null,\"nonselection_glyph\":{\"id\":\"0ea0119e-2f01-4a23-bb5e-a7f5dd18d28d\",\"type\":\"Line\"},\"selection_glyph\":null,\"view\":{\"id\":\"3cb0363f-d6d6-4f51-8e49-8a1313745c08\",\"type\":\"CDSView\"}},\"id\":\"717ec05d-2a25-4140-8fa6-dfcf3350c8e0\",\"type\":\"GlyphRenderer\"},{\"attributes\":{},\"id\":\"a1cdd78f-5938-4aa5-8645-4b12ef492161\",\"type\":\"HelpTool\"},{\"attributes\":{},\"id\":\"8812ae73-3c29-41b4-beed-8f2b175b5833\",\"type\":\"BasicTicker\"},{\"attributes\":{\"formatter\":{\"id\":\"17d19596-351b-4a10-b995-f3cbc94170f5\",\"type\":\"BasicTickFormatter\"},\"plot\":{\"id\":\"164a255a-7df1-47e5-9940-249866edde04\",\"subtype\":\"Figure\",\"type\":\"Plot\"},\"ticker\":{\"id\":\"8812ae73-3c29-41b4-beed-8f2b175b5833\",\"type\":\"BasicTicker\"}},\"id\":\"4fdd0473-c1b6-49ac-80b4-ed55ad6b3af6\",\"type\":\"LinearAxis\"},{\"attributes\":{},\"id\":\"2e93050c-782e-4c28-84a9-a071978dad51\",\"type\":\"BasicTicker\"},{\"attributes\":{\"formatter\":{\"id\":\"74e307b3-f754-4e9e-9f21-8fe4d863b38a\",\"type\":\"BasicTickFormatter\"},\"plot\":{\"id\":\"164a255a-7df1-47e5-9940-249866edde04\",\"subtype\":\"Figure\",\"type\":\"Plot\"},\"ticker\":{\"id\":\"2e93050c-782e-4c28-84a9-a071978dad51\",\"type\":\"BasicTicker\"}},\"id\":\"d3e26c46-b508-4b30-a774-0e93f0a74da8\",\"type\":\"LinearAxis\"},{\"attributes\":{\"plot\":null,\"text\":\"Cost Function J\"},\"id\":\"7a6d87aa-181d-4daf-8c42-71a497d09802\",\"type\":\"Title\"},{\"attributes\":{\"grid_line_color\":{\"value\":null},\"plot\":{\"id\":\"164a255a-7df1-47e5-9940-249866edde04\",\"subtype\":\"Figure\",\"type\":\"Plot\"},\"ticker\":{\"id\":\"2e93050c-782e-4c28-84a9-a071978dad51\",\"type\":\"BasicTicker\"}},\"id\":\"6093cb4e-b357-4b8e-9e5c-a177b43efc13\",\"type\":\"Grid\"},{\"attributes\":{\"callback\":null,\"column_names\":[\"x\",\"y\"],\"data\":{\"x\":[0,1,2,3],\"y\":[47342.756975000055,8938.134974999999,8988.134974999995,8988.134974999995]}},\"id\":\"f737f319-2580-4464-b139-94d22294c3b9\",\"type\":\"ColumnDataSource\"},{\"attributes\":{},\"id\":\"85f70880-072d-4d3a-a3bc-145947dd4725\",\"type\":\"LinearScale\"},{\"attributes\":{\"callback\":null},\"id\":\"af91b4a7-de27-4ed7-80ca-07309490ff3e\",\"type\":\"DataRange1d\"},{\"attributes\":{},\"id\":\"cac6cc36-deb8-4c21-a6c8-02a4d23fd47b\",\"type\":\"WheelZoomTool\"},{\"attributes\":{\"background_fill_color\":{\"value\":\"#eeeeee\"},\"below\":[{\"id\":\"d3e26c46-b508-4b30-a774-0e93f0a74da8\",\"type\":\"LinearAxis\"}],\"left\":[{\"id\":\"4fdd0473-c1b6-49ac-80b4-ed55ad6b3af6\",\"type\":\"LinearAxis\"}],\"renderers\":[{\"id\":\"d3e26c46-b508-4b30-a774-0e93f0a74da8\",\"type\":\"LinearAxis\"},{\"id\":\"6093cb4e-b357-4b8e-9e5c-a177b43efc13\",\"type\":\"Grid\"},{\"id\":\"4fdd0473-c1b6-49ac-80b4-ed55ad6b3af6\",\"type\":\"LinearAxis\"},{\"id\":\"a7da1a7b-3f48-4763-8cf5-1d93c698a389\",\"type\":\"Grid\"},{\"id\":\"9ed50cfd-5e0c-41d8-b7b3-1d0336a586f4\",\"type\":\"BoxAnnotation\"},{\"id\":\"717ec05d-2a25-4140-8fa6-dfcf3350c8e0\",\"type\":\"GlyphRenderer\"}],\"title\":{\"id\":\"7a6d87aa-181d-4daf-8c42-71a497d09802\",\"type\":\"Title\"},\"toolbar\":{\"id\":\"348fce0e-1ac5-4311-b60c-00425749367f\",\"type\":\"Toolbar\"},\"toolbar_location\":null,\"x_range\":{\"id\":\"af91b4a7-de27-4ed7-80ca-07309490ff3e\",\"type\":\"DataRange1d\"},\"x_scale\":{\"id\":\"d057710a-37ad-4a38-a51c-808dd43f1beb\",\"type\":\"LinearScale\"},\"y_range\":{\"id\":\"96cdd18c-722f-42d2-88ba-280095597869\",\"type\":\"DataRange1d\"},\"y_scale\":{\"id\":\"85f70880-072d-4d3a-a3bc-145947dd4725\",\"type\":\"LinearScale\"}},\"id\":\"164a255a-7df1-47e5-9940-249866edde04\",\"subtype\":\"Figure\",\"type\":\"Plot\"},{\"attributes\":{\"line_color\":\"green\",\"x\":{\"field\":\"x\"},\"y\":{\"field\":\"y\"}},\"id\":\"e54a954d-3296-47e3-a2a4-78214972160b\",\"type\":\"Line\"},{\"attributes\":{\"source\":{\"id\":\"f737f319-2580-4464-b139-94d22294c3b9\",\"type\":\"ColumnDataSource\"}},\"id\":\"3cb0363f-d6d6-4f51-8e49-8a1313745c08\",\"type\":\"CDSView\"},{\"attributes\":{},\"id\":\"7642078a-63c9-4858-aea7-d4cf4cb7afe8\",\"type\":\"PanTool\"},{\"attributes\":{\"bottom_units\":\"screen\",\"fill_alpha\":{\"value\":0.5},\"fill_color\":{\"value\":\"lightgrey\"},\"left_units\":\"screen\",\"level\":\"overlay\",\"line_alpha\":{\"value\":1.0},\"line_color\":{\"value\":\"black\"},\"line_dash\":[4,4],\"line_width\":{\"value\":2},\"plot\":null,\"render_mode\":\"css\",\"right_units\":\"screen\",\"top_units\":\"screen\"},\"id\":\"9ed50cfd-5e0c-41d8-b7b3-1d0336a586f4\",\"type\":\"BoxAnnotation\"},{\"attributes\":{},\"id\":\"74e307b3-f754-4e9e-9f21-8fe4d863b38a\",\"type\":\"BasicTickFormatter\"}],\"root_ids\":[\"164a255a-7df1-47e5-9940-249866edde04\"]},\"title\":\"Bokeh Application\",\"version\":\"0.12.14\"}};\n",
       "  var render_items = [{\"docid\":\"ba476851-468c-4aa5-ac10-3ca286bdf8ae\",\"elementid\":\"46534ca3-b860-4bad-a955-702499b8bf38\",\"modelid\":\"164a255a-7df1-47e5-9940-249866edde04\"}];\n",
       "  root.Bokeh.embed.embed_items_notebook(docs_json, render_items);\n",
       "\n",
       "  }\n",
       "  if (root.Bokeh !== undefined) {\n",
       "    embed_document(root);\n",
       "  } else {\n",
       "    var attempts = 0;\n",
       "    var timer = setInterval(function(root) {\n",
       "      if (root.Bokeh !== undefined) {\n",
       "        embed_document(root);\n",
       "        clearInterval(timer);\n",
       "      }\n",
       "      attempts++;\n",
       "      if (attempts > 100) {\n",
       "        console.log(\"Bokeh: ERROR: Unable to run BokehJS code because BokehJS library is missing\")\n",
       "        clearInterval(timer);\n",
       "      }\n",
       "    }, 10, root)\n",
       "  }\n",
       "})(window);"
      ],
      "application/vnd.bokehjs_exec.v0+json": ""
     },
     "metadata": {
      "application/vnd.bokehjs_exec.v0+json": {
       "id": "164a255a-7df1-47e5-9940-249866edde04"
      }
     },
     "output_type": "display_data"
    }
   ],
   "source": [
    "# Build a figure\n",
    "f = figure(title=\"Cost Function J\", toolbar_location=None)\n",
    "f.grid.grid_line_color = None\n",
    "f.background_fill_color = \"#eeeeee\"\n",
    "\n",
    "# X and Y coords\n",
    "X, Y = range(4),[]\n",
    "\n",
    "for i in X:\n",
    "    mstep()\n",
    "    estep()\n",
    "    Y.append(Jay(ar,mu))\n",
    "\n",
    "# A line separating them\n",
    "f.line(X,Y, line_color='green')\n",
    "\n",
    "\n",
    "show(f)"
   ]
  },
  {
   "cell_type": "markdown",
   "metadata": {},
   "source": [
    "### Pretty much what you'd expect."
   ]
  },
  {
   "cell_type": "markdown",
   "metadata": {},
   "source": [
    "## Elbow Method - plots of $SSE$ to work out $k$"
   ]
  },
  {
   "cell_type": "markdown",
   "metadata": {},
   "source": [
    "### A related but different plot can help us to decide which $k$ to use. Let's generate some more complex data, which we'll also use in the final example."
   ]
  },
  {
   "cell_type": "code",
   "execution_count": 23,
   "metadata": {},
   "outputs": [
    {
     "data": {
      "text/plain": [
       "array([-5.10527777, -0.2006228 ])"
      ]
     },
     "execution_count": 23,
     "metadata": {},
     "output_type": "execute_result"
    }
   ],
   "source": [
    "C1[:,0]"
   ]
  },
  {
   "cell_type": "code",
   "execution_count": 25,
   "metadata": {},
   "outputs": [
    {
     "data": {
      "text/html": [
       "\n",
       "<div class=\"bk-root\">\n",
       "    <div class=\"bk-plotdiv\" id=\"ee96cdc7-92af-4659-b362-475e2361f915\"></div>\n",
       "</div>"
      ]
     },
     "metadata": {},
     "output_type": "display_data"
    },
    {
     "data": {
      "application/javascript": [
       "(function(root) {\n",
       "  function embed_document(root) {\n",
       "    \n",
       "  var docs_json = {\"7992e3e6-eaaa-43fc-bb93-63d39be28ee4\":{\"roots\":{\"references\":[{\"attributes\":{\"fill_alpha\":{\"value\":0.5},\"fill_color\":{\"value\":\"yellow\"},\"line_alpha\":{\"value\":0.5},\"line_color\":{\"value\":\"navy\"},\"size\":{\"units\":\"screen\",\"value\":15},\"x\":{\"field\":\"x\"},\"y\":{\"field\":\"y\"}},\"id\":\"df5a6e96-3bae-4df4-ae3f-91fe48825f73\",\"type\":\"Circle\"},{\"attributes\":{\"fill_alpha\":{\"value\":0.5},\"fill_color\":{\"value\":\"red\"},\"line_alpha\":{\"value\":0.5},\"line_color\":{\"value\":\"navy\"},\"size\":{\"units\":\"screen\",\"value\":15},\"x\":{\"field\":\"x\"},\"y\":{\"field\":\"y\"}},\"id\":\"584882f4-ef2f-426a-935a-f0a78fe6f6a4\",\"type\":\"Circle\"},{\"attributes\":{\"callback\":null,\"column_names\":[\"x\",\"y\"],\"data\":{\"x\":{\"__ndarray__\":\"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\",\"dtype\":\"float64\",\"shape\":[500]},\"y\":{\"__ndarray__\":\"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\",\"dtype\":\"float64\",\"shape\":[500]}}},\"id\":\"78128ce5-0619-4024-9e3e-e8e2459c2751\",\"type\":\"ColumnDataSource\"},{\"attributes\":{\"source\":{\"id\":\"78128ce5-0619-4024-9e3e-e8e2459c2751\",\"type\":\"ColumnDataSource\"}},\"id\":\"561f49fd-cb20-49a7-9f17-ae806155c17e\",\"type\":\"CDSView\"},{\"attributes\":{\"data_source\":{\"id\":\"78128ce5-0619-4024-9e3e-e8e2459c2751\",\"type\":\"ColumnDataSource\"},\"glyph\":{\"id\":\"584882f4-ef2f-426a-935a-f0a78fe6f6a4\",\"type\":\"Circle\"},\"hover_glyph\":null,\"muted_glyph\":null,\"nonselection_glyph\":{\"id\":\"082b0d21-683e-4303-b98c-34019b4f9a9a\",\"type\":\"Circle\"},\"selection_glyph\":null,\"view\":{\"id\":\"561f49fd-cb20-49a7-9f17-ae806155c17e\",\"type\":\"CDSView\"}},\"id\":\"23165260-92e8-4597-a0a7-12c8fa32820f\",\"type\":\"GlyphRenderer\"},{\"attributes\":{\"source\":{\"id\":\"eca67402-6b89-4009-9a2c-cf89a83473bb\",\"type\":\"ColumnDataSource\"}},\"id\":\"a775b905-c95f-4a96-9543-82ef61bcea42\",\"type\":\"CDSView\"},{\"attributes\":{\"callback\":null,\"column_names\":[\"x\",\"y\"],\"data\":{\"x\":{\"__ndarray__\":\"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\",\"dtype\":\"float64\",\"shape\":[500]},\"y\":{\"__ndarray__\":\"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\",\"dtype\":\"float64\",\"shape\":[500]}}},\"id\":\"eca67402-6b89-4009-9a2c-cf89a83473bb\",\"type\":\"ColumnDataSource\"},{\"attributes\":{\"fill_alpha\":{\"value\":0.1},\"fill_color\":{\"value\":\"#1f77b4\"},\"line_alpha\":{\"value\":0.1},\"line_color\":{\"value\":\"#1f77b4\"},\"size\":{\"units\":\"screen\",\"value\":15},\"x\":{\"field\":\"x\"},\"y\":{\"field\":\"y\"}},\"id\":\"f6e197ff-547b-454c-8044-e89ca59132e2\",\"type\":\"Circle\"},{\"attributes\":{\"background_fill_color\":{\"value\":\"#eeeeee\"},\"below\":[{\"id\":\"6f49aab9-649b-47af-9565-ed97c64e3691\",\"type\":\"LinearAxis\"}],\"left\":[{\"id\":\"26a12183-6ba7-44d5-942c-4b9db9be20cf\",\"type\":\"LinearAxis\"}],\"renderers\":[{\"id\":\"6f49aab9-649b-47af-9565-ed97c64e3691\",\"type\":\"LinearAxis\"},{\"id\":\"9bd59cf2-8ff4-477a-b939-a97cadab7ef6\",\"type\":\"Grid\"},{\"id\":\"26a12183-6ba7-44d5-942c-4b9db9be20cf\",\"type\":\"LinearAxis\"},{\"id\":\"02ff39be-f10f-4964-b661-73d99518fc3c\",\"type\":\"Grid\"},{\"id\":\"bec6642b-bbab-4f75-ba4e-e64a2d31f6d8\",\"type\":\"BoxAnnotation\"},{\"id\":\"a79463ab-6823-4d17-9794-87c6caf1e943\",\"type\":\"GlyphRenderer\"},{\"id\":\"23165260-92e8-4597-a0a7-12c8fa32820f\",\"type\":\"GlyphRenderer\"},{\"id\":\"6a83136a-7f20-48e2-9dff-2636547904ad\",\"type\":\"GlyphRenderer\"}],\"title\":{\"id\":\"8e2b5335-396c-4a8d-a56f-5c48b01b0d0a\",\"type\":\"Title\"},\"toolbar\":{\"id\":\"cd53b9b6-58e6-4853-b335-fc60cfbcd4ca\",\"type\":\"Toolbar\"},\"toolbar_location\":null,\"x_range\":{\"id\":\"8ed34441-4c79-490c-824e-b4aff1ed77c7\",\"type\":\"DataRange1d\"},\"x_scale\":{\"id\":\"1d8f2c6f-c72c-40ea-b4f2-102ea02eb5ec\",\"type\":\"LinearScale\"},\"y_range\":{\"id\":\"7e281a9f-64a1-4a4a-822f-0c20f83c808f\",\"type\":\"DataRange1d\"},\"y_scale\":{\"id\":\"238ff2b1-a44d-47d2-a505-ffa5e57fccf4\",\"type\":\"LinearScale\"}},\"id\":\"55a7caec-4504-4c65-837f-c75aab0dd896\",\"subtype\":\"Figure\",\"type\":\"Plot\"},{\"attributes\":{\"data_source\":{\"id\":\"94b3f5b3-de07-476e-ab2c-f66a90660573\",\"type\":\"ColumnDataSource\"},\"glyph\":{\"id\":\"df5a6e96-3bae-4df4-ae3f-91fe48825f73\",\"type\":\"Circle\"},\"hover_glyph\":null,\"muted_glyph\":null,\"nonselection_glyph\":{\"id\":\"f6e197ff-547b-454c-8044-e89ca59132e2\",\"type\":\"Circle\"},\"selection_glyph\":null,\"view\":{\"id\":\"e467278e-a8ba-4abe-8c2f-a85745b9d459\",\"type\":\"CDSView\"}},\"id\":\"6a83136a-7f20-48e2-9dff-2636547904ad\",\"type\":\"GlyphRenderer\"},{\"attributes\":{\"source\":{\"id\":\"94b3f5b3-de07-476e-ab2c-f66a90660573\",\"type\":\"ColumnDataSource\"}},\"id\":\"e467278e-a8ba-4abe-8c2f-a85745b9d459\",\"type\":\"CDSView\"},{\"attributes\":{\"plot\":null,\"text\":\"Fake Data\"},\"id\":\"8e2b5335-396c-4a8d-a56f-5c48b01b0d0a\",\"type\":\"Title\"},{\"attributes\":{\"callback\":null},\"id\":\"8ed34441-4c79-490c-824e-b4aff1ed77c7\",\"type\":\"DataRange1d\"},{\"attributes\":{\"formatter\":{\"id\":\"f9a9c169-226b-49f2-afa2-59c4e4684180\",\"type\":\"BasicTickFormatter\"},\"plot\":{\"id\":\"55a7caec-4504-4c65-837f-c75aab0dd896\",\"subtype\":\"Figure\",\"type\":\"Plot\"},\"ticker\":{\"id\":\"af2f3544-2f22-4368-ac97-d3b77bf132b8\",\"type\":\"BasicTicker\"}},\"id\":\"6f49aab9-649b-47af-9565-ed97c64e3691\",\"type\":\"LinearAxis\"},{\"attributes\":{},\"id\":\"af2f3544-2f22-4368-ac97-d3b77bf132b8\",\"type\":\"BasicTicker\"},{\"attributes\":{\"active_drag\":\"auto\",\"active_inspect\":\"auto\",\"active_scroll\":\"auto\",\"active_tap\":\"auto\",\"tools\":[{\"id\":\"407bd3e8-363d-4b13-a058-60ceaf48a0d4\",\"type\":\"PanTool\"},{\"id\":\"c3fa026f-6417-42db-81d5-2e9a3e85b40e\",\"type\":\"WheelZoomTool\"},{\"id\":\"af74d542-e192-47c8-a727-543917781a13\",\"type\":\"BoxZoomTool\"},{\"id\":\"ef61d045-364f-41e4-99cb-ab7eaf7d7cf4\",\"type\":\"SaveTool\"},{\"id\":\"398017a3-7556-45b4-8ee7-721245efbf61\",\"type\":\"ResetTool\"},{\"id\":\"a735b74d-d208-41ab-83fd-8416b547f22f\",\"type\":\"HelpTool\"}]},\"id\":\"cd53b9b6-58e6-4853-b335-fc60cfbcd4ca\",\"type\":\"Toolbar\"},{\"attributes\":{\"fill_alpha\":{\"value\":0.1},\"fill_color\":{\"value\":\"#1f77b4\"},\"line_alpha\":{\"value\":0.1},\"line_color\":{\"value\":\"#1f77b4\"},\"size\":{\"units\":\"screen\",\"value\":15},\"x\":{\"field\":\"x\"},\"y\":{\"field\":\"y\"}},\"id\":\"076dc21b-8c16-4143-9d9b-a32f23365cb0\",\"type\":\"Circle\"},{\"attributes\":{},\"id\":\"1d8f2c6f-c72c-40ea-b4f2-102ea02eb5ec\",\"type\":\"LinearScale\"},{\"attributes\":{\"callback\":null},\"id\":\"7e281a9f-64a1-4a4a-822f-0c20f83c808f\",\"type\":\"DataRange1d\"},{\"attributes\":{},\"id\":\"238ff2b1-a44d-47d2-a505-ffa5e57fccf4\",\"type\":\"LinearScale\"},{\"attributes\":{\"grid_line_color\":{\"value\":null},\"plot\":{\"id\":\"55a7caec-4504-4c65-837f-c75aab0dd896\",\"subtype\":\"Figure\",\"type\":\"Plot\"},\"ticker\":{\"id\":\"af2f3544-2f22-4368-ac97-d3b77bf132b8\",\"type\":\"BasicTicker\"}},\"id\":\"9bd59cf2-8ff4-477a-b939-a97cadab7ef6\",\"type\":\"Grid\"},{\"attributes\":{\"formatter\":{\"id\":\"5d1abdb3-e999-4bfe-a51c-b17d5c75728c\",\"type\":\"BasicTickFormatter\"},\"plot\":{\"id\":\"55a7caec-4504-4c65-837f-c75aab0dd896\",\"subtype\":\"Figure\",\"type\":\"Plot\"},\"ticker\":{\"id\":\"e4cfa0c2-0875-4427-bf2a-57b5a86edab2\",\"type\":\"BasicTicker\"}},\"id\":\"26a12183-6ba7-44d5-942c-4b9db9be20cf\",\"type\":\"LinearAxis\"},{\"attributes\":{},\"id\":\"e4cfa0c2-0875-4427-bf2a-57b5a86edab2\",\"type\":\"BasicTicker\"},{\"attributes\":{\"dimension\":1,\"grid_line_color\":{\"value\":null},\"plot\":{\"id\":\"55a7caec-4504-4c65-837f-c75aab0dd896\",\"subtype\":\"Figure\",\"type\":\"Plot\"},\"ticker\":{\"id\":\"e4cfa0c2-0875-4427-bf2a-57b5a86edab2\",\"type\":\"BasicTicker\"}},\"id\":\"02ff39be-f10f-4964-b661-73d99518fc3c\",\"type\":\"Grid\"},{\"attributes\":{\"data_source\":{\"id\":\"eca67402-6b89-4009-9a2c-cf89a83473bb\",\"type\":\"ColumnDataSource\"},\"glyph\":{\"id\":\"1cfd9692-b705-4613-8343-46e56a698303\",\"type\":\"Circle\"},\"hover_glyph\":null,\"muted_glyph\":null,\"nonselection_glyph\":{\"id\":\"076dc21b-8c16-4143-9d9b-a32f23365cb0\",\"type\":\"Circle\"},\"selection_glyph\":null,\"view\":{\"id\":\"a775b905-c95f-4a96-9543-82ef61bcea42\",\"type\":\"CDSView\"}},\"id\":\"a79463ab-6823-4d17-9794-87c6caf1e943\",\"type\":\"GlyphRenderer\"},{\"attributes\":{\"fill_alpha\":{\"value\":0.5},\"fill_color\":{\"value\":\"blue\"},\"line_alpha\":{\"value\":0.5},\"line_color\":{\"value\":\"navy\"},\"size\":{\"units\":\"screen\",\"value\":15},\"x\":{\"field\":\"x\"},\"y\":{\"field\":\"y\"}},\"id\":\"1cfd9692-b705-4613-8343-46e56a698303\",\"type\":\"Circle\"},{\"attributes\":{},\"id\":\"5d1abdb3-e999-4bfe-a51c-b17d5c75728c\",\"type\":\"BasicTickFormatter\"},{\"attributes\":{\"bottom_units\":\"screen\",\"fill_alpha\":{\"value\":0.5},\"fill_color\":{\"value\":\"lightgrey\"},\"left_units\":\"screen\",\"level\":\"overlay\",\"line_alpha\":{\"value\":1.0},\"line_color\":{\"value\":\"black\"},\"line_dash\":[4,4],\"line_width\":{\"value\":2},\"plot\":null,\"render_mode\":\"css\",\"right_units\":\"screen\",\"top_units\":\"screen\"},\"id\":\"bec6642b-bbab-4f75-ba4e-e64a2d31f6d8\",\"type\":\"BoxAnnotation\"},{\"attributes\":{},\"id\":\"407bd3e8-363d-4b13-a058-60ceaf48a0d4\",\"type\":\"PanTool\"},{\"attributes\":{\"callback\":null,\"column_names\":[\"x\",\"y\"],\"data\":{\"x\":{\"__ndarray__\":\"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\",\"dtype\":\"float64\",\"shape\":[500]},\"y\":{\"__ndarray__\":\"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\",\"dtype\":\"float64\",\"shape\":[500]}}},\"id\":\"94b3f5b3-de07-476e-ab2c-f66a90660573\",\"type\":\"ColumnDataSource\"},{\"attributes\":{},\"id\":\"c3fa026f-6417-42db-81d5-2e9a3e85b40e\",\"type\":\"WheelZoomTool\"},{\"attributes\":{\"overlay\":{\"id\":\"bec6642b-bbab-4f75-ba4e-e64a2d31f6d8\",\"type\":\"BoxAnnotation\"}},\"id\":\"af74d542-e192-47c8-a727-543917781a13\",\"type\":\"BoxZoomTool\"},{\"attributes\":{},\"id\":\"ef61d045-364f-41e4-99cb-ab7eaf7d7cf4\",\"type\":\"SaveTool\"},{\"attributes\":{},\"id\":\"398017a3-7556-45b4-8ee7-721245efbf61\",\"type\":\"ResetTool\"},{\"attributes\":{},\"id\":\"a735b74d-d208-41ab-83fd-8416b547f22f\",\"type\":\"HelpTool\"},{\"attributes\":{\"fill_alpha\":{\"value\":0.1},\"fill_color\":{\"value\":\"#1f77b4\"},\"line_alpha\":{\"value\":0.1},\"line_color\":{\"value\":\"#1f77b4\"},\"size\":{\"units\":\"screen\",\"value\":15},\"x\":{\"field\":\"x\"},\"y\":{\"field\":\"y\"}},\"id\":\"082b0d21-683e-4303-b98c-34019b4f9a9a\",\"type\":\"Circle\"},{\"attributes\":{},\"id\":\"f9a9c169-226b-49f2-afa2-59c4e4684180\",\"type\":\"BasicTickFormatter\"}],\"root_ids\":[\"55a7caec-4504-4c65-837f-c75aab0dd896\"]},\"title\":\"Bokeh Application\",\"version\":\"0.12.14\"}};\n",
       "  var render_items = [{\"docid\":\"7992e3e6-eaaa-43fc-bb93-63d39be28ee4\",\"elementid\":\"ee96cdc7-92af-4659-b362-475e2361f915\",\"modelid\":\"55a7caec-4504-4c65-837f-c75aab0dd896\"}];\n",
       "  root.Bokeh.embed.embed_items_notebook(docs_json, render_items);\n",
       "\n",
       "  }\n",
       "  if (root.Bokeh !== undefined) {\n",
       "    embed_document(root);\n",
       "  } else {\n",
       "    var attempts = 0;\n",
       "    var timer = setInterval(function(root) {\n",
       "      if (root.Bokeh !== undefined) {\n",
       "        embed_document(root);\n",
       "        clearInterval(timer);\n",
       "      }\n",
       "      attempts++;\n",
       "      if (attempts > 100) {\n",
       "        console.log(\"Bokeh: ERROR: Unable to run BokehJS code because BokehJS library is missing\")\n",
       "        clearInterval(timer);\n",
       "      }\n",
       "    }, 10, root)\n",
       "  }\n",
       "})(window);"
      ],
      "application/vnd.bokehjs_exec.v0+json": ""
     },
     "metadata": {
      "application/vnd.bokehjs_exec.v0+json": {
       "id": "55a7caec-4504-4c65-837f-c75aab0dd896"
      }
     },
     "output_type": "display_data"
    }
   ],
   "source": [
    "mn = [-6,0]\n",
    "cov = [[1,0],[0,.2]]\n",
    "\n",
    "mn1 = [1,1]\n",
    "cov1 = [[3,-2],[-2,3]]\n",
    "\n",
    "mn2 = [6,2]\n",
    "cov2 = [[.2,0],[0,1]]\n",
    "\n",
    "f1 = figure(title=\"Fake Data\", toolbar_location=None)\n",
    "f1.grid.grid_line_color = None\n",
    "f1.background_fill_color = \"#eeeeee\"\n",
    "\n",
    "\n",
    "\n",
    "C1 = np.random.multivariate_normal(mn, cov, 500).T\n",
    "mscatter(f1, C1[0,:], C1[1,:], \"circle\", \"blue\")\n",
    "\n",
    "C2 = np.random.multivariate_normal(mn1, cov1, 500).T\n",
    "mscatter(f1, C2[0,:], C2[1,:], \"circle\", \"red\")\n",
    "\n",
    "C3 = np.random.multivariate_normal(mn2, cov2, 500).T\n",
    "mscatter(f1, C3[0,:], C3[1,:], \"circle\", \"yellow\")\n",
    "\n",
    "show(f1)"
   ]
  },
  {
   "cell_type": "markdown",
   "metadata": {},
   "source": [
    "### Concatenating..."
   ]
  },
  {
   "cell_type": "code",
   "execution_count": 33,
   "metadata": {},
   "outputs": [],
   "source": [
    "X = np.concatenate((C1,C2,C3),axis=1)"
   ]
  },
  {
   "cell_type": "markdown",
   "metadata": {},
   "source": [
    "### Need to transpose the shape..."
   ]
  },
  {
   "cell_type": "code",
   "execution_count": 36,
   "metadata": {},
   "outputs": [],
   "source": [
    "X = X.transpose()"
   ]
  },
  {
   "cell_type": "markdown",
   "metadata": {},
   "source": [
    "### Finally, let's plot"
   ]
  },
  {
   "cell_type": "code",
   "execution_count": 37,
   "metadata": {},
   "outputs": [
    {
     "data": {
      "text/html": [
       "\n",
       "<div class=\"bk-root\">\n",
       "    <div class=\"bk-plotdiv\" id=\"6702aebe-d81d-4b12-9934-c204d0613154\"></div>\n",
       "</div>"
      ]
     },
     "metadata": {},
     "output_type": "display_data"
    },
    {
     "data": {
      "application/javascript": [
       "(function(root) {\n",
       "  function embed_document(root) {\n",
       "    \n",
       "  var docs_json = {\"5d0d8a93-59fb-44f4-b3d1-8ee4c8c1f96c\":{\"roots\":{\"references\":[{\"attributes\":{\"callback\":null},\"id\":\"cbfeecf6-df3f-4fed-b965-47aae0e94781\",\"type\":\"DataRange1d\"},{\"attributes\":{\"overlay\":{\"id\":\"0610611a-e9e8-41e7-87d0-bca7223c3b5d\",\"type\":\"BoxAnnotation\"}},\"id\":\"e2eb591e-8115-4609-a78d-3d647466f6fc\",\"type\":\"BoxZoomTool\"},{\"attributes\":{\"active_drag\":\"auto\",\"active_inspect\":\"auto\",\"active_scroll\":\"auto\",\"active_tap\":\"auto\",\"tools\":[{\"id\":\"6fc42906-0cb0-42e6-859d-68afcd77ef31\",\"type\":\"PanTool\"},{\"id\":\"9ea599df-3055-4b6c-9964-7d955a8c147b\",\"type\":\"WheelZoomTool\"},{\"id\":\"e2eb591e-8115-4609-a78d-3d647466f6fc\",\"type\":\"BoxZoomTool\"},{\"id\":\"71b91bce-c525-4502-a702-1c7a573aa465\",\"type\":\"SaveTool\"},{\"id\":\"554be4bd-79f1-467d-ae63-00b5e699bbc9\",\"type\":\"ResetTool\"},{\"id\":\"497c2df9-f4c3-44c0-9f03-88f8f25aec65\",\"type\":\"HelpTool\"}]},\"id\":\"0d5d53e0-0602-4402-8475-1b4b753abea8\",\"type\":\"Toolbar\"},{\"attributes\":{},\"id\":\"71b91bce-c525-4502-a702-1c7a573aa465\",\"type\":\"SaveTool\"},{\"attributes\":{\"line_color\":\"green\",\"x\":{\"field\":\"x\"},\"y\":{\"field\":\"y\"}},\"id\":\"7a7690d0-337c-423b-81f6-6d5e0374c6e8\",\"type\":\"Line\"},{\"attributes\":{},\"id\":\"554be4bd-79f1-467d-ae63-00b5e699bbc9\",\"type\":\"ResetTool\"},{\"attributes\":{},\"id\":\"9a3e7b7b-658f-4c7e-a71c-a83c72805d12\",\"type\":\"LinearScale\"},{\"attributes\":{},\"id\":\"497c2df9-f4c3-44c0-9f03-88f8f25aec65\",\"type\":\"HelpTool\"},{\"attributes\":{\"callback\":null},\"id\":\"2bf34b79-8ecb-4f71-920e-81c973d5095b\",\"type\":\"DataRange1d\"},{\"attributes\":{},\"id\":\"ab7d5051-2c6e-4e39-bd71-1e262b2fd6f0\",\"type\":\"LinearScale\"},{\"attributes\":{\"grid_line_color\":{\"value\":null},\"plot\":{\"id\":\"52bfa091-0abf-4d90-bc31-542427fafedf\",\"subtype\":\"Figure\",\"type\":\"Plot\"},\"ticker\":{\"id\":\"e8d04a3a-1f60-4ab9-81bd-3e35970c1981\",\"type\":\"BasicTicker\"}},\"id\":\"fac91e93-25f1-47ef-ace1-cfb0c8f1a9cb\",\"type\":\"Grid\"},{\"attributes\":{},\"id\":\"3af59c04-d283-4949-98f4-9b0d67697b4a\",\"type\":\"BasicTickFormatter\"},{\"attributes\":{\"formatter\":{\"id\":\"3af59c04-d283-4949-98f4-9b0d67697b4a\",\"type\":\"BasicTickFormatter\"},\"plot\":{\"id\":\"52bfa091-0abf-4d90-bc31-542427fafedf\",\"subtype\":\"Figure\",\"type\":\"Plot\"},\"ticker\":{\"id\":\"e8d04a3a-1f60-4ab9-81bd-3e35970c1981\",\"type\":\"BasicTicker\"}},\"id\":\"4e2b2bf6-cc9d-477f-a441-c2d0b8d6a378\",\"type\":\"LinearAxis\"},{\"attributes\":{},\"id\":\"e8d04a3a-1f60-4ab9-81bd-3e35970c1981\",\"type\":\"BasicTicker\"},{\"attributes\":{\"formatter\":{\"id\":\"3dc16058-cfd5-4766-b56e-bcd4c4973b37\",\"type\":\"BasicTickFormatter\"},\"plot\":{\"id\":\"52bfa091-0abf-4d90-bc31-542427fafedf\",\"subtype\":\"Figure\",\"type\":\"Plot\"},\"ticker\":{\"id\":\"7cf57ef6-869e-4fa7-945b-745f0a77aaeb\",\"type\":\"BasicTicker\"}},\"id\":\"ad134797-7ad0-4e0d-912e-585f3733d292\",\"type\":\"LinearAxis\"},{\"attributes\":{},\"id\":\"7cf57ef6-869e-4fa7-945b-745f0a77aaeb\",\"type\":\"BasicTicker\"},{\"attributes\":{\"dimension\":1,\"grid_line_color\":{\"value\":null},\"plot\":{\"id\":\"52bfa091-0abf-4d90-bc31-542427fafedf\",\"subtype\":\"Figure\",\"type\":\"Plot\"},\"ticker\":{\"id\":\"7cf57ef6-869e-4fa7-945b-745f0a77aaeb\",\"type\":\"BasicTicker\"}},\"id\":\"9ce044cc-2ece-4066-bec4-c2628b34c2c4\",\"type\":\"Grid\"},{\"attributes\":{\"line_alpha\":0.1,\"line_color\":\"#1f77b4\",\"x\":{\"field\":\"x\"},\"y\":{\"field\":\"y\"}},\"id\":\"ea74abb8-9dca-4a36-8b3c-d5af09e44e73\",\"type\":\"Line\"},{\"attributes\":{},\"id\":\"3dc16058-cfd5-4766-b56e-bcd4c4973b37\",\"type\":\"BasicTickFormatter\"},{\"attributes\":{\"plot\":null,\"text\":\"Elbow Method\"},\"id\":\"20bcd790-4455-4198-9928-d925c723f10a\",\"type\":\"Title\"},{\"attributes\":{\"bottom_units\":\"screen\",\"fill_alpha\":{\"value\":0.5},\"fill_color\":{\"value\":\"lightgrey\"},\"left_units\":\"screen\",\"level\":\"overlay\",\"line_alpha\":{\"value\":1.0},\"line_color\":{\"value\":\"black\"},\"line_dash\":[4,4],\"line_width\":{\"value\":2},\"plot\":null,\"render_mode\":\"css\",\"right_units\":\"screen\",\"top_units\":\"screen\"},\"id\":\"0610611a-e9e8-41e7-87d0-bca7223c3b5d\",\"type\":\"BoxAnnotation\"},{\"attributes\":{\"callback\":null,\"column_names\":[\"x\",\"y\"],\"data\":{\"x\":[1,2,3,4,5,6,7,8,9],\"y\":[4.834656612067711,2.295106178035435,1.359697061319893,1.1402324047425776,1.0753863946581363,0.9690602357004826,0.8754194452202825,0.8310056333451002,0.7878420267902981]}},\"id\":\"0c5d3a51-c675-4f8b-8fc7-2c1c5878019b\",\"type\":\"ColumnDataSource\"},{\"attributes\":{},\"id\":\"6fc42906-0cb0-42e6-859d-68afcd77ef31\",\"type\":\"PanTool\"},{\"attributes\":{\"background_fill_color\":{\"value\":\"#eeeeee\"},\"below\":[{\"id\":\"4e2b2bf6-cc9d-477f-a441-c2d0b8d6a378\",\"type\":\"LinearAxis\"}],\"left\":[{\"id\":\"ad134797-7ad0-4e0d-912e-585f3733d292\",\"type\":\"LinearAxis\"}],\"renderers\":[{\"id\":\"4e2b2bf6-cc9d-477f-a441-c2d0b8d6a378\",\"type\":\"LinearAxis\"},{\"id\":\"fac91e93-25f1-47ef-ace1-cfb0c8f1a9cb\",\"type\":\"Grid\"},{\"id\":\"ad134797-7ad0-4e0d-912e-585f3733d292\",\"type\":\"LinearAxis\"},{\"id\":\"9ce044cc-2ece-4066-bec4-c2628b34c2c4\",\"type\":\"Grid\"},{\"id\":\"0610611a-e9e8-41e7-87d0-bca7223c3b5d\",\"type\":\"BoxAnnotation\"},{\"id\":\"f2129543-c3df-4627-973d-c8d1e6180d64\",\"type\":\"GlyphRenderer\"}],\"title\":{\"id\":\"20bcd790-4455-4198-9928-d925c723f10a\",\"type\":\"Title\"},\"toolbar\":{\"id\":\"0d5d53e0-0602-4402-8475-1b4b753abea8\",\"type\":\"Toolbar\"},\"toolbar_location\":null,\"x_range\":{\"id\":\"cbfeecf6-df3f-4fed-b965-47aae0e94781\",\"type\":\"DataRange1d\"},\"x_scale\":{\"id\":\"9a3e7b7b-658f-4c7e-a71c-a83c72805d12\",\"type\":\"LinearScale\"},\"y_range\":{\"id\":\"2bf34b79-8ecb-4f71-920e-81c973d5095b\",\"type\":\"DataRange1d\"},\"y_scale\":{\"id\":\"ab7d5051-2c6e-4e39-bd71-1e262b2fd6f0\",\"type\":\"LinearScale\"}},\"id\":\"52bfa091-0abf-4d90-bc31-542427fafedf\",\"subtype\":\"Figure\",\"type\":\"Plot\"},{\"attributes\":{\"source\":{\"id\":\"0c5d3a51-c675-4f8b-8fc7-2c1c5878019b\",\"type\":\"ColumnDataSource\"}},\"id\":\"78afe7a5-3ae8-42e0-b089-04a68d737036\",\"type\":\"CDSView\"},{\"attributes\":{\"data_source\":{\"id\":\"0c5d3a51-c675-4f8b-8fc7-2c1c5878019b\",\"type\":\"ColumnDataSource\"},\"glyph\":{\"id\":\"7a7690d0-337c-423b-81f6-6d5e0374c6e8\",\"type\":\"Line\"},\"hover_glyph\":null,\"muted_glyph\":null,\"nonselection_glyph\":{\"id\":\"ea74abb8-9dca-4a36-8b3c-d5af09e44e73\",\"type\":\"Line\"},\"selection_glyph\":null,\"view\":{\"id\":\"78afe7a5-3ae8-42e0-b089-04a68d737036\",\"type\":\"CDSView\"}},\"id\":\"f2129543-c3df-4627-973d-c8d1e6180d64\",\"type\":\"GlyphRenderer\"},{\"attributes\":{},\"id\":\"9ea599df-3055-4b6c-9964-7d955a8c147b\",\"type\":\"WheelZoomTool\"}],\"root_ids\":[\"52bfa091-0abf-4d90-bc31-542427fafedf\"]},\"title\":\"Bokeh Application\",\"version\":\"0.12.14\"}};\n",
       "  var render_items = [{\"docid\":\"5d0d8a93-59fb-44f4-b3d1-8ee4c8c1f96c\",\"elementid\":\"6702aebe-d81d-4b12-9934-c204d0613154\",\"modelid\":\"52bfa091-0abf-4d90-bc31-542427fafedf\"}];\n",
       "  root.Bokeh.embed.embed_items_notebook(docs_json, render_items);\n",
       "\n",
       "  }\n",
       "  if (root.Bokeh !== undefined) {\n",
       "    embed_document(root);\n",
       "  } else {\n",
       "    var attempts = 0;\n",
       "    var timer = setInterval(function(root) {\n",
       "      if (root.Bokeh !== undefined) {\n",
       "        embed_document(root);\n",
       "        clearInterval(timer);\n",
       "      }\n",
       "      attempts++;\n",
       "      if (attempts > 100) {\n",
       "        console.log(\"Bokeh: ERROR: Unable to run BokehJS code because BokehJS library is missing\")\n",
       "        clearInterval(timer);\n",
       "      }\n",
       "    }, 10, root)\n",
       "  }\n",
       "})(window);"
      ],
      "application/vnd.bokehjs_exec.v0+json": ""
     },
     "metadata": {
      "application/vnd.bokehjs_exec.v0+json": {
       "id": "52bfa091-0abf-4d90-bc31-542427fafedf"
      }
     },
     "output_type": "display_data"
    }
   ],
   "source": [
    "from sklearn.cluster import KMeans\n",
    "from scipy.spatial.distance import cdist\n",
    "\n",
    "distortions = []\n",
    "K = range(1,10)\n",
    "for k in K:\n",
    "    kmeanModel = KMeans(n_clusters=k).fit(X)\n",
    "    kmeanModel.fit(X)\n",
    "    distortions.append(sum(np.min(cdist(X, kmeanModel.cluster_centers_, 'euclidean'), axis=1)) / X.shape[0])\n",
    "\n",
    "f3 = figure(title=\"Elbow Method\", toolbar_location=None)\n",
    "f3.grid.grid_line_color = None\n",
    "f3.background_fill_color = \"#eeeeee\"\n",
    "\n",
    "# \n",
    "f3.line(K,distortions, line_color='green')\n",
    "\n",
    "\n",
    "show(f3)"
   ]
  },
  {
   "cell_type": "markdown",
   "metadata": {},
   "source": [
    "### What else can you do? See the [Silhouette Method](http://scikit-learn.org/stable/auto_examples/cluster/plot_kmeans_silhouette_analysis.html)."
   ]
  },
  {
   "cell_type": "markdown",
   "metadata": {},
   "source": [
    "# Gaussian Mixture Models"
   ]
  },
  {
   "cell_type": "markdown",
   "metadata": {},
   "source": [
    "### Now let's look at some statistical analysis that happens to lend itself to clustering."
   ]
  },
  {
   "cell_type": "markdown",
   "metadata": {},
   "source": [
    "### A *Gaussian mixture distribution* takes the form"
   ]
  },
  {
   "cell_type": "markdown",
   "metadata": {},
   "source": [
    "## $p(x) = \\sum_{k=1}^K \\pi_k\\mathcal{N}(x \\mid \\mu_k,\\Sigma_k)$"
   ]
  },
  {
   "cell_type": "markdown",
   "metadata": {},
   "source": [
    "### We define a $K-$dimensional random variable $\\bf z$ such that $z_k \\in \\{0,1\\}$ and $\\sum_k z_k = 1$."
   ]
  },
  {
   "cell_type": "markdown",
   "metadata": {},
   "source": [
    "### The joint distribution for $x$ (data) and this variable is expressed in the form"
   ]
  },
  {
   "cell_type": "markdown",
   "metadata": {},
   "source": [
    "## $p(x,z) = p(z)p(x \\mid z)$"
   ]
  },
  {
   "cell_type": "markdown",
   "metadata": {},
   "source": [
    "### Algebra gives the quantity we want (the one that helps with classification):"
   ]
  },
  {
   "cell_type": "markdown",
   "metadata": {},
   "source": [
    "## $p(z_k = 1 \\mid x) = \\frac{\\pi_k\\mathcal{N}(x \\mid \\mu_k,\\Sigma_k)}{\\sum_j^K \\pi_j\\mathcal{N}(x \\mid \\mu_k,\\Sigma_k)}$"
   ]
  },
  {
   "cell_type": "markdown",
   "metadata": {},
   "source": [
    "### *This expresses the probability of belonging to cluster $k$*. It is referred to as the *responsibility* that the $k^{th}$ Gaussian distribution takes for explaining the observations $x$.  \n",
    "\n",
    "### The *log-likelihood* is the function to be optimized, and the decision variables are the parameters for the distribution, i.e. $\\pi$, $\\mu$ and $\\Sigma$."
   ]
  },
  {
   "cell_type": "markdown",
   "metadata": {},
   "source": [
    "## $ \\ln p(x \\mid \\pi, \\mu, \\Sigma)$"
   ]
  },
  {
   "cell_type": "markdown",
   "metadata": {},
   "source": [
    "### It can be optimized via an *Expectation-Maximization* algorithm:"
   ]
  },
  {
   "cell_type": "markdown",
   "metadata": {},
   "source": [
    "### EM for Gaussian Mixtures (Bishop)\n",
    "\n",
    "1. Initialize $\\mu_k$, $\\Sigma_k$ and $\\pi_k$\n",
    "2. (E-step) Evaluate *responsibilities* using *current parameter estimates*.\n",
    "3. (M-step) Re-estimate parameters using current responsibilities. Assignments in this step are derived from Langrange multipliers (gives conditions for optimality).\n",
    "4. Evaluate the log-likelihood and check for its convergence or else that of the parameters. If not converged, start again with Step 2."
   ]
  },
  {
   "cell_type": "markdown",
   "metadata": {},
   "source": [
    "### Example"
   ]
  },
  {
   "cell_type": "code",
   "execution_count": 38,
   "metadata": {},
   "outputs": [],
   "source": [
    "from sklearn import mixture\n",
    "gmm = mixture.GaussianMixture(n_components=3, covariance_type='full',\n",
    "                              max_iter=100).fit(X)"
   ]
  },
  {
   "cell_type": "code",
   "execution_count": 42,
   "metadata": {},
   "outputs": [],
   "source": [
    "predictions = gmm.predict(X)"
   ]
  },
  {
   "cell_type": "markdown",
   "metadata": {},
   "source": [
    "### What clusters have we found?"
   ]
  },
  {
   "cell_type": "code",
   "execution_count": 47,
   "metadata": {},
   "outputs": [],
   "source": [
    "D1 = X[np.where(predictions==0)].transpose()\n",
    "D2 = X[np.where(predictions==1)].transpose()\n",
    "D3 = X[np.where(predictions==2)].transpose()"
   ]
  },
  {
   "cell_type": "code",
   "execution_count": 48,
   "metadata": {},
   "outputs": [
    {
     "data": {
      "text/html": [
       "\n",
       "<div class=\"bk-root\">\n",
       "    <div class=\"bk-plotdiv\" id=\"6904730b-7657-463f-a59f-b6f04282dc77\"></div>\n",
       "</div>"
      ]
     },
     "metadata": {},
     "output_type": "display_data"
    },
    {
     "data": {
      "application/javascript": [
       "(function(root) {\n",
       "  function embed_document(root) {\n",
       "    \n",
       "  var docs_json = {\"c2887878-7545-4379-b047-8ff6443904da\":{\"roots\":{\"references\":[{\"attributes\":{\"bottom_units\":\"screen\",\"fill_alpha\":{\"value\":0.5},\"fill_color\":{\"value\":\"lightgrey\"},\"left_units\":\"screen\",\"level\":\"overlay\",\"line_alpha\":{\"value\":1.0},\"line_color\":{\"value\":\"black\"},\"line_dash\":[4,4],\"line_width\":{\"value\":2},\"plot\":null,\"render_mode\":\"css\",\"right_units\":\"screen\",\"top_units\":\"screen\"},\"id\":\"c1c58e25-bd41-48f5-83af-d617828909ac\",\"type\":\"BoxAnnotation\"},{\"attributes\":{},\"id\":\"cb5f9f8a-8338-4708-8acb-d582273732af\",\"type\":\"BasicTickFormatter\"},{\"attributes\":{\"grid_line_color\":{\"value\":null},\"plot\":{\"id\":\"e83b2b10-7789-4e62-8959-dfd9c4e6fb6f\",\"subtype\":\"Figure\",\"type\":\"Plot\"},\"ticker\":{\"id\":\"9c7a5c7c-adfa-43ac-83b0-5c727c259574\",\"type\":\"BasicTicker\"}},\"id\":\"8e60f4c3-db0e-4eb6-8813-4a756cf3de64\",\"type\":\"Grid\"},{\"attributes\":{\"fill_alpha\":{\"value\":0.5},\"fill_color\":{\"value\":\"yellow\"},\"line_alpha\":{\"value\":0.5},\"line_color\":{\"value\":\"navy\"},\"size\":{\"units\":\"screen\",\"value\":15},\"x\":{\"field\":\"x\"},\"y\":{\"field\":\"y\"}},\"id\":\"cec3f329-ea00-4d63-9269-a8887df20946\",\"type\":\"Circle\"},{\"attributes\":{\"fill_alpha\":{\"value\":0.1},\"fill_color\":{\"value\":\"#1f77b4\"},\"line_alpha\":{\"value\":0.1},\"line_color\":{\"value\":\"#1f77b4\"},\"size\":{\"units\":\"screen\",\"value\":15},\"x\":{\"field\":\"x\"},\"y\":{\"field\":\"y\"}},\"id\":\"f60fb65d-3e23-4873-bcff-7dd5d4f45c69\",\"type\":\"Circle\"},{\"attributes\":{\"formatter\":{\"id\":\"c44c508c-09fd-46d7-9de8-c9051e819b7c\",\"type\":\"BasicTickFormatter\"},\"plot\":{\"id\":\"e83b2b10-7789-4e62-8959-dfd9c4e6fb6f\",\"subtype\":\"Figure\",\"type\":\"Plot\"},\"ticker\":{\"id\":\"adf56816-23a8-449d-9140-27d13b656470\",\"type\":\"BasicTicker\"}},\"id\":\"3acd52e5-1c1c-42a8-886f-2c58f4c03a8b\",\"type\":\"LinearAxis\"},{\"attributes\":{\"callback\":null,\"column_names\":[\"x\",\"y\"],\"data\":{\"x\":{\"__ndarray__\":\"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\",\"dtype\":\"float64\",\"shape\":[500]},\"y\":{\"__ndarray__\":\"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\",\"dtype\":\"float64\",\"shape\":[500]}}},\"id\":\"7c496a0d-157d-48da-8164-db4d1ac6dffc\",\"type\":\"ColumnDataSource\"},{\"attributes\":{},\"id\":\"d673ea3a-ebbd-4cc3-b2e5-66945ccf9c1b\",\"type\":\"SaveTool\"},{\"attributes\":{\"fill_alpha\":{\"value\":0.5},\"fill_color\":{\"value\":\"red\"},\"line_alpha\":{\"value\":0.5},\"line_color\":{\"value\":\"navy\"},\"size\":{\"units\":\"screen\",\"value\":15},\"x\":{\"field\":\"x\"},\"y\":{\"field\":\"y\"}},\"id\":\"7a4bc5d7-1885-425b-a174-b977feb43b0e\",\"type\":\"Circle\"},{\"attributes\":{\"data_source\":{\"id\":\"ea4a41cb-6fcb-46b9-8b9c-c3a9d02b3298\",\"type\":\"ColumnDataSource\"},\"glyph\":{\"id\":\"56eb341c-dec4-4330-b99f-8f0be061c4e0\",\"type\":\"Circle\"},\"hover_glyph\":null,\"muted_glyph\":null,\"nonselection_glyph\":{\"id\":\"fd156735-0dc4-484b-ab71-8ec2429661e0\",\"type\":\"Circle\"},\"selection_glyph\":null,\"view\":{\"id\":\"df975169-1ee9-44fa-ba4c-413f161cc89e\",\"type\":\"CDSView\"}},\"id\":\"e269d9a6-3d42-4e18-8e23-a91bf7972616\",\"type\":\"GlyphRenderer\"},{\"attributes\":{\"callback\":null},\"id\":\"0cae9bcf-501a-49e4-b5ee-6f499deb50bd\",\"type\":\"DataRange1d\"},{\"attributes\":{},\"id\":\"2b795dde-87b8-4e4f-a9ee-4e12969b7a69\",\"type\":\"HelpTool\"},{\"attributes\":{\"fill_alpha\":{\"value\":0.1},\"fill_color\":{\"value\":\"#1f77b4\"},\"line_alpha\":{\"value\":0.1},\"line_color\":{\"value\":\"#1f77b4\"},\"size\":{\"units\":\"screen\",\"value\":15},\"x\":{\"field\":\"x\"},\"y\":{\"field\":\"y\"}},\"id\":\"005d9e05-5f38-4283-a968-75545e1288e2\",\"type\":\"Circle\"},{\"attributes\":{},\"id\":\"119c324b-516d-4fe2-b63b-4d1da8b56a6d\",\"type\":\"PanTool\"},{\"attributes\":{\"data_source\":{\"id\":\"7c496a0d-157d-48da-8164-db4d1ac6dffc\",\"type\":\"ColumnDataSource\"},\"glyph\":{\"id\":\"7a4bc5d7-1885-425b-a174-b977feb43b0e\",\"type\":\"Circle\"},\"hover_glyph\":null,\"muted_glyph\":null,\"nonselection_glyph\":{\"id\":\"f60fb65d-3e23-4873-bcff-7dd5d4f45c69\",\"type\":\"Circle\"},\"selection_glyph\":null,\"view\":{\"id\":\"bd26efde-fe6b-4260-a5d1-dd4c5f8f8908\",\"type\":\"CDSView\"}},\"id\":\"6c66c6bb-5a84-42b2-ad4c-5684655dc312\",\"type\":\"GlyphRenderer\"},{\"attributes\":{\"callback\":null},\"id\":\"4a89c220-d4a9-4f5e-a61d-3943ddaf845b\",\"type\":\"DataRange1d\"},{\"attributes\":{\"source\":{\"id\":\"af5c9833-1e6f-418c-adf4-0d44ffce8a0f\",\"type\":\"ColumnDataSource\"}},\"id\":\"6874afd2-fcb2-4888-bef6-e07b61caca0d\",\"type\":\"CDSView\"},{\"attributes\":{},\"id\":\"00ac1805-383a-4819-8736-039ef7c52589\",\"type\":\"LinearScale\"},{\"attributes\":{\"fill_alpha\":{\"value\":0.1},\"fill_color\":{\"value\":\"#1f77b4\"},\"line_alpha\":{\"value\":0.1},\"line_color\":{\"value\":\"#1f77b4\"},\"size\":{\"units\":\"screen\",\"value\":15},\"x\":{\"field\":\"x\"},\"y\":{\"field\":\"y\"}},\"id\":\"fd156735-0dc4-484b-ab71-8ec2429661e0\",\"type\":\"Circle\"},{\"attributes\":{\"source\":{\"id\":\"7c496a0d-157d-48da-8164-db4d1ac6dffc\",\"type\":\"ColumnDataSource\"}},\"id\":\"bd26efde-fe6b-4260-a5d1-dd4c5f8f8908\",\"type\":\"CDSView\"},{\"attributes\":{\"overlay\":{\"id\":\"c1c58e25-bd41-48f5-83af-d617828909ac\",\"type\":\"BoxAnnotation\"}},\"id\":\"b74591d4-2530-4e56-b3db-c906b44f79d1\",\"type\":\"BoxZoomTool\"},{\"attributes\":{\"background_fill_color\":{\"value\":\"#eeeeee\"},\"below\":[{\"id\":\"6fd9640a-74fa-492c-804e-3059153d28e0\",\"type\":\"LinearAxis\"}],\"left\":[{\"id\":\"3acd52e5-1c1c-42a8-886f-2c58f4c03a8b\",\"type\":\"LinearAxis\"}],\"renderers\":[{\"id\":\"6fd9640a-74fa-492c-804e-3059153d28e0\",\"type\":\"LinearAxis\"},{\"id\":\"8e60f4c3-db0e-4eb6-8813-4a756cf3de64\",\"type\":\"Grid\"},{\"id\":\"3acd52e5-1c1c-42a8-886f-2c58f4c03a8b\",\"type\":\"LinearAxis\"},{\"id\":\"ad407e21-15af-4a52-a470-40c7840762cb\",\"type\":\"Grid\"},{\"id\":\"c1c58e25-bd41-48f5-83af-d617828909ac\",\"type\":\"BoxAnnotation\"},{\"id\":\"e269d9a6-3d42-4e18-8e23-a91bf7972616\",\"type\":\"GlyphRenderer\"},{\"id\":\"6c66c6bb-5a84-42b2-ad4c-5684655dc312\",\"type\":\"GlyphRenderer\"},{\"id\":\"10bbfadb-09fd-4321-8746-e95b6eb014b4\",\"type\":\"GlyphRenderer\"}],\"title\":{\"id\":\"01676c19-72ef-485b-a10b-40a5119f6669\",\"type\":\"Title\"},\"toolbar\":{\"id\":\"a974d6a7-422b-4848-b653-136d3267e6b6\",\"type\":\"Toolbar\"},\"toolbar_location\":null,\"x_range\":{\"id\":\"0cae9bcf-501a-49e4-b5ee-6f499deb50bd\",\"type\":\"DataRange1d\"},\"x_scale\":{\"id\":\"00ac1805-383a-4819-8736-039ef7c52589\",\"type\":\"LinearScale\"},\"y_range\":{\"id\":\"4a89c220-d4a9-4f5e-a61d-3943ddaf845b\",\"type\":\"DataRange1d\"},\"y_scale\":{\"id\":\"8027b896-b0e5-4a35-8aee-6a26bb9931f0\",\"type\":\"LinearScale\"}},\"id\":\"e83b2b10-7789-4e62-8959-dfd9c4e6fb6f\",\"subtype\":\"Figure\",\"type\":\"Plot\"},{\"attributes\":{},\"id\":\"8027b896-b0e5-4a35-8aee-6a26bb9931f0\",\"type\":\"LinearScale\"},{\"attributes\":{\"dimension\":1,\"grid_line_color\":{\"value\":null},\"plot\":{\"id\":\"e83b2b10-7789-4e62-8959-dfd9c4e6fb6f\",\"subtype\":\"Figure\",\"type\":\"Plot\"},\"ticker\":{\"id\":\"adf56816-23a8-449d-9140-27d13b656470\",\"type\":\"BasicTicker\"}},\"id\":\"ad407e21-15af-4a52-a470-40c7840762cb\",\"type\":\"Grid\"},{\"attributes\":{\"callback\":null,\"column_names\":[\"x\",\"y\"],\"data\":{\"x\":{\"__ndarray__\":\"yF41yX4TsT+sYqoos4/dP4ToK3rmbeG/pPqJ7zClC0BCAAc/l/b5P5C9ENIM9sG/APQTTCSvpb/AQYOIbtz8v76jPozbYQhAOM4Ao6N74D8yPCctdnb6v6iJLwEx/RBAKhMefBdP9D8LlQkgfpfxP8FNaIsQIwdAUYW6S+D34z/ZoEHcs4YFwP6FcWChrwFAdLfpNHq5BEDx4rF0POwFQII4+vTSjvq/1C0e1edg4z9Q4BOdZ5H0vz61hKKamvs/AoZGFciG47+M0kGDlK3fv8BrTq3Cn9I/GjVGlj685j+h1qtVITkLQDAbKlT/ENu/LAjrmOnO479eGkugle4BQHiVrrVGy9C/0DENpIEu0r9bLiJUkt0EQAg8lLHAy90/TN+FBeRIBkAMDQChSLn6P5ibLjqbD9o/24/UerrU7j+aNPErDPvtv3I1/3z3xBBA7A4kjKU1+j+bA9nJ5fD0P5a+oLJY7ANA2ICETX6l1b/ocULuz1b4vzdpjEaWO/M/khYpVIIFEkA6L6diNj/WP89/hEUWEQ5ARcek+uea9j8k6MIcwNXtv+BqolaMw74/mustJ5Fh8z9gKUHWKXPzv4EsuBJpUfY/XBTmi+Eg9D9m4ploTcYDQDIPrDlbqeo/1/qsQ9en+j9ioMvr3aMHQPSll8y+qgBAaFzgfjzpAECUSZ3J83b0P+5ibMBcNuy/mGbZsEUa+z8uuvpJsvgAQHiqhtso8wVAyLy56iAL/D9YsBvD3yLgv+SxKRGOOwZA21DZGaI1BEB6341VVT/6P55n46DLXe0/f2yWrb3yA8BCKpMRbCPmv3zB0Z57G94//DGWMA9wDEB+yucIYk0LwGZwI9xTRew/BIGs/8fr6D/AsLBEDozyP1wk2EFqOfK/zAVkkF5n/D8mOHurwJIAQPCweNXHKtc/rPlqyyHGD0A8OujyW877v8tcwZk9EhdArKOV+S333z9wUsggDo69P7hRaoLCVxNAGGg6xkwj/b+Vys5ebm/qP6BAOrjbPPc/wro8Eet9EkDy9h71KsjuP1Sd527JkO8/qsxPaSaeDEB+bkuJuETgPyh3BJ0bxOK/MoCMgjM0DkCADFeLJfH5PyDIGxSLALk/d2RG+6xL+z8IGMXVnsruv2gthj517dC/wC1R077rCEByUz2qzrIBQHiCEbJeyvu/buFO97wa+b+KxVGCxsEAQGDoRvlIqb2/cugtKWRN77/G6Mn6Sxz5PwTjOHsqiwBAIOGqU3RB678yiPODgSf8P5od75G8FgNAvqE4YbAi9j+qIEqbXc4PQFTeLw84t+6/tL/1kx7e1b80CN+g/LYIQEx2pp6qV+A/AKsdInpa878gbeNqV6/2v7639xMd7/A/eYD2O00v7T+UAORlrprNP8BJsifuNpc/CFHwOA5WA0DgdGJQzGq0P+paGDWaDwhAKHSWCZsbEUB7BXywGoURQPo+URjCDg1AVHMmaL4n5L8YJBv9nWv7v5bXxgFqzQRAeCz+Gj9b0z/lv/dv9CMCQFJVec9Jkua/NM8NqEEy/b+qX7IntFvjP5ePlY/HPeQ/WMkv69Hj2b9ZgAT58OAFQB3U4l+E+P4/2uhmgzVo47/I0wcLuIPNPx3/+CMw+wXAsqHxdv6cBUA4KfNt7nzTv55jW1yUhfI//Fy2uVL96b+DcLj/alACQMiLR8mLV/Y/LOynatsR8r/a8rkayAMEQC3gQRUwK/s/ysV8zvJD5r/8eub2OvfXP5r9gbN84OM/lEfo9xmX8r9DFeTs890RQBP40sjgwPQ/+GazNOkdzT9I6U5riYr6P06oZEagFg5A6Gm9ML5R8z+wAFAIkEfOP4Kdc2JDMwBAZQV5OLqRA0DKxLF9EmURQLLmUjMMzOM/nDRVRqKs8z+QStVQxjsAQAwlcSPLSNw/h9OUEIZhAUA81QvQTYXSvxamMKDite+/QpFKIhXv9D8W332YcRb4P9juOPWFTdy/A2VbXZ1C+D9O4nUtyyHnvzqL0ySjKQNA9M4hj6BA/L8gd/Ci1ESnP6yCaA7KU/Y/8Do25jZZ4b+QOPFO6yvRv3quieAvjP0/UhPnVIlz8D+AQrI+y6nBP1g1xWkxq/u/amQtcclK7L+XkscCxBgRQIHs9avw5wJAWtD0Mvav/j9Lu1zmj/gOQLCzDSSgXuG/uu3nW9gV+j/ETxktvLLiPwyf0c/0YOs/+kvKabDD/T+8leHfE+rtPx8GxHA2dfE/+Fxs/l74CMBMgCd1t/3dv34QnX9SavC/YrykcpUB6T+6jvfvYR8CwKmGkWqtvwRAmsaREFyjDsAS16IAzNH8vxVPIg3wOv4/5doR3bsoBUD0YF3AZxPiPzpae9UdBAVAIwEcsQYDEUCU7RfOeFPZPwQphul39e6/TPE5qU4cyz//LiKWCbUGQI1J2zGXfAtAXJahdK6HDkAc2qZAnyoQQDIBa/loXAdAy5z5WVjG+j8IvarK9nPav4769PaL9PM/sONzb4Uj5L+PhUZoSboFQB7+bJ+rj+8/4jC4BPA5DMCXqhEeDy7zP7wbMfGPTf6/3LgRjI60CECSnWFznrn8P2+ZUkl83gpAqpoVkKze2D8TteAeG4kEQGB8ewQCFcY/YgDXmqbsC0BgNA40UeXlv0ZexizfOvo/9O58Lz3w9j8AVZGP02B7P+5+oCOnUAXAE6GgaPVd4j9PXGaqFC/3P00P+SjIJgFAAYL3SGVvAkAmGLS8KMILQIyo/skSrQtAw+ROuvwbBECwPy4+rQjFv57PruPJCAbAc42TYagSFEDkGQT3YQQBQCZ7YAe22g1ABoyDaMB+EcC0wyx1v5z2PxwLxeM3lvq/4J03H+yTsD8i8vdoZqbyP8AR3kXCad+/snep1yWo+7+8Kc5iQkzmv2J0fGFGKwBA8JRKCXU47L8szDsX5tUAQCB+0Jm2CMu/MHGxVPv5wb+c+kex2YThPzV9+KrL7hBAmMuDukprFkCO8cs6gILovzZgY8wwyQNAsNPmBY6E4r/q5+fWr8YDwPK0++h4QQ1AwghA/7v04z8aN75SXi8LQFio6P8YL/E/LVOfe8wRB0CAdLNJ2t6aP8DsohOVQNm/LpTF0ilNCkDaMrd4r40IQGBnnyMqDQlASnWl658/BUD8Zf92P4HmP7D9TbgZZ8U/kMJRjcHA1L8+HSZbn0ziPxApoLL5C7q/2FnskuiHwz8ShD0w9u/iP/xHCEetPQlAmMfm/HFX+T/SUQGM9fADQKKYwkhLT+G/9C16hGrJCUB67Jo1iJ/qP2RFjOaOnAJA/0t86JH7CUA4qSn9eTrZPzhHgapXHMS/WDX9EajMEkAE/JAzFxcGQFDIigKradu/0hwJ/7kKDEAiuzd+6rgLQDBspUCx9gJAonQf1a++/T9CpbyL0hL3P7G9CUewvwtAYv0OD4+AA8Cw0RKpOvbYPybZt8S6MN8/uDHXhKIfEUAPbjh0kiMcQJC5g73idem/eXNWgp0kBkA6grNtcKXmv3k30OTRrvA/6ClfV+T33L8fjVA3P+ryPwIG6voBaPw/ZNt5hLYw3r/6/JJzZM/0v+5+BjoitPw/4P8Oecng+7+ARjZxi8aIP7pCtO4QXgVAKcxkMNlhA0AWzMILFv/wP+CscH257vY/FDeAxRIq8D8Ve8KRQcEEQKg+XDI277w/5it3hve3DUCDm4shCeAEQO9m6ROx1vQ/WEXTWg8C2D9AL0A9DGroP+DZE82SouA/UiHdHQ84CECguDLigpPdP96AAynxiOc/oOvyAZwf5r9um0CGMpADQJixe0I+3Lo/4MGX1HTP0L/Q+AgPpTcHwBzhceyql/A/3N//6HTg6z9Ek+BygS/dv4GnpdsoY/I/k1nGEo+DB8BamaAIbFr7vyPR+H2nIfY/fK+J1F2t8b9y4I/fZysHQPDjMvgJBQtAcgeKCv/RE8A4rpkGlZbdv8oS6hegVt0/TpjKYvZ7AECcuJ1hF4vbP3JUGHjWLuk/A1ud++6G9D+K+OrSDlMBQMlNHsQShvE/MN2Kouk61T8Kn9XJ05QGQBOZEjCifvU/DPbIQSvPA8Cy0TXjIaj3P4Ee8xiWRPk/xp67/G4kAEC8dDrrEen0v1VldypuBQNAc875FXToBEBM3Sui0RPRv0DqN8pf8aq/dsjW6ob9479gXidO4V6nP3HdYqEJNvM/tssDYWrp978Ao1U4uivwP2aOkbMx3ek/aGEwtOLa4783DMfEZJT7P1cpwiixNP4/9+2knPNvBkC0kPO6QEsBQNS7Nw7kBe6/kOBoAGXUtb+YChM1zbnFv1igWrmoWPe/sMTAhIqF9b/sUS+ee98BQCYzgT4+/uW/GADejCfX179A7StBLvsCQAxH1qvzEgNARLrRbugKFkA9ZFv4advqP/LaIOtzS/Q/OOBnb1Bt9r9BNsDTbLT3P19sORQYlgdAue/JE4+y+D9uCmbIP5kAQFuiRiCt/P0/ueMEs0laAEANx4zQvlv1P1BzsRLANrM/9jXnN5cMDkDQY0KCz6j9P3wODVD+59A/ubRAWlQk9D+RVc1BqzDtP2V/6t/B/+k/s/XGaGeB5T9wK+BAQHyyP6TTkGPUY+2/bCfd7Enl/D9Gb5Zu9wkFwCurP6AK0glAsIpGZrn6C0BY11aR9tjFvxrw0SMCDt0/zBrn+R5b5j9Jef5UMh8KQKS7OH3BKtk/FBry2g0r9D8kCGqnj+rdv9g1ibN0VOm/oIwjlGMwzD841VxxzszCvy6MhyqSpgVA7rJeigymAEDMQQoI3m3cP0ZWYowdIuI/pdHbKiIbB8CZ8QdwjB8LQBanW4pQBuC/q9eHwLZi/D+O53IfJmf/P+xVovN9HgRA5kVzTuGKFEDrbq0cmEPvP9M4KUNLWgbAuDLId6w81b8mfW3BI0cEQMDxx1/MdP+/GH/B1LuWwT+hmixVdNv7P64OOsddUvk/XmkqC9Jn7L8Cze6uoJrxP3B0JEWIn+u/JtfOEeUH+D/OlhHbnUX+vw60fgA90Oi/WQ8kxsLFDEA12YCgYAnhP7y1p/aE1vo/mFRtyF9M8z8mrJgFNn4BQNktvJuwswJAcq+zMCgV+D+cG4/bHHcDQEdD/7nM2gBArkdw/S8U9r86B38H31YEQJBFqJHAutw/1u4I6U9x0j/AGEG4R9GpP7Kv7LaLewJAOq89kq2WBMC6y4DMkpADQFSffjMTpN6/XG4lP2836j9QLug8wTLHv4TJ9rEKAue/uOdK3sZP9j8A9z3Q6mOWv9cGrorhJQDA9eqdEQiUCkAxsaIEj1btP8rzqm7UCvS/dkI1X0OzEkA=\",\"dtype\":\"float64\",\"shape\":[499]},\"y\":{\"__ndarray__\":\"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\",\"dtype\":\"float64\",\"shape\":[499]}}},\"id\":\"af5c9833-1e6f-418c-adf4-0d44ffce8a0f\",\"type\":\"ColumnDataSource\"},{\"attributes\":{},\"id\":\"9c7a5c7c-adfa-43ac-83b0-5c727c259574\",\"type\":\"BasicTicker\"},{\"attributes\":{\"active_drag\":\"auto\",\"active_inspect\":\"auto\",\"active_scroll\":\"auto\",\"active_tap\":\"auto\",\"tools\":[{\"id\":\"119c324b-516d-4fe2-b63b-4d1da8b56a6d\",\"type\":\"PanTool\"},{\"id\":\"e460041e-2d14-4619-93f9-3348e1a7e544\",\"type\":\"WheelZoomTool\"},{\"id\":\"b74591d4-2530-4e56-b3db-c906b44f79d1\",\"type\":\"BoxZoomTool\"},{\"id\":\"d673ea3a-ebbd-4cc3-b2e5-66945ccf9c1b\",\"type\":\"SaveTool\"},{\"id\":\"f8ce7ef6-58eb-4ccb-b2c4-c863689e854e\",\"type\":\"ResetTool\"},{\"id\":\"2b795dde-87b8-4e4f-a9ee-4e12969b7a69\",\"type\":\"HelpTool\"}]},\"id\":\"a974d6a7-422b-4848-b653-136d3267e6b6\",\"type\":\"Toolbar\"},{\"attributes\":{\"source\":{\"id\":\"ea4a41cb-6fcb-46b9-8b9c-c3a9d02b3298\",\"type\":\"ColumnDataSource\"}},\"id\":\"df975169-1ee9-44fa-ba4c-413f161cc89e\",\"type\":\"CDSView\"},{\"attributes\":{\"data_source\":{\"id\":\"af5c9833-1e6f-418c-adf4-0d44ffce8a0f\",\"type\":\"ColumnDataSource\"},\"glyph\":{\"id\":\"cec3f329-ea00-4d63-9269-a8887df20946\",\"type\":\"Circle\"},\"hover_glyph\":null,\"muted_glyph\":null,\"nonselection_glyph\":{\"id\":\"005d9e05-5f38-4283-a968-75545e1288e2\",\"type\":\"Circle\"},\"selection_glyph\":null,\"view\":{\"id\":\"6874afd2-fcb2-4888-bef6-e07b61caca0d\",\"type\":\"CDSView\"}},\"id\":\"10bbfadb-09fd-4321-8746-e95b6eb014b4\",\"type\":\"GlyphRenderer\"},{\"attributes\":{\"callback\":null,\"column_names\":[\"x\",\"y\"],\"data\":{\"x\":{\"__ndarray__\":\"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\",\"dtype\":\"float64\",\"shape\":[501]},\"y\":{\"__ndarray__\":\"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\",\"dtype\":\"float64\",\"shape\":[501]}}},\"id\":\"ea4a41cb-6fcb-46b9-8b9c-c3a9d02b3298\",\"type\":\"ColumnDataSource\"},{\"attributes\":{},\"id\":\"c44c508c-09fd-46d7-9de8-c9051e819b7c\",\"type\":\"BasicTickFormatter\"},{\"attributes\":{},\"id\":\"f8ce7ef6-58eb-4ccb-b2c4-c863689e854e\",\"type\":\"ResetTool\"},{\"attributes\":{},\"id\":\"adf56816-23a8-449d-9140-27d13b656470\",\"type\":\"BasicTicker\"},{\"attributes\":{\"fill_alpha\":{\"value\":0.5},\"fill_color\":{\"value\":\"blue\"},\"line_alpha\":{\"value\":0.5},\"line_color\":{\"value\":\"navy\"},\"size\":{\"units\":\"screen\",\"value\":15},\"x\":{\"field\":\"x\"},\"y\":{\"field\":\"y\"}},\"id\":\"56eb341c-dec4-4330-b99f-8f0be061c4e0\",\"type\":\"Circle\"},{\"attributes\":{\"plot\":null,\"text\":\"Found Clusters\"},\"id\":\"01676c19-72ef-485b-a10b-40a5119f6669\",\"type\":\"Title\"},{\"attributes\":{},\"id\":\"e460041e-2d14-4619-93f9-3348e1a7e544\",\"type\":\"WheelZoomTool\"},{\"attributes\":{\"formatter\":{\"id\":\"cb5f9f8a-8338-4708-8acb-d582273732af\",\"type\":\"BasicTickFormatter\"},\"plot\":{\"id\":\"e83b2b10-7789-4e62-8959-dfd9c4e6fb6f\",\"subtype\":\"Figure\",\"type\":\"Plot\"},\"ticker\":{\"id\":\"9c7a5c7c-adfa-43ac-83b0-5c727c259574\",\"type\":\"BasicTicker\"}},\"id\":\"6fd9640a-74fa-492c-804e-3059153d28e0\",\"type\":\"LinearAxis\"}],\"root_ids\":[\"e83b2b10-7789-4e62-8959-dfd9c4e6fb6f\"]},\"title\":\"Bokeh Application\",\"version\":\"0.12.14\"}};\n",
       "  var render_items = [{\"docid\":\"c2887878-7545-4379-b047-8ff6443904da\",\"elementid\":\"6904730b-7657-463f-a59f-b6f04282dc77\",\"modelid\":\"e83b2b10-7789-4e62-8959-dfd9c4e6fb6f\"}];\n",
       "  root.Bokeh.embed.embed_items_notebook(docs_json, render_items);\n",
       "\n",
       "  }\n",
       "  if (root.Bokeh !== undefined) {\n",
       "    embed_document(root);\n",
       "  } else {\n",
       "    var attempts = 0;\n",
       "    var timer = setInterval(function(root) {\n",
       "      if (root.Bokeh !== undefined) {\n",
       "        embed_document(root);\n",
       "        clearInterval(timer);\n",
       "      }\n",
       "      attempts++;\n",
       "      if (attempts > 100) {\n",
       "        console.log(\"Bokeh: ERROR: Unable to run BokehJS code because BokehJS library is missing\")\n",
       "        clearInterval(timer);\n",
       "      }\n",
       "    }, 10, root)\n",
       "  }\n",
       "})(window);"
      ],
      "application/vnd.bokehjs_exec.v0+json": ""
     },
     "metadata": {
      "application/vnd.bokehjs_exec.v0+json": {
       "id": "e83b2b10-7789-4e62-8959-dfd9c4e6fb6f"
      }
     },
     "output_type": "display_data"
    }
   ],
   "source": [
    "f4 = figure(title=\"Found Clusters\", toolbar_location=None)\n",
    "f4.grid.grid_line_color = None\n",
    "f4.background_fill_color = \"#eeeeee\"\n",
    "\n",
    "\n",
    "\n",
    "mscatter(f4, D1[0,:], D1[1,:], \"circle\", \"blue\")\n",
    "\n",
    "mscatter(f4, D2[0,:], D2[1,:], \"circle\", \"red\")\n",
    "\n",
    "mscatter(f4, D3[0,:], D3[1,:], \"circle\", \"yellow\")\n",
    "\n",
    "show(f4)"
   ]
  },
  {
   "cell_type": "markdown",
   "metadata": {},
   "source": [
    "### Well, we got the colors flipped, but those look about the same as the sets generated!"
   ]
  }
 ],
 "metadata": {
  "kernelspec": {
   "display_name": "Python 3",
   "language": "python",
   "name": "python3"
  },
  "language_info": {
   "codemirror_mode": {
    "name": "ipython",
    "version": 3
   },
   "file_extension": ".py",
   "mimetype": "text/x-python",
   "name": "python",
   "nbconvert_exporter": "python",
   "pygments_lexer": "ipython3",
   "version": "3.6.4"
  }
 },
 "nbformat": 4,
 "nbformat_minor": 2
}
