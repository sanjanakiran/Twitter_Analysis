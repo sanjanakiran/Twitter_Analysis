{
 "cells": [
  {
   "cell_type": "markdown",
   "metadata": {},
   "source": [
    "# CIS600 - Social Media & Data Mining\n",
    "###  \n",
    "<img src=\"https://www.syracuse.edu/wp-content/themes/g6-carbon/img/syracuse-university-seal.svg?ver=6.3.9\" style=\"width: 200px;\"/>\n",
    "\n",
    "# Twitter Again\n",
    "\n",
    "###  February 20, 2018"
   ]
  },
  {
   "cell_type": "markdown",
   "metadata": {},
   "source": [
    "# The Midterm"
   ]
  },
  {
   "cell_type": "markdown",
   "metadata": {},
   "source": [
    "- Python\n",
    "- Graph Theory\n",
    "- Social Media Concepts"
   ]
  },
  {
   "cell_type": "markdown",
   "metadata": {},
   "source": [
    "### The midterm exam will answer the question \"Have you been paying attention?\" There will be no difficult theory, and it is not meant to assess deep knowledge of any particular thing we have touched on."
   ]
  },
  {
   "cell_type": "markdown",
   "metadata": {},
   "source": [
    "### You will get a sample midterm later this week."
   ]
  },
  {
   "cell_type": "markdown",
   "metadata": {},
   "source": [
    "### Questions?"
   ]
  },
  {
   "cell_type": "code",
   "execution_count": 1,
   "metadata": {
    "collapsed": true
   },
   "outputs": [],
   "source": [
    "import json\n",
    "import pandas as pd"
   ]
  },
  {
   "cell_type": "code",
   "execution_count": 2,
   "metadata": {
    "collapsed": true
   },
   "outputs": [],
   "source": [
    "from twitter import *"
   ]
  },
  {
   "cell_type": "code",
   "execution_count": 3,
   "metadata": {
    "collapsed": true
   },
   "outputs": [],
   "source": [
    "# Loading my authentication tokens\n",
    "with open('auth_dict','r') as f:\n",
    "    twtr_auth = json.load(f)\n",
    "\n",
    "# To make it more readable, lets store\n",
    "# the OAuth credentials in strings first.\n",
    "CONSUMER_KEY = twtr_auth['consumer_key']\n",
    "CONSUMER_SECRET = twtr_auth['consumer_secret']\n",
    "OAUTH_TOKEN = twtr_auth['token']\n",
    "OAUTH_TOKEN_SECRET = twtr_auth['token_secret']\n",
    "    \n",
    "# Then, we store the OAuth object in \"auth\"\n",
    "auth = OAuth(OAUTH_TOKEN, OAUTH_TOKEN_SECRET,\n",
    "                           CONSUMER_KEY, CONSUMER_SECRET)\n",
    "# Notice that there are four tokens - you need to create these in the\n",
    "# Twitter Apps dashboard after you have created your own \"app\".\n",
    "\n",
    "# We now create the twitter search object.\n",
    "t = Twitter(auth=auth)"
   ]
  },
  {
   "cell_type": "markdown",
   "metadata": {},
   "source": [
    "# The Friendship Graph"
   ]
  },
  {
   "cell_type": "markdown",
   "metadata": {},
   "source": [
    "### Let's step through *Crawling a Friendship Graph* from *Mining the Social Web*"
   ]
  },
  {
   "cell_type": "markdown",
   "metadata": {},
   "source": [
    "### From the text:\n",
    "> You’d like to harvest the IDs of a user’s followers, followers of those followers, followers\n",
    "of followers of those followers, and so on, as part of a network analysis—essentially\n",
    "crawling a friendship graph of the “following” relationships on Twitter."
   ]
  },
  {
   "cell_type": "markdown",
   "metadata": {},
   "source": [
    "### Note that there is a distinction between followers and *reciprocal* followers - two users who follow one another. Let's call two users following each other *reciprocal friends*."
   ]
  },
  {
   "cell_type": "markdown",
   "metadata": {},
   "source": [
    "### Rmk: this is distinguished from Twitter's own notion of *friend*: someone a user is following. Yes, \"friend\" is a tehnical term from Twitter and the API uses it."
   ]
  },
  {
   "cell_type": "markdown",
   "metadata": {},
   "source": [
    "### Our ultimate goal is to do analysis on the results of our Twitter mining and then to visualize that analysis. In particular, you will apply community detection to the friendship graph. Further steps could include *profiling* the communities discovered and even *classifying* users - assigning them to a given community - according to predictive account features not used in the initial pattern discovery. That's a good idea for a project."
   ]
  },
  {
   "cell_type": "markdown",
   "metadata": {},
   "source": [
    "### To begin, we will write a function that harvests IDs of friends *or* followers of a user. Recall from last time our function *make_twitter_request*. We will use it here."
   ]
  },
  {
   "cell_type": "code",
   "execution_count": 4,
   "metadata": {
    "collapsed": true
   },
   "outputs": [],
   "source": [
    "import sys\n",
    "import time\n",
    "from twitter.api import TwitterHTTPError\n",
    "from urllib.error import URLError\n",
    "from http.client import BadStatusLine\n",
    "\n",
    "def make_twitter_request(twitter_api_func, max_errors=10, *args, **kw):\n",
    "    # A nested helper function that handles common HTTPErrors. Return an updated\n",
    "    # value for wait_period if the problem is a 500 level error. Block until the\n",
    "    # rate limit is reset if it's a rate limiting issue (429 error). Returns None\n",
    "    # for 401 and 404 errors, which requires special handling by the caller.\n",
    "    def handle_twitter_http_error(e, wait_period=2, sleep_when_rate_limited=True):\n",
    "        if wait_period > 3600: # Seconds\n",
    "            print('Too many retries. Quitting.', file=sys.stderr)\n",
    "            raise e\n",
    "        if e.e.code == 401:\n",
    "            return None\n",
    "        elif e.e.code == 404:\n",
    "            print('Encountered 404 Error (Not Found)', file=sys.stderr)\n",
    "            return None\n",
    "        elif e.e.code == 429:\n",
    "            print('Encountered 429 Error (Rate Limit Exceeded)', file=sys.stderr)\n",
    "            if sleep_when_rate_limited:\n",
    "                print(\"Retrying in 15 minutes...ZzZ...\", file=sys.stderr)\n",
    "                sys.stderr.flush()\n",
    "                time.sleep(60*15 + 5)\n",
    "                print('...ZzZ...Awake now and trying again.', file=sys.stderr)\n",
    "                return 2\n",
    "            else:\n",
    "                raise e # Caller must handle the rate limiting issue\n",
    "        elif e.e.code in (500, 502, 503, 504):\n",
    "            print('Encountered %i Error. Retrying in %i seconds' % (e.e.code, wait_period), file=sys.stderr)\n",
    "            time.sleep(wait_period)\n",
    "            wait_period *= 1.5\n",
    "            return wait_period\n",
    "        else:\n",
    "            raise e\n",
    "\n",
    "    # End of nested helper function\n",
    "\n",
    "    wait_period = 2\n",
    "    error_count = 0\n",
    "    while True:\n",
    "        try:\n",
    "            return twitter_api_func(*args, **kw)\n",
    "        except TwitterHTTPError as e:\n",
    "            error_count = 0\n",
    "            wait_period = handle_twitter_http_error(e, wait_period)\n",
    "            if wait_period is None:\n",
    "                return\n",
    "        except URLError as e:\n",
    "            error_count += 1\n",
    "            print(\"URLError encountered. Continuing.\", file=sys.stderr)\n",
    "            if error_count > max_errors:\n",
    "                print(\"Too many consecutive errors...bailing out.\", file=sys.stderr)\n",
    "                raise\n",
    "        except BadStatusLine as e:\n",
    "            error_count += 1\n",
    "            print >> sys.stderr, \"BadStatusLine encountered. Continuing.\"\n",
    "            if error_count > max_errors:\n",
    "                print(\"Too many consecutive errors...bailing out.\", file=sys.stderr)\n",
    "                raise"
   ]
  },
  {
   "cell_type": "markdown",
   "metadata": {},
   "source": [
    "### Now to define our *get_friends_followers_ids* function."
   ]
  },
  {
   "cell_type": "code",
   "execution_count": 5,
   "metadata": {
    "collapsed": true
   },
   "outputs": [],
   "source": [
    "# This will let us create new partial\n",
    "# functions with arguments set to \n",
    "# certain values.\n",
    "from functools import partial\n",
    "\n",
    "# This was maxint.\n",
    "# There is no longer a maxint (in Python 3)\n",
    "from sys import maxsize\n",
    "\n",
    "\n",
    "def get_friends_followers_ids(twitter_api, screen_name=None, user_id=None,\n",
    "                                friends_limit=maxsize, followers_limit=maxsize):\n",
    "    # Must have either screen_name or user_id (logical xor)\n",
    "    assert (screen_name != None) != (user_id != None), \\\n",
    "    \"Must have screen_name or user_id, but not both\"\n",
    "    \n",
    "    # You can also do this with a function closure.\n",
    "    get_friends_ids = partial(make_twitter_request, twitter_api.friends.ids,\n",
    "                                count=5000)\n",
    "    get_followers_ids = partial(make_twitter_request, twitter_api.followers.ids,\n",
    "                                count=5000)\n",
    "    friends_ids, followers_ids = [], []\n",
    "    for twitter_api_func, limit, ids, label in [\n",
    "            [get_friends_ids, friends_limit, friends_ids, \"friends\"],\n",
    "            [get_followers_ids, followers_limit, followers_ids, \"followers\"]\n",
    "            ]:\n",
    "        #LOOK HERE! This little line is important.\n",
    "        if limit == 0: continue\n",
    "        cursor = -1\n",
    "        while cursor != 0:\n",
    "            # Use make_twitter_request via the partially bound callable...\n",
    "            if screen_name:\n",
    "                response = twitter_api_func(screen_name=screen_name, cursor=cursor)\n",
    "            else: # user_id\n",
    "                response = twitter_api_func(user_id=user_id, cursor=cursor)\n",
    "            if response is not None:\n",
    "                ids += response['ids']\n",
    "                cursor = response['next_cursor']\n",
    "            print('Fetched {0} total {1} ids for {2}'.format(len(ids),\n",
    "                    label, (user_id or screen_name), file=sys.stderr))\n",
    "            if len(ids) >= limit or response is None:\n",
    "                break\n",
    "    # Do something useful with the IDs, like store them to disk...\n",
    "    return friends_ids[:friends_limit], followers_ids[:followers_limit]\n"
   ]
  },
  {
   "cell_type": "code",
   "execution_count": null,
   "metadata": {
    "collapsed": true
   },
   "outputs": [],
   "source": [
    "friends_ids, followers_ids = get_friends_followers_ids(t,\n",
    "                                screen_name=\"ZedShaw\",\n",
    "                                friends_limit=10,\n",
    "                                followers_limit=10)\n",
    "print(friends_ids)\n",
    "print(followers_ids)"
   ]
  },
  {
   "cell_type": "markdown",
   "metadata": {},
   "source": [
    "### We are almost ready to define our own version of the *crawl_followers* function from the text. Instead of writing to MongoDB, we write to a CSV file. Below we define a function that will play the role of *save_to_mongo*. "
   ]
  },
  {
   "cell_type": "code",
   "execution_count": 6,
   "metadata": {
    "collapsed": true
   },
   "outputs": [],
   "source": [
    "# Create a mostly empty data frame,\n",
    "# and write it to a CSV file.\n",
    "df = pd.DataFrame(columns=['ID','followers'])\n",
    "df.to_csv('followers.csv', index=False)\n",
    "\n",
    "# Our function\n",
    "def save_followers(fid, followers):\n",
    "    df = pd.DataFrame([[fid, followers]], columns=['ID','followers'])\n",
    "    with open('followers.csv', 'a') as f:\n",
    "        df.to_csv(f,header=False, index=False)"
   ]
  },
  {
   "cell_type": "markdown",
   "metadata": {},
   "source": [
    "### Note that *save_followers* is hardcoded to write to a particular file. This is generally not the best practice."
   ]
  },
  {
   "cell_type": "markdown",
   "metadata": {},
   "source": [
    "### Below we define *crawl_followers*. How would you change it in order to create a *crawl_friends* function?"
   ]
  },
  {
   "cell_type": "code",
   "execution_count": 7,
   "metadata": {
    "collapsed": true
   },
   "outputs": [],
   "source": [
    "def crawl_followers(twitter_api, screen_name, limit=1000000, depth=2):\n",
    "    \n",
    "    # Resolve the ID for screen_name and start working with IDs for consistency\n",
    "    seed_id = str(twitter_api.users.show(screen_name=screen_name)['id'])\n",
    "    _, next_queue = get_friends_followers_ids(twitter_api, user_id=seed_id,\n",
    "                        friends_limit=0, followers_limit=limit)\n",
    "    \n",
    "    # Store a seed_id => _follower_ids mapping in MongoDB\n",
    "    save_followers(seed_id, ','.join([str(x) for x in next_queue]))\n",
    "    \n",
    "    d = 1\n",
    "    # Note that in the example in the next cell,\n",
    "    # we never enter this loop.\n",
    "    while d < depth:\n",
    "        d += 1\n",
    "        # Reset the next_queue so that we can\n",
    "        # start building up the next level\n",
    "        # of followers-of-followers\n",
    "        (queue, next_queue) = (next_queue, [])\n",
    "        # Loop through the current\n",
    "        # level of followers\n",
    "        for fid in queue:\n",
    "            _, follower_ids = get_friends_followers_ids(twitter_api, user_id=fid,\n",
    "                                friends_limit=0, followers_limit=limit)\n",
    "            # Store an ID with a string recording\n",
    "            # IDs of followers of the user with ID \"fid\"\n",
    "            save_followers(str(fid), ','.join([str(x) for x in follower_ids]))\n",
    "            # Extending the list\n",
    "            next_queue += follower_ids\n"
   ]
  },
  {
   "cell_type": "markdown",
   "metadata": {},
   "source": [
    "### Finally, let's try it and see what we get."
   ]
  },
  {
   "cell_type": "code",
   "execution_count": null,
   "metadata": {
    "collapsed": true
   },
   "outputs": [],
   "source": [
    "screen_name = \"timoreilly\"\n",
    "crawl_followers(t, screen_name, depth=1, limit=10)"
   ]
  },
  {
   "cell_type": "markdown",
   "metadata": {},
   "source": [
    "### Let's do it again, this time letting *crawl_followers* enter its *while* loop."
   ]
  },
  {
   "cell_type": "code",
   "execution_count": null,
   "metadata": {
    "collapsed": true
   },
   "outputs": [],
   "source": [
    "crawl_followers(t, screen_name, depth=2, limit=10)"
   ]
  },
  {
   "cell_type": "markdown",
   "metadata": {},
   "source": [
    "# Assignment 2 - More Details"
   ]
  },
  {
   "cell_type": "markdown",
   "metadata": {},
   "source": [
    "### You must read this in order to do Assignment 2 properly. As stated, it is quite vague and asks that you do something prohibitively expensive in terms of time and API calls to Twitter."
   ]
  },
  {
   "cell_type": "markdown",
   "metadata": {},
   "source": [
    "### You have finite time and resources, therefore *do not attempt to build the entire friendship graph of a user*. Instead follow the steps below."
   ]
  },
  {
   "cell_type": "markdown",
   "metadata": {},
   "source": [
    "1. Select a user to start with.\n",
    "2. Retrieve IDs of that user's friends and followers. These are two lists. You may set the max results, as we have here, to 5000.\n",
    "3. Use the two lists from 2. in order to find the *reciprocal friends* of the user from 1. These are the *distance-1* friends of that user.\n",
    "4. From that list of distance-1 friends, select the **5 most popular** as determined by their **followers_count** values in user profiles. Use, for instance, the *get_user_profile* function from *Mining the Social Web*.\n",
    "5. Repeat steps 2, 3 & 4 for each of the distance-1 friends selected, then distance-2, an so on until you have gathered at least 100 nodes (users) for your social network."
   ]
  },
  {
   "cell_type": "markdown",
   "metadata": {},
   "source": [
    "### After you have built a network in this way, proceed with the network analysis and plotting as described in the Assignment 2 file on BB."
   ]
  },
  {
   "cell_type": "markdown",
   "metadata": {},
   "source": [
    "### Example - Finding Reciprocal Friends"
   ]
  },
  {
   "cell_type": "code",
   "execution_count": 14,
   "metadata": {},
   "outputs": [],
   "source": [
    "# Selecting a user\n",
    "screen_name = 'zedshaw'\n",
    "\n",
    "# Getting friends' ids\n",
    "response = make_twitter_request(t.friends.ids,\n",
    "                                screen_name=screen_name, count = 5000)\n",
    "friends = response[\"ids\"]\n",
    "\n",
    "# Getting followers' ids\n",
    "response = make_twitter_request(t.followers.ids,\n",
    "                                screen_name=screen_name, count = 5000)\n",
    "followers = response[\"ids\"]\n",
    "\n",
    "# Computing reciprocal friends\n",
    "reciprocal_friends = set(friends) & set(followers)"
   ]
  },
  {
   "cell_type": "code",
   "execution_count": null,
   "metadata": {
    "collapsed": true
   },
   "outputs": [],
   "source": [
    "reciprocal_friends"
   ]
  }
 ],
 "metadata": {
  "kernelspec": {
   "display_name": "Python 3",
   "language": "python",
   "name": "python3"
  },
  "language_info": {
   "codemirror_mode": {
    "name": "ipython",
    "version": 3
   },
   "file_extension": ".py",
   "mimetype": "text/x-python",
   "name": "python",
   "nbconvert_exporter": "python",
   "pygments_lexer": "ipython3",
   "version": "3.6.3"
  }
 },
 "nbformat": 4,
 "nbformat_minor": 2
}
