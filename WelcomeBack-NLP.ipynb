{
 "cells": [
  {
   "cell_type": "markdown",
   "metadata": {},
   "source": [
    "# CIS600 - Social Media & Data Mining\n",
    "###  \n",
    "<img src=\"https://www.syracuse.edu/wp-content/themes/g6-carbon/img/syracuse-university-seal.svg?ver=6.3.9\" style=\"width: 200px;\"/>\n",
    "\n",
    "# NLP Again\n",
    "\n",
    "###  March 20, 2018"
   ]
  },
  {
   "cell_type": "markdown",
   "metadata": {},
   "source": [
    "### Using built-in (included in `nltk`) corpora, we can build classifiers that will automatically tag new documents with appropriate *category labels* (in this case, *pos* or *neg*)."
   ]
  },
  {
   "cell_type": "markdown",
   "metadata": {},
   "source": [
    "### First we construct a list of documents, labelled with their categories."
   ]
  },
  {
   "cell_type": "markdown",
   "metadata": {},
   "source": [
    "### For this example, we've chosen the Movie Reviews corpus, which categorizes each review as positive or negative."
   ]
  },
  {
   "cell_type": "code",
   "execution_count": 6,
   "metadata": {
    "collapsed": true
   },
   "outputs": [],
   "source": [
    "# We'll need numpy, as usual\n",
    "import numpy as np\n",
    "\n",
    "# Importing some data\n",
    "from nltk.corpus import movie_reviews\n",
    "\n",
    "# Getting review ids with pos/neg for each\n",
    "documents = [(list(movie_reviews.words(fileid)), category)\n",
    "                for category in movie_reviews.categories()\n",
    "                    for fileid in movie_reviews.fileids(category)]\n",
    "\n",
    "# Mixing up the order\n",
    "np.random.shuffle(documents)"
   ]
  },
  {
   "cell_type": "code",
   "execution_count": null,
   "metadata": {
    "collapsed": true
   },
   "outputs": [],
   "source": [
    "help(np.random.shuffle)"
   ]
  },
  {
   "cell_type": "markdown",
   "metadata": {},
   "source": [
    "### Next, we define a feature extractor for documents so that the classifier will know which aspects of the data to pay attention to."
   ]
  },
  {
   "cell_type": "code",
   "execution_count": 12,
   "metadata": {
    "collapsed": true
   },
   "outputs": [],
   "source": [
    "import nltk\n",
    "\n",
    "# All words, by frequency\n",
    "all_words = nltk.FreqDist(w.lower() for w in movie_reviews.words())\n",
    "\n",
    "# Most frequent 2000 words/tokens\n",
    "word_features = [w for (w,c) in all_words.most_common(2000)]\n",
    "\n",
    "# Extracting features from a given document\n",
    "def document_features(document):\n",
    "    document_words = set(document)\n",
    "    features = {}\n",
    "    for word in word_features:\n",
    "        features['contains(%s)' % word] = (word in document_words)\n",
    "    return features\n"
   ]
  },
  {
   "cell_type": "code",
   "execution_count": null,
   "metadata": {
    "collapsed": true
   },
   "outputs": [],
   "source": [
    "help(nltk.FreqDist)"
   ]
  },
  {
   "cell_type": "code",
   "execution_count": null,
   "metadata": {
    "collapsed": true
   },
   "outputs": [],
   "source": [
    "help(all_words.most_common)"
   ]
  },
  {
   "cell_type": "code",
   "execution_count": null,
   "metadata": {
    "collapsed": true
   },
   "outputs": [],
   "source": [
    "help(all_words.keys)"
   ]
  },
  {
   "cell_type": "markdown",
   "metadata": {},
   "source": [
    "### Let's take a brief detour to look at what `nltk` is doing for us here."
   ]
  },
  {
   "cell_type": "code",
   "execution_count": 17,
   "metadata": {},
   "outputs": [
    {
     "name": "stdout",
     "output_type": "stream",
     "text": [
      "[('the', 32), ('.', 31), ('of', 30), (',', 29), ('to', 26), ('said', 16), ('a', 14), ('trade', 13), ('U.S.', 13), ('in', 13), ('Japan', 12), (\"'s\", 12), ('and', 12), ('for', 7), ('``', 7), (\"''\", 7), ('on', 6), ('dlrs', 6), ('imports', 5), ('be', 5), ('The', 5), ('it', 5), ('tariffs', 5), ('billion', 5), ('exports', 5), ('are', 5), ('is', 5), ('between', 4), ('And', 4), ('that', 4), ('businessmen', 4), ('might', 4), ('would', 4), ('Japanese', 4), ('electronics', 4), ('Taiwan', 4), ('also', 4), ('U.S', 4), ('year', 4), ('Hong', 4), ('Kong', 4), ('against', 3), ('their', 3), ('short-term', 3), ('will', 3), ('semiconductors', 3), ('at', 3), ('We', 3), ('&', 3), ('lt', 3), (';', 3), ('>', 3), ('In', 3), ('surplus', 3), ('with', 3), ('South', 3), ('Korea', 3), ('Industry', 3), ('has', 2), ('among', 2), ('economic', 2), ('officials', 2), ('They', 2), ('boost', 2), ('lead', 2), ('curbs', 2), ('products', 2), ('But', 2), ('some', 2), ('exporters', 2), ('Tokyo', 2), ('goods', 2), ('alleged', 2), ('not', 2), ('world', 2), ('markets', 2), ('major', 2), ('by', 2), ('Co', 2), ('If', 2), ('(', 2), (')', 2), ('as', 2), ('senior', 2), ('official', 2), ('had', 2), ('last', 2), ('pct', 2), ('largest', 2), ('allow', 2), ('from', 2), ('dispute', 2), ('Last', 2), ('countries', 2), ('view', 2), ('other', 2), ('very', 2), ('serious', 2), ('Minister', 2), ('Button', 2)]\n",
      "Total number of tokens = 816\n",
      "Total number of unique tokens = 387\n",
      "Term ASIAN occurs 1 time(s).\n",
      "Term EXPORTERS occurs 1 time(s).\n",
      "Term FEAR occurs 1 time(s).\n",
      "Term DAMAGE occurs 1 time(s).\n",
      "Term FROM occurs 1 time(s).\n",
      "Term U.S.-JAPAN occurs 1 time(s).\n",
      "Term RIFT occurs 1 time(s).\n",
      "Term Mounting occurs 1 time(s).\n",
      "Term trade occurs 13 time(s).\n",
      "Term friction occurs 1 time(s).\n",
      "Term between occurs 4 time(s).\n",
      "Term the occurs 32 time(s).\n",
      "Term U.S. occurs 13 time(s).\n",
      "Term And occurs 4 time(s).\n",
      "Term Japan occurs 12 time(s).\n",
      "Term has occurs 2 time(s).\n",
      "Term raised occurs 1 time(s).\n",
      "Term fears occurs 1 time(s).\n",
      "Term among occurs 2 time(s).\n",
      "Term many occurs 1 time(s).\n",
      "Term of occurs 30 time(s).\n",
      "Term Asia occurs 1 time(s).\n",
      "Term 's occurs 12 time(s).\n",
      "Term exporting occurs 1 time(s).\n",
      "Term nations occurs 1 time(s).\n",
      "Term that occurs 4 time(s).\n",
      "Term row occurs 1 time(s).\n",
      "Term could occurs 1 time(s).\n",
      "Term inflict occurs 1 time(s).\n",
      "Term far-reaching occurs 1 time(s).\n",
      "Term economic occurs 2 time(s).\n",
      "Term damage occurs 1 time(s).\n",
      "Term , occurs 29 time(s).\n",
      "Term businessmen occurs 4 time(s).\n",
      "Term and occurs 12 time(s).\n",
      "Term officials occurs 2 time(s).\n",
      "Term said occurs 16 time(s).\n",
      "Term . occurs 31 time(s).\n",
      "Term They occurs 2 time(s).\n",
      "Term told occurs 1 time(s).\n",
      "Term Reuter occurs 1 time(s).\n",
      "Term correspondents occurs 1 time(s).\n",
      "Term in occurs 13 time(s).\n",
      "Term Asian occurs 1 time(s).\n",
      "Term capitals occurs 1 time(s).\n",
      "Term a occurs 14 time(s).\n",
      "Term Move occurs 1 time(s).\n",
      "Term against occurs 3 time(s).\n",
      "Term might occurs 4 time(s).\n",
      "Term boost occurs 2 time(s).\n",
      "Term protectionist occurs 1 time(s).\n",
      "Term sentiment occurs 1 time(s).\n",
      "Term lead occurs 2 time(s).\n",
      "Term to occurs 26 time(s).\n",
      "Term curbs occurs 2 time(s).\n",
      "Term on occurs 6 time(s).\n",
      "Term American occurs 1 time(s).\n",
      "Term imports occurs 5 time(s).\n",
      "Term their occurs 3 time(s).\n",
      "Term products occurs 2 time(s).\n",
      "Term But occurs 2 time(s).\n",
      "Term some occurs 2 time(s).\n",
      "Term exporters occurs 2 time(s).\n",
      "Term while occurs 1 time(s).\n",
      "Term conflict occurs 1 time(s).\n",
      "Term would occurs 4 time(s).\n",
      "Term hurt occurs 1 time(s).\n",
      "Term them occurs 1 time(s).\n",
      "Term long-run occurs 1 time(s).\n",
      "Term short-term occurs 3 time(s).\n",
      "Term Tokyo occurs 2 time(s).\n",
      "Term loss occurs 1 time(s).\n",
      "Term be occurs 5 time(s).\n",
      "Term gain occurs 1 time(s).\n",
      "Term The occurs 5 time(s).\n",
      "Term Has occurs 1 time(s).\n",
      "Term it occurs 5 time(s).\n",
      "Term will occurs 3 time(s).\n",
      "Term impose occurs 1 time(s).\n",
      "Term 300 occurs 1 time(s).\n",
      "Term mln occurs 1 time(s).\n",
      "Term dlrs occurs 6 time(s).\n",
      "Term tariffs occurs 5 time(s).\n",
      "Term Japanese occurs 4 time(s).\n",
      "Term electronics occurs 4 time(s).\n",
      "Term goods occurs 2 time(s).\n",
      "Term April occurs 1 time(s).\n",
      "Term 17 occurs 1 time(s).\n",
      "Term retaliation occurs 1 time(s).\n",
      "Term for occurs 7 time(s).\n",
      "Term alleged occurs 2 time(s).\n",
      "Term failure occurs 1 time(s).\n",
      "Term stick occurs 1 time(s).\n",
      "Term pact occurs 1 time(s).\n",
      "Term not occurs 2 time(s).\n",
      "Term sell occurs 1 time(s).\n",
      "Term semiconductors occurs 3 time(s).\n",
      "Term world occurs 2 time(s).\n",
      "Term markets occurs 2 time(s).\n",
      "Term at occurs 3 time(s).\n",
      "Term below occurs 1 time(s).\n",
      "Term cost occurs 1 time(s).\n",
      "Term Unofficial occurs 1 time(s).\n",
      "Term estimates occurs 1 time(s).\n",
      "Term put occurs 1 time(s).\n",
      "Term impact occurs 1 time(s).\n",
      "Term 10 occurs 1 time(s).\n",
      "Term billion occurs 5 time(s).\n",
      "Term spokesmen occurs 1 time(s).\n",
      "Term major occurs 2 time(s).\n",
      "Term firms occurs 1 time(s).\n",
      "Term they occurs 1 time(s).\n",
      "Term virtually occurs 1 time(s).\n",
      "Term halt occurs 1 time(s).\n",
      "Term exports occurs 5 time(s).\n",
      "Term hit occurs 1 time(s).\n",
      "Term by occurs 2 time(s).\n",
      "Term new occurs 1 time(s).\n",
      "Term taxes occurs 1 time(s).\n",
      "Term `` occurs 7 time(s).\n",
      "Term We occurs 3 time(s).\n",
      "Term n't occurs 1 time(s).\n",
      "Term able occurs 1 time(s).\n",
      "Term do occurs 1 time(s).\n",
      "Term business occurs 1 time(s).\n",
      "Term '' occurs 7 time(s).\n",
      "Term spokesman occurs 1 time(s).\n",
      "Term leading occurs 1 time(s).\n",
      "Term firm occurs 1 time(s).\n",
      "Term Matsushita occurs 1 time(s).\n",
      "Term Electric occurs 1 time(s).\n",
      "Term Industrial occurs 1 time(s).\n",
      "Term Co occurs 2 time(s).\n",
      "Term Ltd occurs 1 time(s).\n",
      "Term & occurs 3 time(s).\n",
      "Term lt occurs 3 time(s).\n",
      "Term ; occurs 3 time(s).\n",
      "Term MC.T occurs 1 time(s).\n",
      "Term > occurs 3 time(s).\n",
      "Term If occurs 2 time(s).\n",
      "Term remain occurs 1 time(s).\n",
      "Term place occurs 1 time(s).\n",
      "Term any occurs 1 time(s).\n",
      "Term length occurs 1 time(s).\n",
      "Term time occurs 1 time(s).\n",
      "Term beyond occurs 1 time(s).\n",
      "Term few occurs 1 time(s).\n",
      "Term months occurs 1 time(s).\n",
      "Term mean occurs 1 time(s).\n",
      "Term complete occurs 1 time(s).\n",
      "Term erosion occurs 1 time(s).\n",
      "Term ( occurs 2 time(s).\n",
      "Term subject occurs 1 time(s).\n",
      "Term ) occurs 2 time(s).\n",
      "Term Tom occurs 1 time(s).\n",
      "Term Murtha occurs 1 time(s).\n",
      "Term stock occurs 1 time(s).\n",
      "Term analyst occurs 1 time(s).\n",
      "Term office occurs 1 time(s).\n",
      "Term broker occurs 1 time(s).\n",
      "Term James occurs 1 time(s).\n",
      "Term Capel occurs 1 time(s).\n",
      "Term In occurs 3 time(s).\n",
      "Term Taiwan occurs 4 time(s).\n",
      "Term are occurs 5 time(s).\n",
      "Term also occurs 4 time(s).\n",
      "Term worried occurs 1 time(s).\n",
      "Term aware occurs 1 time(s).\n",
      "Term seriousness occurs 1 time(s).\n",
      "Term U.S occurs 4 time(s).\n",
      "Term Threat occurs 1 time(s).\n",
      "Term because occurs 1 time(s).\n",
      "Term serves occurs 1 time(s).\n",
      "Term as occurs 2 time(s).\n",
      "Term warning occurs 1 time(s).\n",
      "Term us occurs 1 time(s).\n",
      "Term senior occurs 2 time(s).\n",
      "Term Taiwanese occurs 1 time(s).\n",
      "Term official occurs 2 time(s).\n",
      "Term who occurs 1 time(s).\n",
      "Term asked occurs 1 time(s).\n",
      "Term named occurs 1 time(s).\n",
      "Term had occurs 2 time(s).\n",
      "Term surplus occurs 3 time(s).\n",
      "Term 15.6 occurs 1 time(s).\n",
      "Term last occurs 2 time(s).\n",
      "Term year occurs 4 time(s).\n",
      "Term 95 occurs 1 time(s).\n",
      "Term pct occurs 2 time(s).\n",
      "Term with occurs 3 time(s).\n",
      "Term helped occurs 1 time(s).\n",
      "Term swell occurs 1 time(s).\n",
      "Term foreign occurs 1 time(s).\n",
      "Term exchange occurs 1 time(s).\n",
      "Term reserves occurs 1 time(s).\n",
      "Term 53 occurs 1 time(s).\n",
      "Term largest occurs 2 time(s).\n",
      "Term must occurs 1 time(s).\n",
      "Term quickly occurs 1 time(s).\n",
      "Term open occurs 1 time(s).\n",
      "Term our occurs 1 time(s).\n",
      "Term remove occurs 1 time(s).\n",
      "Term barriers occurs 1 time(s).\n",
      "Term cut occurs 1 time(s).\n",
      "Term import occurs 1 time(s).\n",
      "Term allow occurs 2 time(s).\n",
      "Term Products occurs 1 time(s).\n",
      "Term if occurs 1 time(s).\n",
      "Term we occurs 1 time(s).\n",
      "Term want occurs 1 time(s).\n",
      "Term defuse occurs 1 time(s).\n",
      "Term problems occurs 1 time(s).\n",
      "Term from occurs 2 time(s).\n",
      "Term possible occurs 1 time(s).\n",
      "Term Retaliation occurs 1 time(s).\n",
      "Term Paul occurs 1 time(s).\n",
      "Term Sheen occurs 1 time(s).\n",
      "Term chairman occurs 1 time(s).\n",
      "Term textile occurs 1 time(s).\n",
      "Term Safe occurs 1 time(s).\n",
      "Term Group occurs 1 time(s).\n",
      "Term A occurs 1 time(s).\n",
      "Term South occurs 3 time(s).\n",
      "Term Korea occurs 3 time(s).\n",
      "Term promotion occurs 1 time(s).\n",
      "Term association occurs 1 time(s).\n",
      "Term dispute occurs 2 time(s).\n",
      "Term pressure occurs 1 time(s).\n",
      "Term whose occurs 1 time(s).\n",
      "Term chief occurs 1 time(s).\n",
      "Term similar occurs 1 time(s).\n",
      "Term those occurs 1 time(s).\n",
      "Term Last occurs 2 time(s).\n",
      "Term 7.1 occurs 1 time(s).\n",
      "Term Up occurs 1 time(s).\n",
      "Term 4.9 occurs 1 time(s).\n",
      "Term 1985 occurs 1 time(s).\n",
      "Term Malaysia occurs 1 time(s).\n",
      "Term officers occurs 1 time(s).\n",
      "Term tough occurs 1 time(s).\n",
      "Term hard-hit occurs 1 time(s).\n",
      "Term producers occurs 1 time(s).\n",
      "Term third occurs 1 time(s).\n",
      "Term countries occurs 2 time(s).\n",
      "Term expand occurs 1 time(s).\n",
      "Term sales occurs 1 time(s).\n",
      "Term Hong occurs 4 time(s).\n",
      "Term Kong occurs 4 time(s).\n",
      "Term where occurs 1 time(s).\n",
      "Term newspapers occurs 1 time(s).\n",
      "Term have occurs 1 time(s).\n",
      "Term been occurs 1 time(s).\n",
      "Term selling occurs 1 time(s).\n",
      "Term below-cost occurs 1 time(s).\n",
      "Term manufacturers occurs 1 time(s).\n",
      "Term share occurs 1 time(s).\n",
      "Term view occurs 2 time(s).\n",
      "Term other occurs 2 time(s).\n",
      "Term such occurs 1 time(s).\n",
      "Term commercial occurs 1 time(s).\n",
      "Term advantage occurs 1 time(s).\n",
      "Term outweighed occurs 1 time(s).\n",
      "Term further occurs 1 time(s).\n",
      "Term Pressure occurs 1 time(s).\n",
      "Term block occurs 1 time(s).\n",
      "Term That occurs 1 time(s).\n",
      "Term is occurs 5 time(s).\n",
      "Term very occurs 2 time(s).\n",
      "Term Lawrence occurs 1 time(s).\n",
      "Term Mills occurs 1 time(s).\n",
      "Term director-general occurs 1 time(s).\n",
      "Term Federation occurs 1 time(s).\n",
      "Term Industry occurs 3 time(s).\n",
      "Term whole occurs 1 time(s).\n",
      "Term purpose occurs 1 time(s).\n",
      "Term prevent occurs 1 time(s).\n",
      "Term one occurs 1 time(s).\n",
      "Term day occurs 1 time(s).\n",
      "Term extended occurs 1 time(s).\n",
      "Term sources occurs 1 time(s).\n",
      "Term Much occurs 1 time(s).\n",
      "Term more occurs 1 time(s).\n",
      "Term serious occurs 2 time(s).\n",
      "Term disadvantage occurs 1 time(s).\n",
      "Term action occurs 1 time(s).\n",
      "Term restraining occurs 1 time(s).\n",
      "Term he occurs 1 time(s).\n",
      "Term was occurs 1 time(s).\n",
      "Term biggest occurs 1 time(s).\n",
      "Term export occurs 1 time(s).\n",
      "Term market occurs 1 time(s).\n",
      "Term accounting occurs 1 time(s).\n",
      "Term over occurs 1 time(s).\n",
      "Term 30 occurs 1 time(s).\n",
      "Term domestically occurs 1 time(s).\n",
      "Term produced occurs 1 time(s).\n",
      "Term Australian occurs 1 time(s).\n",
      "Term government occurs 1 time(s).\n",
      "Term awaiting occurs 1 time(s).\n",
      "Term outcome occurs 1 time(s).\n",
      "Term talks occurs 1 time(s).\n",
      "Term interest occurs 1 time(s).\n",
      "Term concern occurs 1 time(s).\n",
      "Term Minister occurs 2 time(s).\n",
      "Term John occurs 1 time(s).\n",
      "Term Button occurs 2 time(s).\n",
      "Term Canberra occurs 1 time(s).\n",
      "Term Friday occurs 1 time(s).\n",
      "Term This occurs 1 time(s).\n",
      "Term kind occurs 1 time(s).\n",
      "Term deterioration occurs 1 time(s).\n",
      "Term relations occurs 1 time(s).\n",
      "Term two occurs 2 time(s).\n",
      "Term which occurs 1 time(s).\n",
      "Term trading occurs 1 time(s).\n",
      "Term partners occurs 1 time(s).\n",
      "Term ours occurs 1 time(s).\n",
      "Term matter occurs 1 time(s).\n",
      "Term He occurs 1 time(s).\n",
      "Term Australia occurs 2 time(s).\n",
      "Term concerns occurs 1 time(s).\n",
      "Term centred occurs 1 time(s).\n",
      "Term coal occurs 1 time(s).\n",
      "Term beef occurs 1 time(s).\n",
      "Term significant occurs 1 time(s).\n",
      "Term Exports occurs 1 time(s).\n",
      "Term country occurs 1 time(s).\n",
      "Term Meanwhile occurs 1 time(s).\n",
      "Term U.S.-Japanese occurs 1 time(s).\n",
      "Term diplomatic occurs 1 time(s).\n",
      "Term manoeuvres occurs 1 time(s).\n",
      "Term solve occurs 1 time(s).\n",
      "Term stand-off occurs 1 time(s).\n",
      "Term continue occurs 1 time(s).\n",
      "Term ruling occurs 1 time(s).\n",
      "Term Liberal occurs 1 time(s).\n",
      "Term Democratic occurs 1 time(s).\n",
      "Term Party occurs 1 time(s).\n",
      "Term yesterday occurs 1 time(s).\n",
      "Term outlined occurs 1 time(s).\n",
      "Term package occurs 1 time(s).\n",
      "Term measures occurs 2 time(s).\n",
      "Term economy occurs 2 time(s).\n",
      "Term proposed occurs 1 time(s).\n",
      "Term include occurs 1 time(s).\n",
      "Term large occurs 1 time(s).\n",
      "Term supplementary occurs 1 time(s).\n",
      "Term budget occurs 1 time(s).\n",
      "Term record occurs 1 time(s).\n",
      "Term public occurs 1 time(s).\n",
      "Term works occurs 1 time(s).\n",
      "Term spending occurs 2 time(s).\n",
      "Term first occurs 1 time(s).\n",
      "Term half occurs 1 time(s).\n",
      "Term financial occurs 1 time(s).\n",
      "Term call occurs 1 time(s).\n",
      "Term stepped-up occurs 1 time(s).\n",
      "Term an occurs 2 time(s).\n",
      "Term emergency occurs 1 time(s).\n",
      "Term measure occurs 1 time(s).\n",
      "Term stimulate occurs 1 time(s).\n",
      "Term despite occurs 1 time(s).\n",
      "Term Prime occurs 1 time(s).\n",
      "Term Yasuhiro occurs 1 time(s).\n",
      "Term Nakasone occurs 1 time(s).\n",
      "Term avowed occurs 1 time(s).\n",
      "Term fiscal occurs 1 time(s).\n",
      "Term reform occurs 1 time(s).\n",
      "Term program occurs 1 time(s).\n",
      "Term Deputy occurs 1 time(s).\n",
      "Term Trade occurs 2 time(s).\n",
      "Term Representative occurs 1 time(s).\n",
      "Term Michael occurs 1 time(s).\n",
      "Term Smith occurs 1 time(s).\n",
      "Term Makoto occurs 1 time(s).\n",
      "Term Kuroda occurs 1 time(s).\n",
      "Term deputy occurs 1 time(s).\n",
      "Term minister occurs 1 time(s).\n",
      "Term International occurs 1 time(s).\n",
      "Term MITI occurs 1 time(s).\n",
      "Term due occurs 1 time(s).\n",
      "Term meet occurs 1 time(s).\n",
      "Term Washington occurs 1 time(s).\n",
      "Term this occurs 1 time(s).\n",
      "Term week occurs 1 time(s).\n",
      "Term effort occurs 1 time(s).\n",
      "Term end occurs 1 time(s).\n"
     ]
    },
    {
     "data": {
      "image/png": "[encoded data removed]",
      "text/plain": [
       "<matplotlib.figure.Figure at 0x7ff53750ae10>"
      ]
     },
     "metadata": {},
     "output_type": "display_data"
    },
    {
     "data": {
      "image/png": "[encoded data removed]",
      "text/plain": [
       "<matplotlib.figure.Figure at 0x7ff536fc0390>"
      ]
     },
     "metadata": {},
     "output_type": "display_data"
    }
   ],
   "source": [
    "# Get all tokens\n",
    "tokens = nltk.tokenize.word_tokenize(nltk.corpus.reuters.raw('test/14826'))\n",
    "\n",
    "# Compute a frequency distribution\n",
    "fdist = nltk.FreqDist(tokens)\n",
    "\n",
    "# Print top 100 tokens by frequency\n",
    "print(fdist.most_common(100))\n",
    "\n",
    "# Print total and total unique\n",
    "\n",
    "print(\"Total number of tokens = {}\".format(fdist.N()))\n",
    "\n",
    "print(\"Total number of unique tokens = {}\".format(len(fdist.keys())))\n",
    "\n",
    "# Iterate over samples\n",
    "\n",
    "for token in fdist:\n",
    "    print(\"Term \" + token + \" occurs \" + str(fdist[token]) + \" time(s).\")\n",
    "\n",
    "# Take a look at it\n",
    "fdist.plot()\n",
    "\n",
    "# And the CDF\n",
    "fdist.plot(cumulative=True)\n"
   ]
  },
  {
   "cell_type": "markdown",
   "metadata": {},
   "source": [
    "### Back to the classifier at hand."
   ]
  },
  {
   "cell_type": "code",
   "execution_count": null,
   "metadata": {
    "collapsed": true
   },
   "outputs": [],
   "source": [
    "print(document_features(movie_reviews.words('pos/cv957_8737.txt')))"
   ]
  },
  {
   "cell_type": "markdown",
   "metadata": {},
   "source": [
    "### Now that we've defined our feature extractor, we can use it to train a classifier to label new movie reviews."
   ]
  },
  {
   "cell_type": "code",
   "execution_count": 25,
   "metadata": {
    "collapsed": true
   },
   "outputs": [],
   "source": [
    "# Extract the features\n",
    "featuresets = [(document_features(d),c) for (d,c) in documents]\n",
    "\n",
    "# Split the dataset\n",
    "train_set, test_set = featuresets[100:], featuresets[:100]\n",
    "\n",
    "# Train the classifier\n",
    "clf = nltk.NaiveBayesClassifier.train(train_set)"
   ]
  },
  {
   "cell_type": "markdown",
   "metadata": {},
   "source": [
    "### Finally, let's use it."
   ]
  },
  {
   "cell_type": "code",
   "execution_count": 33,
   "metadata": {},
   "outputs": [
    {
     "data": {
      "text/plain": [
       "'pos'"
      ]
     },
     "execution_count": 33,
     "metadata": {},
     "output_type": "execute_result"
    }
   ],
   "source": [
    "clf.classify(featuresets[4][0])"
   ]
  },
  {
   "cell_type": "markdown",
   "metadata": {},
   "source": [
    "### What should we expect in examining this first \"featureset\"?"
   ]
  },
  {
   "cell_type": "code",
   "execution_count": null,
   "metadata": {
    "collapsed": true
   },
   "outputs": [],
   "source": [
    "featuresets[4]"
   ]
  },
  {
   "cell_type": "markdown",
   "metadata": {},
   "source": [
    "### That's not readable, which document does it come from? Let's look at that."
   ]
  },
  {
   "cell_type": "code",
   "execution_count": null,
   "metadata": {
    "collapsed": true
   },
   "outputs": [],
   "source": [
    "' '.join(documents[4][0])"
   ]
  },
  {
   "cell_type": "markdown",
   "metadata": {},
   "source": [
    "### What else does our model offer? We can look at the most informative features, for example."
   ]
  },
  {
   "cell_type": "code",
   "execution_count": null,
   "metadata": {
    "collapsed": true
   },
   "outputs": [],
   "source": [
    "clf.show_most_informative_features(5)"
   ]
  },
  {
   "cell_type": "markdown",
   "metadata": {},
   "source": [
    "### That's pretty devastating!"
   ]
  },
  {
   "cell_type": "markdown",
   "metadata": {},
   "source": [
    "### Now let's look at an example of SA on some fake Twitter data."
   ]
  },
  {
   "cell_type": "code",
   "execution_count": 48,
   "metadata": {
    "collapsed": true
   },
   "outputs": [],
   "source": [
    "# Training data\n",
    "pos_tweets = [('I love this car','positive'),\n",
    "             ('This view is amazing','positive'),\n",
    "             ('I feel great this morning','positive'),\n",
    "             ('I am so excited about the concert','positive'),\n",
    "             ('He is my best friend','positive')]\n",
    "\n",
    "neg_tweets = [('I do not like this car','negative'),\n",
    "             ('This view is horrible','negative'),\n",
    "             ('I feel tired this morning','negative'),\n",
    "             ('I am not looking forward to the concert','negative'),\n",
    "             ('He is my enemy','negative')]"
   ]
  },
  {
   "cell_type": "markdown",
   "metadata": {},
   "source": [
    "### We take both the lists and create a single list of tuples.\n",
    "- The first element is an array of words and the second a sentiment\n",
    "- We lowercase everything (here I have verbed \"lowercase\" (and verbed \"verb\" (...))) and discard words smaller than three characters"
   ]
  },
  {
   "cell_type": "code",
   "execution_count": 49,
   "metadata": {
    "collapsed": true
   },
   "outputs": [],
   "source": [
    "# Create an empty list\n",
    "twts = []\n",
    "\n",
    "# Build it in a loop\n",
    "for (words,sentiment) in pos_tweets + neg_tweets:\n",
    "    words_filtered = [e.lower() for e in words.split() if len(e) >= 3]\n",
    "    twts.append((words_filtered,sentiment))"
   ]
  },
  {
   "cell_type": "code",
   "execution_count": 50,
   "metadata": {},
   "outputs": [
    {
     "data": {
      "text/plain": [
       "[(['love', 'this', 'car'], 'positive'),\n",
       " (['this', 'view', 'amazing'], 'positive'),\n",
       " (['feel', 'great', 'this', 'morning'], 'positive'),\n",
       " (['excited', 'about', 'the', 'concert'], 'positive'),\n",
       " (['best', 'friend'], 'positive'),\n",
       " (['not', 'like', 'this', 'car'], 'negative'),\n",
       " (['this', 'view', 'horrible'], 'negative'),\n",
       " (['feel', 'tired', 'this', 'morning'], 'negative'),\n",
       " (['not', 'looking', 'forward', 'the', 'concert'], 'negative'),\n",
       " (['enemy'], 'negative')]"
      ]
     },
     "execution_count": 50,
     "metadata": {},
     "output_type": "execute_result"
    }
   ],
   "source": [
    "twts"
   ]
  },
  {
   "cell_type": "markdown",
   "metadata": {},
   "source": [
    "### Next, the list of *word features* needs to be extracted from the tweets. Here are two helper functions to do pretty much the same thing we did in the previous example."
   ]
  },
  {
   "cell_type": "code",
   "execution_count": 47,
   "metadata": {
    "collapsed": true
   },
   "outputs": [],
   "source": [
    "# Get all the words from all the tweets\n",
    "def get_words_in_tweets(tweets):\n",
    "    all_words = []\n",
    "    for (words, sentiment) in tweets:\n",
    "        all_words.extend(words)\n",
    "    return all_words\n",
    "\n",
    "# Extract the most frequent words\n",
    "def get_word_features(wordlist):\n",
    "    wordlist = nltk.FreqDist(wordlist)\n",
    "    word_features = [w for (w, c) in wordlist.most_common(2000)]\n",
    "    return word_features\n",
    "\n",
    "word_features = get_word_features(get_words_in_tweets(twts))"
   ]
  },
  {
   "cell_type": "code",
   "execution_count": null,
   "metadata": {
    "collapsed": true
   },
   "outputs": [],
   "source": [
    "word_features"
   ]
  },
  {
   "cell_type": "markdown",
   "metadata": {},
   "source": [
    "### This is starting to look like something we can use, but if you are following along then you've noticed that we still just have words. We need features we can train on. So we *record whether or not each of these words is present in a given tweet*. That *boolean* value is then a feature we can compute with."
   ]
  },
  {
   "cell_type": "code",
   "execution_count": 56,
   "metadata": {
    "collapsed": true
   },
   "outputs": [],
   "source": [
    "def extract_features(document): # I renamed it; that's all\n",
    "    document_words = set(document)\n",
    "    features = {}\n",
    "    for word in word_features:\n",
    "        features['contains(%s)' % word] = (word in document_words)\n",
    "    return features"
   ]
  },
  {
   "cell_type": "markdown",
   "metadata": {},
   "source": [
    "### Applying it..."
   ]
  },
  {
   "cell_type": "code",
   "execution_count": 59,
   "metadata": {
    "collapsed": true
   },
   "outputs": [],
   "source": [
    "training_set = [(extract_features(d), c) for (d,c) in twts]"
   ]
  },
  {
   "cell_type": "markdown",
   "metadata": {},
   "source": [
    "### Alternatively, `nltk` gives you a higher-order way to do this:"
   ]
  },
  {
   "cell_type": "code",
   "execution_count": 61,
   "metadata": {},
   "outputs": [],
   "source": [
    "training_set = nltk.classify.apply_features(extract_features, twts)"
   ]
  },
  {
   "cell_type": "code",
   "execution_count": null,
   "metadata": {
    "collapsed": true
   },
   "outputs": [],
   "source": [
    "training_set"
   ]
  },
  {
   "cell_type": "markdown",
   "metadata": {},
   "source": [
    "### Now let's training and look at some results."
   ]
  },
  {
   "cell_type": "code",
   "execution_count": null,
   "metadata": {
    "collapsed": true
   },
   "outputs": [],
   "source": [
    "# Training\n",
    "clf2 = nltk.NaiveBayesClassifier.train(training_set)\n",
    "\n",
    "# Important features\n",
    "clf2.show_most_informative_features(100)"
   ]
  },
  {
   "cell_type": "markdown",
   "metadata": {},
   "source": [
    "### How about a test?"
   ]
  },
  {
   "cell_type": "code",
   "execution_count": 66,
   "metadata": {
    "collapsed": true
   },
   "outputs": [],
   "source": [
    "test_twts = ['I feel happy this morning',\n",
    "            'Larry is my friend',\n",
    "            'I do not like that man',\n",
    "            'My house is not great',\n",
    "            'Your song is annoying']"
   ]
  },
  {
   "cell_type": "code",
   "execution_count": null,
   "metadata": {
    "collapsed": true
   },
   "outputs": [],
   "source": [
    "for t in test_twts:\n",
    "    print(\"{0} : {1}\".format(t, clf2.classify(extract_features(t.split()))))"
   ]
  },
  {
   "cell_type": "markdown",
   "metadata": {},
   "source": [
    "### Hey man, your song is annoying!"
   ]
  },
  {
   "cell_type": "markdown",
   "metadata": {},
   "source": [
    "### But what is wrong with these 'tweets'? They were too easy to process. Take a look at a real sample, already labelled for you, and recall our initial discussion of tokenization."
   ]
  },
  {
   "cell_type": "markdown",
   "metadata": {},
   "source": [
    "### The `nltk` package includes twitter data (perhaps not by default)."
   ]
  },
  {
   "cell_type": "code",
   "execution_count": 22,
   "metadata": {},
   "outputs": [
    {
     "name": "stdout",
     "output_type": "stream",
     "text": [
      "showing info https://raw.githubusercontent.com/nltk/nltk_data/gh-pages/index.xml\n"
     ]
    },
    {
     "data": {
      "text/plain": [
       "True"
      ]
     },
     "execution_count": 22,
     "metadata": {},
     "output_type": "execute_result"
    }
   ],
   "source": [
    "nltk.download()"
   ]
  },
  {
   "cell_type": "code",
   "execution_count": 23,
   "metadata": {
    "collapsed": true
   },
   "outputs": [],
   "source": [
    "from nltk.corpus import twitter_samples\n",
    "\n",
    "strings = twitter_samples.strings('positive_tweets.json')"
   ]
  },
  {
   "cell_type": "markdown",
   "metadata": {},
   "source": [
    "### Before we do more tweet examples, here is an interesting example from the NLTK book. It addresses a question that came up in office hours and you might want to use it for establishing 'ground truth' for training of another model. From the documentation:"
   ]
  },
  {
   "cell_type": "markdown",
   "metadata": {},
   "source": [
    ">In [4](http://www.nltk.org/book/ch02.html#sec-lexical-resources) we saw that male and female names have some distinctive characteristics. Names ending in a, e and i are likely to be female, while names ending in k, o, r, s and t are likely to be male. Let's build a classifier to model these differences more precisely."
   ]
  },
  {
   "cell_type": "markdown",
   "metadata": {},
   "source": [
    "### So we are going to classify names as *male* or *female*, guided in our feature extraction by this observation."
   ]
  },
  {
   "cell_type": "code",
   "execution_count": 68,
   "metadata": {},
   "outputs": [
    {
     "data": {
      "text/plain": [
       "{'last_letter': 'k'}"
      ]
     },
     "execution_count": 68,
     "metadata": {},
     "output_type": "execute_result"
    }
   ],
   "source": [
    "# Just plucking off that last letter...\n",
    "def gender_features(word):\n",
    "    return {'last_letter': word[-1]}\n",
    "\n",
    "# Trying it out\n",
    "gender_features('Shrek')"
   ]
  },
  {
   "cell_type": "markdown",
   "metadata": {},
   "source": [
    "### Let's now get some data..."
   ]
  },
  {
   "cell_type": "code",
   "execution_count": 70,
   "metadata": {
    "collapsed": true
   },
   "outputs": [],
   "source": [
    "from nltk.corpus import names\n",
    "\n",
    "# Observations with labels\n",
    "labeled_names = ([(name, 'male') for name in names.words('male.txt')] +\n",
    "                    [(name, 'female') for name in names.words('female.txt')])\n",
    "# No output, remember this works *in place*\n",
    "np.random.shuffle(labeled_names)"
   ]
  },
  {
   "cell_type": "markdown",
   "metadata": {},
   "source": [
    "### Feature extraction, then training-test split..."
   ]
  },
  {
   "cell_type": "code",
   "execution_count": 71,
   "metadata": {
    "collapsed": true
   },
   "outputs": [],
   "source": [
    "featuresets = [(gender_features(n), gender) for (n, gender) in labeled_names]\n",
    "train_set, test_set = featuresets[500:], featuresets[:500]\n",
    "clf3 = nltk.NaiveBayesClassifier.train(train_set)"
   ]
  },
  {
   "cell_type": "code",
   "execution_count": null,
   "metadata": {
    "collapsed": true
   },
   "outputs": [],
   "source": [
    "clf3.classify(gender_features('Neo'))"
   ]
  },
  {
   "cell_type": "code",
   "execution_count": null,
   "metadata": {
    "collapsed": true
   },
   "outputs": [],
   "source": [
    "clf3.classify(gender_features('Trinity'))"
   ]
  },
  {
   "cell_type": "markdown",
   "metadata": {},
   "source": [
    "### Not bad!"
   ]
  },
  {
   "cell_type": "code",
   "execution_count": null,
   "metadata": {
    "collapsed": true
   },
   "outputs": [],
   "source": [
    "clf3.show_most_informative_features(5)"
   ]
  },
  {
   "cell_type": "markdown",
   "metadata": {},
   "source": [
    "### How about my name..."
   ]
  },
  {
   "cell_type": "code",
   "execution_count": null,
   "metadata": {
    "collapsed": true
   },
   "outputs": [],
   "source": [
    "clf3.classify(gender_features('Martin'))"
   ]
  },
  {
   "cell_type": "markdown",
   "metadata": {},
   "source": [
    "### How about others in the department..."
   ]
  },
  {
   "cell_type": "code",
   "execution_count": null,
   "metadata": {
    "collapsed": true
   },
   "outputs": [],
   "source": [
    "print(\n",
    "clf3.classify(gender_features('Jae')),\n",
    "clf3.classify(gender_features('Paakwesi')),\n",
    "clf3.classify(gender_features('Chunxu')))"
   ]
  }
 ],
 "metadata": {
  "kernelspec": {
   "display_name": "Python 3",
   "language": "python",
   "name": "python3"
  },
  "language_info": {
   "codemirror_mode": {
    "name": "ipython",
    "version": 3
   },
   "file_extension": ".py",
   "mimetype": "text/x-python",
   "name": "python",
   "nbconvert_exporter": "python",
   "pygments_lexer": "ipython3",
   "version": "3.6.3"
  }
 },
 "nbformat": 4,
 "nbformat_minor": 2
}
