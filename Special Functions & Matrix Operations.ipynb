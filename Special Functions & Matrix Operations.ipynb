{
 "cells": [
  {
   "cell_type": "markdown",
   "metadata": {},
   "source": [
    "# Special Functions & Matrix Operations"
   ]
  },
  {
   "cell_type": "code",
   "execution_count": 2,
   "metadata": {
    "collapsed": true
   },
   "outputs": [],
   "source": [
    "import numpy as np\n",
    "import pandas as pd\n",
    "from bokeh.plotting import figure, output_notebook, show\n",
    "from bokeh.models import Range1d\n",
    "from scipy import stats"
   ]
  },
  {
   "cell_type": "code",
   "execution_count": 6,
   "metadata": {},
   "outputs": [
    {
     "data": {
      "text/html": [
       "\n",
       "    <div class=\"bk-root\">\n",
       "        <a href=\"https://bokeh.pydata.org\" target=\"_blank\" class=\"bk-logo bk-logo-small bk-logo-notebook\"></a>\n",
       "        <span id=\"652bd3bf-8a6e-4e5d-b740-e99c31fd0317\">Loading BokehJS ...</span>\n",
       "    </div>"
      ]
     },
     "metadata": {},
     "output_type": "display_data"
    },
    {
     "data": {
      "application/javascript": [
       "\n",
       "(function(root) {\n",
       "  function now() {\n",
       "    return new Date();\n",
       "  }\n",
       "\n",
       "  var force = true;\n",
       "\n",
       "  if (typeof (root._bokeh_onload_callbacks) === \"undefined\" || force === true) {\n",
       "    root._bokeh_onload_callbacks = [];\n",
       "    root._bokeh_is_loading = undefined;\n",
       "  }\n",
       "\n",
       "  var JS_MIME_TYPE = 'application/javascript';\n",
       "  var HTML_MIME_TYPE = 'text/html';\n",
       "  var EXEC_MIME_TYPE = 'application/vnd.bokehjs_exec.v0+json';\n",
       "  var CLASS_NAME = 'output_bokeh rendered_html';\n",
       "\n",
       "  /**\n",
       "   * Render data to the DOM node\n",
       "   */\n",
       "  function render(props, node) {\n",
       "    var script = document.createElement(\"script\");\n",
       "    node.appendChild(script);\n",
       "  }\n",
       "\n",
       "  /**\n",
       "   * Handle when an output is cleared or removed\n",
       "   */\n",
       "  function handleClearOutput(event, handle) {\n",
       "    var cell = handle.cell;\n",
       "\n",
       "    var id = cell.output_area._bokeh_element_id;\n",
       "    var server_id = cell.output_area._bokeh_server_id;\n",
       "    // Clean up Bokeh references\n",
       "    if (id !== undefined) {\n",
       "      Bokeh.index[id].model.document.clear();\n",
       "      delete Bokeh.index[id];\n",
       "    }\n",
       "\n",
       "    if (server_id !== undefined) {\n",
       "      // Clean up Bokeh references\n",
       "      var cmd = \"from bokeh.io.state import curstate; print(curstate().uuid_to_server['\" + server_id + \"'].get_sessions()[0].document.roots[0]._id)\";\n",
       "      cell.notebook.kernel.execute(cmd, {\n",
       "        iopub: {\n",
       "          output: function(msg) {\n",
       "            var element_id = msg.content.text.trim();\n",
       "            Bokeh.index[element_id].model.document.clear();\n",
       "            delete Bokeh.index[element_id];\n",
       "          }\n",
       "        }\n",
       "      });\n",
       "      // Destroy server and session\n",
       "      var cmd = \"import bokeh.io.notebook as ion; ion.destroy_server('\" + server_id + \"')\";\n",
       "      cell.notebook.kernel.execute(cmd);\n",
       "    }\n",
       "  }\n",
       "\n",
       "  /**\n",
       "   * Handle when a new output is added\n",
       "   */\n",
       "  function handleAddOutput(event, handle) {\n",
       "    var output_area = handle.output_area;\n",
       "    var output = handle.output;\n",
       "\n",
       "    // limit handleAddOutput to display_data with EXEC_MIME_TYPE content only\n",
       "    if ((output.output_type != \"display_data\") || (!output.data.hasOwnProperty(EXEC_MIME_TYPE))) {\n",
       "      return\n",
       "    }\n",
       "\n",
       "    var toinsert = output_area.element.find(`.${CLASS_NAME.split(' ')[0]}`);\n",
       "\n",
       "    if (output.metadata[EXEC_MIME_TYPE][\"id\"] !== undefined) {\n",
       "      toinsert[0].firstChild.textContent = output.data[JS_MIME_TYPE];\n",
       "      // store reference to embed id on output_area\n",
       "      output_area._bokeh_element_id = output.metadata[EXEC_MIME_TYPE][\"id\"];\n",
       "    }\n",
       "    if (output.metadata[EXEC_MIME_TYPE][\"server_id\"] !== undefined) {\n",
       "      var bk_div = document.createElement(\"div\");\n",
       "      bk_div.innerHTML = output.data[HTML_MIME_TYPE];\n",
       "      var script_attrs = bk_div.children[0].attributes;\n",
       "      for (var i = 0; i < script_attrs.length; i++) {\n",
       "        toinsert[0].firstChild.setAttribute(script_attrs[i].name, script_attrs[i].value);\n",
       "      }\n",
       "      // store reference to server id on output_area\n",
       "      output_area._bokeh_server_id = output.metadata[EXEC_MIME_TYPE][\"server_id\"];\n",
       "    }\n",
       "  }\n",
       "\n",
       "  function register_renderer(events, OutputArea) {\n",
       "\n",
       "    function append_mime(data, metadata, element) {\n",
       "      // create a DOM node to render to\n",
       "      var toinsert = this.create_output_subarea(\n",
       "        metadata,\n",
       "        CLASS_NAME,\n",
       "        EXEC_MIME_TYPE\n",
       "      );\n",
       "      this.keyboard_manager.register_events(toinsert);\n",
       "      // Render to node\n",
       "      var props = {data: data, metadata: metadata[EXEC_MIME_TYPE]};\n",
       "      render(props, toinsert[0]);\n",
       "      element.append(toinsert);\n",
       "      return toinsert\n",
       "    }\n",
       "\n",
       "    /* Handle when an output is cleared or removed */\n",
       "    events.on('clear_output.CodeCell', handleClearOutput);\n",
       "    events.on('delete.Cell', handleClearOutput);\n",
       "\n",
       "    /* Handle when a new output is added */\n",
       "    events.on('output_added.OutputArea', handleAddOutput);\n",
       "\n",
       "    /**\n",
       "     * Register the mime type and append_mime function with output_area\n",
       "     */\n",
       "    OutputArea.prototype.register_mime_type(EXEC_MIME_TYPE, append_mime, {\n",
       "      /* Is output safe? */\n",
       "      safe: true,\n",
       "      /* Index of renderer in `output_area.display_order` */\n",
       "      index: 0\n",
       "    });\n",
       "  }\n",
       "\n",
       "  // register the mime type if in Jupyter Notebook environment and previously unregistered\n",
       "  if (root.Jupyter !== undefined) {\n",
       "    var events = require('base/js/events');\n",
       "    var OutputArea = require('notebook/js/outputarea').OutputArea;\n",
       "\n",
       "    if (OutputArea.prototype.mime_types().indexOf(EXEC_MIME_TYPE) == -1) {\n",
       "      register_renderer(events, OutputArea);\n",
       "    }\n",
       "  }\n",
       "\n",
       "  \n",
       "  if (typeof (root._bokeh_timeout) === \"undefined\" || force === true) {\n",
       "    root._bokeh_timeout = Date.now() + 5000;\n",
       "    root._bokeh_failed_load = false;\n",
       "  }\n",
       "\n",
       "  var NB_LOAD_WARNING = {'data': {'text/html':\n",
       "     \"<div style='background-color: #fdd'>\\n\"+\n",
       "     \"<p>\\n\"+\n",
       "     \"BokehJS does not appear to have successfully loaded. If loading BokehJS from CDN, this \\n\"+\n",
       "     \"may be due to a slow or bad network connection. Possible fixes:\\n\"+\n",
       "     \"</p>\\n\"+\n",
       "     \"<ul>\\n\"+\n",
       "     \"<li>re-rerun `output_notebook()` to attempt to load from CDN again, or</li>\\n\"+\n",
       "     \"<li>use INLINE resources instead, as so:</li>\\n\"+\n",
       "     \"</ul>\\n\"+\n",
       "     \"<code>\\n\"+\n",
       "     \"from bokeh.resources import INLINE\\n\"+\n",
       "     \"output_notebook(resources=INLINE)\\n\"+\n",
       "     \"</code>\\n\"+\n",
       "     \"</div>\"}};\n",
       "\n",
       "  function display_loaded() {\n",
       "    var el = document.getElementById(\"652bd3bf-8a6e-4e5d-b740-e99c31fd0317\");\n",
       "    if (el != null) {\n",
       "      el.textContent = \"BokehJS is loading...\";\n",
       "    }\n",
       "    if (root.Bokeh !== undefined) {\n",
       "      if (el != null) {\n",
       "        el.textContent = \"BokehJS \" + root.Bokeh.version + \" successfully loaded.\";\n",
       "      }\n",
       "    } else if (Date.now() < root._bokeh_timeout) {\n",
       "      setTimeout(display_loaded, 100)\n",
       "    }\n",
       "  }\n",
       "\n",
       "\n",
       "  function run_callbacks() {\n",
       "    try {\n",
       "      root._bokeh_onload_callbacks.forEach(function(callback) { callback() });\n",
       "    }\n",
       "    finally {\n",
       "      delete root._bokeh_onload_callbacks\n",
       "    }\n",
       "    console.info(\"Bokeh: all callbacks have finished\");\n",
       "  }\n",
       "\n",
       "  function load_libs(js_urls, callback) {\n",
       "    root._bokeh_onload_callbacks.push(callback);\n",
       "    if (root._bokeh_is_loading > 0) {\n",
       "      console.log(\"Bokeh: BokehJS is being loaded, scheduling callback at\", now());\n",
       "      return null;\n",
       "    }\n",
       "    if (js_urls == null || js_urls.length === 0) {\n",
       "      run_callbacks();\n",
       "      return null;\n",
       "    }\n",
       "    console.log(\"Bokeh: BokehJS not loaded, scheduling load and callback at\", now());\n",
       "    root._bokeh_is_loading = js_urls.length;\n",
       "    for (var i = 0; i < js_urls.length; i++) {\n",
       "      var url = js_urls[i];\n",
       "      var s = document.createElement('script');\n",
       "      s.src = url;\n",
       "      s.async = false;\n",
       "      s.onreadystatechange = s.onload = function() {\n",
       "        root._bokeh_is_loading--;\n",
       "        if (root._bokeh_is_loading === 0) {\n",
       "          console.log(\"Bokeh: all BokehJS libraries loaded\");\n",
       "          run_callbacks()\n",
       "        }\n",
       "      };\n",
       "      s.onerror = function() {\n",
       "        console.warn(\"failed to load library \" + url);\n",
       "      };\n",
       "      console.log(\"Bokeh: injecting script tag for BokehJS library: \", url);\n",
       "      document.getElementsByTagName(\"head\")[0].appendChild(s);\n",
       "    }\n",
       "  };var element = document.getElementById(\"652bd3bf-8a6e-4e5d-b740-e99c31fd0317\");\n",
       "  if (element == null) {\n",
       "    console.log(\"Bokeh: ERROR: autoload.js configured with elementid '652bd3bf-8a6e-4e5d-b740-e99c31fd0317' but no matching script tag was found. \")\n",
       "    return false;\n",
       "  }\n",
       "\n",
       "  var js_urls = [\"https://cdn.pydata.org/bokeh/release/bokeh-0.12.10.min.js\", \"https://cdn.pydata.org/bokeh/release/bokeh-widgets-0.12.10.min.js\", \"https://cdn.pydata.org/bokeh/release/bokeh-tables-0.12.10.min.js\", \"https://cdn.pydata.org/bokeh/release/bokeh-gl-0.12.10.min.js\"];\n",
       "\n",
       "  var inline_js = [\n",
       "    function(Bokeh) {\n",
       "      Bokeh.set_log_level(\"info\");\n",
       "    },\n",
       "    \n",
       "    function(Bokeh) {\n",
       "      \n",
       "    },\n",
       "    function(Bokeh) {\n",
       "      console.log(\"Bokeh: injecting CSS: https://cdn.pydata.org/bokeh/release/bokeh-0.12.10.min.css\");\n",
       "      Bokeh.embed.inject_css(\"https://cdn.pydata.org/bokeh/release/bokeh-0.12.10.min.css\");\n",
       "      console.log(\"Bokeh: injecting CSS: https://cdn.pydata.org/bokeh/release/bokeh-widgets-0.12.10.min.css\");\n",
       "      Bokeh.embed.inject_css(\"https://cdn.pydata.org/bokeh/release/bokeh-widgets-0.12.10.min.css\");\n",
       "      console.log(\"Bokeh: injecting CSS: https://cdn.pydata.org/bokeh/release/bokeh-tables-0.12.10.min.css\");\n",
       "      Bokeh.embed.inject_css(\"https://cdn.pydata.org/bokeh/release/bokeh-tables-0.12.10.min.css\");\n",
       "    }\n",
       "  ];\n",
       "\n",
       "  function run_inline_js() {\n",
       "    \n",
       "    if ((root.Bokeh !== undefined) || (force === true)) {\n",
       "      for (var i = 0; i < inline_js.length; i++) {\n",
       "        inline_js[i].call(root, root.Bokeh);\n",
       "      }if (force === true) {\n",
       "        display_loaded();\n",
       "      }} else if (Date.now() < root._bokeh_timeout) {\n",
       "      setTimeout(run_inline_js, 100);\n",
       "    } else if (!root._bokeh_failed_load) {\n",
       "      console.log(\"Bokeh: BokehJS failed to load within specified timeout.\");\n",
       "      root._bokeh_failed_load = true;\n",
       "    } else if (force !== true) {\n",
       "      var cell = $(document.getElementById(\"652bd3bf-8a6e-4e5d-b740-e99c31fd0317\")).parents('.cell').data().cell;\n",
       "      cell.output_area.append_execute_result(NB_LOAD_WARNING)\n",
       "    }\n",
       "\n",
       "  }\n",
       "\n",
       "  if (root._bokeh_is_loading === 0) {\n",
       "    console.log(\"Bokeh: BokehJS loaded, going straight to plotting\");\n",
       "    run_inline_js();\n",
       "  } else {\n",
       "    load_libs(js_urls, function() {\n",
       "      console.log(\"Bokeh: BokehJS plotting callback run at\", now());\n",
       "      run_inline_js();\n",
       "    });\n",
       "  }\n",
       "}(window));"
      ],
      "application/vnd.bokehjs_load.v0+json": "\n(function(root) {\n  function now() {\n    return new Date();\n  }\n\n  var force = true;\n\n  if (typeof (root._bokeh_onload_callbacks) === \"undefined\" || force === true) {\n    root._bokeh_onload_callbacks = [];\n    root._bokeh_is_loading = undefined;\n  }\n\n  \n\n  \n  if (typeof (root._bokeh_timeout) === \"undefined\" || force === true) {\n    root._bokeh_timeout = Date.now() + 5000;\n    root._bokeh_failed_load = false;\n  }\n\n  var NB_LOAD_WARNING = {'data': {'text/html':\n     \"<div style='background-color: #fdd'>\\n\"+\n     \"<p>\\n\"+\n     \"BokehJS does not appear to have successfully loaded. If loading BokehJS from CDN, this \\n\"+\n     \"may be due to a slow or bad network connection. Possible fixes:\\n\"+\n     \"</p>\\n\"+\n     \"<ul>\\n\"+\n     \"<li>re-rerun `output_notebook()` to attempt to load from CDN again, or</li>\\n\"+\n     \"<li>use INLINE resources instead, as so:</li>\\n\"+\n     \"</ul>\\n\"+\n     \"<code>\\n\"+\n     \"from bokeh.resources import INLINE\\n\"+\n     \"output_notebook(resources=INLINE)\\n\"+\n     \"</code>\\n\"+\n     \"</div>\"}};\n\n  function display_loaded() {\n    var el = document.getElementById(\"652bd3bf-8a6e-4e5d-b740-e99c31fd0317\");\n    if (el != null) {\n      el.textContent = \"BokehJS is loading...\";\n    }\n    if (root.Bokeh !== undefined) {\n      if (el != null) {\n        el.textContent = \"BokehJS \" + root.Bokeh.version + \" successfully loaded.\";\n      }\n    } else if (Date.now() < root._bokeh_timeout) {\n      setTimeout(display_loaded, 100)\n    }\n  }\n\n\n  function run_callbacks() {\n    try {\n      root._bokeh_onload_callbacks.forEach(function(callback) { callback() });\n    }\n    finally {\n      delete root._bokeh_onload_callbacks\n    }\n    console.info(\"Bokeh: all callbacks have finished\");\n  }\n\n  function load_libs(js_urls, callback) {\n    root._bokeh_onload_callbacks.push(callback);\n    if (root._bokeh_is_loading > 0) {\n      console.log(\"Bokeh: BokehJS is being loaded, scheduling callback at\", now());\n      return null;\n    }\n    if (js_urls == null || js_urls.length === 0) {\n      run_callbacks();\n      return null;\n    }\n    console.log(\"Bokeh: BokehJS not loaded, scheduling load and callback at\", now());\n    root._bokeh_is_loading = js_urls.length;\n    for (var i = 0; i < js_urls.length; i++) {\n      var url = js_urls[i];\n      var s = document.createElement('script');\n      s.src = url;\n      s.async = false;\n      s.onreadystatechange = s.onload = function() {\n        root._bokeh_is_loading--;\n        if (root._bokeh_is_loading === 0) {\n          console.log(\"Bokeh: all BokehJS libraries loaded\");\n          run_callbacks()\n        }\n      };\n      s.onerror = function() {\n        console.warn(\"failed to load library \" + url);\n      };\n      console.log(\"Bokeh: injecting script tag for BokehJS library: \", url);\n      document.getElementsByTagName(\"head\")[0].appendChild(s);\n    }\n  };var element = document.getElementById(\"652bd3bf-8a6e-4e5d-b740-e99c31fd0317\");\n  if (element == null) {\n    console.log(\"Bokeh: ERROR: autoload.js configured with elementid '652bd3bf-8a6e-4e5d-b740-e99c31fd0317' but no matching script tag was found. \")\n    return false;\n  }\n\n  var js_urls = [\"https://cdn.pydata.org/bokeh/release/bokeh-0.12.10.min.js\", \"https://cdn.pydata.org/bokeh/release/bokeh-widgets-0.12.10.min.js\", \"https://cdn.pydata.org/bokeh/release/bokeh-tables-0.12.10.min.js\", \"https://cdn.pydata.org/bokeh/release/bokeh-gl-0.12.10.min.js\"];\n\n  var inline_js = [\n    function(Bokeh) {\n      Bokeh.set_log_level(\"info\");\n    },\n    \n    function(Bokeh) {\n      \n    },\n    function(Bokeh) {\n      console.log(\"Bokeh: injecting CSS: https://cdn.pydata.org/bokeh/release/bokeh-0.12.10.min.css\");\n      Bokeh.embed.inject_css(\"https://cdn.pydata.org/bokeh/release/bokeh-0.12.10.min.css\");\n      console.log(\"Bokeh: injecting CSS: https://cdn.pydata.org/bokeh/release/bokeh-widgets-0.12.10.min.css\");\n      Bokeh.embed.inject_css(\"https://cdn.pydata.org/bokeh/release/bokeh-widgets-0.12.10.min.css\");\n      console.log(\"Bokeh: injecting CSS: https://cdn.pydata.org/bokeh/release/bokeh-tables-0.12.10.min.css\");\n      Bokeh.embed.inject_css(\"https://cdn.pydata.org/bokeh/release/bokeh-tables-0.12.10.min.css\");\n    }\n  ];\n\n  function run_inline_js() {\n    \n    if ((root.Bokeh !== undefined) || (force === true)) {\n      for (var i = 0; i < inline_js.length; i++) {\n        inline_js[i].call(root, root.Bokeh);\n      }if (force === true) {\n        display_loaded();\n      }} else if (Date.now() < root._bokeh_timeout) {\n      setTimeout(run_inline_js, 100);\n    } else if (!root._bokeh_failed_load) {\n      console.log(\"Bokeh: BokehJS failed to load within specified timeout.\");\n      root._bokeh_failed_load = true;\n    } else if (force !== true) {\n      var cell = $(document.getElementById(\"652bd3bf-8a6e-4e5d-b740-e99c31fd0317\")).parents('.cell').data().cell;\n      cell.output_area.append_execute_result(NB_LOAD_WARNING)\n    }\n\n  }\n\n  if (root._bokeh_is_loading === 0) {\n    console.log(\"Bokeh: BokehJS loaded, going straight to plotting\");\n    run_inline_js();\n  } else {\n    load_libs(js_urls, function() {\n      console.log(\"Bokeh: BokehJS plotting callback run at\", now());\n      run_inline_js();\n    });\n  }\n}(window));"
     },
     "metadata": {},
     "output_type": "display_data"
    }
   ],
   "source": [
    "output_notebook()"
   ]
  },
  {
   "cell_type": "code",
   "execution_count": 13,
   "metadata": {
    "collapsed": true
   },
   "outputs": [],
   "source": [
    "sgmd = lambda x: 1 / (1 + np.exp(-x))"
   ]
  },
  {
   "cell_type": "code",
   "execution_count": 14,
   "metadata": {},
   "outputs": [
    {
     "data": {
      "text/html": [
       "\n",
       "<div class=\"bk-root\">\n",
       "    <div class=\"bk-plotdiv\" id=\"f413e23a-eb89-4343-8989-9f99687cf67e\"></div>\n",
       "</div>"
      ]
     },
     "metadata": {},
     "output_type": "display_data"
    },
    {
     "data": {
      "application/javascript": [
       "(function(root) {\n",
       "  function embed_document(root) {\n",
       "    var docs_json = {\"8082051b-1b9c-417c-a7e4-f4e9acd43d5f\":{\"roots\":{\"references\":[{\"attributes\":{},\"id\":\"e6c94655-327a-4083-8ede-9429b846ef04\",\"type\":\"BasicTickFormatter\"},{\"attributes\":{\"line_alpha\":{\"field\":\"line_alpha\"},\"line_color\":{\"field\":\"line_color\"},\"line_width\":{\"value\":4},\"xs\":{\"field\":\"xs\"},\"ys\":{\"field\":\"ys\"}},\"id\":\"d144dd7c-defd-465b-9c76-b8b9efa0f1ba\",\"type\":\"MultiLine\"},{\"attributes\":{\"callback\":null,\"column_names\":[\"xs\",\"ys\",\"line_color\",\"line_alpha\"],\"data\":{\"line_alpha\":[0.8,0.3,0.5],\"line_color\":[\"firebrick\",\"navy\",\"orange\"],\"xs\":[{\"__ndarray__\":\"GC1EVPshGcBD1GGYAKAYwG97f9wFHhjAmiKdIAucF8DGybpkEBoXwPFw2KgVmBbAHRj27BoWFsBIvxMxIJQVwHRmMXUlEhXAnw1PuSqQFMDLtGz9Lw4UwPZbikE1jBPAIgOohToKE8BNqsXJP4gSwHhR4w1FBhLApPgAUkqEEcDQnx6WTwIRwPtGPNpUgBDATdyzPLT8D8CkKu/EvvgOwPt4Kk3J9A3AUsdl1dPwDMCpFaFd3uwLwABk3OXo6ArAVrIXbvPkCcCtAFP2/eAIwARPjn4I3QfAW53JBhPZBsCy6wSPHdUFwAk6QBco0QTAYIh7nzLNA8C31rYnPckCwA4l8q9HxQHAZHMtOFLBAMB4g9GAuXr/vyQgSJHOcv2/1Ly+oeNq+7+AWTWy+GL5vzD2q8INW/e/3JIi0yJT9b+ML5njN0vzvzjMD/RMQ/G/0NEMCcR27r8oC/op7mbqv4hE50oYV+a/4H3Ua0JH4r+AboMZ2W7cvzDhXVstT9S/wKdwOgNfyL+AGkt8Vz+wv8AaS3xXP7A/4KdwOgNfyD9A4V1bLU/UP4BugxnZbtw/6H3Ua0JH4j+IROdKGFfmPzAL+inuZuo/0NEMCcR27j88zA/0TEPxP4wvmeM3S/M/4JIi0yJT9T8w9qvCDVv3P4RZNbL4Yvk/1Ly+oeNq+z8oIEiRznL9P3iD0YC5ev8/aHMtOFLBAEAQJfKvR8UBQLjWtic9yQJAYIh7nzLNA0AMOkAXKNEEQLTrBI8d1QVAXJ3JBhPZBkAET45+CN0HQLAAU/b94AhAWLIXbvPkCUAAZNzl6OgKQKgVoV3e7AtAVMdl1dPwDED8eCpNyfQNQKQq78S++A5AUNyzPLT8D0D8RjzaVIAQQNCfHpZPAhFApPgAUkqEEUB6UeMNRQYSQE6qxck/iBJAIgOohToKE0D2W4pBNYwTQMy0bP0vDhRAoA1PuSqQFEB0ZjF1JRIVQEi/EzEglBVAHhj27BoWFkDycNioFZgWQMbJumQQGhdAnCKdIAucF0Bwe3/cBR4YQETUYZgAoBhAGC1EVPshGUA=\",\"dtype\":\"float64\",\"shape\":[100]},{\"__ndarray__\":\"GC1EVPshGcBD1GGYAKAYwG97f9wFHhjAmiKdIAucF8DGybpkEBoXwPFw2KgVmBbAHRj27BoWFsBIvxMxIJQVwHRmMXUlEhXAnw1PuSqQFMDLtGz9Lw4UwPZbikE1jBPAIgOohToKE8BNqsXJP4gSwHhR4w1FBhLApPgAUkqEEcDQnx6WTwIRwPtGPNpUgBDATdyzPLT8D8CkKu/EvvgOwPt4Kk3J9A3AUsdl1dPwDMCpFaFd3uwLwABk3OXo6ArAVrIXbvPkCcCtAFP2/eAIwARPjn4I3QfAW53JBhPZBsCy6wSPHdUFwAk6QBco0QTAYIh7nzLNA8C31rYnPckCwA4l8q9HxQHAZHMtOFLBAMB4g9GAuXr/vyQgSJHOcv2/1Ly+oeNq+7+AWTWy+GL5vzD2q8INW/e/3JIi0yJT9b+ML5njN0vzvzjMD/RMQ/G/0NEMCcR27r8oC/op7mbqv4hE50oYV+a/4H3Ua0JH4r+AboMZ2W7cvzDhXVstT9S/wKdwOgNfyL+AGkt8Vz+wv8AaS3xXP7A/4KdwOgNfyD9A4V1bLU/UP4BugxnZbtw/6H3Ua0JH4j+IROdKGFfmPzAL+inuZuo/0NEMCcR27j88zA/0TEPxP4wvmeM3S/M/4JIi0yJT9T8w9qvCDVv3P4RZNbL4Yvk/1Ly+oeNq+z8oIEiRznL9P3iD0YC5ev8/aHMtOFLBAEAQJfKvR8UBQLjWtic9yQJAYIh7nzLNA0AMOkAXKNEEQLTrBI8d1QVAXJ3JBhPZBkAET45+CN0HQLAAU/b94AhAWLIXbvPkCUAAZNzl6OgKQKgVoV3e7AtAVMdl1dPwDED8eCpNyfQNQKQq78S++A5AUNyzPLT8D0D8RjzaVIAQQNCfHpZPAhFApPgAUkqEEUB6UeMNRQYSQE6qxck/iBJAIgOohToKE0D2W4pBNYwTQMy0bP0vDhRAoA1PuSqQFEB0ZjF1JRIVQEi/EzEglBVAHhj27BoWFkDycNioFZgWQMbJumQQGhdAnCKdIAucF0Bwe3/cBR4YQETUYZgAoBhAGC1EVPshGUA=\",\"dtype\":\"float64\",\"shape\":[100]},{\"__ndarray__\":\"GC1EVPshGcBD1GGYAKAYwG97f9wFHhjAmiKdIAucF8DGybpkEBoXwPFw2KgVmBbAHRj27BoWFsBIvxMxIJQVwHRmMXUlEhXAnw1PuSqQFMDLtGz9Lw4UwPZbikE1jBPAIgOohToKE8BNqsXJP4gSwHhR4w1FBhLApPgAUkqEEcDQnx6WTwIRwPtGPNpUgBDATdyzPLT8D8CkKu/EvvgOwPt4Kk3J9A3AUsdl1dPwDMCpFaFd3uwLwABk3OXo6ArAVrIXbvPkCcCtAFP2/eAIwARPjn4I3QfAW53JBhPZBsCy6wSPHdUFwAk6QBco0QTAYIh7nzLNA8C31rYnPckCwA4l8q9HxQHAZHMtOFLBAMB4g9GAuXr/vyQgSJHOcv2/1Ly+oeNq+7+AWTWy+GL5vzD2q8INW/e/3JIi0yJT9b+ML5njN0vzvzjMD/RMQ/G/0NEMCcR27r8oC/op7mbqv4hE50oYV+a/4H3Ua0JH4r+AboMZ2W7cvzDhXVstT9S/wKdwOgNfyL+AGkt8Vz+wv8AaS3xXP7A/4KdwOgNfyD9A4V1bLU/UP4BugxnZbtw/6H3Ua0JH4j+IROdKGFfmPzAL+inuZuo/0NEMCcR27j88zA/0TEPxP4wvmeM3S/M/4JIi0yJT9T8w9qvCDVv3P4RZNbL4Yvk/1Ly+oeNq+z8oIEiRznL9P3iD0YC5ev8/aHMtOFLBAEAQJfKvR8UBQLjWtic9yQJAYIh7nzLNA0AMOkAXKNEEQLTrBI8d1QVAXJ3JBhPZBkAET45+CN0HQLAAU/b94AhAWLIXbvPkCUAAZNzl6OgKQKgVoV3e7AtAVMdl1dPwDED8eCpNyfQNQKQq78S++A5AUNyzPLT8D0D8RjzaVIAQQNCfHpZPAhFApPgAUkqEEUB6UeMNRQYSQE6qxck/iBJAIgOohToKE0D2W4pBNYwTQMy0bP0vDhRAoA1PuSqQFEB0ZjF1JRIVQEi/EzEglBVAHhj27BoWFkDycNioFZgWQMbJumQQGhdAnCKdIAucF0Bwe3/cBR4YQETUYZgAoBhAGC1EVPshGUA=\",\"dtype\":\"float64\",\"shape\":[100]}],\"ys\":[{\"__ndarray__\":\"Xv9tXZ+YXj93nkhEWV5hPxuRpzYfuGM/bVlH+VZjZj/1jMFhBmtpP9b8my6x22w/YZ62W8ZhcD/Hi+1NXZlyP1aL6bHFHXU/GnYVEmX5dz+qYAowCTh7P1AADsUY534/eDHYbeWKgT+BP5LTsuqDP2Pg7+3CnIY/oKwW2DesiT8v4aFptSWNP1aZrLXKi5A/62VZbhHJkj+WInef7lOVP/gW3H3iNpg/3rxxEdl9mz++lb1yWzafPzvTOtnjt6E/kToDKcgdpD+nMJgpwtamP+hyLoQQ7qk/WybKe3dwrT+S/u3TOrawPzll5Og/+bI/IZpOdqKKtT/4+9Kf/XS4P7O1UQFcxLs/Nrq4ammGvz91kH2rVeXBP1D7sINgUcQ/LVz+JVYRxz+4suYSkjDKP2ev/Uv5u80/6Eziyhfh0D96sV736SnTPxzguJriwdU/wmF7DLiz2D8yh+rKkwvcP8R2Z7ZE198/rBadDDwT4j9uVaczfYXkPwNOqWCATOc/CjhpNb5z6j+nNwbGPAjuP8rxtbFiDPE/tVO91hBb8z/DspB0sPn1P0cCZFwT8/g/1lQWPoJT/D+ekzWydxQAQAM8jSeYQQJAEgRQjB+6BEBAf/JaQogHQCXNNqGWtwpAm9Wa2kNVDkCQY2GiHDgRQHxGIse1jBNALMhLbw0yFkCreTMsETMZQJ/2VC8pnBxAAPBVxLU9IEBcmkAqa3AiQGJMe+RI7yRA1sQPmp3EJ0BCXDIQHfwqQC+ebH8Qoy5ACk6wuUZkMUAEm+QL2r4zQKkNBPr6ajZA9MWyHLNzOUCb5Nd3iuU8QCf7Mp5dZ0BA8D2wRbafQkBetmiW+iRFQKQ2HaeTAUhAWC2sQFNBS0BPaDOvpPFOQE/RSBfikFFALbOY637xU0CH/oCHeqRWQJ/h19L6tFlAskCO9acvXUDo1RtPcJFgQKxn4616z2JACtzP/zVbZUC1LycPJj9oQDtBbfU6h2tAOrG6aQJBb0BU07Ld771xQHKQGLClJHRAOhNBjo3edkBledD36fZ5QJv/MIuDen1AGH4X6e67gEA=\",\"dtype\":\"float64\",\"shape\":[100]},{\"__ndarray__\":\"Xv9tXZ+YXr93nkhEWV5hvxuRpzYfuGO/bVlH+VZjZr/1jMFhBmtpv9b8my6x22y/YZ62W8ZhcL/Hi+1NXZlyv1aL6bHFHXW/GnYVEmX5d7+qYAowCTh7v1AADsUY536/eDHYbeWKgb+BP5LTsuqDv2Pg7+3CnIa/oKwW2Desib8v4aFptSWNv1aZrLXKi5C/62VZbhHJkr+WInef7lOVv/gW3H3iNpi/3rxxEdl9m7++lb1yWzafvzvTOtnjt6G/kToDKcgdpL+nMJgpwtamv+hyLoQQ7qm/WybKe3dwrb+S/u3TOrawvzll5Og/+bK/IZpOdqKKtb/4+9Kf/XS4v7O1UQFcxLu/Nrq4ammGv791kH2rVeXBv1D7sINgUcS/LVz+JVYRx7+4suYSkjDKv2ev/Uv5u82/6Eziyhfh0L96sV736SnTvxzguJriwdW/wmF7DLiz2L8yh+rKkwvcv8R2Z7ZE19+/rBadDDwT4r9uVaczfYXkvwNOqWCATOe/CjhpNb5z6r+nNwbGPAjuv8rxtbFiDPG/tVO91hBb87/DspB0sPn1v0cCZFwT8/i/1lQWPoJT/L+ekzWydxQAwAM8jSeYQQLAEgRQjB+6BMBAf/JaQogHwCXNNqGWtwrAm9Wa2kNVDsCQY2GiHDgRwHxGIse1jBPALMhLbw0yFsCreTMsETMZwJ/2VC8pnBzAAPBVxLU9IMBcmkAqa3AiwGJMe+RI7yTA1sQPmp3EJ8BCXDIQHfwqwC+ebH8Qoy7ACk6wuUZkMcAEm+QL2r4zwKkNBPr6ajbA9MWyHLNzOcCb5Nd3iuU8wCf7Mp5dZ0DA8D2wRbafQsBetmiW+iRFwKQ2HaeTAUjAWC2sQFNBS8BPaDOvpPFOwE/RSBfikFHALbOY637xU8CH/oCHeqRWwJ/h19L6tFnAskCO9acvXcDo1RtPcJFgwKxn4616z2LACtzP/zVbZcC1LycPJj9owDtBbfU6h2vAOrG6aQJBb8BU07Ld771xwHKQGLClJHTAOhNBjo3edsBledD36fZ5wJv/MIuDen3AGH4X6e67gMA=\",\"dtype\":\"float64\",\"shape\":[100]},{\"__ndarray__\":\"VfDX1gWKXj/x010K8VRhPzsKh+b/q2M/5UYEG7hTZj99saa+5VZpPwm5aDfCwWw/G+telBFRcD+FGcWC14NyP7O5/OoLAnU/MNFsY67Vdz/rukONCQp7P9CIwIjbq34/Gx8nVsFkgT/I8Jpel7mDP71zbm2LXYY/AsEvHNpaiT+mXtnQAL2MP4qIr+dvSJA/jMo7M29ykj/yAsRuiOSUP+ne5Muvp5c/nBmnUNfFmj8IZotFAkqePxHudsYrIKE/L+Fg9Rhboz8X1i1/Ft2lP7X4N7AWrqg/yrh4/7DWqz8/Sw45HmCvP45GwWkXqrE/xjAx+Zzesz+Fln27AVO2P8Y8MbjLDLk/m/ROpIwRvD/xFhOhwma/P+BbItHYiME//79pqZqLwz+fyz/mxb3FP3M86g4NIcg/YP29Mpa2yj+EeA4Y2n7NPxcusSzCPNA/fMh3VKvS0T+JRaTfCIDTP76sLEozQ9U/wnwvK/kZ1z93uVqKowHZP1UmQyEB99o/T8w9jnj23D8/WZHcIPzeP2NTt5HvgeA/2hnhuMOE4T/YbF5vf4TiP0Sj0jouf+M/oEFoagNz5D+hqelaZl7lPz3dLZD7P+Y/wxvEVaoW5z/2aKfpnuHnP+Bh/HlJoOg/qYBQc1pS6T/jcEW8vPfpPxoNcIaOkOo/AJClVRkd6z8KabfLyZ3rPyGd3asnE+w/byF2a8597D9o2PmIZt7sPzBNkMifNe0/59nZYCyE7T8v18cSvcrtP0wbbxz+Ce4/c3QI8JRC7j91gPyUHnXuP58iDZguou4/7vGpcE7K7j8fkZhD/e3uP9Ck0+2vDe8/NMd6RdEp7z8I2aCBwkLvP+nfibzbWO8/qyFmhmxs7z+8g8KAvH3vP4aavPwLje8//ECPl5Sa7z8xRkrSiabvPz2UhaIZse8/g2On+my67z/vfu5IqMLvP4l45ezrye8/XiY5o1TQ7z+NBiro+9XvP811+lD42u8/K0LX3F3f7z9Il8g9PuPvP09ZQRqp5u8/ufvkR6zp7z/1eBkAVOzvPy2i9Q6r7u8/CJQU/brw7z8=\",\"dtype\":\"float64\",\"shape\":[100]}]}},\"id\":\"8c5a7087-68e5-482a-9481-756c5250d201\",\"type\":\"ColumnDataSource\"},{\"attributes\":{},\"id\":\"bd66937f-444f-41da-9122-abf451f6e7bb\",\"type\":\"ResetTool\"},{\"attributes\":{},\"id\":\"52aa5bf9-beb7-42a3-ac6e-d5f07f8b78e3\",\"type\":\"SaveTool\"},{\"attributes\":{},\"id\":\"fa7812b5-d797-404a-94e6-3c3a750430cb\",\"type\":\"BasicTicker\"},{\"attributes\":{\"formatter\":{\"id\":\"4c568d12-a504-468c-b137-ad76f872ed42\",\"type\":\"BasicTickFormatter\"},\"plot\":{\"id\":\"e55e06b4-c727-4148-aacb-4fe5660c9fd6\",\"subtype\":\"Figure\",\"type\":\"Plot\"},\"ticker\":{\"id\":\"45d80d24-dcaf-452c-855b-9519ebdd6d3e\",\"type\":\"BasicTicker\"}},\"id\":\"912b346f-c41b-4e27-9616-de6b906ed7b5\",\"type\":\"LinearAxis\"},{\"attributes\":{},\"id\":\"2f6612bd-6a08-4c2c-b402-7088f7a70e79\",\"type\":\"HelpTool\"},{\"attributes\":{\"callback\":null},\"id\":\"a2a8ee50-51ca-4a98-9072-1715ca470617\",\"type\":\"DataRange1d\"},{\"attributes\":{\"data_source\":{\"id\":\"8c5a7087-68e5-482a-9481-756c5250d201\",\"type\":\"ColumnDataSource\"},\"glyph\":{\"id\":\"d144dd7c-defd-465b-9c76-b8b9efa0f1ba\",\"type\":\"MultiLine\"},\"hover_glyph\":null,\"muted_glyph\":null,\"nonselection_glyph\":{\"id\":\"0c942401-6de5-4ef2-b4fe-bd281f9ad98a\",\"type\":\"MultiLine\"},\"selection_glyph\":null,\"view\":{\"id\":\"2d5e9795-cc6a-406c-a245-a565cf126d2a\",\"type\":\"CDSView\"}},\"id\":\"37c95b9b-f415-400e-981a-ae38f6a38cb4\",\"type\":\"GlyphRenderer\"},{\"attributes\":{},\"id\":\"5961437f-c733-4bb8-955e-2a40617a5680\",\"type\":\"PanTool\"},{\"attributes\":{},\"id\":\"a7761f82-f657-428f-8ffc-b50b42a77a51\",\"type\":\"LinearScale\"},{\"attributes\":{},\"id\":\"c36b7396-81cd-416f-998a-26a9c4d1e1fc\",\"type\":\"WheelZoomTool\"},{\"attributes\":{},\"id\":\"4c568d12-a504-468c-b137-ad76f872ed42\",\"type\":\"BasicTickFormatter\"},{\"attributes\":{\"bottom_units\":\"screen\",\"fill_alpha\":{\"value\":0.5},\"fill_color\":{\"value\":\"lightgrey\"},\"left_units\":\"screen\",\"level\":\"overlay\",\"line_alpha\":{\"value\":1.0},\"line_color\":{\"value\":\"black\"},\"line_dash\":[4,4],\"line_width\":{\"value\":2},\"plot\":null,\"render_mode\":\"css\",\"right_units\":\"screen\",\"top_units\":\"screen\"},\"id\":\"fecb9dbb-cc50-486e-a2c7-e47d20af290a\",\"type\":\"BoxAnnotation\"},{\"attributes\":{\"active_drag\":\"auto\",\"active_inspect\":\"auto\",\"active_scroll\":\"auto\",\"active_tap\":\"auto\",\"tools\":[{\"id\":\"5961437f-c733-4bb8-955e-2a40617a5680\",\"type\":\"PanTool\"},{\"id\":\"c36b7396-81cd-416f-998a-26a9c4d1e1fc\",\"type\":\"WheelZoomTool\"},{\"id\":\"7e5d3865-f93d-4dee-a104-f8b64d4f7497\",\"type\":\"BoxZoomTool\"},{\"id\":\"52aa5bf9-beb7-42a3-ac6e-d5f07f8b78e3\",\"type\":\"SaveTool\"},{\"id\":\"bd66937f-444f-41da-9122-abf451f6e7bb\",\"type\":\"ResetTool\"},{\"id\":\"2f6612bd-6a08-4c2c-b402-7088f7a70e79\",\"type\":\"HelpTool\"}]},\"id\":\"c85cf25f-7df7-494a-a1bc-b965fb2a40b1\",\"type\":\"Toolbar\"},{\"attributes\":{},\"id\":\"36ea8e0e-0b47-4d18-b79a-6ae716c5e5e0\",\"type\":\"LinearScale\"},{\"attributes\":{\"line_alpha\":{\"value\":0.1},\"line_color\":{\"value\":\"#1f77b4\"},\"line_width\":{\"value\":4},\"xs\":{\"field\":\"xs\"},\"ys\":{\"field\":\"ys\"}},\"id\":\"0c942401-6de5-4ef2-b4fe-bd281f9ad98a\",\"type\":\"MultiLine\"},{\"attributes\":{\"below\":[{\"id\":\"912b346f-c41b-4e27-9616-de6b906ed7b5\",\"type\":\"LinearAxis\"}],\"left\":[{\"id\":\"8677ee13-7ce8-4b2a-a511-89b72f11e275\",\"type\":\"LinearAxis\"}],\"plot_height\":400,\"plot_width\":400,\"renderers\":[{\"id\":\"912b346f-c41b-4e27-9616-de6b906ed7b5\",\"type\":\"LinearAxis\"},{\"id\":\"dafdbb96-2a17-43d7-9f70-4e60081e2083\",\"type\":\"Grid\"},{\"id\":\"8677ee13-7ce8-4b2a-a511-89b72f11e275\",\"type\":\"LinearAxis\"},{\"id\":\"24a2d184-f5ac-460e-bbcd-f4a1252464d2\",\"type\":\"Grid\"},{\"id\":\"fecb9dbb-cc50-486e-a2c7-e47d20af290a\",\"type\":\"BoxAnnotation\"},{\"id\":\"37c95b9b-f415-400e-981a-ae38f6a38cb4\",\"type\":\"GlyphRenderer\"}],\"title\":{\"id\":\"d8b035ab-781c-43d5-a771-8015eff84666\",\"type\":\"Title\"},\"toolbar\":{\"id\":\"c85cf25f-7df7-494a-a1bc-b965fb2a40b1\",\"type\":\"Toolbar\"},\"x_range\":{\"id\":\"a2a8ee50-51ca-4a98-9072-1715ca470617\",\"type\":\"DataRange1d\"},\"x_scale\":{\"id\":\"36ea8e0e-0b47-4d18-b79a-6ae716c5e5e0\",\"type\":\"LinearScale\"},\"y_range\":{\"id\":\"60c1f9ba-1420-4d87-80ee-cc16d890159f\",\"type\":\"DataRange1d\"},\"y_scale\":{\"id\":\"a7761f82-f657-428f-8ffc-b50b42a77a51\",\"type\":\"LinearScale\"}},\"id\":\"e55e06b4-c727-4148-aacb-4fe5660c9fd6\",\"subtype\":\"Figure\",\"type\":\"Plot\"},{\"attributes\":{\"overlay\":{\"id\":\"fecb9dbb-cc50-486e-a2c7-e47d20af290a\",\"type\":\"BoxAnnotation\"}},\"id\":\"7e5d3865-f93d-4dee-a104-f8b64d4f7497\",\"type\":\"BoxZoomTool\"},{\"attributes\":{\"plot\":{\"id\":\"e55e06b4-c727-4148-aacb-4fe5660c9fd6\",\"subtype\":\"Figure\",\"type\":\"Plot\"},\"ticker\":{\"id\":\"45d80d24-dcaf-452c-855b-9519ebdd6d3e\",\"type\":\"BasicTicker\"}},\"id\":\"dafdbb96-2a17-43d7-9f70-4e60081e2083\",\"type\":\"Grid\"},{\"attributes\":{\"source\":{\"id\":\"8c5a7087-68e5-482a-9481-756c5250d201\",\"type\":\"ColumnDataSource\"}},\"id\":\"2d5e9795-cc6a-406c-a245-a565cf126d2a\",\"type\":\"CDSView\"},{\"attributes\":{\"formatter\":{\"id\":\"e6c94655-327a-4083-8ede-9429b846ef04\",\"type\":\"BasicTickFormatter\"},\"plot\":{\"id\":\"e55e06b4-c727-4148-aacb-4fe5660c9fd6\",\"subtype\":\"Figure\",\"type\":\"Plot\"},\"ticker\":{\"id\":\"fa7812b5-d797-404a-94e6-3c3a750430cb\",\"type\":\"BasicTicker\"}},\"id\":\"8677ee13-7ce8-4b2a-a511-89b72f11e275\",\"type\":\"LinearAxis\"},{\"attributes\":{\"plot\":null,\"text\":\"\"},\"id\":\"d8b035ab-781c-43d5-a771-8015eff84666\",\"type\":\"Title\"},{\"attributes\":{\"callback\":null},\"id\":\"60c1f9ba-1420-4d87-80ee-cc16d890159f\",\"type\":\"DataRange1d\"},{\"attributes\":{\"dimension\":1,\"plot\":{\"id\":\"e55e06b4-c727-4148-aacb-4fe5660c9fd6\",\"subtype\":\"Figure\",\"type\":\"Plot\"},\"ticker\":{\"id\":\"fa7812b5-d797-404a-94e6-3c3a750430cb\",\"type\":\"BasicTicker\"}},\"id\":\"24a2d184-f5ac-460e-bbcd-f4a1252464d2\",\"type\":\"Grid\"},{\"attributes\":{},\"id\":\"45d80d24-dcaf-452c-855b-9519ebdd6d3e\",\"type\":\"BasicTicker\"}],\"root_ids\":[\"e55e06b4-c727-4148-aacb-4fe5660c9fd6\"]},\"title\":\"Bokeh Application\",\"version\":\"0.12.10\"}};\n",
       "    var render_items = [{\"docid\":\"8082051b-1b9c-417c-a7e4-f4e9acd43d5f\",\"elementid\":\"f413e23a-eb89-4343-8989-9f99687cf67e\",\"modelid\":\"e55e06b4-c727-4148-aacb-4fe5660c9fd6\"}];\n",
       "\n",
       "    root.Bokeh.embed.embed_items(docs_json, render_items);\n",
       "  }\n",
       "\n",
       "  if (root.Bokeh !== undefined) {\n",
       "    embed_document(root);\n",
       "  } else {\n",
       "    var attempts = 0;\n",
       "    var timer = setInterval(function(root) {\n",
       "      if (root.Bokeh !== undefined) {\n",
       "        embed_document(root);\n",
       "        clearInterval(timer);\n",
       "      }\n",
       "      attempts++;\n",
       "      if (attempts > 100) {\n",
       "        console.log(\"Bokeh: ERROR: Unable to embed document because BokehJS library is missing\")\n",
       "        clearInterval(timer);\n",
       "      }\n",
       "    }, 10, root)\n",
       "  }\n",
       "})(window);"
      ],
      "application/vnd.bokehjs_exec.v0+json": ""
     },
     "metadata": {
      "application/vnd.bokehjs_exec.v0+json": {
       "id": "e55e06b4-c727-4148-aacb-4fe5660c9fd6"
      }
     },
     "output_type": "display_data"
    }
   ],
   "source": [
    "x = np.linspace(-2*np.pi, 2*np.pi, 100)\n",
    "y1 = np.exp(x)\n",
    "y2 = sgmd(x)\n",
    "p2 = figure(plot_width=400, plot_height=400)\n",
    "p2.multi_line([x,x,x],[y1,-y1,y2],\n",
    "            color=[\"firebrick\", \"navy\",\"orange\"], alpha=[0.8, 0.3, .5], line_width=4)\n",
    "show(p2)"
   ]
  },
  {
   "cell_type": "code",
   "execution_count": 24,
   "metadata": {},
   "outputs": [
    {
     "data": {
      "text/html": [
       "\n",
       "<div class=\"bk-root\">\n",
       "    <div class=\"bk-plotdiv\" id=\"b19484ad-1331-4f39-94c1-4698f7252f6f\"></div>\n",
       "</div>"
      ]
     },
     "metadata": {},
     "output_type": "display_data"
    },
    {
     "data": {
      "application/javascript": [
       "(function(root) {\n",
       "  function embed_document(root) {\n",
       "    var docs_json = {\"026be9e0-e0f2-4a85-91c8-05418c79549f\":{\"roots\":{\"references\":[{\"attributes\":{\"callback\":null},\"id\":\"2135727d-eebf-4812-9b39-6bc83b6b5776\",\"type\":\"DataRange1d\"},{\"attributes\":{\"bottom_units\":\"screen\",\"fill_alpha\":{\"value\":0.5},\"fill_color\":{\"value\":\"lightgrey\"},\"left_units\":\"screen\",\"level\":\"overlay\",\"line_alpha\":{\"value\":1.0},\"line_color\":{\"value\":\"black\"},\"line_dash\":[4,4],\"line_width\":{\"value\":2},\"plot\":null,\"render_mode\":\"css\",\"right_units\":\"screen\",\"top_units\":\"screen\"},\"id\":\"0493575d-32d8-4998-910f-a1b169212406\",\"type\":\"BoxAnnotation\"},{\"attributes\":{},\"id\":\"bc33cad9-2e84-460a-9571-f9c8c16d7ac4\",\"type\":\"LinearScale\"},{\"attributes\":{},\"id\":\"72cb4b7f-d4fb-4658-bf0e-b9e7b221f3f2\",\"type\":\"PanTool\"},{\"attributes\":{},\"id\":\"65b92127-fa5c-4b98-bfe5-b673b5b6d6ec\",\"type\":\"LinearScale\"},{\"attributes\":{},\"id\":\"6415c388-1f86-4af8-ad7c-3c2790f290dd\",\"type\":\"BasicTickFormatter\"},{\"attributes\":{\"data_source\":{\"id\":\"27faf431-6ce2-4a3d-90b6-9053c57ab617\",\"type\":\"ColumnDataSource\"},\"glyph\":{\"id\":\"1e7fa151-c063-4787-a8fb-e45344dd2d83\",\"type\":\"Line\"},\"hover_glyph\":null,\"muted_glyph\":null,\"nonselection_glyph\":{\"id\":\"1344a3b6-1ab3-449f-a92b-1fd84bfb1c87\",\"type\":\"Line\"},\"selection_glyph\":null,\"view\":{\"id\":\"e9771497-018e-4ef7-b88d-3a74a491d757\",\"type\":\"CDSView\"}},\"id\":\"13b86b90-07f4-4280-8dc1-20626d022fff\",\"type\":\"GlyphRenderer\"},{\"attributes\":{\"formatter\":{\"id\":\"6415c388-1f86-4af8-ad7c-3c2790f290dd\",\"type\":\"BasicTickFormatter\"},\"plot\":{\"id\":\"b730650d-396e-49a1-ba7f-fbdd45ee430e\",\"subtype\":\"Figure\",\"type\":\"Plot\"},\"ticker\":{\"id\":\"467e3418-b821-4dcd-9d51-38452f961700\",\"type\":\"BasicTicker\"}},\"id\":\"9503c69c-aa0e-4595-a432-8628c953f50e\",\"type\":\"LinearAxis\"},{\"attributes\":{\"below\":[{\"id\":\"9503c69c-aa0e-4595-a432-8628c953f50e\",\"type\":\"LinearAxis\"}],\"left\":[{\"id\":\"b50182fc-5a65-4cc1-9fcf-5b99c47f1103\",\"type\":\"LinearAxis\"}],\"plot_height\":400,\"plot_width\":400,\"renderers\":[{\"id\":\"9503c69c-aa0e-4595-a432-8628c953f50e\",\"type\":\"LinearAxis\"},{\"id\":\"a6368bc0-2a22-48d0-abcf-af1ee5b2ec35\",\"type\":\"Grid\"},{\"id\":\"b50182fc-5a65-4cc1-9fcf-5b99c47f1103\",\"type\":\"LinearAxis\"},{\"id\":\"0c25a3d7-e237-4a37-8d2a-d6df85055931\",\"type\":\"Grid\"},{\"id\":\"0493575d-32d8-4998-910f-a1b169212406\",\"type\":\"BoxAnnotation\"},{\"id\":\"891fdbf7-ca9a-4dc6-a038-62bfd68bd6e0\",\"type\":\"Legend\"},{\"id\":\"13b86b90-07f4-4280-8dc1-20626d022fff\",\"type\":\"GlyphRenderer\"}],\"title\":{\"id\":\"e22c2bcc-6e0c-4b10-8cdf-13410d4abce2\",\"type\":\"Title\"},\"toolbar\":{\"id\":\"9638b56f-222f-473d-a0f1-3207ddd039a6\",\"type\":\"Toolbar\"},\"x_range\":{\"id\":\"148458e6-8718-4a6c-b4bf-16a3f824234f\",\"type\":\"DataRange1d\"},\"x_scale\":{\"id\":\"bc33cad9-2e84-460a-9571-f9c8c16d7ac4\",\"type\":\"LinearScale\"},\"y_range\":{\"id\":\"2135727d-eebf-4812-9b39-6bc83b6b5776\",\"type\":\"DataRange1d\"},\"y_scale\":{\"id\":\"65b92127-fa5c-4b98-bfe5-b673b5b6d6ec\",\"type\":\"LinearScale\"}},\"id\":\"b730650d-396e-49a1-ba7f-fbdd45ee430e\",\"subtype\":\"Figure\",\"type\":\"Plot\"},{\"attributes\":{\"items\":[{\"id\":\"ada4e3ff-4306-462c-82fb-c0440eb9ec6f\",\"type\":\"LegendItem\"}],\"location\":\"bottom_right\",\"plot\":{\"id\":\"b730650d-396e-49a1-ba7f-fbdd45ee430e\",\"subtype\":\"Figure\",\"type\":\"Plot\"}},\"id\":\"891fdbf7-ca9a-4dc6-a038-62bfd68bd6e0\",\"type\":\"Legend\"},{\"attributes\":{\"line_color\":{\"value\":\"#1f77b4\"},\"line_width\":{\"value\":2},\"x\":{\"field\":\"x\"},\"y\":{\"field\":\"y\"}},\"id\":\"1e7fa151-c063-4787-a8fb-e45344dd2d83\",\"type\":\"Line\"},{\"attributes\":{},\"id\":\"93507bf4-674f-4f0c-b416-b52648fc2fe2\",\"type\":\"WheelZoomTool\"},{\"attributes\":{\"callback\":null,\"column_names\":[\"x\",\"y\"],\"data\":{\"x\":{\"__ndarray__\":\"GC1EVPshGcBD1GGYAKAYwG97f9wFHhjAmiKdIAucF8DGybpkEBoXwPFw2KgVmBbAHRj27BoWFsBIvxMxIJQVwHRmMXUlEhXAnw1PuSqQFMDLtGz9Lw4UwPZbikE1jBPAIgOohToKE8BNqsXJP4gSwHhR4w1FBhLApPgAUkqEEcDQnx6WTwIRwPtGPNpUgBDATdyzPLT8D8CkKu/EvvgOwPt4Kk3J9A3AUsdl1dPwDMCpFaFd3uwLwABk3OXo6ArAVrIXbvPkCcCtAFP2/eAIwARPjn4I3QfAW53JBhPZBsCy6wSPHdUFwAk6QBco0QTAYIh7nzLNA8C31rYnPckCwA4l8q9HxQHAZHMtOFLBAMB4g9GAuXr/vyQgSJHOcv2/1Ly+oeNq+7+AWTWy+GL5vzD2q8INW/e/3JIi0yJT9b+ML5njN0vzvzjMD/RMQ/G/0NEMCcR27r8oC/op7mbqv4hE50oYV+a/4H3Ua0JH4r+AboMZ2W7cvzDhXVstT9S/wKdwOgNfyL+AGkt8Vz+wv8AaS3xXP7A/4KdwOgNfyD9A4V1bLU/UP4BugxnZbtw/6H3Ua0JH4j+IROdKGFfmPzAL+inuZuo/0NEMCcR27j88zA/0TEPxP4wvmeM3S/M/4JIi0yJT9T8w9qvCDVv3P4RZNbL4Yvk/1Ly+oeNq+z8oIEiRznL9P3iD0YC5ev8/aHMtOFLBAEAQJfKvR8UBQLjWtic9yQJAYIh7nzLNA0AMOkAXKNEEQLTrBI8d1QVAXJ3JBhPZBkAET45+CN0HQLAAU/b94AhAWLIXbvPkCUAAZNzl6OgKQKgVoV3e7AtAVMdl1dPwDED8eCpNyfQNQKQq78S++A5AUNyzPLT8D0D8RjzaVIAQQNCfHpZPAhFApPgAUkqEEUB6UeMNRQYSQE6qxck/iBJAIgOohToKE0D2W4pBNYwTQMy0bP0vDhRAoA1PuSqQFEB0ZjF1JRIVQEi/EzEglBVAHhj27BoWFkDycNioFZgWQMbJumQQGhdAnCKdIAucF0Bwe3/cBR4YQETUYZgAoBhAGC1EVPshGUA=\",\"dtype\":\"float64\",\"shape\":[100]},\"y\":{\"__ndarray__\":\"VfDX1gWKXj/x010K8VRhPzsKh+b/q2M/5UYEG7hTZj99saa+5VZpPwm5aDfCwWw/G+telBFRcD+FGcWC14NyP7O5/OoLAnU/MNFsY67Vdz/rukONCQp7P9CIwIjbq34/Gx8nVsFkgT/I8Jpel7mDP71zbm2LXYY/AsEvHNpaiT+mXtnQAL2MP4qIr+dvSJA/jMo7M29ykj/yAsRuiOSUP+ne5Muvp5c/nBmnUNfFmj8IZotFAkqePxHudsYrIKE/L+Fg9Rhboz8X1i1/Ft2lP7X4N7AWrqg/yrh4/7DWqz8/Sw45HmCvP45GwWkXqrE/xjAx+Zzesz+Fln27AVO2P8Y8MbjLDLk/m/ROpIwRvD/xFhOhwma/P+BbItHYiME//79pqZqLwz+fyz/mxb3FP3M86g4NIcg/YP29Mpa2yj+EeA4Y2n7NPxcusSzCPNA/fMh3VKvS0T+JRaTfCIDTP76sLEozQ9U/wnwvK/kZ1z93uVqKowHZP1UmQyEB99o/T8w9jnj23D8/WZHcIPzeP2NTt5HvgeA/2hnhuMOE4T/YbF5vf4TiP0Sj0jouf+M/oEFoagNz5D+hqelaZl7lPz3dLZD7P+Y/wxvEVaoW5z/2aKfpnuHnP+Bh/HlJoOg/qYBQc1pS6T/jcEW8vPfpPxoNcIaOkOo/AJClVRkd6z8KabfLyZ3rPyGd3asnE+w/byF2a8597D9o2PmIZt7sPzBNkMifNe0/59nZYCyE7T8v18cSvcrtP0wbbxz+Ce4/c3QI8JRC7j91gPyUHnXuP58iDZguou4/7vGpcE7K7j8fkZhD/e3uP9Ck0+2vDe8/NMd6RdEp7z8I2aCBwkLvP+nfibzbWO8/qyFmhmxs7z+8g8KAvH3vP4aavPwLje8//ECPl5Sa7z8xRkrSiabvPz2UhaIZse8/g2On+my67z/vfu5IqMLvP4l45ezrye8/XiY5o1TQ7z+NBiro+9XvP811+lD42u8/K0LX3F3f7z9Il8g9PuPvP09ZQRqp5u8/ufvkR6zp7z/1eBkAVOzvPy2i9Q6r7u8/CJQU/brw7z8=\",\"dtype\":\"float64\",\"shape\":[100]}}},\"id\":\"27faf431-6ce2-4a3d-90b6-9053c57ab617\",\"type\":\"ColumnDataSource\"},{\"attributes\":{\"overlay\":{\"id\":\"0493575d-32d8-4998-910f-a1b169212406\",\"type\":\"BoxAnnotation\"}},\"id\":\"fcc76bb5-a2dd-4cba-b6c2-86eb8b4ecf01\",\"type\":\"BoxZoomTool\"},{\"attributes\":{},\"id\":\"4bfdd41d-1c00-46d2-8038-94f334537d23\",\"type\":\"BasicTicker\"},{\"attributes\":{\"active_drag\":\"auto\",\"active_inspect\":\"auto\",\"active_scroll\":\"auto\",\"active_tap\":\"auto\",\"tools\":[{\"id\":\"72cb4b7f-d4fb-4658-bf0e-b9e7b221f3f2\",\"type\":\"PanTool\"},{\"id\":\"93507bf4-674f-4f0c-b416-b52648fc2fe2\",\"type\":\"WheelZoomTool\"},{\"id\":\"fcc76bb5-a2dd-4cba-b6c2-86eb8b4ecf01\",\"type\":\"BoxZoomTool\"},{\"id\":\"3e9dd159-63d4-4d6e-932f-7c63b5458fe2\",\"type\":\"SaveTool\"},{\"id\":\"7944d3e9-dd84-4d82-b6e6-acebef24122e\",\"type\":\"ResetTool\"},{\"id\":\"ceb40336-1f44-4bf0-a1b8-3d96b5b653a0\",\"type\":\"HelpTool\"}]},\"id\":\"9638b56f-222f-473d-a0f1-3207ddd039a6\",\"type\":\"Toolbar\"},{\"attributes\":{\"label\":{\"value\":\"y = 1/(1+exp(-x))\"},\"renderers\":[{\"id\":\"13b86b90-07f4-4280-8dc1-20626d022fff\",\"type\":\"GlyphRenderer\"}]},\"id\":\"ada4e3ff-4306-462c-82fb-c0440eb9ec6f\",\"type\":\"LegendItem\"},{\"attributes\":{\"callback\":null},\"id\":\"148458e6-8718-4a6c-b4bf-16a3f824234f\",\"type\":\"DataRange1d\"},{\"attributes\":{},\"id\":\"3e9dd159-63d4-4d6e-932f-7c63b5458fe2\",\"type\":\"SaveTool\"},{\"attributes\":{\"dimension\":1,\"plot\":{\"id\":\"b730650d-396e-49a1-ba7f-fbdd45ee430e\",\"subtype\":\"Figure\",\"type\":\"Plot\"},\"ticker\":{\"id\":\"4bfdd41d-1c00-46d2-8038-94f334537d23\",\"type\":\"BasicTicker\"}},\"id\":\"0c25a3d7-e237-4a37-8d2a-d6df85055931\",\"type\":\"Grid\"},{\"attributes\":{\"plot\":{\"id\":\"b730650d-396e-49a1-ba7f-fbdd45ee430e\",\"subtype\":\"Figure\",\"type\":\"Plot\"},\"ticker\":{\"id\":\"467e3418-b821-4dcd-9d51-38452f961700\",\"type\":\"BasicTicker\"}},\"id\":\"a6368bc0-2a22-48d0-abcf-af1ee5b2ec35\",\"type\":\"Grid\"},{\"attributes\":{},\"id\":\"7944d3e9-dd84-4d82-b6e6-acebef24122e\",\"type\":\"ResetTool\"},{\"attributes\":{\"source\":{\"id\":\"27faf431-6ce2-4a3d-90b6-9053c57ab617\",\"type\":\"ColumnDataSource\"}},\"id\":\"e9771497-018e-4ef7-b88d-3a74a491d757\",\"type\":\"CDSView\"},{\"attributes\":{\"formatter\":{\"id\":\"9c687320-178e-4ee6-b0f9-711dc7e8387b\",\"type\":\"BasicTickFormatter\"},\"plot\":{\"id\":\"b730650d-396e-49a1-ba7f-fbdd45ee430e\",\"subtype\":\"Figure\",\"type\":\"Plot\"},\"ticker\":{\"id\":\"4bfdd41d-1c00-46d2-8038-94f334537d23\",\"type\":\"BasicTicker\"}},\"id\":\"b50182fc-5a65-4cc1-9fcf-5b99c47f1103\",\"type\":\"LinearAxis\"},{\"attributes\":{},\"id\":\"ceb40336-1f44-4bf0-a1b8-3d96b5b653a0\",\"type\":\"HelpTool\"},{\"attributes\":{\"line_alpha\":{\"value\":0.1},\"line_color\":{\"value\":\"#1f77b4\"},\"line_width\":{\"value\":2},\"x\":{\"field\":\"x\"},\"y\":{\"field\":\"y\"}},\"id\":\"1344a3b6-1ab3-449f-a92b-1fd84bfb1c87\",\"type\":\"Line\"},{\"attributes\":{},\"id\":\"467e3418-b821-4dcd-9d51-38452f961700\",\"type\":\"BasicTicker\"},{\"attributes\":{\"plot\":null,\"text\":\"\"},\"id\":\"e22c2bcc-6e0c-4b10-8cdf-13410d4abce2\",\"type\":\"Title\"},{\"attributes\":{},\"id\":\"9c687320-178e-4ee6-b0f9-711dc7e8387b\",\"type\":\"BasicTickFormatter\"}],\"root_ids\":[\"b730650d-396e-49a1-ba7f-fbdd45ee430e\"]},\"title\":\"Bokeh Application\",\"version\":\"0.12.10\"}};\n",
       "    var render_items = [{\"docid\":\"026be9e0-e0f2-4a85-91c8-05418c79549f\",\"elementid\":\"b19484ad-1331-4f39-94c1-4698f7252f6f\",\"modelid\":\"b730650d-396e-49a1-ba7f-fbdd45ee430e\"}];\n",
       "\n",
       "    root.Bokeh.embed.embed_items(docs_json, render_items);\n",
       "  }\n",
       "\n",
       "  if (root.Bokeh !== undefined) {\n",
       "    embed_document(root);\n",
       "  } else {\n",
       "    var attempts = 0;\n",
       "    var timer = setInterval(function(root) {\n",
       "      if (root.Bokeh !== undefined) {\n",
       "        embed_document(root);\n",
       "        clearInterval(timer);\n",
       "      }\n",
       "      attempts++;\n",
       "      if (attempts > 100) {\n",
       "        console.log(\"Bokeh: ERROR: Unable to embed document because BokehJS library is missing\")\n",
       "        clearInterval(timer);\n",
       "      }\n",
       "    }, 10, root)\n",
       "  }\n",
       "})(window);"
      ],
      "application/vnd.bokehjs_exec.v0+json": ""
     },
     "metadata": {
      "application/vnd.bokehjs_exec.v0+json": {
       "id": "b730650d-396e-49a1-ba7f-fbdd45ee430e"
      }
     },
     "output_type": "display_data"
    }
   ],
   "source": [
    "x = np.linspace(-2*np.pi,2*np.pi, 100)\n",
    "p3 = figure(plot_width=400, plot_height=400)\n",
    "p3.line(x,sgmd(x),line_width=2, legend='y = 1/(1+exp(-x))')\n",
    "p3.legend.location = 'bottom_right'\n",
    "show(p3)"
   ]
  },
  {
   "cell_type": "code",
   "execution_count": 22,
   "metadata": {},
   "outputs": [
    {
     "data": {
      "text/html": [
       "\n",
       "<div class=\"bk-root\">\n",
       "    <div class=\"bk-plotdiv\" id=\"f01d92fb-c923-4633-9412-fccc906f5384\"></div>\n",
       "</div>"
      ]
     },
     "metadata": {},
     "output_type": "display_data"
    },
    {
     "data": {
      "application/javascript": [
       "(function(root) {\n",
       "  function embed_document(root) {\n",
       "    var docs_json = {\"78b1446e-de2e-4b96-bc48-34d504ee07c2\":{\"roots\":{\"references\":[{\"attributes\":{\"plot\":null,\"text\":\"\"},\"id\":\"c79ca96d-3962-4050-9813-67fb48cd25d8\",\"type\":\"Title\"},{\"attributes\":{\"source\":{\"id\":\"d9afa9d7-e96d-4ac9-8988-f4cf52bb499d\",\"type\":\"ColumnDataSource\"}},\"id\":\"96d1e74b-6186-4ba1-ab59-1e4ed58ab66f\",\"type\":\"CDSView\"},{\"attributes\":{\"data_source\":{\"id\":\"4a7a7a4d-5c67-4c21-b090-cb1ee99adb4c\",\"type\":\"ColumnDataSource\"},\"glyph\":{\"id\":\"520f4951-006c-4cb2-8365-240edde2e786\",\"type\":\"Line\"},\"hover_glyph\":null,\"muted_glyph\":null,\"nonselection_glyph\":{\"id\":\"67a11b12-877a-435a-b000-110eb6e01179\",\"type\":\"Line\"},\"selection_glyph\":null,\"view\":{\"id\":\"95a74c3d-aa48-498e-9880-51fdaeb3feb1\",\"type\":\"CDSView\"}},\"id\":\"54f3201c-41d2-41d9-9d4e-d3c70bbea05d\",\"type\":\"GlyphRenderer\"},{\"attributes\":{\"label\":{\"value\":\"y=x^2\"},\"renderers\":[{\"id\":\"776e4aff-57eb-4f9c-be17-4096696c335f\",\"type\":\"GlyphRenderer\"}]},\"id\":\"ee763802-5409-43aa-98ff-d576341c1a26\",\"type\":\"LegendItem\"},{\"attributes\":{\"below\":[{\"id\":\"ff55ab4f-cf5c-4e15-9d5c-3dfcb6d05ffd\",\"type\":\"LinearAxis\"}],\"left\":[{\"id\":\"347db35a-ab42-4c0a-9df9-daa7389151c5\",\"type\":\"LinearAxis\"}],\"plot_height\":400,\"plot_width\":400,\"renderers\":[{\"id\":\"ff55ab4f-cf5c-4e15-9d5c-3dfcb6d05ffd\",\"type\":\"LinearAxis\"},{\"id\":\"48fba770-1643-4c42-bbb3-5d6aa7deaf3f\",\"type\":\"Grid\"},{\"id\":\"347db35a-ab42-4c0a-9df9-daa7389151c5\",\"type\":\"LinearAxis\"},{\"id\":\"d133ea65-de58-4dbd-b934-39ac17d3585d\",\"type\":\"Grid\"},{\"id\":\"639c2059-7868-4b5b-9514-670806ec9c36\",\"type\":\"BoxAnnotation\"},{\"id\":\"ed78e2ef-8a6a-4c62-afcc-76ad81060b03\",\"type\":\"Legend\"},{\"id\":\"245688f5-2111-483f-9f40-c447d97d4ba7\",\"type\":\"GlyphRenderer\"},{\"id\":\"776e4aff-57eb-4f9c-be17-4096696c335f\",\"type\":\"GlyphRenderer\"},{\"id\":\"5da51265-b80c-4fdf-a98b-7046d2afeb3d\",\"type\":\"GlyphRenderer\"},{\"id\":\"a6c68e8e-16d3-418b-ab94-1ef1f4344b33\",\"type\":\"GlyphRenderer\"},{\"id\":\"54f3201c-41d2-41d9-9d4e-d3c70bbea05d\",\"type\":\"GlyphRenderer\"}],\"title\":{\"id\":\"c79ca96d-3962-4050-9813-67fb48cd25d8\",\"type\":\"Title\"},\"toolbar\":{\"id\":\"1ea0a11c-429d-47ff-aa93-443302a22105\",\"type\":\"Toolbar\"},\"x_range\":{\"id\":\"72e1939d-6e8e-4c10-b8c6-3d80a3ce257c\",\"type\":\"DataRange1d\"},\"x_scale\":{\"id\":\"b95d5920-42d6-4e0a-89b4-85e3ed9a5468\",\"type\":\"LinearScale\"},\"y_range\":{\"id\":\"6bcba53b-f4f4-49da-9fe9-f048546f24b7\",\"type\":\"DataRange1d\"},\"y_scale\":{\"id\":\"8167665b-449f-4e3e-a10f-00df313fc6e7\",\"type\":\"LinearScale\"}},\"id\":\"93d4baac-992a-4c3d-8c55-b518796a5e86\",\"subtype\":\"Figure\",\"type\":\"Plot\"},{\"attributes\":{\"callback\":null,\"column_names\":[\"x\",\"y\"],\"data\":{\"x\":{\"__ndarray__\":\"AAAAAAAA8L8Fav1KgVrvvwrU+pUCte6/ED744IMP7r8VqPUrBWrtvxoS83aGxOy/H3zwwQcf7L8k5u0MiXnrvylQ61cK1Oq/Lrrooosu6r80JObtDInpvzmO4ziO4+i/Pvjggw8+6L9DYt7OkJjnv0jM2xkS8+a/TjbZZJNN5r9SoNavFKjlv1gK1PqVAuW/XXTRRRdd5L9i3s6QmLfjv2dIzNsZEuO/bLLJJpts4r9yHMdxHMfhv3aGxLydIeG/fPDBBx984L8CtX6lQK3fvwyJeTtDYt6/Fl100UUX3b8gMW9nSMzbvywFav1Kgdq/Ntlkk0022b9ArV8pUOvXv0qBWr9SoNa/VFVVVVVV1b9eKVDrVwrUv2j9SoFav9K/dNFFF1100b9+pUCtXynQvxDzdobEvM2/JJtssskmy784Q2LezpDIv0zrVwrU+sW/ZJNNNtlkw794O0Ni3s7AvxjHcRzHcby/QBdddNFFt79oZ0jM2xmyvyBvZ0jM26m/AB988MEHn79Av1Kg1q+Ev4C/UqDWr4Q/QB988MEHnz9Ab2dIzNupP3BnSMzbGbI/UBdddNFFtz8gx3Ecx3G8P4A7Q2LezsA/aJNNNtlkwz9Q61cK1PrFP0BDYt7OkMg/KJtssskmyz8Y83aGxLzNP4ClQK1fKdA/eNFFF1100T9s/UqBWr/SP2ApUOtXCtQ/WFVVVVVV1T9MgVq/UqDWP0StXylQ69c/ONlkk0022T8wBWr9SoHaPyQxb2dIzNs/GF100UUX3T8QiXk7Q2LePwS1fqVArd8/fvDBBx984D94hsS8nSHhP3Icx3Ecx+E/brLJJpts4j9oSMzbGRLjP2TezpCYt+M/XnTRRRdd5D9aCtT6lQLlP1Sg1q8UqOU/TjbZZJNN5j9KzNsZEvPmP0Ri3s6QmOc/QPjggw8+6D86juM4juPoPzYk5u0Miek/MLrooosu6j8qUOtXCtTqPybm7QyJees/IHzwwQcf7D8cEvN2hsTsPxao9SsFau0/ED744IMP7j8M1PqVArXuPwZq/UqBWu8/AAAAAAAA8D8=\",\"dtype\":\"float64\",\"shape\":[100]},\"y\":{\"__ndarray__\":\"AAAAAAAA8D8jzmS3z33tP5m6vQ8kIus/n4nIoWrr6D//tWloGdjmPyBxrMCu5uQ/+6LCabEV4z8b6gSFsGPhP0I35SuHnt8/gYZjBBWu3D+JRh4jW/PZPwpp/Nu6a9c/6kwyR6YU1T8xvkFBoOvSPxL2+Wo87tA/zzXvUj40zj9agElM+9nKPyzNcZ07ycc/2vdxqqz9xD9etu5fHXPCP/2YJzN+JcA/mhTuQ8IhvD9rnqRl82K4P8oNk+k5B7U/2FUP/4IHsj9nPErN/bmuP2GGK+RBAqo/e6uwCD/bpT/UNjMj6DiiP6M58HxsH54/GXZfD1GpmD/bsOuciPqTP2WURhNU/o8/2unW/LBIiT+1bADShrCDPzSZ0e+ZKH4/c7zGuiapdj9wNuL1BKhwP0yJAktt3Wc/F924wt2VYD+QFh5SRzpWP+srjeulfUw/nZ0pb+9EQT95/n2wTHwzP4h5VKs5+iM/Z8dwLqDnET/KostchDX6Ppi5VForSts+fMwzqEJLrD4TPODmEVtGPic94OYRW0Y+Zs0zqEJLrD4fulRaK0rbPviiy1yENfo+mMdwLqDnET+feVSrOfojP57+fbBMfDM/q50pb+9EQT8ALI3rpX1MP60WHlJHOlY/Id24wt2VYD9miQJLbd1nP3k24vUEqHA/h7zGuiapdj9NmdHvmSh+P71sANKGsIM/7enW/LBIiT9wlEYTVP6PP+iw65yI+pM/IXZfD1GpmD+1OfB8bB+eP942MyPoOKI/gauwCD/bpT9vhivkQQKqP288Ss39ua4/4VUP/4IHsj/UDZPpOQe1P2uepGXzYrg/phTuQ8IhvD8BmSczfiXAP2W27l8dc8I/3vdxqqz9xD81zXGdO8nHP2SASUz72co/zzXvUj40zj8X9vlqPO7QPzS+QUGg69I/8UwyR6YU1T8OafzbumvXP5FGHiNb89k/ioZjBBWu3D9GN+Urh57fPyDqBIWwY+E//qLCabEV4z8mcazArubkPwK2aWgZ2OY/n4nIoWrr6D+gur0PJCLrPyfOZLfPfe0/AAAAAAAA8D8=\",\"dtype\":\"float64\",\"shape\":[100]}}},\"id\":\"61e1b3f7-c30c-4e70-a9e0-44bdf0f89605\",\"type\":\"ColumnDataSource\"},{\"attributes\":{\"label\":{\"value\":\"y=x\"},\"renderers\":[{\"id\":\"245688f5-2111-483f-9f40-c447d97d4ba7\",\"type\":\"GlyphRenderer\"}]},\"id\":\"2f391288-a068-477c-8835-7e46087ae6c2\",\"type\":\"LegendItem\"},{\"attributes\":{\"label\":{\"value\":\"y=x^5\"},\"renderers\":[{\"id\":\"54f3201c-41d2-41d9-9d4e-d3c70bbea05d\",\"type\":\"GlyphRenderer\"}]},\"id\":\"96ba991f-f7f7-4bc7-94c9-1b60c915b519\",\"type\":\"LegendItem\"},{\"attributes\":{},\"id\":\"532334a4-01d3-4781-91d8-03c10b8c1ec6\",\"type\":\"BasicTickFormatter\"},{\"attributes\":{\"source\":{\"id\":\"513f2124-5288-4b12-a6c6-3a7636b3002a\",\"type\":\"ColumnDataSource\"}},\"id\":\"6224b17c-e477-4ea1-b06d-5c2ef04b1ee7\",\"type\":\"CDSView\"},{\"attributes\":{\"line_alpha\":{\"value\":0.1},\"line_color\":{\"value\":\"#1f77b4\"},\"line_width\":{\"value\":2},\"x\":{\"field\":\"x\"},\"y\":{\"field\":\"y\"}},\"id\":\"67a11b12-877a-435a-b000-110eb6e01179\",\"type\":\"Line\"},{\"attributes\":{\"active_drag\":\"auto\",\"active_inspect\":\"auto\",\"active_scroll\":\"auto\",\"active_tap\":\"auto\",\"tools\":[{\"id\":\"f05f477c-1ee3-491c-8289-aa6410dc9006\",\"type\":\"PanTool\"},{\"id\":\"15e4d8c7-93cb-4ab0-ab76-09ff1829f2ff\",\"type\":\"WheelZoomTool\"},{\"id\":\"ea2d4df2-96c8-4415-92c3-bf8c9a6ea2d9\",\"type\":\"BoxZoomTool\"},{\"id\":\"77fdd87f-c2e1-4652-9448-52379d000a7f\",\"type\":\"SaveTool\"},{\"id\":\"5440cd52-b94b-445f-9e93-681f2c2d149a\",\"type\":\"ResetTool\"},{\"id\":\"6d56a554-5cbb-4efa-a3a2-ba4d469735ad\",\"type\":\"HelpTool\"}]},\"id\":\"1ea0a11c-429d-47ff-aa93-443302a22105\",\"type\":\"Toolbar\"},{\"attributes\":{\"label\":{\"value\":\"y=x^4\"},\"renderers\":[{\"id\":\"a6c68e8e-16d3-418b-ab94-1ef1f4344b33\",\"type\":\"GlyphRenderer\"}]},\"id\":\"af43e633-682b-4b1d-8ab1-a7f7e44c575c\",\"type\":\"LegendItem\"},{\"attributes\":{\"line_alpha\":{\"value\":0.1},\"line_color\":{\"value\":\"#1f77b4\"},\"line_width\":{\"value\":2},\"x\":{\"field\":\"x\"},\"y\":{\"field\":\"y\"}},\"id\":\"9bb00c80-8d4d-4163-958a-84f36dcac91c\",\"type\":\"Line\"},{\"attributes\":{\"callback\":null},\"id\":\"72e1939d-6e8e-4c10-b8c6-3d80a3ce257c\",\"type\":\"DataRange1d\"},{\"attributes\":{\"line_alpha\":{\"value\":0.1},\"line_color\":{\"value\":\"#1f77b4\"},\"line_width\":{\"value\":2},\"x\":{\"field\":\"x\"},\"y\":{\"field\":\"y\"}},\"id\":\"2d64fdb6-358d-4faf-96ab-31a7ac200aad\",\"type\":\"Line\"},{\"attributes\":{\"data_source\":{\"id\":\"513f2124-5288-4b12-a6c6-3a7636b3002a\",\"type\":\"ColumnDataSource\"},\"glyph\":{\"id\":\"93026cb3-da3a-447a-b8bc-312a8f273445\",\"type\":\"Line\"},\"hover_glyph\":null,\"muted_glyph\":null,\"nonselection_glyph\":{\"id\":\"361334c7-c476-4095-9439-b0a2c3d976c4\",\"type\":\"Line\"},\"selection_glyph\":null,\"view\":{\"id\":\"6224b17c-e477-4ea1-b06d-5c2ef04b1ee7\",\"type\":\"CDSView\"}},\"id\":\"5da51265-b80c-4fdf-a98b-7046d2afeb3d\",\"type\":\"GlyphRenderer\"},{\"attributes\":{\"callback\":null,\"column_names\":[\"x\",\"y\"],\"data\":{\"x\":{\"__ndarray__\":\"AAAAAAAA8L8Fav1KgVrvvwrU+pUCte6/ED744IMP7r8VqPUrBWrtvxoS83aGxOy/H3zwwQcf7L8k5u0MiXnrvylQ61cK1Oq/Lrrooosu6r80JObtDInpvzmO4ziO4+i/Pvjggw8+6L9DYt7OkJjnv0jM2xkS8+a/TjbZZJNN5r9SoNavFKjlv1gK1PqVAuW/XXTRRRdd5L9i3s6QmLfjv2dIzNsZEuO/bLLJJpts4r9yHMdxHMfhv3aGxLydIeG/fPDBBx984L8CtX6lQK3fvwyJeTtDYt6/Fl100UUX3b8gMW9nSMzbvywFav1Kgdq/Ntlkk0022b9ArV8pUOvXv0qBWr9SoNa/VFVVVVVV1b9eKVDrVwrUv2j9SoFav9K/dNFFF1100b9+pUCtXynQvxDzdobEvM2/JJtssskmy784Q2LezpDIv0zrVwrU+sW/ZJNNNtlkw794O0Ni3s7AvxjHcRzHcby/QBdddNFFt79oZ0jM2xmyvyBvZ0jM26m/AB988MEHn79Av1Kg1q+Ev4C/UqDWr4Q/QB988MEHnz9Ab2dIzNupP3BnSMzbGbI/UBdddNFFtz8gx3Ecx3G8P4A7Q2LezsA/aJNNNtlkwz9Q61cK1PrFP0BDYt7OkMg/KJtssskmyz8Y83aGxLzNP4ClQK1fKdA/eNFFF1100T9s/UqBWr/SP2ApUOtXCtQ/WFVVVVVV1T9MgVq/UqDWP0StXylQ69c/ONlkk0022T8wBWr9SoHaPyQxb2dIzNs/GF100UUX3T8QiXk7Q2LePwS1fqVArd8/fvDBBx984D94hsS8nSHhP3Icx3Ecx+E/brLJJpts4j9oSMzbGRLjP2TezpCYt+M/XnTRRRdd5D9aCtT6lQLlP1Sg1q8UqOU/TjbZZJNN5j9KzNsZEvPmP0Ri3s6QmOc/QPjggw8+6D86juM4juPoPzYk5u0Miek/MLrooosu6j8qUOtXCtTqPybm7QyJees/IHzwwQcf7D8cEvN2hsTsPxao9SsFau0/ED744IMP7j8M1PqVArXuPwZq/UqBWu8/AAAAAAAA8D8=\",\"dtype\":\"float64\",\"shape\":[100]},\"y\":{\"__ndarray__\":\"AAAAAAAA8L/ahWlEehnuvwY59iWcRuy/HAYH5v2G6r+w2fzFN9rov1qgOAfiP+e/tEYb65S35b9TuQWz6EDkv8/kWKB12+K/wbV19NOG4b/BGL3wm0Lgv8T0H63LHN6/fI6ezpPT27/a17fIwKjZvwqqLR6Dm9e/Qd7BUQur1b+jTTbmidbTv2rRTF4vHdK/vULHPCx+0L+d9c4IYvHNv5il3m/cF8u/ykdBtChuyL+Ujnrbp/LFv0gsDuu6o8O/UtN/6MJ/wb8LbKayQQq/v4gNGIZrZLu/1e9bVsUKuL+ud3kuEfq0v9EJeBkRL7K/5RW+RA5Nr7+iv2uoarqqv0/aB3S7n6a/ZS+hvYT2or+wEI02lXCfvz5dDUYivZm/adfg1bjFlL8PEiUSYX2Qv0ZA701Grom/JynsgA6Mg78yCfgqVvR8v+3ws8dYvXS/eKoEEYt+bL96A7M7eoxiv70Iv+CAeVa/MxLbP3yeSL9c2yrbuyo3vxUGfjmx4iC/52p1vZwt/b6MbpHYb0qxvi1vkdhvSrE+nGt1vZwt/T5TBn45seIgP3rbKtu7Kjc/ZhLbP3yeSD/QCL/ggHlWP5QDszt6jGI/iaoEEYt+bD/58LPHWL10P04J+CpW9Hw/LynsgA6Mgz9bQO9NRq6JPxUSJRJhfZA/eNfg1bjFlD9PXQ1GIr2ZP7kQjTaVcJ8/by+hvYT2oj9V2gd0u5+mP6+/a6hquqo/7BW+RA5Nrz/ZCXgZES+yP7d3eS4R+rQ/2u9bVsUKuD+TDRiGa2S7PxFsprJBCr8/WNN/6MJ/wT9OLA7ruqPDP5SOetun8sU/0kdBtChuyD+dpd5v3BfLP6b1zghi8c0/wELHPCx+0D9v0UxeLx3SP6hNNuaJ1tM/Qd7BUQur1T8Rqi0eg5vXP93Xt8jAqNk/g46ezpPT2z/H9B+tyxzeP8QYvfCbQuA/xbV19NOG4T/S5FigddviP1e5BbPoQOQ/tkYb65S35T9foDgH4j/nP7LZ/MU32ug/HAYH5v2G6j8LOfYlnEbsP92FaUR6Ge4/AAAAAAAA8D8=\",\"dtype\":\"float64\",\"shape\":[100]}}},\"id\":\"513f2124-5288-4b12-a6c6-3a7636b3002a\",\"type\":\"ColumnDataSource\"},{\"attributes\":{\"source\":{\"id\":\"61e1b3f7-c30c-4e70-a9e0-44bdf0f89605\",\"type\":\"ColumnDataSource\"}},\"id\":\"6e3ca280-d720-4da2-b4d9-adc13fb01386\",\"type\":\"CDSView\"},{\"attributes\":{\"data_source\":{\"id\":\"d9afa9d7-e96d-4ac9-8988-f4cf52bb499d\",\"type\":\"ColumnDataSource\"},\"glyph\":{\"id\":\"d272491f-66fd-4daa-8fc2-ef4ac9849a23\",\"type\":\"Line\"},\"hover_glyph\":null,\"muted_glyph\":null,\"nonselection_glyph\":{\"id\":\"2d64fdb6-358d-4faf-96ab-31a7ac200aad\",\"type\":\"Line\"},\"selection_glyph\":null,\"view\":{\"id\":\"96d1e74b-6186-4ba1-ab59-1e4ed58ab66f\",\"type\":\"CDSView\"}},\"id\":\"776e4aff-57eb-4f9c-be17-4096696c335f\",\"type\":\"GlyphRenderer\"},{\"attributes\":{\"line_alpha\":{\"value\":0.1},\"line_color\":{\"value\":\"#1f77b4\"},\"line_width\":{\"value\":2},\"x\":{\"field\":\"x\"},\"y\":{\"field\":\"y\"}},\"id\":\"188781cc-979c-42b3-b5f4-5f0a20d74975\",\"type\":\"Line\"},{\"attributes\":{\"line_alpha\":{\"value\":0.5},\"line_color\":{\"value\":\"orange\"},\"line_width\":{\"value\":2},\"x\":{\"field\":\"x\"},\"y\":{\"field\":\"y\"}},\"id\":\"93026cb3-da3a-447a-b8bc-312a8f273445\",\"type\":\"Line\"},{\"attributes\":{},\"id\":\"77fdd87f-c2e1-4652-9448-52379d000a7f\",\"type\":\"SaveTool\"},{\"attributes\":{\"callback\":null},\"id\":\"6bcba53b-f4f4-49da-9fe9-f048546f24b7\",\"type\":\"DataRange1d\"},{\"attributes\":{},\"id\":\"8ffa5a6b-c84e-45f2-bfd1-5d62a46dd691\",\"type\":\"BasicTickFormatter\"},{\"attributes\":{\"bottom_units\":\"screen\",\"fill_alpha\":{\"value\":0.5},\"fill_color\":{\"value\":\"lightgrey\"},\"left_units\":\"screen\",\"level\":\"overlay\",\"line_alpha\":{\"value\":1.0},\"line_color\":{\"value\":\"black\"},\"line_dash\":[4,4],\"line_width\":{\"value\":2},\"plot\":null,\"render_mode\":\"css\",\"right_units\":\"screen\",\"top_units\":\"screen\"},\"id\":\"639c2059-7868-4b5b-9514-670806ec9c36\",\"type\":\"BoxAnnotation\"},{\"attributes\":{\"source\":{\"id\":\"4a7a7a4d-5c67-4c21-b090-cb1ee99adb4c\",\"type\":\"ColumnDataSource\"}},\"id\":\"95a74c3d-aa48-498e-9880-51fdaeb3feb1\",\"type\":\"CDSView\"},{\"attributes\":{\"source\":{\"id\":\"dcf9cdbf-3a15-4092-983e-f5a3afdf12e5\",\"type\":\"ColumnDataSource\"}},\"id\":\"2196d5c7-f651-4959-9d5b-51dd148fc682\",\"type\":\"CDSView\"},{\"attributes\":{},\"id\":\"f05f477c-1ee3-491c-8289-aa6410dc9006\",\"type\":\"PanTool\"},{\"attributes\":{\"items\":[{\"id\":\"2f391288-a068-477c-8835-7e46087ae6c2\",\"type\":\"LegendItem\"},{\"id\":\"ee763802-5409-43aa-98ff-d576341c1a26\",\"type\":\"LegendItem\"},{\"id\":\"acb89d17-aed3-4529-a9a3-44bc1f43d85f\",\"type\":\"LegendItem\"},{\"id\":\"af43e633-682b-4b1d-8ab1-a7f7e44c575c\",\"type\":\"LegendItem\"},{\"id\":\"96ba991f-f7f7-4bc7-94c9-1b60c915b519\",\"type\":\"LegendItem\"}],\"location\":\"bottom_right\",\"plot\":{\"id\":\"93d4baac-992a-4c3d-8c55-b518796a5e86\",\"subtype\":\"Figure\",\"type\":\"Plot\"}},\"id\":\"ed78e2ef-8a6a-4c62-afcc-76ad81060b03\",\"type\":\"Legend\"},{\"attributes\":{\"data_source\":{\"id\":\"61e1b3f7-c30c-4e70-a9e0-44bdf0f89605\",\"type\":\"ColumnDataSource\"},\"glyph\":{\"id\":\"642543d1-8c41-4795-84df-e21eb11a6095\",\"type\":\"Line\"},\"hover_glyph\":null,\"muted_glyph\":null,\"nonselection_glyph\":{\"id\":\"9bb00c80-8d4d-4163-958a-84f36dcac91c\",\"type\":\"Line\"},\"selection_glyph\":null,\"view\":{\"id\":\"6e3ca280-d720-4da2-b4d9-adc13fb01386\",\"type\":\"CDSView\"}},\"id\":\"a6c68e8e-16d3-418b-ab94-1ef1f4344b33\",\"type\":\"GlyphRenderer\"},{\"attributes\":{},\"id\":\"6d56a554-5cbb-4efa-a3a2-ba4d469735ad\",\"type\":\"HelpTool\"},{\"attributes\":{\"callback\":null,\"column_names\":[\"x\",\"y\"],\"data\":{\"x\":{\"__ndarray__\":\"AAAAAAAA8L8Fav1KgVrvvwrU+pUCte6/ED744IMP7r8VqPUrBWrtvxoS83aGxOy/H3zwwQcf7L8k5u0MiXnrvylQ61cK1Oq/Lrrooosu6r80JObtDInpvzmO4ziO4+i/Pvjggw8+6L9DYt7OkJjnv0jM2xkS8+a/TjbZZJNN5r9SoNavFKjlv1gK1PqVAuW/XXTRRRdd5L9i3s6QmLfjv2dIzNsZEuO/bLLJJpts4r9yHMdxHMfhv3aGxLydIeG/fPDBBx984L8CtX6lQK3fvwyJeTtDYt6/Fl100UUX3b8gMW9nSMzbvywFav1Kgdq/Ntlkk0022b9ArV8pUOvXv0qBWr9SoNa/VFVVVVVV1b9eKVDrVwrUv2j9SoFav9K/dNFFF1100b9+pUCtXynQvxDzdobEvM2/JJtssskmy784Q2LezpDIv0zrVwrU+sW/ZJNNNtlkw794O0Ni3s7AvxjHcRzHcby/QBdddNFFt79oZ0jM2xmyvyBvZ0jM26m/AB988MEHn79Av1Kg1q+Ev4C/UqDWr4Q/QB988MEHnz9Ab2dIzNupP3BnSMzbGbI/UBdddNFFtz8gx3Ecx3G8P4A7Q2LezsA/aJNNNtlkwz9Q61cK1PrFP0BDYt7OkMg/KJtssskmyz8Y83aGxLzNP4ClQK1fKdA/eNFFF1100T9s/UqBWr/SP2ApUOtXCtQ/WFVVVVVV1T9MgVq/UqDWP0StXylQ69c/ONlkk0022T8wBWr9SoHaPyQxb2dIzNs/GF100UUX3T8QiXk7Q2LePwS1fqVArd8/fvDBBx984D94hsS8nSHhP3Icx3Ecx+E/brLJJpts4j9oSMzbGRLjP2TezpCYt+M/XnTRRRdd5D9aCtT6lQLlP1Sg1q8UqOU/TjbZZJNN5j9KzNsZEvPmP0Ri3s6QmOc/QPjggw8+6D86juM4juPoPzYk5u0Miek/MLrooosu6j8qUOtXCtTqPybm7QyJees/IHzwwQcf7D8cEvN2hsTsPxao9SsFau0/ED744IMP7j8M1PqVArXuPwZq/UqBWu8/AAAAAAAA8D8=\",\"dtype\":\"float64\",\"shape\":[100]},\"y\":{\"__ndarray__\":\"AAAAAAAA8D8pNJt6WrjuP5Aod75kd+0/Nt2Tyx497D8ZUvGhiAnrPzmHj0Gi3Ok/l3xuqmu26D8zMo7c5JbnPw2o7tcNfuY/Jd6PnOZr5T981HEqb2DkPxCLlIGnW+M/4QH4oY9d4j/xOJyLJ2bhPz4wgT5vdeA/lM9Ndc0W3z8jvxoAHFDdPzMvaR3Klts/vB85zdfq2T/BkIoPRUzYP0GCXeQRu9Y/PvSxSz431T+45odFysDTP6lZ39G1V9I/G0248AD80D8MgiVEV1vPP9lq3ctr2cw/nlSYeD9yyj9bP1ZK0iXIPxIrF0Ek9MU/vhfbXDXdwz9gBaKdBeHBP/Xn1wYq/78/GcdxHMdxvD8rqBF84hm5Py2LtyV897U/IXBjGZQKsz8AVxVXKlOwP5t/mr19oqs/FFUWYaMJpz9sLp6YxduiP0EXZMjIMZ4/cNmjh/+Blz9Qo/tuL6iRP9jp1vywSIk/h5zma/XsgD9bvUxWWHp0Py7BWOpU5WQ/RhZhowkXTj8k9wADJb8aP8n3AAMlvxo/whZhowkXTj9hwVjqVOVkP269TFZYenQ/n5zma/XsgD/n6db8sEiJP2Gj+24vqJE/etmjh/+Blz9MF2TIyDGeP3gunpjF26I/G1UWYaMJpz+qf5q9faKrPwRXFVcqU7A/KnBjGZQKsz82i7clfPe1PzCoEXziGbk/JMdxHMdxvD/759cGKv+/P2YFop0F4cE/wRfbXDXdwz8ZKxdBJPTFP2I/VkrSJcg/olSYeD9yyj/hat3La9nMPxCCJURXW88/H0248AD80D+uWd/RtVfSP7jmh0XKwNM/QvSxSz431T9Egl3kEbvWP8aQig9FTNg/vx85zdfq2T84L2kdypbbPyi/GgAcUN0/lM9Ndc0W3z9BMIE+b3XgP/I4nIsnZuE/5AH4oY9d4j8Si5SBp1vjP4DUcSpvYOQ/KN6PnOZr5T8PqO7XDX7mPzcyjtzkluc/mXxuqmu26D89h49BotzpPxtS8aGICes/Nt2Tyx497D+UKHe+ZHftPys0m3pauO4/AAAAAAAA8D8=\",\"dtype\":\"float64\",\"shape\":[100]}}},\"id\":\"d9afa9d7-e96d-4ac9-8988-f4cf52bb499d\",\"type\":\"ColumnDataSource\"},{\"attributes\":{\"line_alpha\":{\"value\":0.5},\"line_color\":{\"value\":\"firebrick\"},\"line_width\":{\"value\":2},\"x\":{\"field\":\"x\"},\"y\":{\"field\":\"y\"}},\"id\":\"e66261b6-6162-4983-8280-7114c77b77e3\",\"type\":\"Line\"},{\"attributes\":{\"line_alpha\":{\"value\":0.5},\"line_color\":{\"value\":\"blue\"},\"line_width\":{\"value\":2},\"x\":{\"field\":\"x\"},\"y\":{\"field\":\"y\"}},\"id\":\"642543d1-8c41-4795-84df-e21eb11a6095\",\"type\":\"Line\"},{\"attributes\":{\"data_source\":{\"id\":\"dcf9cdbf-3a15-4092-983e-f5a3afdf12e5\",\"type\":\"ColumnDataSource\"},\"glyph\":{\"id\":\"e66261b6-6162-4983-8280-7114c77b77e3\",\"type\":\"Line\"},\"hover_glyph\":null,\"muted_glyph\":null,\"nonselection_glyph\":{\"id\":\"188781cc-979c-42b3-b5f4-5f0a20d74975\",\"type\":\"Line\"},\"selection_glyph\":null,\"view\":{\"id\":\"2196d5c7-f651-4959-9d5b-51dd148fc682\",\"type\":\"CDSView\"}},\"id\":\"245688f5-2111-483f-9f40-c447d97d4ba7\",\"type\":\"GlyphRenderer\"},{\"attributes\":{},\"id\":\"15e4d8c7-93cb-4ab0-ab76-09ff1829f2ff\",\"type\":\"WheelZoomTool\"},{\"attributes\":{\"dimension\":1,\"plot\":{\"id\":\"93d4baac-992a-4c3d-8c55-b518796a5e86\",\"subtype\":\"Figure\",\"type\":\"Plot\"},\"ticker\":{\"id\":\"36d08c5d-d27f-4b89-bb1f-c001deefffc1\",\"type\":\"BasicTicker\"}},\"id\":\"d133ea65-de58-4dbd-b934-39ac17d3585d\",\"type\":\"Grid\"},{\"attributes\":{\"label\":{\"value\":\"y=x^3\"},\"renderers\":[{\"id\":\"5da51265-b80c-4fdf-a98b-7046d2afeb3d\",\"type\":\"GlyphRenderer\"}]},\"id\":\"acb89d17-aed3-4529-a9a3-44bc1f43d85f\",\"type\":\"LegendItem\"},{\"attributes\":{},\"id\":\"36d08c5d-d27f-4b89-bb1f-c001deefffc1\",\"type\":\"BasicTicker\"},{\"attributes\":{\"overlay\":{\"id\":\"639c2059-7868-4b5b-9514-670806ec9c36\",\"type\":\"BoxAnnotation\"}},\"id\":\"ea2d4df2-96c8-4415-92c3-bf8c9a6ea2d9\",\"type\":\"BoxZoomTool\"},{\"attributes\":{\"formatter\":{\"id\":\"8ffa5a6b-c84e-45f2-bfd1-5d62a46dd691\",\"type\":\"BasicTickFormatter\"},\"plot\":{\"id\":\"93d4baac-992a-4c3d-8c55-b518796a5e86\",\"subtype\":\"Figure\",\"type\":\"Plot\"},\"ticker\":{\"id\":\"36d08c5d-d27f-4b89-bb1f-c001deefffc1\",\"type\":\"BasicTicker\"}},\"id\":\"347db35a-ab42-4c0a-9df9-daa7389151c5\",\"type\":\"LinearAxis\"},{\"attributes\":{\"callback\":null,\"column_names\":[\"x\",\"y\"],\"data\":{\"x\":{\"__ndarray__\":\"AAAAAAAA8L8Fav1KgVrvvwrU+pUCte6/ED744IMP7r8VqPUrBWrtvxoS83aGxOy/H3zwwQcf7L8k5u0MiXnrvylQ61cK1Oq/Lrrooosu6r80JObtDInpvzmO4ziO4+i/Pvjggw8+6L9DYt7OkJjnv0jM2xkS8+a/TjbZZJNN5r9SoNavFKjlv1gK1PqVAuW/XXTRRRdd5L9i3s6QmLfjv2dIzNsZEuO/bLLJJpts4r9yHMdxHMfhv3aGxLydIeG/fPDBBx984L8CtX6lQK3fvwyJeTtDYt6/Fl100UUX3b8gMW9nSMzbvywFav1Kgdq/Ntlkk0022b9ArV8pUOvXv0qBWr9SoNa/VFVVVVVV1b9eKVDrVwrUv2j9SoFav9K/dNFFF1100b9+pUCtXynQvxDzdobEvM2/JJtssskmy784Q2LezpDIv0zrVwrU+sW/ZJNNNtlkw794O0Ni3s7AvxjHcRzHcby/QBdddNFFt79oZ0jM2xmyvyBvZ0jM26m/AB988MEHn79Av1Kg1q+Ev4C/UqDWr4Q/QB988MEHnz9Ab2dIzNupP3BnSMzbGbI/UBdddNFFtz8gx3Ecx3G8P4A7Q2LezsA/aJNNNtlkwz9Q61cK1PrFP0BDYt7OkMg/KJtssskmyz8Y83aGxLzNP4ClQK1fKdA/eNFFF1100T9s/UqBWr/SP2ApUOtXCtQ/WFVVVVVV1T9MgVq/UqDWP0StXylQ69c/ONlkk0022T8wBWr9SoHaPyQxb2dIzNs/GF100UUX3T8QiXk7Q2LePwS1fqVArd8/fvDBBx984D94hsS8nSHhP3Icx3Ecx+E/brLJJpts4j9oSMzbGRLjP2TezpCYt+M/XnTRRRdd5D9aCtT6lQLlP1Sg1q8UqOU/TjbZZJNN5j9KzNsZEvPmP0Ri3s6QmOc/QPjggw8+6D86juM4juPoPzYk5u0Miek/MLrooosu6j8qUOtXCtTqPybm7QyJees/IHzwwQcf7D8cEvN2hsTsPxao9SsFau0/ED744IMP7j8M1PqVArXuPwZq/UqBWu8/AAAAAAAA8D8=\",\"dtype\":\"float64\",\"shape\":[100]},\"y\":{\"__ndarray__\":\"AAAAAAAA8L8Fav1KgVrvvwrU+pUCte6/ED744IMP7r8VqPUrBWrtvxoS83aGxOy/H3zwwQcf7L8k5u0MiXnrvylQ61cK1Oq/Lrrooosu6r80JObtDInpvzmO4ziO4+i/Pvjggw8+6L9DYt7OkJjnv0jM2xkS8+a/TjbZZJNN5r9SoNavFKjlv1gK1PqVAuW/XXTRRRdd5L9i3s6QmLfjv2dIzNsZEuO/bLLJJpts4r9yHMdxHMfhv3aGxLydIeG/fPDBBx984L8CtX6lQK3fvwyJeTtDYt6/Fl100UUX3b8gMW9nSMzbvywFav1Kgdq/Ntlkk0022b9ArV8pUOvXv0qBWr9SoNa/VFVVVVVV1b9eKVDrVwrUv2j9SoFav9K/dNFFF1100b9+pUCtXynQvxDzdobEvM2/JJtssskmy784Q2LezpDIv0zrVwrU+sW/ZJNNNtlkw794O0Ni3s7AvxjHcRzHcby/QBdddNFFt79oZ0jM2xmyvyBvZ0jM26m/AB988MEHn79Av1Kg1q+Ev4C/UqDWr4Q/QB988MEHnz9Ab2dIzNupP3BnSMzbGbI/UBdddNFFtz8gx3Ecx3G8P4A7Q2LezsA/aJNNNtlkwz9Q61cK1PrFP0BDYt7OkMg/KJtssskmyz8Y83aGxLzNP4ClQK1fKdA/eNFFF1100T9s/UqBWr/SP2ApUOtXCtQ/WFVVVVVV1T9MgVq/UqDWP0StXylQ69c/ONlkk0022T8wBWr9SoHaPyQxb2dIzNs/GF100UUX3T8QiXk7Q2LePwS1fqVArd8/fvDBBx984D94hsS8nSHhP3Icx3Ecx+E/brLJJpts4j9oSMzbGRLjP2TezpCYt+M/XnTRRRdd5D9aCtT6lQLlP1Sg1q8UqOU/TjbZZJNN5j9KzNsZEvPmP0Ri3s6QmOc/QPjggw8+6D86juM4juPoPzYk5u0Miek/MLrooosu6j8qUOtXCtTqPybm7QyJees/IHzwwQcf7D8cEvN2hsTsPxao9SsFau0/ED744IMP7j8M1PqVArXuPwZq/UqBWu8/AAAAAAAA8D8=\",\"dtype\":\"float64\",\"shape\":[100]}}},\"id\":\"dcf9cdbf-3a15-4092-983e-f5a3afdf12e5\",\"type\":\"ColumnDataSource\"},{\"attributes\":{\"line_alpha\":{\"value\":0.1},\"line_color\":{\"value\":\"#1f77b4\"},\"line_width\":{\"value\":2},\"x\":{\"field\":\"x\"},\"y\":{\"field\":\"y\"}},\"id\":\"361334c7-c476-4095-9439-b0a2c3d976c4\",\"type\":\"Line\"},{\"attributes\":{},\"id\":\"eb63532c-ec5b-4a1d-963c-ae7ab5b40954\",\"type\":\"BasicTicker\"},{\"attributes\":{},\"id\":\"5440cd52-b94b-445f-9e93-681f2c2d149a\",\"type\":\"ResetTool\"},{\"attributes\":{\"formatter\":{\"id\":\"532334a4-01d3-4781-91d8-03c10b8c1ec6\",\"type\":\"BasicTickFormatter\"},\"plot\":{\"id\":\"93d4baac-992a-4c3d-8c55-b518796a5e86\",\"subtype\":\"Figure\",\"type\":\"Plot\"},\"ticker\":{\"id\":\"eb63532c-ec5b-4a1d-963c-ae7ab5b40954\",\"type\":\"BasicTicker\"}},\"id\":\"ff55ab4f-cf5c-4e15-9d5c-3dfcb6d05ffd\",\"type\":\"LinearAxis\"},{\"attributes\":{\"callback\":null,\"column_names\":[\"x\",\"y\"],\"data\":{\"x\":{\"__ndarray__\":\"AAAAAAAA8L8Fav1KgVrvvwrU+pUCte6/ED744IMP7r8VqPUrBWrtvxoS83aGxOy/H3zwwQcf7L8k5u0MiXnrvylQ61cK1Oq/Lrrooosu6r80JObtDInpvzmO4ziO4+i/Pvjggw8+6L9DYt7OkJjnv0jM2xkS8+a/TjbZZJNN5r9SoNavFKjlv1gK1PqVAuW/XXTRRRdd5L9i3s6QmLfjv2dIzNsZEuO/bLLJJpts4r9yHMdxHMfhv3aGxLydIeG/fPDBBx984L8CtX6lQK3fvwyJeTtDYt6/Fl100UUX3b8gMW9nSMzbvywFav1Kgdq/Ntlkk0022b9ArV8pUOvXv0qBWr9SoNa/VFVVVVVV1b9eKVDrVwrUv2j9SoFav9K/dNFFF1100b9+pUCtXynQvxDzdobEvM2/JJtssskmy784Q2LezpDIv0zrVwrU+sW/ZJNNNtlkw794O0Ni3s7AvxjHcRzHcby/QBdddNFFt79oZ0jM2xmyvyBvZ0jM26m/AB988MEHn79Av1Kg1q+Ev4C/UqDWr4Q/QB988MEHnz9Ab2dIzNupP3BnSMzbGbI/UBdddNFFtz8gx3Ecx3G8P4A7Q2LezsA/aJNNNtlkwz9Q61cK1PrFP0BDYt7OkMg/KJtssskmyz8Y83aGxLzNP4ClQK1fKdA/eNFFF1100T9s/UqBWr/SP2ApUOtXCtQ/WFVVVVVV1T9MgVq/UqDWP0StXylQ69c/ONlkk0022T8wBWr9SoHaPyQxb2dIzNs/GF100UUX3T8QiXk7Q2LePwS1fqVArd8/fvDBBx984D94hsS8nSHhP3Icx3Ecx+E/brLJJpts4j9oSMzbGRLjP2TezpCYt+M/XnTRRRdd5D9aCtT6lQLlP1Sg1q8UqOU/TjbZZJNN5j9KzNsZEvPmP0Ri3s6QmOc/QPjggw8+6D86juM4juPoPzYk5u0Miek/MLrooosu6j8qUOtXCtTqPybm7QyJees/IHzwwQcf7D8cEvN2hsTsPxao9SsFau0/ED744IMP7j8M1PqVArXuPwZq/UqBWu8/AAAAAAAA8D8=\",\"dtype\":\"float64\",\"shape\":[100]},\"y\":{\"__ndarray__\":\"AAAAAAAA8L9ESyc6SuXsv4DPCBx9Ceq/jpiVBMlo578PZO+Lhv/kv/sxoKo1yuK/C9XR4HzF4L9dBgu7UNzdvxDMlktSgtq/xlb0dyh3179bK82NQ7XUv88YNnJYN9K/mLI84L3wz78PZn0NIOfLv2YyEXDISMi/3pkqriMNxb9b/CmtFizCv+my91z2O7+/LCTu2Di3ur8ZVXZuZ7y2v50YHSPKPrO/vY95m3cysL+xWtOpnBirv5xznb7bg6a/x62TLWCTor8/DeJ1iWqev2t6xFT7sZi/KbP9ZJbek78H0QjBr6iPv9r2EWo984i/OhfP1SBug798Gmgw+N19v7PaqCwkn3a/kEaPqCDbcL+/PzQMY6lov/ucwDkuq2G/fHBkV4e4WL8JwJEcF9NQvzZWmH5yLUa/1yHsOhslPL/oyCtwSxAxvzSndUzHkSO/1eUDnrXuFL8gnDHgO3gEv3aIZ1/6wfG+STleiRcL2r5KvVqSkKa9vrzb161jDZa+3jIThMRvW76YQHdWhufcvVdCd1aG59w9+TMThMRvWz5F3NetYw2WPoy9WpKQpr0+ojleiRcL2j6PiGdf+sHxPlGcMeA7eAQ/6uUDnrXuFD9Gp3VMx5EjPwTJK3BLEDE/7CHsOhslPD9UVph+ci1GPxTAkRwX01A/mXBkV4e4WD8OncA5LqthP8s/NAxjqWg/oEaPqCDbcD+92qgsJJ92P5UaaDD43X0/QhfP1SBugz/t9hFqPfOIPx3RCMGvqI8/MLP9ZJbekz97esRU+7GYP0kN4nWJap4/0q2TLWCToj+pc52+24OmP7Fa06mcGKs/xo95m3cysD+iGB0jyj6zPyVVdm5nvLY/MyTu2Di3uj/4svdc9ju/P2T8Ka0WLMI/3pkqriMNxT9xMhFwyEjIPxVmfQ0g58s/pbI84L3wzz/TGDZyWDfSP2QrzY1DtdQ/z1b0dyh31z8VzJZLUoLaP2gGC7tQ3N0/DtXR4HzF4D8CMqCqNcriPxJk74uG/+Q/jpiVBMlo5z+JzwgcfQnqP0lLJzpK5ew/AAAAAAAA8D8=\",\"dtype\":\"float64\",\"shape\":[100]}}},\"id\":\"4a7a7a4d-5c67-4c21-b090-cb1ee99adb4c\",\"type\":\"ColumnDataSource\"},{\"attributes\":{\"plot\":{\"id\":\"93d4baac-992a-4c3d-8c55-b518796a5e86\",\"subtype\":\"Figure\",\"type\":\"Plot\"},\"ticker\":{\"id\":\"eb63532c-ec5b-4a1d-963c-ae7ab5b40954\",\"type\":\"BasicTicker\"}},\"id\":\"48fba770-1643-4c42-bbb3-5d6aa7deaf3f\",\"type\":\"Grid\"},{\"attributes\":{\"line_alpha\":{\"value\":0.5},\"line_color\":{\"value\":\"navy\"},\"line_width\":{\"value\":2},\"x\":{\"field\":\"x\"},\"y\":{\"field\":\"y\"}},\"id\":\"d272491f-66fd-4daa-8fc2-ef4ac9849a23\",\"type\":\"Line\"},{\"attributes\":{},\"id\":\"8167665b-449f-4e3e-a10f-00df313fc6e7\",\"type\":\"LinearScale\"},{\"attributes\":{\"line_alpha\":{\"value\":0.5},\"line_color\":{\"value\":\"green\"},\"line_width\":{\"value\":2},\"x\":{\"field\":\"x\"},\"y\":{\"field\":\"y\"}},\"id\":\"520f4951-006c-4cb2-8365-240edde2e786\",\"type\":\"Line\"},{\"attributes\":{},\"id\":\"b95d5920-42d6-4e0a-89b4-85e3ed9a5468\",\"type\":\"LinearScale\"}],\"root_ids\":[\"93d4baac-992a-4c3d-8c55-b518796a5e86\"]},\"title\":\"Bokeh Application\",\"version\":\"0.12.10\"}};\n",
       "    var render_items = [{\"docid\":\"78b1446e-de2e-4b96-bc48-34d504ee07c2\",\"elementid\":\"f01d92fb-c923-4633-9412-fccc906f5384\",\"modelid\":\"93d4baac-992a-4c3d-8c55-b518796a5e86\"}];\n",
       "\n",
       "    root.Bokeh.embed.embed_items(docs_json, render_items);\n",
       "  }\n",
       "\n",
       "  if (root.Bokeh !== undefined) {\n",
       "    embed_document(root);\n",
       "  } else {\n",
       "    var attempts = 0;\n",
       "    var timer = setInterval(function(root) {\n",
       "      if (root.Bokeh !== undefined) {\n",
       "        embed_document(root);\n",
       "        clearInterval(timer);\n",
       "      }\n",
       "      attempts++;\n",
       "      if (attempts > 100) {\n",
       "        console.log(\"Bokeh: ERROR: Unable to embed document because BokehJS library is missing\")\n",
       "        clearInterval(timer);\n",
       "      }\n",
       "    }, 10, root)\n",
       "  }\n",
       "})(window);"
      ],
      "application/vnd.bokehjs_exec.v0+json": ""
     },
     "metadata": {
      "application/vnd.bokehjs_exec.v0+json": {
       "id": "93d4baac-992a-4c3d-8c55-b518796a5e86"
      }
     },
     "output_type": "display_data"
    }
   ],
   "source": [
    "x = np.linspace(-1, 1, 100)\n",
    "y1 = x\n",
    "y2 = x**2\n",
    "y3 = x**3\n",
    "y4 = x**4\n",
    "y5 = x**5\n",
    "powers = figure(plot_width=400, plot_height=400)\n",
    "powers.line(x,y1,color='firebrick',alpha=.5,line_width=2,legend='y=x')\n",
    "powers.line(x,y2,color='navy',alpha=.5,line_width=2,legend='y=x^2')\n",
    "powers.line(x,y3,color='orange',alpha=.5,line_width=2,legend='y=x^3')\n",
    "powers.line(x,y4,color='blue',alpha=.5,line_width=2,legend='y=x^4')\n",
    "powers.line(x,y5,color='green',alpha=.5,line_width=2,legend='y=x^5')\n",
    "powers.legend.location = 'bottom_right'\n",
    "show(powers)"
   ]
  },
  {
   "cell_type": "code",
   "execution_count": 31,
   "metadata": {},
   "outputs": [
    {
     "data": {
      "text/html": [
       "\n",
       "<div class=\"bk-root\">\n",
       "    <div class=\"bk-plotdiv\" id=\"88595388-ec78-47ef-abbb-1ca063fa6370\"></div>\n",
       "</div>"
      ]
     },
     "metadata": {},
     "output_type": "display_data"
    },
    {
     "data": {
      "application/javascript": [
       "(function(root) {\n",
       "  function embed_document(root) {\n",
       "    var docs_json = {\"b2badc92-6a90-492c-96ab-da42d173b1cc\":{\"roots\":{\"references\":[{\"attributes\":{\"data_source\":{\"id\":\"9ab2ec2e-9e42-49ce-bab2-804960e62a69\",\"type\":\"ColumnDataSource\"},\"glyph\":{\"id\":\"96015879-d037-4d72-a60a-984e2ec52d5f\",\"type\":\"Line\"},\"hover_glyph\":null,\"muted_glyph\":null,\"nonselection_glyph\":{\"id\":\"81382258-6b95-4fa5-83c8-2a6d9f6b47b5\",\"type\":\"Line\"},\"selection_glyph\":null,\"view\":{\"id\":\"8d69f044-659c-4eae-8a38-5a13bbe2a240\",\"type\":\"CDSView\"}},\"id\":\"7dbe1c1a-0acb-4de6-a586-a5146fe301a7\",\"type\":\"GlyphRenderer\"},{\"attributes\":{},\"id\":\"3159babd-200f-41ec-8953-cd6d79e28769\",\"type\":\"WheelZoomTool\"},{\"attributes\":{\"bottom_units\":\"screen\",\"fill_alpha\":{\"value\":0.5},\"fill_color\":{\"value\":\"lightgrey\"},\"left_units\":\"screen\",\"level\":\"overlay\",\"line_alpha\":{\"value\":1.0},\"line_color\":{\"value\":\"black\"},\"line_dash\":[4,4],\"line_width\":{\"value\":2},\"plot\":null,\"render_mode\":\"css\",\"right_units\":\"screen\",\"top_units\":\"screen\"},\"id\":\"04f28d8e-7164-448c-b285-d7a7ac45f334\",\"type\":\"BoxAnnotation\"},{\"attributes\":{\"plot\":{\"id\":\"c92905e4-305f-4305-918d-1b1100f25c4f\",\"subtype\":\"Figure\",\"type\":\"Plot\"},\"ticker\":{\"id\":\"fce1f004-068d-4c66-8fd8-b2505d0e356b\",\"type\":\"BasicTicker\"}},\"id\":\"be9a99ba-ab30-448e-90d3-41e1c1a68a07\",\"type\":\"Grid\"},{\"attributes\":{\"below\":[{\"id\":\"21b1173f-4f3a-428e-bc75-7b9f5d841fb5\",\"type\":\"LinearAxis\"}],\"left\":[{\"id\":\"912335b1-4f1e-4438-b43d-f1e069969e2d\",\"type\":\"LinearAxis\"}],\"plot_height\":400,\"plot_width\":400,\"renderers\":[{\"id\":\"21b1173f-4f3a-428e-bc75-7b9f5d841fb5\",\"type\":\"LinearAxis\"},{\"id\":\"be9a99ba-ab30-448e-90d3-41e1c1a68a07\",\"type\":\"Grid\"},{\"id\":\"912335b1-4f1e-4438-b43d-f1e069969e2d\",\"type\":\"LinearAxis\"},{\"id\":\"9f63bed9-6651-424e-824b-bf8b3a6052ff\",\"type\":\"Grid\"},{\"id\":\"04f28d8e-7164-448c-b285-d7a7ac45f334\",\"type\":\"BoxAnnotation\"},{\"id\":\"39c1cc25-6eed-48eb-b971-f8c6748cba00\",\"type\":\"Legend\"},{\"id\":\"4558ef2c-c84d-4dd1-b432-cf7ae56ac3c6\",\"type\":\"GlyphRenderer\"},{\"id\":\"7dbe1c1a-0acb-4de6-a586-a5146fe301a7\",\"type\":\"GlyphRenderer\"},{\"id\":\"ed2a4303-85a2-4801-aa74-6c087bcd2335\",\"type\":\"GlyphRenderer\"},{\"id\":\"f32d6e76-9e09-4bb6-aed3-632fcd34c957\",\"type\":\"GlyphRenderer\"}],\"title\":{\"id\":\"4a571632-0f30-4675-bb66-4643596b6512\",\"type\":\"Title\"},\"toolbar\":{\"id\":\"8ed031b7-bde7-47aa-9b1d-099e96e01b59\",\"type\":\"Toolbar\"},\"x_range\":{\"id\":\"dce2d6ee-3cf5-47fe-9d4d-ab1e6ad427aa\",\"type\":\"DataRange1d\"},\"x_scale\":{\"id\":\"feeb3b32-5443-46ac-bb95-d821090e870b\",\"type\":\"LinearScale\"},\"y_range\":{\"id\":\"4a59a8fd-76ac-4ec8-a03a-9a58d217daf5\",\"type\":\"DataRange1d\"},\"y_scale\":{\"id\":\"1195ea8b-1dd4-4587-a6c5-ba2d850bd032\",\"type\":\"LinearScale\"}},\"id\":\"c92905e4-305f-4305-918d-1b1100f25c4f\",\"subtype\":\"Figure\",\"type\":\"Plot\"},{\"attributes\":{},\"id\":\"5d2f0588-66ac-4e69-821b-2bc63f00308c\",\"type\":\"BasicTickFormatter\"},{\"attributes\":{\"label\":{\"value\":\"y=exp(x)\"},\"renderers\":[{\"id\":\"ed2a4303-85a2-4801-aa74-6c087bcd2335\",\"type\":\"GlyphRenderer\"}]},\"id\":\"1dd30960-51eb-4f51-b976-64d3f141b6da\",\"type\":\"LegendItem\"},{\"attributes\":{\"data_source\":{\"id\":\"44e286a7-78fd-4858-bcbb-e3eaa2fcafd2\",\"type\":\"ColumnDataSource\"},\"glyph\":{\"id\":\"afc31ecf-5687-4801-8a65-ae8ef625268b\",\"type\":\"Line\"},\"hover_glyph\":null,\"muted_glyph\":null,\"nonselection_glyph\":{\"id\":\"2d5eba93-9b59-4db4-9910-e8c5fb18c102\",\"type\":\"Line\"},\"selection_glyph\":null,\"view\":{\"id\":\"7bf4349d-a48a-44a9-a2d5-1c75d6af5533\",\"type\":\"CDSView\"}},\"id\":\"ed2a4303-85a2-4801-aa74-6c087bcd2335\",\"type\":\"GlyphRenderer\"},{\"attributes\":{},\"id\":\"55977aac-c36a-4aed-8967-16f961a596f7\",\"type\":\"BasicTickFormatter\"},{\"attributes\":{},\"id\":\"6ea0abf0-f297-4d05-8f66-dcbbf4eb6b07\",\"type\":\"HelpTool\"},{\"attributes\":{\"line_alpha\":{\"value\":0.1},\"line_color\":{\"value\":\"#1f77b4\"},\"line_width\":{\"value\":2},\"x\":{\"field\":\"x\"},\"y\":{\"field\":\"y\"}},\"id\":\"5b67f6ff-bc7e-4073-bd6e-008cb1ce1f36\",\"type\":\"Line\"},{\"attributes\":{},\"id\":\"6f6ac792-f765-427d-941b-39221308e522\",\"type\":\"BasicTicker\"},{\"attributes\":{\"source\":{\"id\":\"9dace17e-5ffc-4224-83a8-4ef112587f0f\",\"type\":\"ColumnDataSource\"}},\"id\":\"cda9c8f7-958e-4cdd-bd9a-2832e6ad5b0e\",\"type\":\"CDSView\"},{\"attributes\":{\"line_alpha\":{\"value\":0.5},\"line_color\":{\"value\":\"orange\"},\"line_width\":{\"value\":2},\"x\":{\"field\":\"x\"},\"y\":{\"field\":\"y\"}},\"id\":\"96015879-d037-4d72-a60a-984e2ec52d5f\",\"type\":\"Line\"},{\"attributes\":{\"callback\":null},\"id\":\"dce2d6ee-3cf5-47fe-9d4d-ab1e6ad427aa\",\"type\":\"DataRange1d\"},{\"attributes\":{\"callback\":null,\"column_names\":[\"x\",\"y\"],\"data\":{\"x\":{\"__ndarray__\":\"AAAAAAAAAMAFav1KgVr/vwrU+pUCtf6/ED744IMP/r8VqPUrBWr9vxoS83aGxPy/H3zwwQcf/L8k5u0MiXn7vylQ61cK1Pq/Lrrooosu+r80JObtDIn5vzmO4ziO4/i/Pvjggw8++L9DYt7OkJj3v0jM2xkS8/a/TjbZZJNN9r9SoNavFKj1v1gK1PqVAvW/XXTRRRdd9L9i3s6QmLfzv2dIzNsZEvO/bLLJJpts8r9yHMdxHMfxv3aGxLydIfG/fPDBBx988L8CtX6lQK3vvwyJeTtDYu6/Fl100UUX7b8gMW9nSMzrvywFav1Kgeq/Ntlkk0026b9ArV8pUOvnv0qBWr9SoOa/VFVVVVVV5b9eKVDrVwrkv2j9SoFav+K/dNFFF1104b9+pUCtXyngvxDzdobEvN2/JJtssskm2784Q2LezpDYv0zrVwrU+tW/ZJNNNtlk0794O0Ni3s7QvxjHcRzHccy/QBdddNFFx79oZ0jM2xnCvyBvZ0jM27m/AB988MEHr79Av1Kg1q+Uv4C/UqDWr5Q/QB988MEHrz9Ab2dIzNu5P3BnSMzbGcI/UBdddNFFxz8gx3Ecx3HMP4A7Q2LeztA/aJNNNtlk0z9Q61cK1PrVP0BDYt7OkNg/KJtssskm2z8Y83aGxLzdP4ClQK1fKeA/eNFFF1104T9s/UqBWr/iP2ApUOtXCuQ/WFVVVVVV5T9MgVq/UqDmP0StXylQ6+c/ONlkk0026T8wBWr9SoHqPyQxb2dIzOs/GF100UUX7T8QiXk7Q2LuPwS1fqVAre8/fvDBBx988D94hsS8nSHxP3Icx3Ecx/E/brLJJpts8j9oSMzbGRLzP2TezpCYt/M/XnTRRRdd9D9aCtT6lQL1P1Sg1q8UqPU/TjbZZJNN9j9KzNsZEvP2P0Ri3s6QmPc/QPjggw8++D86juM4juP4PzYk5u0Mifk/MLrooosu+j8qUOtXCtT6Pybm7QyJefs/IHzwwQcf/D8cEvN2hsT8Pxao9SsFav0/ED744IMP/j8M1PqVArX+PwZq/UqBWv8/AAAAAAAAAEA=\",\"dtype\":\"float64\",\"shape\":[100]},\"y\":{\"__ndarray__\":\"WDonLpBMS0D9ZyHACy5JQJ33jdKkOUdAI3uKbxZsRUCA0DSaXMJDQFfNdUOvOUJAKjsIo33PQEAfTOjZ0wI/QNtForiKmjxAYKhhGRliOkC/Bi04yFU4QJf9sx8rcjZA8a+H7hi0NECmuDCOpxgzQGG2S9MmnTFA6EGF/hs/MEC9SuAte/gtQJc8jC3fpCtAGZlayH9/KUBRLTcgxoQnQJEjzatisSVAiVD1rEcCJEBU/y8VpHQiQHxNn8/eBSFAfdpB0SRnH0BZdoUXEvccQLQIvKJxtxpACyVVq4CkGEAr6yonx7oWQAKyMfwR9xRASn11pm1WE0AozHFIIdYRQJAwgh2qcxBANGWcjW5ZDkB+slTXS/4LQGqR50370QlA9E7ZdtrQB0A5eiwTj/cFQKyP5oMBQwRA8B0EnlewAkAR0zXl7zwBQOqV10q6zP8/hROmx8RU/T8cn/ZA3g37P0a1xMQ39Pg/9zg8EE4E9z91V6Sv4zr1Pw81DZP7lPM/+fuvDtQP8j9ACKU+4qjwP1QjdIybu+4/I+iWx9lY7D/bIiKlgSXqP2RTo+jkHeg/ho7Pep4+5j9aleS7jITkP4bg4UbM7OI/pRLXHLN04T9VWjMwzBngPwjBQ5Gms90/3vQmcWJl2z+X5jy88ETZP9mGttLCTtc/sIayxZB/1T8+O2PaU9TTP3VFQ3pBStI/7q3hh8be0D+xxuwgBh/PP5NzFqaMtMw/11opLRZ6yj88YrOR6GvIP5wzB8GThsY/FBM/+uvGxD/JsYSABCrDP4oZv7YqrcE/GRd4nOFNwD+2R9pIuxO+P/eSq7sBvrs/h6Ln066WuT+gUgJwKJq3P5Y2CgQcxbU/+v0NC3kUtD/7ZvHma4WyPzcLHyZZFbE/32RdTrKDrz+7+mkmaBGtP5VZBFC8z6o/yPY2mOi6qD96pGvNcc+mP4671OwhCqU/jueMwwJooz9P/nH6WOahPxzScYSfgqA/hSlJzwZ1nj+Mg1C0vxecP+o4eVh16Zk/2wZB84Hmlz8bFFE5iAuWP5pq6bttVZQ/9DwhuFXBkj8=\",\"dtype\":\"float64\",\"shape\":[100]}}},\"id\":\"9dace17e-5ffc-4224-83a8-4ef112587f0f\",\"type\":\"ColumnDataSource\"},{\"attributes\":{},\"id\":\"feeb3b32-5443-46ac-bb95-d821090e870b\",\"type\":\"LinearScale\"},{\"attributes\":{\"source\":{\"id\":\"9ab2ec2e-9e42-49ce-bab2-804960e62a69\",\"type\":\"ColumnDataSource\"}},\"id\":\"8d69f044-659c-4eae-8a38-5a13bbe2a240\",\"type\":\"CDSView\"},{\"attributes\":{\"label\":{\"value\":\"y=exp(-2x)\"},\"renderers\":[{\"id\":\"4558ef2c-c84d-4dd1-b432-cf7ae56ac3c6\",\"type\":\"GlyphRenderer\"}]},\"id\":\"16a0ff51-7168-4e68-bb28-cd7a76d995e5\",\"type\":\"LegendItem\"},{\"attributes\":{},\"id\":\"887b9fbd-76f3-4134-9437-a78e07ad4d37\",\"type\":\"SaveTool\"},{\"attributes\":{\"callback\":null,\"column_names\":[\"x\",\"y\"],\"data\":{\"x\":{\"__ndarray__\":\"AAAAAAAAAMAFav1KgVr/vwrU+pUCtf6/ED744IMP/r8VqPUrBWr9vxoS83aGxPy/H3zwwQcf/L8k5u0MiXn7vylQ61cK1Pq/Lrrooosu+r80JObtDIn5vzmO4ziO4/i/Pvjggw8++L9DYt7OkJj3v0jM2xkS8/a/TjbZZJNN9r9SoNavFKj1v1gK1PqVAvW/XXTRRRdd9L9i3s6QmLfzv2dIzNsZEvO/bLLJJpts8r9yHMdxHMfxv3aGxLydIfG/fPDBBx988L8CtX6lQK3vvwyJeTtDYu6/Fl100UUX7b8gMW9nSMzrvywFav1Kgeq/Ntlkk0026b9ArV8pUOvnv0qBWr9SoOa/VFVVVVVV5b9eKVDrVwrkv2j9SoFav+K/dNFFF1104b9+pUCtXyngvxDzdobEvN2/JJtssskm2784Q2LezpDYv0zrVwrU+tW/ZJNNNtlk0794O0Ni3s7QvxjHcRzHccy/QBdddNFFx79oZ0jM2xnCvyBvZ0jM27m/AB988MEHr79Av1Kg1q+Uv4C/UqDWr5Q/QB988MEHrz9Ab2dIzNu5P3BnSMzbGcI/UBdddNFFxz8gx3Ecx3HMP4A7Q2LeztA/aJNNNtlk0z9Q61cK1PrVP0BDYt7OkNg/KJtssskm2z8Y83aGxLzdP4ClQK1fKeA/eNFFF1104T9s/UqBWr/iP2ApUOtXCuQ/WFVVVVVV5T9MgVq/UqDmP0StXylQ6+c/ONlkk0026T8wBWr9SoHqPyQxb2dIzOs/GF100UUX7T8QiXk7Q2LuPwS1fqVAre8/fvDBBx988D94hsS8nSHxP3Icx3Ecx/E/brLJJpts8j9oSMzbGRLzP2TezpCYt/M/XnTRRRdd9D9aCtT6lQL1P1Sg1q8UqPU/TjbZZJNN9j9KzNsZEvP2P0Ri3s6QmPc/QPjggw8++D86juM4juP4PzYk5u0Mifk/MLrooosu+j8qUOtXCtT6Pybm7QyJefs/IHzwwQcf/D8cEvN2hsT8Pxao9SsFav0/ED744IMP/j8M1PqVArX+PwZq/UqBWv8/AAAAAAAAAEA=\",\"dtype\":\"float64\",\"shape\":[100]},\"y\":{\"__ndarray__\":\"rt3UuGSOHUCCyFE1xmIcQLp8SwMFQxtAAnWq3KguGkB6Z5Y+PiUZQDByLjlWJhhAT7YqQYYxF0CqAFQDaEYWQIPivjmZZBVAM1q4gruLFECh4FI5dLsTQFteg09s8xJAezK+KVAzEkDOFQV8z3oRQB0/VyidyRBAX8F1Hm8fEEC1Vd15/PcOQMzpw2YMvg1A2a3ny4qQDEBDG8Gj+W4LQPc/TObfWApA4j9yVslNCUAJqXNRRk0IQHxLP6DrVgdAkhSiSlJqBkAkMj1sF4cFQNuAMAvcrARAlf5n8ETbA0A+qXuB+hEDQLHaEZyoUAJAmtO0cv6WAUCtwgxrruQAQE4qcP1tOQBACyx6K+sp/z8QNdzqAO79PwM+vS2Zvvw/ZdpkIzWb+z8j/6kAW4P6P2fzCs2Vdvk/uk7JMXV0+D8+lfVKjXz3P7fRVnp2jvY/OFQbPM2p9T8oe0D9Mc70PxkkoPNI+/M/3RGT97kw8z/OPhhfMG7yP5e0cdpas/E/DR8oUuv/8D+G5WbGllPwP1dMRl8qXO8/9vEAwUIe7j88ys3R8ezsP0Dle/S3x+s/m3qCmRqu6j/2xcYLpJ/pP+cwaT/jm+g/LzqFomui5z8VWtDv1LLmP4jsBAO7zOU/jOkGr73v5D8t7bCVgBvkP8vBOAGrT+M/iUkbv+eL4j+bR4D85M/hP+wmByRUG+E/3XLuvOlt4D/hjhCXuo7fP/4S3WXSTt4/znrUL5Ub3T9NpQOKgvTbPx1tRR8f2do/Wuy1fPTI2T9SUzDgkMPYP4qgwgiHyNc/PFoDCW7X1j9pMzYb4e/VP19HLXd/EdU/H1HVKew71D8J9lvuzW7TP63m3wjPqdI/nT2bIp3s0T+PIXkn6TbRP6JICCVniNA/thd5VZzBzz+7jORWsH/OP3SETcCDSs0/gOuyV5UhzD9SoRQBaQTLPz2ek4qH8sk/C/efen7ryD/m6h/g3+7HPyP8eyRC/MY/1d583z8Txj+7yuisdzPFP4l5zgOMXMQ/gM1sDyOOwz9pyaaJ5sfCPzgo9JaDCcI/zIG/o6pSwT8=\",\"dtype\":\"float64\",\"shape\":[100]}}},\"id\":\"9ab2ec2e-9e42-49ce-bab2-804960e62a69\",\"type\":\"ColumnDataSource\"},{\"attributes\":{\"line_alpha\":{\"value\":0.1},\"line_color\":{\"value\":\"#1f77b4\"},\"line_width\":{\"value\":2},\"x\":{\"field\":\"x\"},\"y\":{\"field\":\"y\"}},\"id\":\"2d5eba93-9b59-4db4-9910-e8c5fb18c102\",\"type\":\"Line\"},{\"attributes\":{\"callback\":null},\"id\":\"4a59a8fd-76ac-4ec8-a03a-9a58d217daf5\",\"type\":\"DataRange1d\"},{\"attributes\":{\"label\":{\"value\":\"y=exp(-x)\"},\"renderers\":[{\"id\":\"7dbe1c1a-0acb-4de6-a586-a5146fe301a7\",\"type\":\"GlyphRenderer\"}]},\"id\":\"69eb706c-e04e-4263-b71a-a8d6fcb7a55a\",\"type\":\"LegendItem\"},{\"attributes\":{\"items\":[{\"id\":\"16a0ff51-7168-4e68-bb28-cd7a76d995e5\",\"type\":\"LegendItem\"},{\"id\":\"69eb706c-e04e-4263-b71a-a8d6fcb7a55a\",\"type\":\"LegendItem\"},{\"id\":\"1dd30960-51eb-4f51-b976-64d3f141b6da\",\"type\":\"LegendItem\"},{\"id\":\"cc7483ae-f2c4-400b-97f6-35eb11ae5bfa\",\"type\":\"LegendItem\"}],\"location\":\"center\",\"plot\":{\"id\":\"c92905e4-305f-4305-918d-1b1100f25c4f\",\"subtype\":\"Figure\",\"type\":\"Plot\"}},\"id\":\"39c1cc25-6eed-48eb-b971-f8c6748cba00\",\"type\":\"Legend\"},{\"attributes\":{\"line_alpha\":{\"value\":0.1},\"line_color\":{\"value\":\"#1f77b4\"},\"line_width\":{\"value\":2},\"x\":{\"field\":\"x\"},\"y\":{\"field\":\"y\"}},\"id\":\"81382258-6b95-4fa5-83c8-2a6d9f6b47b5\",\"type\":\"Line\"},{\"attributes\":{},\"id\":\"fce1f004-068d-4c66-8fd8-b2505d0e356b\",\"type\":\"BasicTicker\"},{\"attributes\":{\"callback\":null,\"column_names\":[\"x\",\"y\"],\"data\":{\"x\":{\"__ndarray__\":\"AAAAAAAAAMAFav1KgVr/vwrU+pUCtf6/ED744IMP/r8VqPUrBWr9vxoS83aGxPy/H3zwwQcf/L8k5u0MiXn7vylQ61cK1Pq/Lrrooosu+r80JObtDIn5vzmO4ziO4/i/Pvjggw8++L9DYt7OkJj3v0jM2xkS8/a/TjbZZJNN9r9SoNavFKj1v1gK1PqVAvW/XXTRRRdd9L9i3s6QmLfzv2dIzNsZEvO/bLLJJpts8r9yHMdxHMfxv3aGxLydIfG/fPDBBx988L8CtX6lQK3vvwyJeTtDYu6/Fl100UUX7b8gMW9nSMzrvywFav1Kgeq/Ntlkk0026b9ArV8pUOvnv0qBWr9SoOa/VFVVVVVV5b9eKVDrVwrkv2j9SoFav+K/dNFFF1104b9+pUCtXyngvxDzdobEvN2/JJtssskm2784Q2LezpDYv0zrVwrU+tW/ZJNNNtlk0794O0Ni3s7QvxjHcRzHccy/QBdddNFFx79oZ0jM2xnCvyBvZ0jM27m/AB988MEHr79Av1Kg1q+Uv4C/UqDWr5Q/QB988MEHrz9Ab2dIzNu5P3BnSMzbGcI/UBdddNFFxz8gx3Ecx3HMP4A7Q2LeztA/aJNNNtlk0z9Q61cK1PrVP0BDYt7OkNg/KJtssskm2z8Y83aGxLzdP4ClQK1fKeA/eNFFF1104T9s/UqBWr/iP2ApUOtXCuQ/WFVVVVVV5T9MgVq/UqDmP0StXylQ6+c/ONlkk0026T8wBWr9SoHqPyQxb2dIzOs/GF100UUX7T8QiXk7Q2LuPwS1fqVAre8/fvDBBx988D94hsS8nSHxP3Icx3Ecx/E/brLJJpts8j9oSMzbGRLzP2TezpCYt/M/XnTRRRdd9D9aCtT6lQL1P1Sg1q8UqPU/TjbZZJNN9j9KzNsZEvP2P0Ri3s6QmPc/QPjggw8++D86juM4juP4PzYk5u0Mifk/MLrooosu+j8qUOtXCtT6Pybm7QyJefs/IHzwwQcf/D8cEvN2hsT8Pxao9SsFav0/ED744IMP/j8M1PqVArX+PwZq/UqBWv8/AAAAAAAAAEA=\",\"dtype\":\"float64\",\"shape\":[100]},\"y\":{\"__ndarray__\":\"9DwhuFXBkj+caum7bVWUPyAUUTmIC5Y/2wZB84Hmlz/tOHlYdemZP5ODULS/F5w/iSlJzwZ1nj8g0nGEn4KgP1H+cfpY5qE/k+eMwwJooz+Tu9TsIQqlP32ka81xz6Y/zvY2mOi6qD+ZWQRQvM+qP8L6aSZoEa0/32RdTrKDrz87Cx8mWRWxPwBn8eZrhbI//P0NC3kUtD+bNgoEHMW1P6NSAnAomrc/jqLn066WuT/3kqu7Ab67P71H2ki7E74/HRd4nOFNwD+MGb+2Kq3BP82xhIAEKsM/FhM/+uvGxD+iMwfBk4bGP0Jis5Hoa8g/21opLRZ6yj+bcxamjLTMP7XG7CAGH88/8q3hh8be0D93RUN6QUrSP0M7Y9pT1NM/toayxZB/1T/chrbSwk7XP53mPLzwRNk/4vQmcWJl2z8PwUORprPdP1daMzDMGeA/pxLXHLN04T+K4OFGzOziP1yV5LuMhOQ/jI7Pep4+5j9nU6Po5B3oP+EiIqWBJeo/KuiWx9lY7D9YI3SMm7vuP0IIpT7iqPA//fuvDtQP8j8TNQ2T+5TzP3hXpK/jOvU//Dg8EE4E9z9JtcTEN/T4PyKf9kDeDfs/iROmx8RU/T/ulddKusz/PxbTNeXvPAFA8h0EnlewAkCxj+aDAUMEQDx6LBOP9wVA+k7ZdtrQB0BwkedN+9EJQIKyVNdL/gtAPGWcjW5ZDkCSMIIdqnMQQC3McUgh1hFATH11pm1WE0AHsjH8EfcUQDHrKifHuhZADiVVq4CkGEC7CLyicbcaQF12hRcS9xxAhdpB0SRnH0CATZ/P3gUhQFT/LxWkdCJAjlD1rEcCJECTI82rYrElQFYtNyDGhCdAHZlayH9/KUCePIwt36QrQMVK4C17+C1A6EGF/hs/MEBmtkvTJp0xQKm4MI6nGDNA9q+H7hi0NECa/bMfK3I2QMYGLTjIVThAZqhhGRliOkDeRaK4ipo8QCdM6NnTAj9ALDsIo33PQEBbzXVDrzlCQILQNJpcwkNAI3uKbxZsRUCj943SpDlHQABoIcALLklAWDonLpBMS0A=\",\"dtype\":\"float64\",\"shape\":[100]}}},\"id\":\"173d120b-6fa3-43ad-b1c7-72502bcdeef5\",\"type\":\"ColumnDataSource\"},{\"attributes\":{\"formatter\":{\"id\":\"55977aac-c36a-4aed-8967-16f961a596f7\",\"type\":\"BasicTickFormatter\"},\"plot\":{\"id\":\"c92905e4-305f-4305-918d-1b1100f25c4f\",\"subtype\":\"Figure\",\"type\":\"Plot\"},\"ticker\":{\"id\":\"6f6ac792-f765-427d-941b-39221308e522\",\"type\":\"BasicTicker\"}},\"id\":\"912335b1-4f1e-4438-b43d-f1e069969e2d\",\"type\":\"LinearAxis\"},{\"attributes\":{\"data_source\":{\"id\":\"173d120b-6fa3-43ad-b1c7-72502bcdeef5\",\"type\":\"ColumnDataSource\"},\"glyph\":{\"id\":\"7f589e5d-7131-4552-ae97-a6720fd640f6\",\"type\":\"Line\"},\"hover_glyph\":null,\"muted_glyph\":null,\"nonselection_glyph\":{\"id\":\"f4a75c9c-76c0-42ad-9513-27e4d6510d46\",\"type\":\"Line\"},\"selection_glyph\":null,\"view\":{\"id\":\"81e1bf84-e49d-4691-8409-80d7050d58a6\",\"type\":\"CDSView\"}},\"id\":\"f32d6e76-9e09-4bb6-aed3-632fcd34c957\",\"type\":\"GlyphRenderer\"},{\"attributes\":{\"source\":{\"id\":\"44e286a7-78fd-4858-bcbb-e3eaa2fcafd2\",\"type\":\"ColumnDataSource\"}},\"id\":\"7bf4349d-a48a-44a9-a2d5-1c75d6af5533\",\"type\":\"CDSView\"},{\"attributes\":{\"line_alpha\":{\"value\":0.5},\"line_color\":{\"value\":\"blue\"},\"line_width\":{\"value\":2},\"x\":{\"field\":\"x\"},\"y\":{\"field\":\"y\"}},\"id\":\"7f589e5d-7131-4552-ae97-a6720fd640f6\",\"type\":\"Line\"},{\"attributes\":{},\"id\":\"fbff82e7-bd6c-43d3-af4c-7bde306f5a96\",\"type\":\"ResetTool\"},{\"attributes\":{\"line_alpha\":{\"value\":0.5},\"line_color\":{\"value\":\"green\"},\"line_width\":{\"value\":2},\"x\":{\"field\":\"x\"},\"y\":{\"field\":\"y\"}},\"id\":\"afc31ecf-5687-4801-8a65-ae8ef625268b\",\"type\":\"Line\"},{\"attributes\":{\"active_drag\":\"auto\",\"active_inspect\":\"auto\",\"active_scroll\":\"auto\",\"active_tap\":\"auto\",\"tools\":[{\"id\":\"060d4a51-924f-44a4-90ec-228c4c96d8c1\",\"type\":\"PanTool\"},{\"id\":\"3159babd-200f-41ec-8953-cd6d79e28769\",\"type\":\"WheelZoomTool\"},{\"id\":\"b1dee663-ea22-4d36-a39a-c73beb7add3d\",\"type\":\"BoxZoomTool\"},{\"id\":\"887b9fbd-76f3-4134-9437-a78e07ad4d37\",\"type\":\"SaveTool\"},{\"id\":\"fbff82e7-bd6c-43d3-af4c-7bde306f5a96\",\"type\":\"ResetTool\"},{\"id\":\"6ea0abf0-f297-4d05-8f66-dcbbf4eb6b07\",\"type\":\"HelpTool\"}]},\"id\":\"8ed031b7-bde7-47aa-9b1d-099e96e01b59\",\"type\":\"Toolbar\"},{\"attributes\":{\"source\":{\"id\":\"173d120b-6fa3-43ad-b1c7-72502bcdeef5\",\"type\":\"ColumnDataSource\"}},\"id\":\"81e1bf84-e49d-4691-8409-80d7050d58a6\",\"type\":\"CDSView\"},{\"attributes\":{\"data_source\":{\"id\":\"9dace17e-5ffc-4224-83a8-4ef112587f0f\",\"type\":\"ColumnDataSource\"},\"glyph\":{\"id\":\"5f02238b-6c62-4087-930f-50c459259287\",\"type\":\"Line\"},\"hover_glyph\":null,\"muted_glyph\":null,\"nonselection_glyph\":{\"id\":\"5b67f6ff-bc7e-4073-bd6e-008cb1ce1f36\",\"type\":\"Line\"},\"selection_glyph\":null,\"view\":{\"id\":\"cda9c8f7-958e-4cdd-bd9a-2832e6ad5b0e\",\"type\":\"CDSView\"}},\"id\":\"4558ef2c-c84d-4dd1-b432-cf7ae56ac3c6\",\"type\":\"GlyphRenderer\"},{\"attributes\":{\"plot\":null,\"text\":\"\"},\"id\":\"4a571632-0f30-4675-bb66-4643596b6512\",\"type\":\"Title\"},{\"attributes\":{\"dimension\":1,\"plot\":{\"id\":\"c92905e4-305f-4305-918d-1b1100f25c4f\",\"subtype\":\"Figure\",\"type\":\"Plot\"},\"ticker\":{\"id\":\"6f6ac792-f765-427d-941b-39221308e522\",\"type\":\"BasicTicker\"}},\"id\":\"9f63bed9-6651-424e-824b-bf8b3a6052ff\",\"type\":\"Grid\"},{\"attributes\":{},\"id\":\"1195ea8b-1dd4-4587-a6c5-ba2d850bd032\",\"type\":\"LinearScale\"},{\"attributes\":{\"label\":{\"value\":\"y=exp(2x)\"},\"renderers\":[{\"id\":\"f32d6e76-9e09-4bb6-aed3-632fcd34c957\",\"type\":\"GlyphRenderer\"}]},\"id\":\"cc7483ae-f2c4-400b-97f6-35eb11ae5bfa\",\"type\":\"LegendItem\"},{\"attributes\":{\"line_alpha\":{\"value\":0.5},\"line_color\":{\"value\":\"red\"},\"line_width\":{\"value\":2},\"x\":{\"field\":\"x\"},\"y\":{\"field\":\"y\"}},\"id\":\"5f02238b-6c62-4087-930f-50c459259287\",\"type\":\"Line\"},{\"attributes\":{\"callback\":null,\"column_names\":[\"x\",\"y\"],\"data\":{\"x\":{\"__ndarray__\":\"AAAAAAAAAMAFav1KgVr/vwrU+pUCtf6/ED744IMP/r8VqPUrBWr9vxoS83aGxPy/H3zwwQcf/L8k5u0MiXn7vylQ61cK1Pq/Lrrooosu+r80JObtDIn5vzmO4ziO4/i/Pvjggw8++L9DYt7OkJj3v0jM2xkS8/a/TjbZZJNN9r9SoNavFKj1v1gK1PqVAvW/XXTRRRdd9L9i3s6QmLfzv2dIzNsZEvO/bLLJJpts8r9yHMdxHMfxv3aGxLydIfG/fPDBBx988L8CtX6lQK3vvwyJeTtDYu6/Fl100UUX7b8gMW9nSMzrvywFav1Kgeq/Ntlkk0026b9ArV8pUOvnv0qBWr9SoOa/VFVVVVVV5b9eKVDrVwrkv2j9SoFav+K/dNFFF1104b9+pUCtXyngvxDzdobEvN2/JJtssskm2784Q2LezpDYv0zrVwrU+tW/ZJNNNtlk0794O0Ni3s7QvxjHcRzHccy/QBdddNFFx79oZ0jM2xnCvyBvZ0jM27m/AB988MEHr79Av1Kg1q+Uv4C/UqDWr5Q/QB988MEHrz9Ab2dIzNu5P3BnSMzbGcI/UBdddNFFxz8gx3Ecx3HMP4A7Q2LeztA/aJNNNtlk0z9Q61cK1PrVP0BDYt7OkNg/KJtssskm2z8Y83aGxLzdP4ClQK1fKeA/eNFFF1104T9s/UqBWr/iP2ApUOtXCuQ/WFVVVVVV5T9MgVq/UqDmP0StXylQ6+c/ONlkk0026T8wBWr9SoHqPyQxb2dIzOs/GF100UUX7T8QiXk7Q2LuPwS1fqVAre8/fvDBBx988D94hsS8nSHxP3Icx3Ecx/E/brLJJpts8j9oSMzbGRLzP2TezpCYt/M/XnTRRRdd9D9aCtT6lQL1P1Sg1q8UqPU/TjbZZJNN9j9KzNsZEvP2P0Ri3s6QmPc/QPjggw8++D86juM4juP4PzYk5u0Mifk/MLrooosu+j8qUOtXCtT6Pybm7QyJefs/IHzwwQcf/D8cEvN2hsT8Pxao9SsFav0/ED744IMP/j8M1PqVArX+PwZq/UqBWv8/AAAAAAAAAEA=\",\"dtype\":\"float64\",\"shape\":[100]},\"y\":{\"__ndarray__\":\"zIG/o6pSwT85KPSWgwnCP2zJponmx8I/gM1sDyOOwz+Kec4DjFzEP77K6Kx3M8U/19583z8Txj8m/HskQvzGP+fqH+Df7sc/Dvefen7ryD9AnpOKh/LJP1ShFAFpBMs/g+uyV5UhzD92hE3Ag0rNP7+M5Fawf84/thd5VZzBzz+kSAglZ4jQP5EheSfpNtE/nz2bIp3s0T+w5t8Iz6nSPwr2W+7NbtM/IlHVKew71D9fRy13fxHVP2wzNhvh79U/P1oDCW7X1j+MoMIIh8jXP1ZTMOCQw9g/XOy1fPTI2T8gbUUfH9naP1ClA4qC9Ns/0HrUL5Ub3T8CE91l0k7eP+OOEJe6jt8/33LuvOlt4D/tJgckVBvhP51HgPzkz+E/i0kbv+eL4j/MwTgBq0/jPy/tsJWAG+Q/jukGr73v5D+L7AQDu8zlPxda0O/UsuY/MDqFomui5z/qMGk/45voP/jFxgukn+k/n3qCmRqu6j9B5Xv0t8frPz/KzdHx7Ow/+vEAwUIe7j9ZTEZfKlzvP4flZsaWU/A/Dx8oUuv/8D+ZtHHaWrPxP88+GF8wbvI/3xGT97kw8z8aJKDzSPvzPyt7QP0xzvQ/OlQbPM2p9T+50VZ6do72P0GV9UqNfPc/vE7JMXV0+D9q8wrNlXb5PyX/qQBbg/o/adpkIzWb+z8HPr0tmb78PxI13OoA7v0/Dyx6K+sp/z9PKnD9bTkAQK/CDGuu5ABAm9O0cv6WAUCz2hGcqFACQECpe4H6EQNAlv5n8ETbA0DegDAL3KwEQCUyPWwXhwVAlRSiSlJqBkB/Sz+g61YHQAmpc1FGTQhA5T9yVslNCUD4P0zm31gKQEcbwaP5bgtA263ny4qQDEDQ6cNmDL4NQLlV3Xn89w5AX8F1Hm8fEEAfP1conckQQM8VBXzPehFAfTK+KVAzEkBcXoNPbPMSQKPgUjl0uxNANVq4gruLFECE4r45mWQVQK0AVANoRhZAULYqQYYxF0Azci45ViYYQHxnlj4+JRlAAnWq3KguGkC+fEsDBUMbQITIUTXGYhxArt3UuGSOHUA=\",\"dtype\":\"float64\",\"shape\":[100]}}},\"id\":\"44e286a7-78fd-4858-bcbb-e3eaa2fcafd2\",\"type\":\"ColumnDataSource\"},{\"attributes\":{},\"id\":\"060d4a51-924f-44a4-90ec-228c4c96d8c1\",\"type\":\"PanTool\"},{\"attributes\":{\"overlay\":{\"id\":\"04f28d8e-7164-448c-b285-d7a7ac45f334\",\"type\":\"BoxAnnotation\"}},\"id\":\"b1dee663-ea22-4d36-a39a-c73beb7add3d\",\"type\":\"BoxZoomTool\"},{\"attributes\":{\"line_alpha\":{\"value\":0.1},\"line_color\":{\"value\":\"#1f77b4\"},\"line_width\":{\"value\":2},\"x\":{\"field\":\"x\"},\"y\":{\"field\":\"y\"}},\"id\":\"f4a75c9c-76c0-42ad-9513-27e4d6510d46\",\"type\":\"Line\"},{\"attributes\":{\"formatter\":{\"id\":\"5d2f0588-66ac-4e69-821b-2bc63f00308c\",\"type\":\"BasicTickFormatter\"},\"plot\":{\"id\":\"c92905e4-305f-4305-918d-1b1100f25c4f\",\"subtype\":\"Figure\",\"type\":\"Plot\"},\"ticker\":{\"id\":\"fce1f004-068d-4c66-8fd8-b2505d0e356b\",\"type\":\"BasicTicker\"}},\"id\":\"21b1173f-4f3a-428e-bc75-7b9f5d841fb5\",\"type\":\"LinearAxis\"}],\"root_ids\":[\"c92905e4-305f-4305-918d-1b1100f25c4f\"]},\"title\":\"Bokeh Application\",\"version\":\"0.12.10\"}};\n",
       "    var render_items = [{\"docid\":\"b2badc92-6a90-492c-96ab-da42d173b1cc\",\"elementid\":\"88595388-ec78-47ef-abbb-1ca063fa6370\",\"modelid\":\"c92905e4-305f-4305-918d-1b1100f25c4f\"}];\n",
       "\n",
       "    root.Bokeh.embed.embed_items(docs_json, render_items);\n",
       "  }\n",
       "\n",
       "  if (root.Bokeh !== undefined) {\n",
       "    embed_document(root);\n",
       "  } else {\n",
       "    var attempts = 0;\n",
       "    var timer = setInterval(function(root) {\n",
       "      if (root.Bokeh !== undefined) {\n",
       "        embed_document(root);\n",
       "        clearInterval(timer);\n",
       "      }\n",
       "      attempts++;\n",
       "      if (attempts > 100) {\n",
       "        console.log(\"Bokeh: ERROR: Unable to embed document because BokehJS library is missing\")\n",
       "        clearInterval(timer);\n",
       "      }\n",
       "    }, 10, root)\n",
       "  }\n",
       "})(window);"
      ],
      "application/vnd.bokehjs_exec.v0+json": ""
     },
     "metadata": {
      "application/vnd.bokehjs_exec.v0+json": {
       "id": "c92905e4-305f-4305-918d-1b1100f25c4f"
      }
     },
     "output_type": "display_data"
    }
   ],
   "source": [
    "\n",
    "x = np.linspace(-2, 2, 100)\n",
    "yn2 = np.exp(-2*x)\n",
    "yn1 = np.exp(-x)\n",
    "y1 = np.exp(x)\n",
    "y2 = np.exp(2*x)\n",
    "powers = figure(plot_width=400, plot_height=400)\n",
    "powers.line(x,yn2,color='red',alpha=.5,line_width=2,legend='y=exp(-2x)')\n",
    "powers.line(x,yn1,color='orange',alpha=.5,line_width=2,legend='y=exp(-x)')\n",
    "powers.line(x,y1,color='green',alpha=.5,line_width=2,legend='y=exp(x)')\n",
    "powers.line(x,y2,color='blue',alpha=.5,line_width=2,legend='y=exp(2x)')\n",
    "powers.legend.location = 'center'\n",
    "show(powers)"
   ]
  },
  {
   "cell_type": "code",
   "execution_count": 37,
   "metadata": {},
   "outputs": [
    {
     "data": {
      "text/html": [
       "\n",
       "<div class=\"bk-root\">\n",
       "    <div class=\"bk-plotdiv\" id=\"1f6dbd6b-bcad-4a5c-9ceb-54266a310fa9\"></div>\n",
       "</div>"
      ]
     },
     "metadata": {},
     "output_type": "display_data"
    },
    {
     "data": {
      "application/javascript": [
       "(function(root) {\n",
       "  function embed_document(root) {\n",
       "    var docs_json = {\"750577cb-cd62-4f84-b49a-fbbb81972a04\":{\"roots\":{\"references\":[{\"attributes\":{\"plot\":{\"id\":\"680938fc-01cf-4e7f-9d9b-80ce8572d1b5\",\"subtype\":\"Figure\",\"type\":\"Plot\"},\"ticker\":{\"id\":\"b9363b33-fb22-4da5-8791-a1bcae3e7eb2\",\"type\":\"BasicTicker\"}},\"id\":\"fc73d840-3664-4068-8fa6-1c2b6a6a168f\",\"type\":\"Grid\"},{\"attributes\":{},\"id\":\"bbe0121e-1316-4e82-a1c4-c359afb5b627\",\"type\":\"BasicTickFormatter\"},{\"attributes\":{\"callback\":null,\"column_names\":[\"x\",\"y\"],\"data\":{\"x\":{\"__ndarray__\":\"GC1EVPshCcBD1GGYAKAIwG97f9wFHgjAmiKdIAucB8DGybpkEBoHwPFw2KgVmAbAHRj27BoWBsBIvxMxIJQFwHRmMXUlEgXAnw1PuSqQBMDLtGz9Lw4EwPZbikE1jAPAIgOohToKA8BNqsXJP4gCwHhR4w1FBgLApPgAUkqEAcDQnx6WTwIBwPtGPNpUgADATdyzPLT8/7+kKu/Evvj+v/t4Kk3J9P2/Usdl1dPw/L+pFaFd3uz7vwBk3OXo6Pq/VrIXbvPk+b+tAFP2/eD4vwRPjn4I3fe/W53JBhPZ9r+y6wSPHdX1vwk6QBco0fS/YIh7nzLN87+31rYnPcnyvw4l8q9HxfG/ZHMtOFLB8L94g9GAuXrvvyQgSJHOcu2/1Ly+oeNq67+AWTWy+GLpvzD2q8INW+e/3JIi0yJT5b+ML5njN0vjvzjMD/RMQ+G/0NEMCcR23r8oC/op7mbav4hE50oYV9a/4H3Ua0JH0r+AboMZ2W7MvzDhXVstT8S/wKdwOgNfuL+AGkt8Vz+gv8AaS3xXP6A/4KdwOgNfuD9A4V1bLU/EP4BugxnZbsw/6H3Ua0JH0j+IROdKGFfWPzAL+inuZto/0NEMCcR23j88zA/0TEPhP4wvmeM3S+M/4JIi0yJT5T8w9qvCDVvnP4RZNbL4Yuk/1Ly+oeNq6z8oIEiRznLtP3iD0YC5eu8/aHMtOFLB8D8QJfKvR8XxP7jWtic9yfI/YIh7nzLN8z8MOkAXKNH0P7TrBI8d1fU/XJ3JBhPZ9j8ET45+CN33P7AAU/b94Pg/WLIXbvPk+T8AZNzl6Oj6P6gVoV3e7Ps/VMdl1dPw/D/8eCpNyfT9P6Qq78S++P4/UNyzPLT8/z/8RjzaVIAAQNCfHpZPAgFApPgAUkqEAUB6UeMNRQYCQE6qxck/iAJAIgOohToKA0D2W4pBNYwDQMy0bP0vDgRAoA1PuSqQBEB0ZjF1JRIFQEi/EzEglAVAHhj27BoWBkDycNioFZgGQMbJumQQGgdAnCKdIAucB0Bwe3/cBR4IQETUYZgAoAhAGC1EVPshCUA=\",\"dtype\":\"float64\",\"shape\":[100]},\"y\":{\"__ndarray__\":\"B1wUMyamobwbhrXMjDywv/SDAnguNMC/m6yggGI5yL+biNkBzxLQv94fIiFb+NO/+5MNU1HJ17+FQNqEwoHbvxlNPurYHd+/DVi7+O1M4b9GhZoMGvnivx4WPFK3keS//xc/lCAV5r+HGZN4xoHnv4pAIRwx1ui/l0FFlgER6r92zoZi8zDrvzKcHq/dNOy/FCzujrQb7b/C8a4NiuTtv/0jPCWPju6/3176khQZ778XHIGMi4PvvzTGy1KGze+/g6xao7j277/vOc8G+P7vv2Vmsvw75u+/70I4BJ6s77+/l/eBWVLvvwOssILL1+6/xVNiW3I97r+TIxAn7YPtv1EHwCL7q+y/qUxY6Hq267+QVimJaaTqv5aCD4nhdum/oSg6uxkv6L+158MBZM7mv9KHZvErVuW/8XixWvXH478lRkW6WiXiv2ETsJELcOC/8Kg+VZVT3b/YgWKM2KjZv/YLinSo49W/vI12/ecH0r/hKaSyIjPMv+HENsZjOcS/01NHxZdVuL+a23zJpD6gv9rbfMmkPqA/81NHxZdVuD/xxDbGYznEP+EppLIiM8w/xI12/ecH0j/2C4p0qOPVP9+BYozYqNk/8Kg+VZVT3T9kE7CRC3DgPyVGRbpaJeI/9HixWvXH4z/Sh2bxK1blP7jnwwFkzuY/oSg6uxkv6D+Ygg+J4XbpP5BWKYlppOo/rUxY6Hq26z9SB8Ai+6vsP5QjECftg+0/xVNiW3I97j8ErLCCy9fuP7+X94FZUu8/70I4BJ6s7z9lZrL8O+bvP+85zwb4/u8/g6xao7j27z80xstShs3vPxgcgYyLg+8/3l76khQZ7z/9Izwlj47uP8Lxrg2K5O0/ESzujrQb7T8wnB6v3TTsP3bOhmLzMOs/l0FFlgER6j+FQCEcMdboP4QZk3jGgec//xc/lCAV5j8eFjxSt5HkP0OFmgwa+eI/Cli7+O1M4T8ZTT7q2B3fP4VA2oTCgds/85MNU1HJ1z/XHyIhW/jTP5uI2QHPEtA/fKyggGI5yD/kgwJ4LjTAP/uFtcyMPLA/B1wUMyamoTw=\",\"dtype\":\"float64\",\"shape\":[100]}}},\"id\":\"8d88e3ef-1fb9-49d4-8b2f-819b391a1851\",\"type\":\"ColumnDataSource\"},{\"attributes\":{\"line_alpha\":{\"value\":0.1},\"line_color\":{\"value\":\"#1f77b4\"},\"line_width\":{\"value\":2},\"x\":{\"field\":\"x\"},\"y\":{\"field\":\"y\"}},\"id\":\"83c8bb71-51aa-4522-851a-d35e80b0fff8\",\"type\":\"Line\"},{\"attributes\":{\"formatter\":{\"id\":\"bbe0121e-1316-4e82-a1c4-c359afb5b627\",\"type\":\"BasicTickFormatter\"},\"plot\":{\"id\":\"680938fc-01cf-4e7f-9d9b-80ce8572d1b5\",\"subtype\":\"Figure\",\"type\":\"Plot\"},\"ticker\":{\"id\":\"92b25a00-573d-4649-92d2-50c9bfe2152c\",\"type\":\"BasicTicker\"}},\"id\":\"60bf37d8-7609-4aef-bfca-864895d7e7ee\",\"type\":\"LinearAxis\"},{\"attributes\":{},\"id\":\"81fc03b6-19b6-41f5-977a-751503803ace\",\"type\":\"LinearScale\"},{\"attributes\":{\"line_alpha\":{\"value\":0.5},\"line_color\":{\"value\":\"red\"},\"line_width\":{\"value\":2},\"x\":{\"field\":\"x\"},\"y\":{\"field\":\"y\"}},\"id\":\"52f69fdb-f13c-4426-8c62-db5384af16b3\",\"type\":\"Line\"},{\"attributes\":{\"below\":[{\"id\":\"7b4ee00e-82e8-44a6-9814-566d07ac77e4\",\"type\":\"LinearAxis\"}],\"left\":[{\"id\":\"60bf37d8-7609-4aef-bfca-864895d7e7ee\",\"type\":\"LinearAxis\"}],\"plot_height\":400,\"plot_width\":400,\"renderers\":[{\"id\":\"7b4ee00e-82e8-44a6-9814-566d07ac77e4\",\"type\":\"LinearAxis\"},{\"id\":\"fc73d840-3664-4068-8fa6-1c2b6a6a168f\",\"type\":\"Grid\"},{\"id\":\"60bf37d8-7609-4aef-bfca-864895d7e7ee\",\"type\":\"LinearAxis\"},{\"id\":\"058ff805-820f-4747-8b28-3546dbf81e31\",\"type\":\"Grid\"},{\"id\":\"56fc4b62-e65f-4cf9-bb88-8b4743545e9d\",\"type\":\"BoxAnnotation\"},{\"id\":\"2bb699df-cf99-4441-a125-bff548798439\",\"type\":\"Legend\"},{\"id\":\"92bda118-1761-4ad5-8898-253f64658de8\",\"type\":\"GlyphRenderer\"},{\"id\":\"12eb82d7-1c7e-47c4-b795-e81c5caa42b1\",\"type\":\"GlyphRenderer\"}],\"title\":{\"id\":\"4146c03d-24b7-4e28-b235-f27fd99d034b\",\"type\":\"Title\"},\"toolbar\":{\"id\":\"156b5db5-1b66-4d30-91ac-051663f3ec2e\",\"type\":\"Toolbar\"},\"x_range\":{\"id\":\"94c9f7a4-5dc8-4c6b-9cce-b0b0e3c0d9cd\",\"type\":\"DataRange1d\"},\"x_scale\":{\"id\":\"81fc03b6-19b6-41f5-977a-751503803ace\",\"type\":\"LinearScale\"},\"y_range\":{\"id\":\"3499c835-2587-45e5-a772-3d1007498ec2\",\"type\":\"DataRange1d\"},\"y_scale\":{\"id\":\"eca0288c-12ab-43d6-8fb9-b4758e3d4e7a\",\"type\":\"LinearScale\"}},\"id\":\"680938fc-01cf-4e7f-9d9b-80ce8572d1b5\",\"subtype\":\"Figure\",\"type\":\"Plot\"},{\"attributes\":{},\"id\":\"f5607ea9-54db-46c9-8cfa-8c0c566794b0\",\"type\":\"WheelZoomTool\"},{\"attributes\":{},\"id\":\"b9363b33-fb22-4da5-8791-a1bcae3e7eb2\",\"type\":\"BasicTicker\"},{\"attributes\":{\"data_source\":{\"id\":\"8d88e3ef-1fb9-49d4-8b2f-819b391a1851\",\"type\":\"ColumnDataSource\"},\"glyph\":{\"id\":\"52f69fdb-f13c-4426-8c62-db5384af16b3\",\"type\":\"Line\"},\"hover_glyph\":null,\"muted_glyph\":null,\"nonselection_glyph\":{\"id\":\"83c8bb71-51aa-4522-851a-d35e80b0fff8\",\"type\":\"Line\"},\"selection_glyph\":null,\"view\":{\"id\":\"8e7a865c-2a13-4eac-b01e-c9b89fa8be97\",\"type\":\"CDSView\"}},\"id\":\"92bda118-1761-4ad5-8898-253f64658de8\",\"type\":\"GlyphRenderer\"},{\"attributes\":{},\"id\":\"d61121b0-a1f6-473d-bcf3-c4b409504bc6\",\"type\":\"BasicTickFormatter\"},{\"attributes\":{\"bottom_units\":\"screen\",\"fill_alpha\":{\"value\":0.5},\"fill_color\":{\"value\":\"lightgrey\"},\"left_units\":\"screen\",\"level\":\"overlay\",\"line_alpha\":{\"value\":1.0},\"line_color\":{\"value\":\"black\"},\"line_dash\":[4,4],\"line_width\":{\"value\":2},\"plot\":null,\"render_mode\":\"css\",\"right_units\":\"screen\",\"top_units\":\"screen\"},\"id\":\"56fc4b62-e65f-4cf9-bb88-8b4743545e9d\",\"type\":\"BoxAnnotation\"},{\"attributes\":{\"plot\":null,\"text\":\"\"},\"id\":\"4146c03d-24b7-4e28-b235-f27fd99d034b\",\"type\":\"Title\"},{\"attributes\":{\"source\":{\"id\":\"8d88e3ef-1fb9-49d4-8b2f-819b391a1851\",\"type\":\"ColumnDataSource\"}},\"id\":\"8e7a865c-2a13-4eac-b01e-c9b89fa8be97\",\"type\":\"CDSView\"},{\"attributes\":{\"formatter\":{\"id\":\"d61121b0-a1f6-473d-bcf3-c4b409504bc6\",\"type\":\"BasicTickFormatter\"},\"plot\":{\"id\":\"680938fc-01cf-4e7f-9d9b-80ce8572d1b5\",\"subtype\":\"Figure\",\"type\":\"Plot\"},\"ticker\":{\"id\":\"b9363b33-fb22-4da5-8791-a1bcae3e7eb2\",\"type\":\"BasicTicker\"}},\"id\":\"7b4ee00e-82e8-44a6-9814-566d07ac77e4\",\"type\":\"LinearAxis\"},{\"attributes\":{},\"id\":\"2dc4e55d-4198-45b0-94c0-3f6190eed6cc\",\"type\":\"HelpTool\"},{\"attributes\":{},\"id\":\"92b25a00-573d-4649-92d2-50c9bfe2152c\",\"type\":\"BasicTicker\"},{\"attributes\":{},\"id\":\"fd81072e-72dd-4f36-9b68-1d80121497f6\",\"type\":\"SaveTool\"},{\"attributes\":{\"label\":{\"value\":\"y=sin(x)\"},\"renderers\":[{\"id\":\"92bda118-1761-4ad5-8898-253f64658de8\",\"type\":\"GlyphRenderer\"}]},\"id\":\"eac4c52e-77ef-4eab-8eb8-e25947e7b742\",\"type\":\"LegendItem\"},{\"attributes\":{\"callback\":null},\"id\":\"94c9f7a4-5dc8-4c6b-9cce-b0b0e3c0d9cd\",\"type\":\"DataRange1d\"},{\"attributes\":{},\"id\":\"eca0288c-12ab-43d6-8fb9-b4758e3d4e7a\",\"type\":\"LinearScale\"},{\"attributes\":{\"dimension\":1,\"plot\":{\"id\":\"680938fc-01cf-4e7f-9d9b-80ce8572d1b5\",\"subtype\":\"Figure\",\"type\":\"Plot\"},\"ticker\":{\"id\":\"92b25a00-573d-4649-92d2-50c9bfe2152c\",\"type\":\"BasicTicker\"}},\"id\":\"058ff805-820f-4747-8b28-3546dbf81e31\",\"type\":\"Grid\"},{\"attributes\":{\"line_alpha\":{\"value\":0.5},\"line_color\":{\"value\":\"orange\"},\"line_width\":{\"value\":2},\"x\":{\"field\":\"x\"},\"y\":{\"field\":\"y\"}},\"id\":\"6727d8df-e3e5-4409-bded-3b4200932f89\",\"type\":\"Line\"},{\"attributes\":{\"overlay\":{\"id\":\"56fc4b62-e65f-4cf9-bb88-8b4743545e9d\",\"type\":\"BoxAnnotation\"}},\"id\":\"74b14871-d859-4c68-bfc1-bcce4ef22c79\",\"type\":\"BoxZoomTool\"},{\"attributes\":{\"callback\":null},\"id\":\"3499c835-2587-45e5-a772-3d1007498ec2\",\"type\":\"DataRange1d\"},{\"attributes\":{\"callback\":null,\"column_names\":[\"x\",\"y\"],\"data\":{\"x\":{\"__ndarray__\":\"GC1EVPshCcBD1GGYAKAIwG97f9wFHgjAmiKdIAucB8DGybpkEBoHwPFw2KgVmAbAHRj27BoWBsBIvxMxIJQFwHRmMXUlEgXAnw1PuSqQBMDLtGz9Lw4EwPZbikE1jAPAIgOohToKA8BNqsXJP4gCwHhR4w1FBgLApPgAUkqEAcDQnx6WTwIBwPtGPNpUgADATdyzPLT8/7+kKu/Evvj+v/t4Kk3J9P2/Usdl1dPw/L+pFaFd3uz7vwBk3OXo6Pq/VrIXbvPk+b+tAFP2/eD4vwRPjn4I3fe/W53JBhPZ9r+y6wSPHdX1vwk6QBco0fS/YIh7nzLN87+31rYnPcnyvw4l8q9HxfG/ZHMtOFLB8L94g9GAuXrvvyQgSJHOcu2/1Ly+oeNq67+AWTWy+GLpvzD2q8INW+e/3JIi0yJT5b+ML5njN0vjvzjMD/RMQ+G/0NEMCcR23r8oC/op7mbav4hE50oYV9a/4H3Ua0JH0r+AboMZ2W7MvzDhXVstT8S/wKdwOgNfuL+AGkt8Vz+gv8AaS3xXP6A/4KdwOgNfuD9A4V1bLU/EP4BugxnZbsw/6H3Ua0JH0j+IROdKGFfWPzAL+inuZto/0NEMCcR23j88zA/0TEPhP4wvmeM3S+M/4JIi0yJT5T8w9qvCDVvnP4RZNbL4Yuk/1Ly+oeNq6z8oIEiRznLtP3iD0YC5eu8/aHMtOFLB8D8QJfKvR8XxP7jWtic9yfI/YIh7nzLN8z8MOkAXKNH0P7TrBI8d1fU/XJ3JBhPZ9j8ET45+CN33P7AAU/b94Pg/WLIXbvPk+T8AZNzl6Oj6P6gVoV3e7Ps/VMdl1dPw/D/8eCpNyfT9P6Qq78S++P4/UNyzPLT8/z/8RjzaVIAAQNCfHpZPAgFApPgAUkqEAUB6UeMNRQYCQE6qxck/iAJAIgOohToKA0D2W4pBNYwDQMy0bP0vDgRAoA1PuSqQBEB0ZjF1JRIFQEi/EzEglAVAHhj27BoWBkDycNioFZgGQMbJumQQGgdAnCKdIAucB0Bwe3/cBR4IQETUYZgAoAhAGC1EVPshCUA=\",\"dtype\":\"float64\",\"shape\":[100]},\"y\":{\"__ndarray__\":\"AAAAAAAA8L+USynBge/vv2j6BgUYvu+/JOk3u/Vr778jfxaOb/nuv/BJcov7Zu6/XLHeqjC17b99NRQyxuTsv1+hBPiS9uu/ufBkh4zr6r9WMpEhxsTpvzhQz6Jvg+i/tTkVSdQo57+VUJVeWbblvz0Tccl8LeS/AqsNgtOP4r9dLKDxB9/gv1S1P3WwOd6/tBLH2SiW2r+IU4hOOdfWv1lDY1G+ANO/iFrgSlktzr+Icwt+GjrGvxrsuGvkX7y/YiCwKKhcqL/x+ijPKj+QPxXJ6KS5SbQ/4kQPZF83wj9T3qvaGjfKP5WAwi7oDdE/PyGBd67u1D85i/Tn4LnYP43JmF6Wa9w/AwAAAAAA4D/Q5tyRtrnhP8+0DJEnYeM/h1h3f5705D/cPrV2e3LmP15Sx9Q02ec/J+Da0Vgn6T9eHHf9jlvqP4tZi6GZdOs/wvLvCVdx7D/aTwivwlDtPxstUkL2Ee4/WFDNmyq07j9D8kaHuDbvPwU9tXAZme8/XjTx7ufa7z8HB0As4PvvPwcHQCzg++8/XjTx7ufa7z8EPbVwGZnvP0PyRoe4Nu8/V1DNmyq07j8bLVJC9hHuP9hPCK/CUO0/wvLvCVdx7D+JWYuhmXTrP14cd/2OW+o/JeDa0Vgn6T9eUsfUNNnnP9k+tXZ7cuY/h1h3f5705D/MtAyRJ2HjP9Dm3JG2ueE/9///////3z+GyZhelmvcPzWL9Ofgudg/PyGBd67u1D+KgMIu6A3RP0Teq9oaN8o/2kQPZF83wj8VyeikuUm0PzH6KM8qP5A/oSCwKKhcqL8a7Lhr5F+8v4BzC34aOsa/mFrgSlktzr9dQ2NRvgDTv4hTiE4519a/vxLH2SiW2r9btT91sDnev10soPEH3+C/AqsNgtOP4r9DE3HJfC3kv5hQlV5ZtuW/tTkVSdQo5784UM+ib4Pov1gykSHGxOm/u/Bkh4zr6r9foQT4kvbrv301FDLG5Oy/XrHeqjC17b/xSXKL+2buvyN/Fo5v+e6/Juk3u/Vr779o+gYFGL7vv5VLKcGB7++/AAAAAAAA8L8=\",\"dtype\":\"float64\",\"shape\":[100]}}},\"id\":\"d0b3ed36-f8c9-48d6-bdfb-556e5b6fd85a\",\"type\":\"ColumnDataSource\"},{\"attributes\":{\"label\":{\"value\":\"y=cos(x)\"},\"renderers\":[{\"id\":\"12eb82d7-1c7e-47c4-b795-e81c5caa42b1\",\"type\":\"GlyphRenderer\"}]},\"id\":\"5f4e660b-388a-4373-934a-2268382e344b\",\"type\":\"LegendItem\"},{\"attributes\":{},\"id\":\"85d63453-b3b2-485e-a676-f55cabbe91a3\",\"type\":\"PanTool\"},{\"attributes\":{\"active_drag\":\"auto\",\"active_inspect\":\"auto\",\"active_scroll\":\"auto\",\"active_tap\":\"auto\",\"tools\":[{\"id\":\"85d63453-b3b2-485e-a676-f55cabbe91a3\",\"type\":\"PanTool\"},{\"id\":\"f5607ea9-54db-46c9-8cfa-8c0c566794b0\",\"type\":\"WheelZoomTool\"},{\"id\":\"74b14871-d859-4c68-bfc1-bcce4ef22c79\",\"type\":\"BoxZoomTool\"},{\"id\":\"fd81072e-72dd-4f36-9b68-1d80121497f6\",\"type\":\"SaveTool\"},{\"id\":\"4515a079-7e32-4cea-8905-684a3d3ce590\",\"type\":\"ResetTool\"},{\"id\":\"2dc4e55d-4198-45b0-94c0-3f6190eed6cc\",\"type\":\"HelpTool\"}]},\"id\":\"156b5db5-1b66-4d30-91ac-051663f3ec2e\",\"type\":\"Toolbar\"},{\"attributes\":{\"line_alpha\":{\"value\":0.1},\"line_color\":{\"value\":\"#1f77b4\"},\"line_width\":{\"value\":2},\"x\":{\"field\":\"x\"},\"y\":{\"field\":\"y\"}},\"id\":\"17c379e8-064f-4932-819e-746b006a802f\",\"type\":\"Line\"},{\"attributes\":{\"items\":[{\"id\":\"eac4c52e-77ef-4eab-8eb8-e25947e7b742\",\"type\":\"LegendItem\"},{\"id\":\"5f4e660b-388a-4373-934a-2268382e344b\",\"type\":\"LegendItem\"}],\"location\":\"top_left\",\"plot\":{\"id\":\"680938fc-01cf-4e7f-9d9b-80ce8572d1b5\",\"subtype\":\"Figure\",\"type\":\"Plot\"}},\"id\":\"2bb699df-cf99-4441-a125-bff548798439\",\"type\":\"Legend\"},{\"attributes\":{},\"id\":\"4515a079-7e32-4cea-8905-684a3d3ce590\",\"type\":\"ResetTool\"},{\"attributes\":{\"data_source\":{\"id\":\"d0b3ed36-f8c9-48d6-bdfb-556e5b6fd85a\",\"type\":\"ColumnDataSource\"},\"glyph\":{\"id\":\"6727d8df-e3e5-4409-bded-3b4200932f89\",\"type\":\"Line\"},\"hover_glyph\":null,\"muted_glyph\":null,\"nonselection_glyph\":{\"id\":\"17c379e8-064f-4932-819e-746b006a802f\",\"type\":\"Line\"},\"selection_glyph\":null,\"view\":{\"id\":\"2bc71730-e5fe-457e-a381-b929cd3e87f6\",\"type\":\"CDSView\"}},\"id\":\"12eb82d7-1c7e-47c4-b795-e81c5caa42b1\",\"type\":\"GlyphRenderer\"},{\"attributes\":{\"source\":{\"id\":\"d0b3ed36-f8c9-48d6-bdfb-556e5b6fd85a\",\"type\":\"ColumnDataSource\"}},\"id\":\"2bc71730-e5fe-457e-a381-b929cd3e87f6\",\"type\":\"CDSView\"}],\"root_ids\":[\"680938fc-01cf-4e7f-9d9b-80ce8572d1b5\"]},\"title\":\"Bokeh Application\",\"version\":\"0.12.10\"}};\n",
       "    var render_items = [{\"docid\":\"750577cb-cd62-4f84-b49a-fbbb81972a04\",\"elementid\":\"1f6dbd6b-bcad-4a5c-9ceb-54266a310fa9\",\"modelid\":\"680938fc-01cf-4e7f-9d9b-80ce8572d1b5\"}];\n",
       "\n",
       "    root.Bokeh.embed.embed_items(docs_json, render_items);\n",
       "  }\n",
       "\n",
       "  if (root.Bokeh !== undefined) {\n",
       "    embed_document(root);\n",
       "  } else {\n",
       "    var attempts = 0;\n",
       "    var timer = setInterval(function(root) {\n",
       "      if (root.Bokeh !== undefined) {\n",
       "        embed_document(root);\n",
       "        clearInterval(timer);\n",
       "      }\n",
       "      attempts++;\n",
       "      if (attempts > 100) {\n",
       "        console.log(\"Bokeh: ERROR: Unable to embed document because BokehJS library is missing\")\n",
       "        clearInterval(timer);\n",
       "      }\n",
       "    }, 10, root)\n",
       "  }\n",
       "})(window);"
      ],
      "application/vnd.bokehjs_exec.v0+json": ""
     },
     "metadata": {
      "application/vnd.bokehjs_exec.v0+json": {
       "id": "680938fc-01cf-4e7f-9d9b-80ce8572d1b5"
      }
     },
     "output_type": "display_data"
    }
   ],
   "source": [
    "x = np.linspace(-np.pi, np.pi, 100)\n",
    "y1 = np.sin(x)\n",
    "y2 = np.cos(x)\n",
    "powers = figure(plot_width=400, plot_height=400)\n",
    "powers.line(x,y1,color='red',alpha=.5,line_width=2,legend='y=sin(x)')\n",
    "powers.line(x,y2,color='orange',alpha=.5,line_width=2,legend='y=cos(x)')\n",
    "powers.legend.location = 'top_left'\n",
    "show(powers)"
   ]
  },
  {
   "cell_type": "code",
   "execution_count": 41,
   "metadata": {},
   "outputs": [
    {
     "data": {
      "text/html": [
       "\n",
       "<div class=\"bk-root\">\n",
       "    <div class=\"bk-plotdiv\" id=\"10ea2d2c-306a-457e-bb52-d6606e8f9653\"></div>\n",
       "</div>"
      ]
     },
     "metadata": {},
     "output_type": "display_data"
    },
    {
     "data": {
      "application/javascript": [
       "(function(root) {\n",
       "  function embed_document(root) {\n",
       "    var docs_json = {\"4d7734ae-a61e-464f-8183-ed83c7063d76\":{\"roots\":{\"references\":[{\"attributes\":{},\"id\":\"ebc2d013-2e59-46c1-a543-004d323843e1\",\"type\":\"HelpTool\"},{\"attributes\":{\"formatter\":{\"id\":\"6a41100e-86bd-4b24-a86a-ab849989a827\",\"type\":\"BasicTickFormatter\"},\"plot\":{\"id\":\"16a08d5b-f15f-4b86-8aed-7fe0077136da\",\"subtype\":\"Figure\",\"type\":\"Plot\"},\"ticker\":{\"id\":\"3e45c069-9024-403b-90a6-f198d07698e1\",\"type\":\"BasicTicker\"}},\"id\":\"ce20aa42-700d-4fd3-8e74-45ac5112e71c\",\"type\":\"LinearAxis\"},{\"attributes\":{},\"id\":\"f0e923d9-d023-413f-b240-89813cfc799d\",\"type\":\"LinearScale\"},{\"attributes\":{\"plot\":null,\"text\":\"\"},\"id\":\"a365ae61-1008-423b-8e64-1acf20b0b3b4\",\"type\":\"Title\"},{\"attributes\":{\"data_source\":{\"id\":\"4d1cd524-8bbb-4978-889d-f4d8da5226f1\",\"type\":\"ColumnDataSource\"},\"glyph\":{\"id\":\"b16ffc0c-52ee-43dc-ad23-52f2279a8be9\",\"type\":\"Line\"},\"hover_glyph\":null,\"muted_glyph\":null,\"nonselection_glyph\":{\"id\":\"3f366732-c623-422a-a8b2-ff2758cda0b8\",\"type\":\"Line\"},\"selection_glyph\":null,\"view\":{\"id\":\"d81c965e-17ab-4ef6-a1c5-13df7a711aef\",\"type\":\"CDSView\"}},\"id\":\"2d671267-bc30-418f-a21d-8add342803d3\",\"type\":\"GlyphRenderer\"},{\"attributes\":{\"plot\":{\"id\":\"16a08d5b-f15f-4b86-8aed-7fe0077136da\",\"subtype\":\"Figure\",\"type\":\"Plot\"},\"ticker\":{\"id\":\"3e45c069-9024-403b-90a6-f198d07698e1\",\"type\":\"BasicTicker\"}},\"id\":\"a7005272-87a3-45de-a2a5-3a4bce268a44\",\"type\":\"Grid\"},{\"attributes\":{},\"id\":\"a3639bca-7d6a-4844-b697-4aa600e7ae0f\",\"type\":\"BasicTickFormatter\"},{\"attributes\":{},\"id\":\"3e45c069-9024-403b-90a6-f198d07698e1\",\"type\":\"BasicTicker\"},{\"attributes\":{\"formatter\":{\"id\":\"a3639bca-7d6a-4844-b697-4aa600e7ae0f\",\"type\":\"BasicTickFormatter\"},\"plot\":{\"id\":\"16a08d5b-f15f-4b86-8aed-7fe0077136da\",\"subtype\":\"Figure\",\"type\":\"Plot\"},\"ticker\":{\"id\":\"0d173be1-7507-45aa-8365-aa063fef2da0\",\"type\":\"BasicTicker\"}},\"id\":\"cfe3dee8-d120-4acf-a520-2eac05e596bc\",\"type\":\"LinearAxis\"},{\"attributes\":{},\"id\":\"0d173be1-7507-45aa-8365-aa063fef2da0\",\"type\":\"BasicTicker\"},{\"attributes\":{\"items\":[{\"id\":\"b8ba06ab-febe-40dd-ac41-f562ac2ec204\",\"type\":\"LegendItem\"}],\"location\":\"top_left\",\"plot\":{\"id\":\"16a08d5b-f15f-4b86-8aed-7fe0077136da\",\"subtype\":\"Figure\",\"type\":\"Plot\"}},\"id\":\"78b4a8bd-3733-42e7-a2fc-0d1ef52b727e\",\"type\":\"Legend\"},{\"attributes\":{\"dimension\":1,\"plot\":{\"id\":\"16a08d5b-f15f-4b86-8aed-7fe0077136da\",\"subtype\":\"Figure\",\"type\":\"Plot\"},\"ticker\":{\"id\":\"0d173be1-7507-45aa-8365-aa063fef2da0\",\"type\":\"BasicTicker\"}},\"id\":\"45f14630-ecb0-4b86-8354-2ef3fec939a9\",\"type\":\"Grid\"},{\"attributes\":{\"source\":{\"id\":\"4d1cd524-8bbb-4978-889d-f4d8da5226f1\",\"type\":\"ColumnDataSource\"}},\"id\":\"d81c965e-17ab-4ef6-a1c5-13df7a711aef\",\"type\":\"CDSView\"},{\"attributes\":{\"callback\":null},\"id\":\"50aeae8e-6607-476d-b6a2-80d777df9837\",\"type\":\"DataRange1d\"},{\"attributes\":{\"label\":{\"value\":\"The Gaussian\"},\"renderers\":[{\"id\":\"2d671267-bc30-418f-a21d-8add342803d3\",\"type\":\"GlyphRenderer\"}]},\"id\":\"b8ba06ab-febe-40dd-ac41-f562ac2ec204\",\"type\":\"LegendItem\"},{\"attributes\":{\"line_alpha\":{\"value\":0.1},\"line_color\":{\"value\":\"#1f77b4\"},\"line_width\":{\"value\":2},\"x\":{\"field\":\"x\"},\"y\":{\"field\":\"y\"}},\"id\":\"3f366732-c623-422a-a8b2-ff2758cda0b8\",\"type\":\"Line\"},{\"attributes\":{\"active_drag\":\"auto\",\"active_inspect\":\"auto\",\"active_scroll\":\"auto\",\"active_tap\":\"auto\",\"tools\":[{\"id\":\"2ed3456d-6f36-4812-afca-41a94523901d\",\"type\":\"PanTool\"},{\"id\":\"19e57ae8-8b9a-40dd-aa18-497a9526accb\",\"type\":\"WheelZoomTool\"},{\"id\":\"317ea2d0-eabb-49e1-aef9-08d6835da44e\",\"type\":\"BoxZoomTool\"},{\"id\":\"421c8e3f-39be-4418-8930-97f359320939\",\"type\":\"SaveTool\"},{\"id\":\"46e95ba0-5afd-45ee-8c5b-7ab912afa4ae\",\"type\":\"ResetTool\"},{\"id\":\"ebc2d013-2e59-46c1-a543-004d323843e1\",\"type\":\"HelpTool\"}]},\"id\":\"d7ee463a-9b36-4d38-a9c3-61d3c6b6b7a7\",\"type\":\"Toolbar\"},{\"attributes\":{\"callback\":null,\"column_names\":[\"x\",\"y\"],\"data\":{\"x\":{\"__ndarray__\":\"AAAAAAAAFMBDYt7OkJgTwIbEvJ0hMRPAyiabbLLJEsANiXk7Q2ISwFDrVwrU+hHAk0022WSTEcDXrxSo9SsRwBoS83aGxBDAXXTRRRddEMBArV8pUOsPwMdxHMdxHA/ATjbZZJNNDsDU+pUCtX4NwFq/UqDWrwzA4YMPPvjgC8BoSMzbGRILwO4MiXk7QwrAdNFFF110CcD7lQK1fqUIwIFav1Kg1gfACB988MEHB8CO4ziO4zgGwBWo9SsFagXAm2yyySabBMAiMW9nSMwDwKj1KwVq/QLAL7rooosuAsC1fqVArV8BwDxDYt7OkADAhA8++OCD/7+SmLczJOb9v54hMW9nSPy/qqqqqqqq+r+4MyTm7Qz5v8S8nSExb/e/0kUXXXTR9b/ezpCYtzP0v+xXCtT6lfK/+OCDDz748L8I1PqVArXuvyjm7QyJeeu/QPjggw8+6L9YCtT6lQLlv3Acx3Ecx+G/IF100UUX3b9QgVq/UqDWv4ClQK1fKdC/YJNNNtlkw78Ab2dIzNupvwBvZ0jM26k/YJNNNtlkwz+ApUCtXynQP1CBWr9SoNY/EF100UUX3T9wHMdxHMfhP1gK1PqVAuU/QPjggw8+6D8g5u0MiXnrPwjU+pUCte4/+OCDDz748D/sVwrU+pXyP9zOkJi3M/Q/0EUXXXTR9T/EvJ0hMW/3P7gzJObtDPk/rKqqqqqq+j+cITFvZ0j8P5CYtzMk5v0/hA8++OCD/z88Q2LezpAAQLR+pUCtXwFALrrooosuAkCo9SsFav0CQCIxb2dIzANAmmyyySabBEAUqPUrBWoFQI7jOI7jOAZACB988MEHB0CAWr9SoNYHQPyVArV+pQhAdNFFF110CUDsDIl5O0MKQGhIzNsZEgtA4IMPPvjgC0Bcv1Kg1q8MQNT6lQK1fg1ATDbZZJNNDkDIcRzHcRwPQECtXylQ6w9AXHTRRRddEEAaEvN2hsQQQNavFKj1KxFAlE022WSTEUBQ61cK1PoRQAyJeTtDYhJAyiabbLLJEkCGxLydITETQERi3s6QmBNAAAAAAAAAFEA=\",\"dtype\":\"float64\",\"shape\":[100]},\"y\":{\"__ndarray__\":\"QP3IZGnxuD5mQv0OnY/EPhP0Wn7ZxtA+YD/55J8Z2z5RAZy7aqrlPqJj5lYtJfE+/B0dskPc+j72Vd0kpNMEP72hSBsM+A8//l5LQXpJGD8NgToig0MiP4GaHq+KMCs/OjRdV5AIND9gvSHJyTg9P9yx8E2MGEU/cX588mUmTj+u3Y4riFNVP90vl5wW3V0/BayxF3KyZD9nFNyvpWVsP4kM0/V5SHM/gSSN/DPseT+aCYg5Tz+BP7gVHYKxt4Y/cb+ddHiejT9UownF0ByTPy8B3RBfapg/6+oJV4rfnj/hPnsFQVKjPzu8LbEo8Kc/Y2yoMWhbrT9dmfekkNGxP4cY5jUuabU/pIPQcVV3uT/IrPw8Z/u9P9Eu6aBfeME/vITmLhknxD9PIq4x2wLHP4S+LeEfAso/AD4mx+8YzT/9CFVBihzQP27Ya1Q4qdE/uh0Vwr0p0z/C2VBS7pTUP/+qjDeQ4dU/zh7WMr4G1z9iTTwATPzXP+aWHOsmu9g/AIV8V6w92T94qPh88H/ZP3io+Hzwf9k/AIV8V6w92T/mlhzrJrvYP2JNPABM/Nc/0B7WMr4G1z//qow3kOHVP8LZUFLulNQ/uh0Vwr0p0z9x2GtUOKnRP/0IVUGKHNA/AD4mx+8YzT+Evi3hHwLKP1MirjHbAsc/v4TmLhknxD/RLumgX3jBP8is/Dxn+70/n4PQcVV3uT+LGOY1Lmm1P2GZ96SQ0bE/Y2yoMWhbrT87vC2xKPCnP+Y+ewVBUqM/9uoJV4rfnj8vAd0QX2qYP1SjCcXQHJM/fb+ddHiejT/AFR2CsbeGP5oJiDlPP4E/gSSN/DPseT+NDNP1eUhzP1kU3K+lZWw/BayxF3KyZD/0L5ecFt1dP67djiuIU1U/f3588mUmTj/GsfBNjBhFP2C9IcnJOD0/TjRdV5AIND9ymh6vijArPw2BOiKDQyI/Fl9LQXpJGD+9oUgbDPgPPwpW3SSk0wQ/1B0dskPc+j6iY+ZWLSXxPmcBnLtqquU+YD/55J8Z2z4T9Fp+2cbQPlFC/Q6dj8Q+QP3IZGnxuD4=\",\"dtype\":\"float64\",\"shape\":[100]}}},\"id\":\"4d1cd524-8bbb-4978-889d-f4d8da5226f1\",\"type\":\"ColumnDataSource\"},{\"attributes\":{\"bottom_units\":\"screen\",\"fill_alpha\":{\"value\":0.5},\"fill_color\":{\"value\":\"lightgrey\"},\"left_units\":\"screen\",\"level\":\"overlay\",\"line_alpha\":{\"value\":1.0},\"line_color\":{\"value\":\"black\"},\"line_dash\":[4,4],\"line_width\":{\"value\":2},\"plot\":null,\"render_mode\":\"css\",\"right_units\":\"screen\",\"top_units\":\"screen\"},\"id\":\"279bccd7-5f24-4bc8-a59f-82e1236cf693\",\"type\":\"BoxAnnotation\"},{\"attributes\":{},\"id\":\"2ed3456d-6f36-4812-afca-41a94523901d\",\"type\":\"PanTool\"},{\"attributes\":{\"below\":[{\"id\":\"ce20aa42-700d-4fd3-8e74-45ac5112e71c\",\"type\":\"LinearAxis\"}],\"left\":[{\"id\":\"cfe3dee8-d120-4acf-a520-2eac05e596bc\",\"type\":\"LinearAxis\"}],\"plot_height\":400,\"plot_width\":400,\"renderers\":[{\"id\":\"ce20aa42-700d-4fd3-8e74-45ac5112e71c\",\"type\":\"LinearAxis\"},{\"id\":\"a7005272-87a3-45de-a2a5-3a4bce268a44\",\"type\":\"Grid\"},{\"id\":\"cfe3dee8-d120-4acf-a520-2eac05e596bc\",\"type\":\"LinearAxis\"},{\"id\":\"45f14630-ecb0-4b86-8354-2ef3fec939a9\",\"type\":\"Grid\"},{\"id\":\"279bccd7-5f24-4bc8-a59f-82e1236cf693\",\"type\":\"BoxAnnotation\"},{\"id\":\"78b4a8bd-3733-42e7-a2fc-0d1ef52b727e\",\"type\":\"Legend\"},{\"id\":\"2d671267-bc30-418f-a21d-8add342803d3\",\"type\":\"GlyphRenderer\"}],\"title\":{\"id\":\"a365ae61-1008-423b-8e64-1acf20b0b3b4\",\"type\":\"Title\"},\"toolbar\":{\"id\":\"d7ee463a-9b36-4d38-a9c3-61d3c6b6b7a7\",\"type\":\"Toolbar\"},\"x_range\":{\"id\":\"889fa4fa-ad4d-4b61-8c9d-24ca0e55767e\",\"type\":\"DataRange1d\"},\"x_scale\":{\"id\":\"f0e923d9-d023-413f-b240-89813cfc799d\",\"type\":\"LinearScale\"},\"y_range\":{\"id\":\"50aeae8e-6607-476d-b6a2-80d777df9837\",\"type\":\"DataRange1d\"},\"y_scale\":{\"id\":\"9262aaf6-2fbe-4f87-9b59-a70613c60a13\",\"type\":\"LinearScale\"}},\"id\":\"16a08d5b-f15f-4b86-8aed-7fe0077136da\",\"subtype\":\"Figure\",\"type\":\"Plot\"},{\"attributes\":{},\"id\":\"6a41100e-86bd-4b24-a86a-ab849989a827\",\"type\":\"BasicTickFormatter\"},{\"attributes\":{},\"id\":\"19e57ae8-8b9a-40dd-aa18-497a9526accb\",\"type\":\"WheelZoomTool\"},{\"attributes\":{\"callback\":null},\"id\":\"889fa4fa-ad4d-4b61-8c9d-24ca0e55767e\",\"type\":\"DataRange1d\"},{\"attributes\":{\"overlay\":{\"id\":\"279bccd7-5f24-4bc8-a59f-82e1236cf693\",\"type\":\"BoxAnnotation\"}},\"id\":\"317ea2d0-eabb-49e1-aef9-08d6835da44e\",\"type\":\"BoxZoomTool\"},{\"attributes\":{},\"id\":\"421c8e3f-39be-4418-8930-97f359320939\",\"type\":\"SaveTool\"},{\"attributes\":{},\"id\":\"46e95ba0-5afd-45ee-8c5b-7ab912afa4ae\",\"type\":\"ResetTool\"},{\"attributes\":{},\"id\":\"9262aaf6-2fbe-4f87-9b59-a70613c60a13\",\"type\":\"LinearScale\"},{\"attributes\":{\"line_alpha\":{\"value\":0.5},\"line_color\":{\"value\":\"red\"},\"line_width\":{\"value\":2},\"x\":{\"field\":\"x\"},\"y\":{\"field\":\"y\"}},\"id\":\"b16ffc0c-52ee-43dc-ad23-52f2279a8be9\",\"type\":\"Line\"}],\"root_ids\":[\"16a08d5b-f15f-4b86-8aed-7fe0077136da\"]},\"title\":\"Bokeh Application\",\"version\":\"0.12.10\"}};\n",
       "    var render_items = [{\"docid\":\"4d7734ae-a61e-464f-8183-ed83c7063d76\",\"elementid\":\"10ea2d2c-306a-457e-bb52-d6606e8f9653\",\"modelid\":\"16a08d5b-f15f-4b86-8aed-7fe0077136da\"}];\n",
       "\n",
       "    root.Bokeh.embed.embed_items(docs_json, render_items);\n",
       "  }\n",
       "\n",
       "  if (root.Bokeh !== undefined) {\n",
       "    embed_document(root);\n",
       "  } else {\n",
       "    var attempts = 0;\n",
       "    var timer = setInterval(function(root) {\n",
       "      if (root.Bokeh !== undefined) {\n",
       "        embed_document(root);\n",
       "        clearInterval(timer);\n",
       "      }\n",
       "      attempts++;\n",
       "      if (attempts > 100) {\n",
       "        console.log(\"Bokeh: ERROR: Unable to embed document because BokehJS library is missing\")\n",
       "        clearInterval(timer);\n",
       "      }\n",
       "    }, 10, root)\n",
       "  }\n",
       "})(window);"
      ],
      "application/vnd.bokehjs_exec.v0+json": ""
     },
     "metadata": {
      "application/vnd.bokehjs_exec.v0+json": {
       "id": "16a08d5b-f15f-4b86-8aed-7fe0077136da"
      }
     },
     "output_type": "display_data"
    }
   ],
   "source": [
    "x = np.linspace(-5, 5, 100)\n",
    "y = stats.norm.pdf(x)\n",
    "powers = figure(plot_width=400, plot_height=400)\n",
    "powers.line(x,y,color='red',alpha=.5,line_width=2,legend='The Gaussian')\n",
    "powers.legend.location = 'top_left'\n",
    "show(powers)"
   ]
  },
  {
   "cell_type": "code",
   "execution_count": 50,
   "metadata": {},
   "outputs": [
    {
     "data": {
      "text/html": [
       "\n",
       "<div class=\"bk-root\">\n",
       "    <div class=\"bk-plotdiv\" id=\"31acf00a-a106-4c24-9b99-99203d6c8820\"></div>\n",
       "</div>"
      ]
     },
     "metadata": {},
     "output_type": "display_data"
    },
    {
     "data": {
      "application/javascript": [
       "(function(root) {\n",
       "  function embed_document(root) {\n",
       "    var docs_json = {\"592a2a12-e833-450d-b615-e83be261c43b\":{\"roots\":{\"references\":[{\"attributes\":{\"items\":[{\"id\":\"5a72be77-411a-41b4-bff4-48b78cf67ea7\",\"type\":\"LegendItem\"},{\"id\":\"2fd0de5a-6a4c-4dc9-bacf-9f5fd3e841b3\",\"type\":\"LegendItem\"}],\"location\":\"top_left\",\"plot\":{\"id\":\"793b9b78-0950-430f-9c4c-410172b34510\",\"subtype\":\"Figure\",\"type\":\"Plot\"}},\"id\":\"88a5d133-d683-4639-9150-c2eca765aa3e\",\"type\":\"Legend\"},{\"attributes\":{\"formatter\":{\"id\":\"f9dbcbd9-335b-423f-8146-bcb80d569c41\",\"type\":\"BasicTickFormatter\"},\"plot\":{\"id\":\"793b9b78-0950-430f-9c4c-410172b34510\",\"subtype\":\"Figure\",\"type\":\"Plot\"},\"ticker\":{\"id\":\"486e0dac-5f9b-42df-99f4-f818af9812d2\",\"type\":\"BasicTicker\"}},\"id\":\"20899998-c809-4ded-a9ff-b15ef9e01b21\",\"type\":\"LinearAxis\"},{\"attributes\":{\"callback\":null},\"id\":\"6c0b9e71-8603-4178-8d93-d8ed1e5af203\",\"type\":\"DataRange1d\"},{\"attributes\":{\"source\":{\"id\":\"1b3fb813-b9b2-47c9-a86d-719c9ef9e3b2\",\"type\":\"ColumnDataSource\"}},\"id\":\"03d44f21-28f6-4725-bda2-a2052f525f10\",\"type\":\"CDSView\"},{\"attributes\":{\"label\":{\"value\":\"The Gaussian (density)\"},\"renderers\":[{\"id\":\"7c07ddfa-ad3e-4e4d-b597-a6fd090bc378\",\"type\":\"GlyphRenderer\"}]},\"id\":\"5a72be77-411a-41b4-bff4-48b78cf67ea7\",\"type\":\"LegendItem\"},{\"attributes\":{\"line_alpha\":{\"value\":0.1},\"line_color\":{\"value\":\"#1f77b4\"},\"line_width\":{\"value\":2},\"x\":{\"field\":\"x\"},\"y\":{\"field\":\"y\"}},\"id\":\"54cda47f-4739-48cf-a46d-4d0a5b4fd47a\",\"type\":\"Line\"},{\"attributes\":{\"overlay\":{\"id\":\"05d096b9-ed3c-4dd7-a854-e09dd15f753f\",\"type\":\"BoxAnnotation\"}},\"id\":\"277e0cd1-5e34-49d9-a78f-75f02a9fe954\",\"type\":\"BoxZoomTool\"},{\"attributes\":{},\"id\":\"28914d14-7795-43f8-966b-a4b83035492f\",\"type\":\"ResetTool\"},{\"attributes\":{\"line_alpha\":{\"value\":0.5},\"line_color\":{\"value\":\"red\"},\"line_width\":{\"value\":2},\"x\":{\"field\":\"x\"},\"y\":{\"field\":\"y\"}},\"id\":\"ecb487e4-645d-46fa-aef1-9cd0ac493f3f\",\"type\":\"Line\"},{\"attributes\":{},\"id\":\"899b5e6d-b042-4123-9fa2-059e3ff27954\",\"type\":\"WheelZoomTool\"},{\"attributes\":{\"callback\":null,\"column_names\":[\"x\",\"y\"],\"data\":{\"x\":{\"__ndarray__\":\"AAAAAAAAFMBDYt7OkJgTwIbEvJ0hMRPAyiabbLLJEsANiXk7Q2ISwFDrVwrU+hHAk0022WSTEcDXrxSo9SsRwBoS83aGxBDAXXTRRRddEMBArV8pUOsPwMdxHMdxHA/ATjbZZJNNDsDU+pUCtX4NwFq/UqDWrwzA4YMPPvjgC8BoSMzbGRILwO4MiXk7QwrAdNFFF110CcD7lQK1fqUIwIFav1Kg1gfACB988MEHB8CO4ziO4zgGwBWo9SsFagXAm2yyySabBMAiMW9nSMwDwKj1KwVq/QLAL7rooosuAsC1fqVArV8BwDxDYt7OkADAhA8++OCD/7+SmLczJOb9v54hMW9nSPy/qqqqqqqq+r+4MyTm7Qz5v8S8nSExb/e/0kUXXXTR9b/ezpCYtzP0v+xXCtT6lfK/+OCDDz748L8I1PqVArXuvyjm7QyJeeu/QPjggw8+6L9YCtT6lQLlv3Acx3Ecx+G/IF100UUX3b9QgVq/UqDWv4ClQK1fKdC/YJNNNtlkw78Ab2dIzNupvwBvZ0jM26k/YJNNNtlkwz+ApUCtXynQP1CBWr9SoNY/EF100UUX3T9wHMdxHMfhP1gK1PqVAuU/QPjggw8+6D8g5u0MiXnrPwjU+pUCte4/+OCDDz748D/sVwrU+pXyP9zOkJi3M/Q/0EUXXXTR9T/EvJ0hMW/3P7gzJObtDPk/rKqqqqqq+j+cITFvZ0j8P5CYtzMk5v0/hA8++OCD/z88Q2LezpAAQLR+pUCtXwFALrrooosuAkCo9SsFav0CQCIxb2dIzANAmmyyySabBEAUqPUrBWoFQI7jOI7jOAZACB988MEHB0CAWr9SoNYHQPyVArV+pQhAdNFFF110CUDsDIl5O0MKQGhIzNsZEgtA4IMPPvjgC0Bcv1Kg1q8MQNT6lQK1fg1ATDbZZJNNDkDIcRzHcRwPQECtXylQ6w9AXHTRRRddEEAaEvN2hsQQQNavFKj1KxFAlE022WSTEUBQ61cK1PoRQAyJeTtDYhJAyiabbLLJEkCGxLydITETQERi3s6QmBNAAAAAAAAAFEA=\",\"dtype\":\"float64\",\"shape\":[100]},\"y\":{\"__ndarray__\":\"JTgT8qI8kz7HnoEaXimgPjNvvJm246o+XlRiEWwmtj4SJ8MKRhHCPjV1IBbKL80+QsqIzCtY1z6zZP2XWn3iPssRdtULAe0+2iRCTySH9j5sEYgU/lMBP9oxNRUlZgo/4hHWijnqEz/OsXeN4MEdP6eA6W6oBCY/QvMM2q4iMD8E1OG2Lmw3Py6FX9yJ1kA/dYangYT6Rz90sbOCWulQPxwXx57+oFc/x3O/cvxZYD8eLZLlEWtmP2CxiBq2cm4/q+66t/d7dD8AA51/Wk57P/ACpLQcCII/CK3DDnyYhz8dOZKyE5iOP3JTaW9ap5M/5ad6duUFmT9x8K/BvJKfP4n0QEbOvaM/IfEmIPp3qD9ldnFd1A+uP2ROpuNkTrI/XAFA9HEatj/sUqud6nW6P8AxhGH8aL8/WByoQ9R8wj+CEOcbpZXFP4S9a0wV/8g/Wtx3KpW3zD+u0T3c4V3QP4cyJE4xg9I/ZCbumS7I1D+30i3pcSjXP3sYGn/Nntk/2zlGpG4l3D+iv02PBrbePy8gWbj8pOA/EuPcrUjt4T/D83JAmTDjP6QWaQvHa+Q/y+wIs+ib5T+85u1YZ77mPykX4REP0ec/6ghitRrS6D+dEOWsOsDpP+A7BrmWmuo/6vgV78pg6z/Iec9z4BLsP6KVSqxCsew/0/93wbE87T80NotjM7btP5roKLoCH+4/7pD9XYB47j+38JsbI8TuP3yA8hlqA+8/wSpM1NA37z9ktYQsxWLvPxu3NbGfhe8/TPHED56h7z/0by2N37fvP/rFAEtjye8/I4qQEAjX7z9Pd+VJjeHvP9NtGu6U6e8/jECNA6bv7z90nLCAL/TvPyemvlKL9+8/HpbfXgH67z8f6IhdyvvvP8UjKXoS/e8/Yr4kqvv97z9oEXm1n/7vP0KU+/AR/+8/T6kzrmD/7z8rq2tnlv/vP+CtB7C6/+8/fGG38dL/7z+KKvT+4v/vPwNopYLt/+8/vBnqU/T/7z94eg20+P/vP099rnv7/+8/1H0yO/3/7z9klsRR/v/vP1geav3+/+8/b+gaZv//7z8=\",\"dtype\":\"float64\",\"shape\":[100]}}},\"id\":\"1b3fb813-b9b2-47c9-a86d-719c9ef9e3b2\",\"type\":\"ColumnDataSource\"},{\"attributes\":{\"source\":{\"id\":\"cfaf351a-f814-4af9-8c04-4a1e26b31fbc\",\"type\":\"ColumnDataSource\"}},\"id\":\"2ae1dba6-1205-491c-a199-8439095ca3c9\",\"type\":\"CDSView\"},{\"attributes\":{},\"id\":\"178e1be1-d8e3-44f9-aed9-91806592cab8\",\"type\":\"BasicTickFormatter\"},{\"attributes\":{\"plot\":{\"id\":\"793b9b78-0950-430f-9c4c-410172b34510\",\"subtype\":\"Figure\",\"type\":\"Plot\"},\"ticker\":{\"id\":\"8a82b023-4cc3-48d4-b2d5-a08f3707d395\",\"type\":\"BasicTicker\"}},\"id\":\"33885224-2b98-444b-ae48-4818086f252b\",\"type\":\"Grid\"},{\"attributes\":{},\"id\":\"6325cf43-e3da-4f45-9eee-15be5e06d07b\",\"type\":\"PanTool\"},{\"attributes\":{},\"id\":\"6889b25f-f41d-431f-a71f-b7bacc14061c\",\"type\":\"LinearScale\"},{\"attributes\":{},\"id\":\"40dc8ef1-08ab-4edc-a15e-5d07873db959\",\"type\":\"HelpTool\"},{\"attributes\":{\"data_source\":{\"id\":\"cfaf351a-f814-4af9-8c04-4a1e26b31fbc\",\"type\":\"ColumnDataSource\"},\"glyph\":{\"id\":\"ecb487e4-645d-46fa-aef1-9cd0ac493f3f\",\"type\":\"Line\"},\"hover_glyph\":null,\"muted_glyph\":null,\"nonselection_glyph\":{\"id\":\"54cda47f-4739-48cf-a46d-4d0a5b4fd47a\",\"type\":\"Line\"},\"selection_glyph\":null,\"view\":{\"id\":\"2ae1dba6-1205-491c-a199-8439095ca3c9\",\"type\":\"CDSView\"}},\"id\":\"7c07ddfa-ad3e-4e4d-b597-a6fd090bc378\",\"type\":\"GlyphRenderer\"},{\"attributes\":{},\"id\":\"486e0dac-5f9b-42df-99f4-f818af9812d2\",\"type\":\"BasicTicker\"},{\"attributes\":{\"callback\":null},\"id\":\"b2bedc06-8a64-4109-a3b6-50f7bb61fe2b\",\"type\":\"DataRange1d\"},{\"attributes\":{\"data_source\":{\"id\":\"1b3fb813-b9b2-47c9-a86d-719c9ef9e3b2\",\"type\":\"ColumnDataSource\"},\"glyph\":{\"id\":\"b204a68e-a222-4914-b3db-d4d65381ad46\",\"type\":\"Line\"},\"hover_glyph\":null,\"muted_glyph\":null,\"nonselection_glyph\":{\"id\":\"fc0438dc-600c-47df-a68e-786a8d67b9a7\",\"type\":\"Line\"},\"selection_glyph\":null,\"view\":{\"id\":\"03d44f21-28f6-4725-bda2-a2052f525f10\",\"type\":\"CDSView\"}},\"id\":\"dd7d0296-95ff-4bf8-8172-15b0206d8d25\",\"type\":\"GlyphRenderer\"},{\"attributes\":{\"callback\":null,\"column_names\":[\"x\",\"y\"],\"data\":{\"x\":{\"__ndarray__\":\"AAAAAAAAFMBDYt7OkJgTwIbEvJ0hMRPAyiabbLLJEsANiXk7Q2ISwFDrVwrU+hHAk0022WSTEcDXrxSo9SsRwBoS83aGxBDAXXTRRRddEMBArV8pUOsPwMdxHMdxHA/ATjbZZJNNDsDU+pUCtX4NwFq/UqDWrwzA4YMPPvjgC8BoSMzbGRILwO4MiXk7QwrAdNFFF110CcD7lQK1fqUIwIFav1Kg1gfACB988MEHB8CO4ziO4zgGwBWo9SsFagXAm2yyySabBMAiMW9nSMwDwKj1KwVq/QLAL7rooosuAsC1fqVArV8BwDxDYt7OkADAhA8++OCD/7+SmLczJOb9v54hMW9nSPy/qqqqqqqq+r+4MyTm7Qz5v8S8nSExb/e/0kUXXXTR9b/ezpCYtzP0v+xXCtT6lfK/+OCDDz748L8I1PqVArXuvyjm7QyJeeu/QPjggw8+6L9YCtT6lQLlv3Acx3Ecx+G/IF100UUX3b9QgVq/UqDWv4ClQK1fKdC/YJNNNtlkw78Ab2dIzNupvwBvZ0jM26k/YJNNNtlkwz+ApUCtXynQP1CBWr9SoNY/EF100UUX3T9wHMdxHMfhP1gK1PqVAuU/QPjggw8+6D8g5u0MiXnrPwjU+pUCte4/+OCDDz748D/sVwrU+pXyP9zOkJi3M/Q/0EUXXXTR9T/EvJ0hMW/3P7gzJObtDPk/rKqqqqqq+j+cITFvZ0j8P5CYtzMk5v0/hA8++OCD/z88Q2LezpAAQLR+pUCtXwFALrrooosuAkCo9SsFav0CQCIxb2dIzANAmmyyySabBEAUqPUrBWoFQI7jOI7jOAZACB988MEHB0CAWr9SoNYHQPyVArV+pQhAdNFFF110CUDsDIl5O0MKQGhIzNsZEgtA4IMPPvjgC0Bcv1Kg1q8MQNT6lQK1fg1ATDbZZJNNDkDIcRzHcRwPQECtXylQ6w9AXHTRRRddEEAaEvN2hsQQQNavFKj1KxFAlE022WSTEUBQ61cK1PoRQAyJeTtDYhJAyiabbLLJEkCGxLydITETQERi3s6QmBNAAAAAAAAAFEA=\",\"dtype\":\"float64\",\"shape\":[100]},\"y\":{\"__ndarray__\":\"QP3IZGnxuD5mQv0OnY/EPhP0Wn7ZxtA+YD/55J8Z2z5RAZy7aqrlPqJj5lYtJfE+/B0dskPc+j72Vd0kpNMEP72hSBsM+A8//l5LQXpJGD8NgToig0MiP4GaHq+KMCs/OjRdV5AIND9gvSHJyTg9P9yx8E2MGEU/cX588mUmTj+u3Y4riFNVP90vl5wW3V0/BayxF3KyZD9nFNyvpWVsP4kM0/V5SHM/gSSN/DPseT+aCYg5Tz+BP7gVHYKxt4Y/cb+ddHiejT9UownF0ByTPy8B3RBfapg/6+oJV4rfnj/hPnsFQVKjPzu8LbEo8Kc/Y2yoMWhbrT9dmfekkNGxP4cY5jUuabU/pIPQcVV3uT/IrPw8Z/u9P9Eu6aBfeME/vITmLhknxD9PIq4x2wLHP4S+LeEfAso/AD4mx+8YzT/9CFVBihzQP27Ya1Q4qdE/uh0Vwr0p0z/C2VBS7pTUP/+qjDeQ4dU/zh7WMr4G1z9iTTwATPzXP+aWHOsmu9g/AIV8V6w92T94qPh88H/ZP3io+Hzwf9k/AIV8V6w92T/mlhzrJrvYP2JNPABM/Nc/0B7WMr4G1z//qow3kOHVP8LZUFLulNQ/uh0Vwr0p0z9x2GtUOKnRP/0IVUGKHNA/AD4mx+8YzT+Evi3hHwLKP1MirjHbAsc/v4TmLhknxD/RLumgX3jBP8is/Dxn+70/n4PQcVV3uT+LGOY1Lmm1P2GZ96SQ0bE/Y2yoMWhbrT87vC2xKPCnP+Y+ewVBUqM/9uoJV4rfnj8vAd0QX2qYP1SjCcXQHJM/fb+ddHiejT/AFR2CsbeGP5oJiDlPP4E/gSSN/DPseT+NDNP1eUhzP1kU3K+lZWw/BayxF3KyZD/0L5ecFt1dP67djiuIU1U/f3588mUmTj/GsfBNjBhFP2C9IcnJOD0/TjRdV5AIND9ymh6vijArPw2BOiKDQyI/Fl9LQXpJGD+9oUgbDPgPPwpW3SSk0wQ/1B0dskPc+j6iY+ZWLSXxPmcBnLtqquU+YD/55J8Z2z4T9Fp+2cbQPlFC/Q6dj8Q+QP3IZGnxuD4=\",\"dtype\":\"float64\",\"shape\":[100]}}},\"id\":\"cfaf351a-f814-4af9-8c04-4a1e26b31fbc\",\"type\":\"ColumnDataSource\"},{\"attributes\":{\"below\":[{\"id\":\"54afaa2c-d247-4be9-b66e-5105be0f8479\",\"type\":\"LinearAxis\"}],\"left\":[{\"id\":\"20899998-c809-4ded-a9ff-b15ef9e01b21\",\"type\":\"LinearAxis\"}],\"plot_height\":400,\"plot_width\":400,\"renderers\":[{\"id\":\"54afaa2c-d247-4be9-b66e-5105be0f8479\",\"type\":\"LinearAxis\"},{\"id\":\"33885224-2b98-444b-ae48-4818086f252b\",\"type\":\"Grid\"},{\"id\":\"20899998-c809-4ded-a9ff-b15ef9e01b21\",\"type\":\"LinearAxis\"},{\"id\":\"357b7831-67d2-47ef-964a-72ca04b76c3b\",\"type\":\"Grid\"},{\"id\":\"05d096b9-ed3c-4dd7-a854-e09dd15f753f\",\"type\":\"BoxAnnotation\"},{\"id\":\"88a5d133-d683-4639-9150-c2eca765aa3e\",\"type\":\"Legend\"},{\"id\":\"7c07ddfa-ad3e-4e4d-b597-a6fd090bc378\",\"type\":\"GlyphRenderer\"},{\"id\":\"dd7d0296-95ff-4bf8-8172-15b0206d8d25\",\"type\":\"GlyphRenderer\"}],\"title\":{\"id\":\"bb6f20c1-c667-4611-9734-19df51098c91\",\"type\":\"Title\"},\"toolbar\":{\"id\":\"6aa32c5e-13a4-439a-830d-d5b17f45f137\",\"type\":\"Toolbar\"},\"x_range\":{\"id\":\"6c0b9e71-8603-4178-8d93-d8ed1e5af203\",\"type\":\"DataRange1d\"},\"x_scale\":{\"id\":\"6889b25f-f41d-431f-a71f-b7bacc14061c\",\"type\":\"LinearScale\"},\"y_range\":{\"id\":\"b2bedc06-8a64-4109-a3b6-50f7bb61fe2b\",\"type\":\"DataRange1d\"},\"y_scale\":{\"id\":\"454c7638-5cf9-4cb2-b4d6-49e5e3517c0d\",\"type\":\"LinearScale\"}},\"id\":\"793b9b78-0950-430f-9c4c-410172b34510\",\"subtype\":\"Figure\",\"type\":\"Plot\"},{\"attributes\":{\"dimension\":1,\"plot\":{\"id\":\"793b9b78-0950-430f-9c4c-410172b34510\",\"subtype\":\"Figure\",\"type\":\"Plot\"},\"ticker\":{\"id\":\"486e0dac-5f9b-42df-99f4-f818af9812d2\",\"type\":\"BasicTicker\"}},\"id\":\"357b7831-67d2-47ef-964a-72ca04b76c3b\",\"type\":\"Grid\"},{\"attributes\":{},\"id\":\"f9dbcbd9-335b-423f-8146-bcb80d569c41\",\"type\":\"BasicTickFormatter\"},{\"attributes\":{\"plot\":null,\"text\":\"\"},\"id\":\"bb6f20c1-c667-4611-9734-19df51098c91\",\"type\":\"Title\"},{\"attributes\":{\"active_drag\":\"auto\",\"active_inspect\":\"auto\",\"active_scroll\":\"auto\",\"active_tap\":\"auto\",\"tools\":[{\"id\":\"6325cf43-e3da-4f45-9eee-15be5e06d07b\",\"type\":\"PanTool\"},{\"id\":\"899b5e6d-b042-4123-9fa2-059e3ff27954\",\"type\":\"WheelZoomTool\"},{\"id\":\"277e0cd1-5e34-49d9-a78f-75f02a9fe954\",\"type\":\"BoxZoomTool\"},{\"id\":\"6ca0a537-0ad7-4319-a658-6556acd4ac45\",\"type\":\"SaveTool\"},{\"id\":\"28914d14-7795-43f8-966b-a4b83035492f\",\"type\":\"ResetTool\"},{\"id\":\"40dc8ef1-08ab-4edc-a15e-5d07873db959\",\"type\":\"HelpTool\"}]},\"id\":\"6aa32c5e-13a4-439a-830d-d5b17f45f137\",\"type\":\"Toolbar\"},{\"attributes\":{},\"id\":\"6ca0a537-0ad7-4319-a658-6556acd4ac45\",\"type\":\"SaveTool\"},{\"attributes\":{\"formatter\":{\"id\":\"178e1be1-d8e3-44f9-aed9-91806592cab8\",\"type\":\"BasicTickFormatter\"},\"plot\":{\"id\":\"793b9b78-0950-430f-9c4c-410172b34510\",\"subtype\":\"Figure\",\"type\":\"Plot\"},\"ticker\":{\"id\":\"8a82b023-4cc3-48d4-b2d5-a08f3707d395\",\"type\":\"BasicTicker\"}},\"id\":\"54afaa2c-d247-4be9-b66e-5105be0f8479\",\"type\":\"LinearAxis\"},{\"attributes\":{\"line_alpha\":{\"value\":0.1},\"line_color\":{\"value\":\"#1f77b4\"},\"line_width\":{\"value\":2},\"x\":{\"field\":\"x\"},\"y\":{\"field\":\"y\"}},\"id\":\"fc0438dc-600c-47df-a68e-786a8d67b9a7\",\"type\":\"Line\"},{\"attributes\":{\"label\":{\"value\":\"TheGassian (cdf)\"},\"renderers\":[{\"id\":\"dd7d0296-95ff-4bf8-8172-15b0206d8d25\",\"type\":\"GlyphRenderer\"}]},\"id\":\"2fd0de5a-6a4c-4dc9-bacf-9f5fd3e841b3\",\"type\":\"LegendItem\"},{\"attributes\":{\"bottom_units\":\"screen\",\"fill_alpha\":{\"value\":0.5},\"fill_color\":{\"value\":\"lightgrey\"},\"left_units\":\"screen\",\"level\":\"overlay\",\"line_alpha\":{\"value\":1.0},\"line_color\":{\"value\":\"black\"},\"line_dash\":[4,4],\"line_width\":{\"value\":2},\"plot\":null,\"render_mode\":\"css\",\"right_units\":\"screen\",\"top_units\":\"screen\"},\"id\":\"05d096b9-ed3c-4dd7-a854-e09dd15f753f\",\"type\":\"BoxAnnotation\"},{\"attributes\":{},\"id\":\"8a82b023-4cc3-48d4-b2d5-a08f3707d395\",\"type\":\"BasicTicker\"},{\"attributes\":{\"line_alpha\":{\"value\":0.5},\"line_color\":{\"value\":\"blue\"},\"line_width\":{\"value\":2},\"x\":{\"field\":\"x\"},\"y\":{\"field\":\"y\"}},\"id\":\"b204a68e-a222-4914-b3db-d4d65381ad46\",\"type\":\"Line\"},{\"attributes\":{},\"id\":\"454c7638-5cf9-4cb2-b4d6-49e5e3517c0d\",\"type\":\"LinearScale\"}],\"root_ids\":[\"793b9b78-0950-430f-9c4c-410172b34510\"]},\"title\":\"Bokeh Application\",\"version\":\"0.12.10\"}};\n",
       "    var render_items = [{\"docid\":\"592a2a12-e833-450d-b615-e83be261c43b\",\"elementid\":\"31acf00a-a106-4c24-9b99-99203d6c8820\",\"modelid\":\"793b9b78-0950-430f-9c4c-410172b34510\"}];\n",
       "\n",
       "    root.Bokeh.embed.embed_items(docs_json, render_items);\n",
       "  }\n",
       "\n",
       "  if (root.Bokeh !== undefined) {\n",
       "    embed_document(root);\n",
       "  } else {\n",
       "    var attempts = 0;\n",
       "    var timer = setInterval(function(root) {\n",
       "      if (root.Bokeh !== undefined) {\n",
       "        embed_document(root);\n",
       "        clearInterval(timer);\n",
       "      }\n",
       "      attempts++;\n",
       "      if (attempts > 100) {\n",
       "        console.log(\"Bokeh: ERROR: Unable to embed document because BokehJS library is missing\")\n",
       "        clearInterval(timer);\n",
       "      }\n",
       "    }, 10, root)\n",
       "  }\n",
       "})(window);"
      ],
      "application/vnd.bokehjs_exec.v0+json": ""
     },
     "metadata": {
      "application/vnd.bokehjs_exec.v0+json": {
       "id": "793b9b78-0950-430f-9c4c-410172b34510"
      }
     },
     "output_type": "display_data"
    }
   ],
   "source": [
    "x = np.linspace(-5, 5, 100)\n",
    "y = stats.norm.pdf(x)\n",
    "y1 = stats.norm.cdf(x)\n",
    "powers = figure(plot_width=400, plot_height=400)\n",
    "powers.line(x,y,color='red',alpha=.5,line_width=2,legend='The Gaussian (density)')\n",
    "powers.line(x,y1,color='blue',alpha=.5,line_width=2,legend='TheGassian (cdf)')\n",
    "powers.legend.location = 'top_left'\n",
    "show(powers)"
   ]
  },
  {
   "cell_type": "code",
   "execution_count": 43,
   "metadata": {},
   "outputs": [
    {
     "data": {
      "text/plain": [
       "0"
      ]
     },
     "execution_count": 43,
     "metadata": {},
     "output_type": "execute_result"
    }
   ],
   "source": [
    "pcws = lambda x: 0 if x < 0 else x\n",
    "pcws(-5)"
   ]
  },
  {
   "cell_type": "code",
   "execution_count": 45,
   "metadata": {},
   "outputs": [
    {
     "data": {
      "text/html": [
       "\n",
       "<div class=\"bk-root\">\n",
       "    <div class=\"bk-plotdiv\" id=\"12ec8c86-8f00-43a6-89c2-45fcdb23f76a\"></div>\n",
       "</div>"
      ]
     },
     "metadata": {},
     "output_type": "display_data"
    },
    {
     "data": {
      "application/javascript": [
       "(function(root) {\n",
       "  function embed_document(root) {\n",
       "    var docs_json = {\"f5373e20-69eb-465e-b557-473e33d4240e\":{\"roots\":{\"references\":[{\"attributes\":{\"source\":{\"id\":\"9f7cbf58-608a-4a3c-a438-7271e381fbb3\",\"type\":\"ColumnDataSource\"}},\"id\":\"fd0082a7-1048-42cf-8291-3158442ff285\",\"type\":\"CDSView\"},{\"attributes\":{\"label\":{\"value\":\"Rectifier\"},\"renderers\":[{\"id\":\"0669ee6d-cd97-43e6-8960-d4df5c5e522d\",\"type\":\"GlyphRenderer\"}]},\"id\":\"e0b396a3-1517-43d4-b521-4609d5e16cf9\",\"type\":\"LegendItem\"},{\"attributes\":{\"callback\":null},\"id\":\"04994fc7-a5c3-4ce1-ab11-edf148807c9d\",\"type\":\"DataRange1d\"},{\"attributes\":{\"data_source\":{\"id\":\"9f7cbf58-608a-4a3c-a438-7271e381fbb3\",\"type\":\"ColumnDataSource\"},\"glyph\":{\"id\":\"39e98317-ac90-43f3-bf10-1f8b4c072d97\",\"type\":\"Line\"},\"hover_glyph\":null,\"muted_glyph\":null,\"nonselection_glyph\":{\"id\":\"0176c0c0-d25e-4493-91e7-78ea1e665f8f\",\"type\":\"Line\"},\"selection_glyph\":null,\"view\":{\"id\":\"fd0082a7-1048-42cf-8291-3158442ff285\",\"type\":\"CDSView\"}},\"id\":\"0669ee6d-cd97-43e6-8960-d4df5c5e522d\",\"type\":\"GlyphRenderer\"},{\"attributes\":{},\"id\":\"57f32565-f3dc-48be-affd-466209bf0f01\",\"type\":\"BasicTickFormatter\"},{\"attributes\":{},\"id\":\"0e2a385c-5a70-4df9-a89c-4f3002c5c137\",\"type\":\"LinearScale\"},{\"attributes\":{\"overlay\":{\"id\":\"5a5092e1-e14f-4269-8f32-c2a55a1276b2\",\"type\":\"BoxAnnotation\"}},\"id\":\"1dcc6da6-fc35-41f6-8f5e-ad6a7a9ccb90\",\"type\":\"BoxZoomTool\"},{\"attributes\":{\"line_alpha\":{\"value\":0.5},\"line_color\":{\"value\":\"red\"},\"line_width\":{\"value\":2},\"x\":{\"field\":\"x\"},\"y\":{\"field\":\"y\"}},\"id\":\"39e98317-ac90-43f3-bf10-1f8b4c072d97\",\"type\":\"Line\"},{\"attributes\":{},\"id\":\"573de496-4aae-43d1-b184-369fb14c9015\",\"type\":\"LinearScale\"},{\"attributes\":{\"callback\":null,\"column_names\":[\"x\",\"y\"],\"data\":{\"x\":{\"__ndarray__\":\"AAAAAAAA8L8Fav1KgVrvvwrU+pUCte6/ED744IMP7r8VqPUrBWrtvxoS83aGxOy/H3zwwQcf7L8k5u0MiXnrvylQ61cK1Oq/Lrrooosu6r80JObtDInpvzmO4ziO4+i/Pvjggw8+6L9DYt7OkJjnv0jM2xkS8+a/TjbZZJNN5r9SoNavFKjlv1gK1PqVAuW/XXTRRRdd5L9i3s6QmLfjv2dIzNsZEuO/bLLJJpts4r9yHMdxHMfhv3aGxLydIeG/fPDBBx984L8CtX6lQK3fvwyJeTtDYt6/Fl100UUX3b8gMW9nSMzbvywFav1Kgdq/Ntlkk0022b9ArV8pUOvXv0qBWr9SoNa/VFVVVVVV1b9eKVDrVwrUv2j9SoFav9K/dNFFF1100b9+pUCtXynQvxDzdobEvM2/JJtssskmy784Q2LezpDIv0zrVwrU+sW/ZJNNNtlkw794O0Ni3s7AvxjHcRzHcby/QBdddNFFt79oZ0jM2xmyvyBvZ0jM26m/AB988MEHn79Av1Kg1q+Ev4C/UqDWr4Q/QB988MEHnz9Ab2dIzNupP3BnSMzbGbI/UBdddNFFtz8gx3Ecx3G8P4A7Q2LezsA/aJNNNtlkwz9Q61cK1PrFP0BDYt7OkMg/KJtssskmyz8Y83aGxLzNP4ClQK1fKdA/eNFFF1100T9s/UqBWr/SP2ApUOtXCtQ/WFVVVVVV1T9MgVq/UqDWP0StXylQ69c/ONlkk0022T8wBWr9SoHaPyQxb2dIzNs/GF100UUX3T8QiXk7Q2LePwS1fqVArd8/fvDBBx984D94hsS8nSHhP3Icx3Ecx+E/brLJJpts4j9oSMzbGRLjP2TezpCYt+M/XnTRRRdd5D9aCtT6lQLlP1Sg1q8UqOU/TjbZZJNN5j9KzNsZEvPmP0Ri3s6QmOc/QPjggw8+6D86juM4juPoPzYk5u0Miek/MLrooosu6j8qUOtXCtTqPybm7QyJees/IHzwwQcf7D8cEvN2hsTsPxao9SsFau0/ED744IMP7j8M1PqVArXuPwZq/UqBWu8/AAAAAAAA8D8=\",\"dtype\":\"float64\",\"shape\":[100]},\"y\":[0,0,0,0,0,0,0,0,0,0,0,0,0,0,0,0,0,0,0,0,0,0,0,0,0,0,0,0,0,0,0,0,0,0,0,0,0,0,0,0,0,0,0,0,0,0,0,0,0,0,0.010101010101010166,0.030303030303030498,0.05050505050505061,0.07070707070707072,0.09090909090909105,0.11111111111111116,0.1313131313131315,0.1515151515151516,0.1717171717171717,0.19191919191919204,0.21212121212121215,0.2323232323232325,0.2525252525252526,0.27272727272727293,0.29292929292929304,0.31313131313131315,0.3333333333333335,0.3535353535353536,0.3737373737373739,0.39393939393939403,0.41414141414141437,0.4343434343434345,0.4545454545454546,0.4747474747474749,0.49494949494949503,0.5151515151515154,0.5353535353535355,0.5555555555555556,0.5757575757575759,0.595959595959596,0.6161616161616164,0.6363636363636365,0.6565656565656568,0.6767676767676769,0.696969696969697,0.7171717171717173,0.7373737373737375,0.7575757575757578,0.7777777777777779,0.7979797979797982,0.8181818181818183,0.8383838383838385,0.8585858585858588,0.8787878787878789,0.8989898989898992,0.9191919191919193,0.9393939393939394,0.9595959595959598,0.9797979797979799,1.0]}},\"id\":\"9f7cbf58-608a-4a3c-a438-7271e381fbb3\",\"type\":\"ColumnDataSource\"},{\"attributes\":{},\"id\":\"a63ce1af-5db0-4c28-9dc0-298f67628710\",\"type\":\"ResetTool\"},{\"attributes\":{\"plot\":{\"id\":\"fd228c2d-561a-462a-a6ae-85cae61d3348\",\"subtype\":\"Figure\",\"type\":\"Plot\"},\"ticker\":{\"id\":\"d6fddfe1-6c8c-458a-b038-84373253725d\",\"type\":\"BasicTicker\"}},\"id\":\"c120c65c-3080-4547-a1a8-473adea53f2e\",\"type\":\"Grid\"},{\"attributes\":{\"active_drag\":\"auto\",\"active_inspect\":\"auto\",\"active_scroll\":\"auto\",\"active_tap\":\"auto\",\"tools\":[{\"id\":\"7b21749b-cbe5-4bd1-ad97-c099f028a9a9\",\"type\":\"PanTool\"},{\"id\":\"6f0949c2-c708-4918-8ad6-9a6fdba43fca\",\"type\":\"WheelZoomTool\"},{\"id\":\"1dcc6da6-fc35-41f6-8f5e-ad6a7a9ccb90\",\"type\":\"BoxZoomTool\"},{\"id\":\"0a6e3fc8-82f7-478c-a715-96e54a17cac9\",\"type\":\"SaveTool\"},{\"id\":\"a63ce1af-5db0-4c28-9dc0-298f67628710\",\"type\":\"ResetTool\"},{\"id\":\"4ca7d0cc-5ce2-43e4-819b-a4c89a4375c1\",\"type\":\"HelpTool\"}]},\"id\":\"23ff3046-b978-4d0d-ac9f-ba4ccdb3a099\",\"type\":\"Toolbar\"},{\"attributes\":{\"plot\":null,\"text\":\"\"},\"id\":\"bee0c6d0-832b-42c2-8fdb-1d072a08d774\",\"type\":\"Title\"},{\"attributes\":{},\"id\":\"4ca7d0cc-5ce2-43e4-819b-a4c89a4375c1\",\"type\":\"HelpTool\"},{\"attributes\":{\"formatter\":{\"id\":\"f4c8cebc-1e02-4e05-ba44-43045f7c3718\",\"type\":\"BasicTickFormatter\"},\"plot\":{\"id\":\"fd228c2d-561a-462a-a6ae-85cae61d3348\",\"subtype\":\"Figure\",\"type\":\"Plot\"},\"ticker\":{\"id\":\"d6fddfe1-6c8c-458a-b038-84373253725d\",\"type\":\"BasicTicker\"}},\"id\":\"fafea2cc-3540-488e-a1b5-9d2879fedcb5\",\"type\":\"LinearAxis\"},{\"attributes\":{},\"id\":\"7b21749b-cbe5-4bd1-ad97-c099f028a9a9\",\"type\":\"PanTool\"},{\"attributes\":{},\"id\":\"d6fddfe1-6c8c-458a-b038-84373253725d\",\"type\":\"BasicTicker\"},{\"attributes\":{\"callback\":null},\"id\":\"293e2673-cb34-46bd-82b3-6009d054f8c8\",\"type\":\"DataRange1d\"},{\"attributes\":{},\"id\":\"0a6e3fc8-82f7-478c-a715-96e54a17cac9\",\"type\":\"SaveTool\"},{\"attributes\":{\"items\":[{\"id\":\"e0b396a3-1517-43d4-b521-4609d5e16cf9\",\"type\":\"LegendItem\"}],\"location\":\"top_left\",\"plot\":{\"id\":\"fd228c2d-561a-462a-a6ae-85cae61d3348\",\"subtype\":\"Figure\",\"type\":\"Plot\"}},\"id\":\"5234c1aa-0f10-4901-b514-69fc17a7a331\",\"type\":\"Legend\"},{\"attributes\":{\"bottom_units\":\"screen\",\"fill_alpha\":{\"value\":0.5},\"fill_color\":{\"value\":\"lightgrey\"},\"left_units\":\"screen\",\"level\":\"overlay\",\"line_alpha\":{\"value\":1.0},\"line_color\":{\"value\":\"black\"},\"line_dash\":[4,4],\"line_width\":{\"value\":2},\"plot\":null,\"render_mode\":\"css\",\"right_units\":\"screen\",\"top_units\":\"screen\"},\"id\":\"5a5092e1-e14f-4269-8f32-c2a55a1276b2\",\"type\":\"BoxAnnotation\"},{\"attributes\":{\"formatter\":{\"id\":\"57f32565-f3dc-48be-affd-466209bf0f01\",\"type\":\"BasicTickFormatter\"},\"plot\":{\"id\":\"fd228c2d-561a-462a-a6ae-85cae61d3348\",\"subtype\":\"Figure\",\"type\":\"Plot\"},\"ticker\":{\"id\":\"5d318a81-3650-40b0-b6f7-6cea6f1d2493\",\"type\":\"BasicTicker\"}},\"id\":\"58821d04-5b9c-40e3-ba43-12b8ac6ed121\",\"type\":\"LinearAxis\"},{\"attributes\":{\"line_alpha\":{\"value\":0.1},\"line_color\":{\"value\":\"#1f77b4\"},\"line_width\":{\"value\":2},\"x\":{\"field\":\"x\"},\"y\":{\"field\":\"y\"}},\"id\":\"0176c0c0-d25e-4493-91e7-78ea1e665f8f\",\"type\":\"Line\"},{\"attributes\":{},\"id\":\"6f0949c2-c708-4918-8ad6-9a6fdba43fca\",\"type\":\"WheelZoomTool\"},{\"attributes\":{},\"id\":\"5d318a81-3650-40b0-b6f7-6cea6f1d2493\",\"type\":\"BasicTicker\"},{\"attributes\":{\"below\":[{\"id\":\"fafea2cc-3540-488e-a1b5-9d2879fedcb5\",\"type\":\"LinearAxis\"}],\"left\":[{\"id\":\"58821d04-5b9c-40e3-ba43-12b8ac6ed121\",\"type\":\"LinearAxis\"}],\"plot_height\":400,\"plot_width\":400,\"renderers\":[{\"id\":\"fafea2cc-3540-488e-a1b5-9d2879fedcb5\",\"type\":\"LinearAxis\"},{\"id\":\"c120c65c-3080-4547-a1a8-473adea53f2e\",\"type\":\"Grid\"},{\"id\":\"58821d04-5b9c-40e3-ba43-12b8ac6ed121\",\"type\":\"LinearAxis\"},{\"id\":\"77a2890e-6376-427a-9841-be020a9cbf28\",\"type\":\"Grid\"},{\"id\":\"5a5092e1-e14f-4269-8f32-c2a55a1276b2\",\"type\":\"BoxAnnotation\"},{\"id\":\"5234c1aa-0f10-4901-b514-69fc17a7a331\",\"type\":\"Legend\"},{\"id\":\"0669ee6d-cd97-43e6-8960-d4df5c5e522d\",\"type\":\"GlyphRenderer\"}],\"title\":{\"id\":\"bee0c6d0-832b-42c2-8fdb-1d072a08d774\",\"type\":\"Title\"},\"toolbar\":{\"id\":\"23ff3046-b978-4d0d-ac9f-ba4ccdb3a099\",\"type\":\"Toolbar\"},\"x_range\":{\"id\":\"293e2673-cb34-46bd-82b3-6009d054f8c8\",\"type\":\"DataRange1d\"},\"x_scale\":{\"id\":\"0e2a385c-5a70-4df9-a89c-4f3002c5c137\",\"type\":\"LinearScale\"},\"y_range\":{\"id\":\"04994fc7-a5c3-4ce1-ab11-edf148807c9d\",\"type\":\"DataRange1d\"},\"y_scale\":{\"id\":\"573de496-4aae-43d1-b184-369fb14c9015\",\"type\":\"LinearScale\"}},\"id\":\"fd228c2d-561a-462a-a6ae-85cae61d3348\",\"subtype\":\"Figure\",\"type\":\"Plot\"},{\"attributes\":{},\"id\":\"f4c8cebc-1e02-4e05-ba44-43045f7c3718\",\"type\":\"BasicTickFormatter\"},{\"attributes\":{\"dimension\":1,\"plot\":{\"id\":\"fd228c2d-561a-462a-a6ae-85cae61d3348\",\"subtype\":\"Figure\",\"type\":\"Plot\"},\"ticker\":{\"id\":\"5d318a81-3650-40b0-b6f7-6cea6f1d2493\",\"type\":\"BasicTicker\"}},\"id\":\"77a2890e-6376-427a-9841-be020a9cbf28\",\"type\":\"Grid\"}],\"root_ids\":[\"fd228c2d-561a-462a-a6ae-85cae61d3348\"]},\"title\":\"Bokeh Application\",\"version\":\"0.12.10\"}};\n",
       "    var render_items = [{\"docid\":\"f5373e20-69eb-465e-b557-473e33d4240e\",\"elementid\":\"12ec8c86-8f00-43a6-89c2-45fcdb23f76a\",\"modelid\":\"fd228c2d-561a-462a-a6ae-85cae61d3348\"}];\n",
       "\n",
       "    root.Bokeh.embed.embed_items(docs_json, render_items);\n",
       "  }\n",
       "\n",
       "  if (root.Bokeh !== undefined) {\n",
       "    embed_document(root);\n",
       "  } else {\n",
       "    var attempts = 0;\n",
       "    var timer = setInterval(function(root) {\n",
       "      if (root.Bokeh !== undefined) {\n",
       "        embed_document(root);\n",
       "        clearInterval(timer);\n",
       "      }\n",
       "      attempts++;\n",
       "      if (attempts > 100) {\n",
       "        console.log(\"Bokeh: ERROR: Unable to embed document because BokehJS library is missing\")\n",
       "        clearInterval(timer);\n",
       "      }\n",
       "    }, 10, root)\n",
       "  }\n",
       "})(window);"
      ],
      "application/vnd.bokehjs_exec.v0+json": ""
     },
     "metadata": {
      "application/vnd.bokehjs_exec.v0+json": {
       "id": "fd228c2d-561a-462a-a6ae-85cae61d3348"
      }
     },
     "output_type": "display_data"
    }
   ],
   "source": [
    "x = np.linspace(-1, 1, 100)\n",
    "y = [pcws(a) for a in x]\n",
    "powers = figure(plot_width=400, plot_height=400)\n",
    "powers.line(x,y,color='red',alpha=.5,line_width=2,legend='Rectifier')\n",
    "powers.legend.location = 'top_left'\n",
    "show(powers)"
   ]
  },
  {
   "cell_type": "markdown",
   "metadata": {},
   "source": [
    "## Matrix Operations"
   ]
  },
  {
   "cell_type": "code",
   "execution_count": 47,
   "metadata": {
    "collapsed": true
   },
   "outputs": [],
   "source": [
    "# Defining a matrix A\n",
    "A = np.array([[1,1,0],[0,1,1],[0,0,2]])\n",
    "# Computing its eigenstuff\n",
    "w,v = np.linalg.eig(A)"
   ]
  },
  {
   "cell_type": "code",
   "execution_count": 48,
   "metadata": {},
   "outputs": [
    {
     "data": {
      "text/plain": [
       "array([ 1.,  1.,  2.])"
      ]
     },
     "execution_count": 48,
     "metadata": {},
     "output_type": "execute_result"
    }
   ],
   "source": [
    "# The eigenvalues of A\n",
    "w"
   ]
  },
  {
   "cell_type": "code",
   "execution_count": 49,
   "metadata": {},
   "outputs": [
    {
     "data": {
      "text/plain": [
       "array([[  1.00000000e+00,  -1.00000000e+00,   5.77350269e-01],\n",
       "       [  0.00000000e+00,   2.22044605e-16,   5.77350269e-01],\n",
       "       [  0.00000000e+00,   0.00000000e+00,   5.77350269e-01]])"
      ]
     },
     "execution_count": 49,
     "metadata": {},
     "output_type": "execute_result"
    }
   ],
   "source": [
    "# Some eigenvectors of A\n",
    "v"
   ]
  },
  {
   "cell_type": "markdown",
   "metadata": {},
   "source": [
    "### Multiplying Matrices"
   ]
  },
  {
   "cell_type": "code",
   "execution_count": 60,
   "metadata": {},
   "outputs": [
    {
     "data": {
      "text/plain": [
       "array([[  0.00000000e+00,   2.22044605e-16,   5.77350269e-01],\n",
       "       [  0.00000000e+00,   0.00000000e+00,   5.77350269e-01],\n",
       "       [  0.00000000e+00,   0.00000000e+00,   5.77350269e-01]])"
      ]
     },
     "execution_count": 60,
     "metadata": {},
     "output_type": "execute_result"
    }
   ],
   "source": [
    "# Let's check that that worked...\n",
    "np.matmul(A-np.identity(3),v)"
   ]
  },
  {
   "cell_type": "code",
   "execution_count": 59,
   "metadata": {},
   "outputs": [
    {
     "data": {
      "text/plain": [
       "array([[ -1.00000000e+00,   1.00000000e+00,   0.00000000e+00],\n",
       "       [  0.00000000e+00,  -2.22044605e-16,   0.00000000e+00],\n",
       "       [  0.00000000e+00,   0.00000000e+00,   0.00000000e+00]])"
      ]
     },
     "execution_count": 59,
     "metadata": {},
     "output_type": "execute_result"
    }
   ],
   "source": [
    "np.matmul(A-2*np.identity(3),v)"
   ]
  },
  {
   "cell_type": "markdown",
   "metadata": {},
   "source": [
    "### Matrices as Functions"
   ]
  },
  {
   "cell_type": "code",
   "execution_count": 7,
   "metadata": {},
   "outputs": [
    {
     "data": {
      "text/html": [
       "\n",
       "<div class=\"bk-root\">\n",
       "    <div class=\"bk-plotdiv\" id=\"cabcbc32-d0c6-4b47-8268-05478c4f6aaf\"></div>\n",
       "</div>"
      ]
     },
     "metadata": {},
     "output_type": "display_data"
    },
    {
     "data": {
      "application/javascript": [
       "(function(root) {\n",
       "  function embed_document(root) {\n",
       "    var docs_json = {\"365afcfb-d929-4121-a425-c6882e75b975\":{\"roots\":{\"references\":[{\"attributes\":{},\"id\":\"70a02b9e-1cd3-475f-936d-0287aef6bc9a\",\"type\":\"BasicTicker\"},{\"attributes\":{},\"id\":\"6eecc43e-d0cd-4552-a45e-b102bcbc19cf\",\"type\":\"SaveTool\"},{\"attributes\":{},\"id\":\"4ba2263f-4239-48f1-ba7c-29d7a288beb1\",\"type\":\"BasicTickFormatter\"},{\"attributes\":{\"callback\":null},\"id\":\"d19c4a7a-6ef1-4df7-b782-d679c2ccc4cd\",\"type\":\"DataRange1d\"},{\"attributes\":{},\"id\":\"a652f56a-a4ff-4bfc-ae84-b1d182c22096\",\"type\":\"BasicTickFormatter\"},{\"attributes\":{\"fill_alpha\":{\"value\":0.5},\"fill_color\":{\"value\":\"#1f77b4\"},\"line_alpha\":{\"value\":0.5},\"line_color\":{\"value\":\"#1f77b4\"},\"line_width\":{\"value\":2},\"x\":{\"field\":\"x\"},\"y\":{\"field\":\"y\"}},\"id\":\"d7b42dc4-c34c-4ec6-b194-fff4970fa143\",\"type\":\"Patch\"},{\"attributes\":{\"fill_alpha\":{\"value\":0.1},\"fill_color\":{\"value\":\"#1f77b4\"},\"line_alpha\":{\"value\":0.1},\"line_color\":{\"value\":\"#1f77b4\"},\"line_width\":{\"value\":2},\"x\":{\"field\":\"x\"},\"y\":{\"field\":\"y\"}},\"id\":\"9749bfaa-7f64-4c6b-be67-389d287a223f\",\"type\":\"Patch\"},{\"attributes\":{},\"id\":\"f3c01445-17a8-4427-9095-122ce48a2774\",\"type\":\"HelpTool\"},{\"attributes\":{\"plot\":{\"id\":\"56961da0-75c6-4cb0-87f7-a5ad08347430\",\"subtype\":\"Figure\",\"type\":\"Plot\"},\"ticker\":{\"id\":\"70a02b9e-1cd3-475f-936d-0287aef6bc9a\",\"type\":\"BasicTicker\"}},\"id\":\"c08080b9-151d-4615-848c-8b970a85d7cb\",\"type\":\"Grid\"},{\"attributes\":{\"callback\":null,\"column_names\":[\"x\",\"y\"],\"data\":{\"x\":[1,2,3,4,5],\"y\":[6,7,8,7,3]}},\"id\":\"c26194f5-4d2d-4a61-b6f2-1da72b41aa01\",\"type\":\"ColumnDataSource\"},{\"attributes\":{\"formatter\":{\"id\":\"4ba2263f-4239-48f1-ba7c-29d7a288beb1\",\"type\":\"BasicTickFormatter\"},\"plot\":{\"id\":\"56961da0-75c6-4cb0-87f7-a5ad08347430\",\"subtype\":\"Figure\",\"type\":\"Plot\"},\"ticker\":{\"id\":\"70a02b9e-1cd3-475f-936d-0287aef6bc9a\",\"type\":\"BasicTicker\"}},\"id\":\"b7b32751-4fca-4837-9cb3-aed4213fef75\",\"type\":\"LinearAxis\"},{\"attributes\":{\"dimension\":1,\"plot\":{\"id\":\"56961da0-75c6-4cb0-87f7-a5ad08347430\",\"subtype\":\"Figure\",\"type\":\"Plot\"},\"ticker\":{\"id\":\"faa84ffc-5d73-4637-8f9c-c85f92b6dfa1\",\"type\":\"BasicTicker\"}},\"id\":\"80026aa9-968c-46de-859e-93f7860de016\",\"type\":\"Grid\"},{\"attributes\":{\"overlay\":{\"id\":\"f116d952-76e9-40b0-a7da-f517cac5c0f6\",\"type\":\"BoxAnnotation\"}},\"id\":\"10edf9e0-ba7a-403c-bd7b-659840f135e3\",\"type\":\"BoxZoomTool\"},{\"attributes\":{\"source\":{\"id\":\"c26194f5-4d2d-4a61-b6f2-1da72b41aa01\",\"type\":\"ColumnDataSource\"}},\"id\":\"ec3b2cf1-0c4c-4f24-a47e-e48fc178e0b1\",\"type\":\"CDSView\"},{\"attributes\":{\"data_source\":{\"id\":\"c26194f5-4d2d-4a61-b6f2-1da72b41aa01\",\"type\":\"ColumnDataSource\"},\"glyph\":{\"id\":\"d7b42dc4-c34c-4ec6-b194-fff4970fa143\",\"type\":\"Patch\"},\"hover_glyph\":null,\"muted_glyph\":null,\"nonselection_glyph\":{\"id\":\"9749bfaa-7f64-4c6b-be67-389d287a223f\",\"type\":\"Patch\"},\"selection_glyph\":null,\"view\":{\"id\":\"ec3b2cf1-0c4c-4f24-a47e-e48fc178e0b1\",\"type\":\"CDSView\"}},\"id\":\"f24496a3-4c53-4a6b-a7fa-f131799e3fb8\",\"type\":\"GlyphRenderer\"},{\"attributes\":{},\"id\":\"faa84ffc-5d73-4637-8f9c-c85f92b6dfa1\",\"type\":\"BasicTicker\"},{\"attributes\":{},\"id\":\"b5ed2960-8b5b-455d-8b02-1ae9933a013a\",\"type\":\"LinearScale\"},{\"attributes\":{},\"id\":\"e51abc51-e19a-46c2-afa7-b6e3718a5284\",\"type\":\"WheelZoomTool\"},{\"attributes\":{\"bottom_units\":\"screen\",\"fill_alpha\":{\"value\":0.5},\"fill_color\":{\"value\":\"lightgrey\"},\"left_units\":\"screen\",\"level\":\"overlay\",\"line_alpha\":{\"value\":1.0},\"line_color\":{\"value\":\"black\"},\"line_dash\":[4,4],\"line_width\":{\"value\":2},\"plot\":null,\"render_mode\":\"css\",\"right_units\":\"screen\",\"top_units\":\"screen\"},\"id\":\"f116d952-76e9-40b0-a7da-f517cac5c0f6\",\"type\":\"BoxAnnotation\"},{\"attributes\":{\"below\":[{\"id\":\"b7b32751-4fca-4837-9cb3-aed4213fef75\",\"type\":\"LinearAxis\"}],\"left\":[{\"id\":\"25943af4-598d-4954-8d5e-f1c131ed1b5c\",\"type\":\"LinearAxis\"}],\"plot_height\":400,\"plot_width\":400,\"renderers\":[{\"id\":\"b7b32751-4fca-4837-9cb3-aed4213fef75\",\"type\":\"LinearAxis\"},{\"id\":\"c08080b9-151d-4615-848c-8b970a85d7cb\",\"type\":\"Grid\"},{\"id\":\"25943af4-598d-4954-8d5e-f1c131ed1b5c\",\"type\":\"LinearAxis\"},{\"id\":\"80026aa9-968c-46de-859e-93f7860de016\",\"type\":\"Grid\"},{\"id\":\"f116d952-76e9-40b0-a7da-f517cac5c0f6\",\"type\":\"BoxAnnotation\"},{\"id\":\"f24496a3-4c53-4a6b-a7fa-f131799e3fb8\",\"type\":\"GlyphRenderer\"}],\"title\":{\"id\":\"b5a82928-a0d6-4bea-89b1-4c63a27fbdc3\",\"type\":\"Title\"},\"toolbar\":{\"id\":\"36392416-ba4d-4a8a-a788-b61c82f5b2d2\",\"type\":\"Toolbar\"},\"x_range\":{\"id\":\"d19c4a7a-6ef1-4df7-b782-d679c2ccc4cd\",\"type\":\"DataRange1d\"},\"x_scale\":{\"id\":\"36f9a865-58e5-49b1-aa56-c313bc6d0dad\",\"type\":\"LinearScale\"},\"y_range\":{\"id\":\"d425c78f-16f1-4d74-bbf5-0a700f5098d9\",\"type\":\"DataRange1d\"},\"y_scale\":{\"id\":\"b5ed2960-8b5b-455d-8b02-1ae9933a013a\",\"type\":\"LinearScale\"}},\"id\":\"56961da0-75c6-4cb0-87f7-a5ad08347430\",\"subtype\":\"Figure\",\"type\":\"Plot\"},{\"attributes\":{},\"id\":\"a2b9bee1-fbbf-4435-bf48-e451ed91ae33\",\"type\":\"PanTool\"},{\"attributes\":{},\"id\":\"32bcc12a-b085-4596-8a1b-626f525c57b3\",\"type\":\"ResetTool\"},{\"attributes\":{},\"id\":\"36f9a865-58e5-49b1-aa56-c313bc6d0dad\",\"type\":\"LinearScale\"},{\"attributes\":{\"active_drag\":\"auto\",\"active_inspect\":\"auto\",\"active_scroll\":\"auto\",\"active_tap\":\"auto\",\"tools\":[{\"id\":\"a2b9bee1-fbbf-4435-bf48-e451ed91ae33\",\"type\":\"PanTool\"},{\"id\":\"e51abc51-e19a-46c2-afa7-b6e3718a5284\",\"type\":\"WheelZoomTool\"},{\"id\":\"10edf9e0-ba7a-403c-bd7b-659840f135e3\",\"type\":\"BoxZoomTool\"},{\"id\":\"6eecc43e-d0cd-4552-a45e-b102bcbc19cf\",\"type\":\"SaveTool\"},{\"id\":\"32bcc12a-b085-4596-8a1b-626f525c57b3\",\"type\":\"ResetTool\"},{\"id\":\"f3c01445-17a8-4427-9095-122ce48a2774\",\"type\":\"HelpTool\"}]},\"id\":\"36392416-ba4d-4a8a-a788-b61c82f5b2d2\",\"type\":\"Toolbar\"},{\"attributes\":{\"callback\":null},\"id\":\"d425c78f-16f1-4d74-bbf5-0a700f5098d9\",\"type\":\"DataRange1d\"},{\"attributes\":{\"formatter\":{\"id\":\"a652f56a-a4ff-4bfc-ae84-b1d182c22096\",\"type\":\"BasicTickFormatter\"},\"plot\":{\"id\":\"56961da0-75c6-4cb0-87f7-a5ad08347430\",\"subtype\":\"Figure\",\"type\":\"Plot\"},\"ticker\":{\"id\":\"faa84ffc-5d73-4637-8f9c-c85f92b6dfa1\",\"type\":\"BasicTicker\"}},\"id\":\"25943af4-598d-4954-8d5e-f1c131ed1b5c\",\"type\":\"LinearAxis\"},{\"attributes\":{\"plot\":null,\"text\":\"\"},\"id\":\"b5a82928-a0d6-4bea-89b1-4c63a27fbdc3\",\"type\":\"Title\"}],\"root_ids\":[\"56961da0-75c6-4cb0-87f7-a5ad08347430\"]},\"title\":\"Bokeh Application\",\"version\":\"0.12.10\"}};\n",
       "    var render_items = [{\"docid\":\"365afcfb-d929-4121-a425-c6882e75b975\",\"elementid\":\"cabcbc32-d0c6-4b47-8268-05478c4f6aaf\",\"modelid\":\"56961da0-75c6-4cb0-87f7-a5ad08347430\"}];\n",
       "\n",
       "    root.Bokeh.embed.embed_items(docs_json, render_items);\n",
       "  }\n",
       "\n",
       "  if (root.Bokeh !== undefined) {\n",
       "    embed_document(root);\n",
       "  } else {\n",
       "    var attempts = 0;\n",
       "    var timer = setInterval(function(root) {\n",
       "      if (root.Bokeh !== undefined) {\n",
       "        embed_document(root);\n",
       "        clearInterval(timer);\n",
       "      }\n",
       "      attempts++;\n",
       "      if (attempts > 100) {\n",
       "        console.log(\"Bokeh: ERROR: Unable to embed document because BokehJS library is missing\")\n",
       "        clearInterval(timer);\n",
       "      }\n",
       "    }, 10, root)\n",
       "  }\n",
       "})(window);"
      ],
      "application/vnd.bokehjs_exec.v0+json": ""
     },
     "metadata": {
      "application/vnd.bokehjs_exec.v0+json": {
       "id": "56961da0-75c6-4cb0-87f7-a5ad08347430"
      }
     },
     "output_type": "display_data"
    }
   ],
   "source": [
    "# Let's plot this figure\n",
    "p = figure(plot_width=400, plot_height=400)\n",
    "x = [1, 2, 3, 4, 5]\n",
    "y = [6, 7, 8, 7, 3]\n",
    "# add a patch renderer with an alpha an line width\n",
    "p.patch(x, y, alpha=0.5, line_width=2)\n",
    "show(p)"
   ]
  },
  {
   "cell_type": "code",
   "execution_count": 8,
   "metadata": {},
   "outputs": [],
   "source": [
    "# Let's define a matrix and see what it does\n",
    "M = np.array([[2,0],[0,1]])\n",
    "output = np.matmul(M,np.array([x,y]))"
   ]
  },
  {
   "cell_type": "code",
   "execution_count": 9,
   "metadata": {},
   "outputs": [
    {
     "data": {
      "text/html": [
       "\n",
       "<div class=\"bk-root\">\n",
       "    <div class=\"bk-plotdiv\" id=\"a705ef62-4a21-4596-a22e-237beaf2d49d\"></div>\n",
       "</div>"
      ]
     },
     "metadata": {},
     "output_type": "display_data"
    },
    {
     "data": {
      "application/javascript": [
       "(function(root) {\n",
       "  function embed_document(root) {\n",
       "    var docs_json = {\"1bea84ec-b4fa-4edf-844b-07f6ed75aa0b\":{\"roots\":{\"references\":[{\"attributes\":{\"callback\":null},\"id\":\"bb4b7ad8-2358-4d96-94e7-d61e87b35c6e\",\"type\":\"DataRange1d\"},{\"attributes\":{\"formatter\":{\"id\":\"d747dc47-f1e2-4b9a-90e5-1b33d4128a59\",\"type\":\"BasicTickFormatter\"},\"plot\":{\"id\":\"43586397-af62-4ed2-885f-e6429e0e5571\",\"subtype\":\"Figure\",\"type\":\"Plot\"},\"ticker\":{\"id\":\"c6515d6e-e355-4257-bdfa-fe73481a1a13\",\"type\":\"BasicTicker\"}},\"id\":\"3eb30772-f07c-4d54-be4b-f6e02dbb51be\",\"type\":\"LinearAxis\"},{\"attributes\":{},\"id\":\"c5f80dc0-1647-4465-bea6-3de103ae97de\",\"type\":\"HelpTool\"},{\"attributes\":{},\"id\":\"fdcebd29-b64a-45b6-9f3f-a4b18912d946\",\"type\":\"BasicTicker\"},{\"attributes\":{\"plot\":{\"id\":\"43586397-af62-4ed2-885f-e6429e0e5571\",\"subtype\":\"Figure\",\"type\":\"Plot\"},\"ticker\":{\"id\":\"c6515d6e-e355-4257-bdfa-fe73481a1a13\",\"type\":\"BasicTicker\"}},\"id\":\"bf2f42c5-bf8d-40c2-a734-2f2762d1edb6\",\"type\":\"Grid\"},{\"attributes\":{\"data_source\":{\"id\":\"ed79b99b-d8b1-4f29-99d8-9af3247b8c05\",\"type\":\"ColumnDataSource\"},\"glyph\":{\"id\":\"0938e3e7-82be-4c93-8e53-afe40ca5545b\",\"type\":\"Patch\"},\"hover_glyph\":null,\"muted_glyph\":null,\"nonselection_glyph\":{\"id\":\"1bac8634-5e42-4702-8bb6-14bf40d413d8\",\"type\":\"Patch\"},\"selection_glyph\":null,\"view\":{\"id\":\"e26fdeae-b1eb-498c-986f-0d65de6aa296\",\"type\":\"CDSView\"}},\"id\":\"3bbb7864-1e0c-41c4-afe3-f26069ff2845\",\"type\":\"GlyphRenderer\"},{\"attributes\":{},\"id\":\"80dcb98b-b2b7-442b-8f12-c67a5250b16d\",\"type\":\"LinearScale\"},{\"attributes\":{\"source\":{\"id\":\"ed79b99b-d8b1-4f29-99d8-9af3247b8c05\",\"type\":\"ColumnDataSource\"}},\"id\":\"e26fdeae-b1eb-498c-986f-0d65de6aa296\",\"type\":\"CDSView\"},{\"attributes\":{\"below\":[{\"id\":\"3eb30772-f07c-4d54-be4b-f6e02dbb51be\",\"type\":\"LinearAxis\"}],\"left\":[{\"id\":\"66a8071f-42f6-4c6e-901a-42b198509033\",\"type\":\"LinearAxis\"}],\"plot_height\":400,\"plot_width\":400,\"renderers\":[{\"id\":\"3eb30772-f07c-4d54-be4b-f6e02dbb51be\",\"type\":\"LinearAxis\"},{\"id\":\"bf2f42c5-bf8d-40c2-a734-2f2762d1edb6\",\"type\":\"Grid\"},{\"id\":\"66a8071f-42f6-4c6e-901a-42b198509033\",\"type\":\"LinearAxis\"},{\"id\":\"0594ec6d-d0e2-4d25-a07a-1c7bec0b73e4\",\"type\":\"Grid\"},{\"id\":\"d702557b-e5b4-454f-a797-57a7398dbe9b\",\"type\":\"BoxAnnotation\"},{\"id\":\"3bbb7864-1e0c-41c4-afe3-f26069ff2845\",\"type\":\"GlyphRenderer\"}],\"title\":{\"id\":\"ac48d2f8-bf5a-4e83-be7d-cf4f3df65bbb\",\"type\":\"Title\"},\"toolbar\":{\"id\":\"20cf86f2-1ec1-4d00-b55d-7f1994b02fbd\",\"type\":\"Toolbar\"},\"x_range\":{\"id\":\"43d4ab1d-4897-4455-b224-28e48669678d\",\"type\":\"DataRange1d\"},\"x_scale\":{\"id\":\"80dcb98b-b2b7-442b-8f12-c67a5250b16d\",\"type\":\"LinearScale\"},\"y_range\":{\"id\":\"bb4b7ad8-2358-4d96-94e7-d61e87b35c6e\",\"type\":\"DataRange1d\"},\"y_scale\":{\"id\":\"0ac1565d-cf99-4969-a650-139ff2e326c0\",\"type\":\"LinearScale\"}},\"id\":\"43586397-af62-4ed2-885f-e6429e0e5571\",\"subtype\":\"Figure\",\"type\":\"Plot\"},{\"attributes\":{},\"id\":\"2ad49276-55b1-488a-840c-eb4bf6aa5075\",\"type\":\"ResetTool\"},{\"attributes\":{},\"id\":\"7d8600ab-9270-47f0-9055-50156a83aeeb\",\"type\":\"BasicTickFormatter\"},{\"attributes\":{},\"id\":\"d747dc47-f1e2-4b9a-90e5-1b33d4128a59\",\"type\":\"BasicTickFormatter\"},{\"attributes\":{},\"id\":\"80d9982e-c71d-4653-b32b-0cb182228407\",\"type\":\"SaveTool\"},{\"attributes\":{\"overlay\":{\"id\":\"d702557b-e5b4-454f-a797-57a7398dbe9b\",\"type\":\"BoxAnnotation\"}},\"id\":\"b8436938-6b1d-4582-b699-4870e6d46416\",\"type\":\"BoxZoomTool\"},{\"attributes\":{\"plot\":null,\"text\":\"\"},\"id\":\"ac48d2f8-bf5a-4e83-be7d-cf4f3df65bbb\",\"type\":\"Title\"},{\"attributes\":{},\"id\":\"0ac1565d-cf99-4969-a650-139ff2e326c0\",\"type\":\"LinearScale\"},{\"attributes\":{},\"id\":\"9f94c7a6-4a6a-48f7-8267-82618bf73ae0\",\"type\":\"PanTool\"},{\"attributes\":{},\"id\":\"c6515d6e-e355-4257-bdfa-fe73481a1a13\",\"type\":\"BasicTicker\"},{\"attributes\":{\"active_drag\":\"auto\",\"active_inspect\":\"auto\",\"active_scroll\":\"auto\",\"active_tap\":\"auto\",\"tools\":[{\"id\":\"9f94c7a6-4a6a-48f7-8267-82618bf73ae0\",\"type\":\"PanTool\"},{\"id\":\"b6f40c01-9062-43fe-8d18-a314fc390d6a\",\"type\":\"WheelZoomTool\"},{\"id\":\"b8436938-6b1d-4582-b699-4870e6d46416\",\"type\":\"BoxZoomTool\"},{\"id\":\"80d9982e-c71d-4653-b32b-0cb182228407\",\"type\":\"SaveTool\"},{\"id\":\"2ad49276-55b1-488a-840c-eb4bf6aa5075\",\"type\":\"ResetTool\"},{\"id\":\"c5f80dc0-1647-4465-bea6-3de103ae97de\",\"type\":\"HelpTool\"}]},\"id\":\"20cf86f2-1ec1-4d00-b55d-7f1994b02fbd\",\"type\":\"Toolbar\"},{\"attributes\":{\"dimension\":1,\"plot\":{\"id\":\"43586397-af62-4ed2-885f-e6429e0e5571\",\"subtype\":\"Figure\",\"type\":\"Plot\"},\"ticker\":{\"id\":\"fdcebd29-b64a-45b6-9f3f-a4b18912d946\",\"type\":\"BasicTicker\"}},\"id\":\"0594ec6d-d0e2-4d25-a07a-1c7bec0b73e4\",\"type\":\"Grid\"},{\"attributes\":{\"fill_alpha\":{\"value\":0.1},\"fill_color\":{\"value\":\"#1f77b4\"},\"line_alpha\":{\"value\":0.1},\"line_color\":{\"value\":\"#1f77b4\"},\"line_width\":{\"value\":2},\"x\":{\"field\":\"x\"},\"y\":{\"field\":\"y\"}},\"id\":\"1bac8634-5e42-4702-8bb6-14bf40d413d8\",\"type\":\"Patch\"},{\"attributes\":{},\"id\":\"b6f40c01-9062-43fe-8d18-a314fc390d6a\",\"type\":\"WheelZoomTool\"},{\"attributes\":{\"bottom_units\":\"screen\",\"fill_alpha\":{\"value\":0.5},\"fill_color\":{\"value\":\"lightgrey\"},\"left_units\":\"screen\",\"level\":\"overlay\",\"line_alpha\":{\"value\":1.0},\"line_color\":{\"value\":\"black\"},\"line_dash\":[4,4],\"line_width\":{\"value\":2},\"plot\":null,\"render_mode\":\"css\",\"right_units\":\"screen\",\"top_units\":\"screen\"},\"id\":\"d702557b-e5b4-454f-a797-57a7398dbe9b\",\"type\":\"BoxAnnotation\"},{\"attributes\":{\"formatter\":{\"id\":\"7d8600ab-9270-47f0-9055-50156a83aeeb\",\"type\":\"BasicTickFormatter\"},\"plot\":{\"id\":\"43586397-af62-4ed2-885f-e6429e0e5571\",\"subtype\":\"Figure\",\"type\":\"Plot\"},\"ticker\":{\"id\":\"fdcebd29-b64a-45b6-9f3f-a4b18912d946\",\"type\":\"BasicTicker\"}},\"id\":\"66a8071f-42f6-4c6e-901a-42b198509033\",\"type\":\"LinearAxis\"},{\"attributes\":{\"callback\":null,\"column_names\":[\"x\",\"y\"],\"data\":{\"x\":[2,4,6,8,10],\"y\":[6,7,8,7,3]}},\"id\":\"ed79b99b-d8b1-4f29-99d8-9af3247b8c05\",\"type\":\"ColumnDataSource\"},{\"attributes\":{\"fill_alpha\":{\"value\":0.5},\"fill_color\":{\"value\":\"#1f77b4\"},\"line_alpha\":{\"value\":0.5},\"line_color\":{\"value\":\"#1f77b4\"},\"line_width\":{\"value\":2},\"x\":{\"field\":\"x\"},\"y\":{\"field\":\"y\"}},\"id\":\"0938e3e7-82be-4c93-8e53-afe40ca5545b\",\"type\":\"Patch\"},{\"attributes\":{\"callback\":null},\"id\":\"43d4ab1d-4897-4455-b224-28e48669678d\",\"type\":\"DataRange1d\"}],\"root_ids\":[\"43586397-af62-4ed2-885f-e6429e0e5571\"]},\"title\":\"Bokeh Application\",\"version\":\"0.12.10\"}};\n",
       "    var render_items = [{\"docid\":\"1bea84ec-b4fa-4edf-844b-07f6ed75aa0b\",\"elementid\":\"a705ef62-4a21-4596-a22e-237beaf2d49d\",\"modelid\":\"43586397-af62-4ed2-885f-e6429e0e5571\"}];\n",
       "\n",
       "    root.Bokeh.embed.embed_items(docs_json, render_items);\n",
       "  }\n",
       "\n",
       "  if (root.Bokeh !== undefined) {\n",
       "    embed_document(root);\n",
       "  } else {\n",
       "    var attempts = 0;\n",
       "    var timer = setInterval(function(root) {\n",
       "      if (root.Bokeh !== undefined) {\n",
       "        embed_document(root);\n",
       "        clearInterval(timer);\n",
       "      }\n",
       "      attempts++;\n",
       "      if (attempts > 100) {\n",
       "        console.log(\"Bokeh: ERROR: Unable to embed document because BokehJS library is missing\")\n",
       "        clearInterval(timer);\n",
       "      }\n",
       "    }, 10, root)\n",
       "  }\n",
       "})(window);"
      ],
      "application/vnd.bokehjs_exec.v0+json": ""
     },
     "metadata": {
      "application/vnd.bokehjs_exec.v0+json": {
       "id": "43586397-af62-4ed2-885f-e6429e0e5571"
      }
     },
     "output_type": "display_data"
    }
   ],
   "source": [
    "# Finally, we'll update the figure and plot again.\n",
    "x = output[0,:]\n",
    "y = output[1,:]\n",
    "# add a patch renderer with an alpha an line width\n",
    "f = figure(plot_width=400, plot_height=400)\n",
    "f.patch(x, y, alpha=0.5, line_width=2)\n",
    "show(f)"
   ]
  },
  {
   "cell_type": "code",
   "execution_count": null,
   "metadata": {
    "collapsed": true
   },
   "outputs": [],
   "source": [
    "# Let's define another matrix and see what it does\n",
    "A = np.array([[np.cos(np.pi/4),-np.sin(np.pi/4)],[np.sin(np.pi/4),np.cos(np.pi/4)]])\n",
    "\n",
    "# Now let's feed it to our matrix multiplication function.\n",
    "output = np.matmul(A,np.array([x,y]))"
   ]
  },
  {
   "cell_type": "code",
   "execution_count": 87,
   "metadata": {},
   "outputs": [
    {
     "data": {
      "text/html": [
       "\n",
       "<div class=\"bk-root\">\n",
       "    <div class=\"bk-plotdiv\" id=\"8bc2ec3a-90c8-4b4a-a8b3-f235484190c3\"></div>\n",
       "</div>"
      ]
     },
     "metadata": {},
     "output_type": "display_data"
    },
    {
     "data": {
      "application/javascript": [
       "(function(root) {\n",
       "  function embed_document(root) {\n",
       "    var docs_json = {\"ac2ae60f-9c1c-4f0b-b720-611ff58dcf4a\":{\"roots\":{\"references\":[{\"attributes\":{\"formatter\":{\"id\":\"193eafcc-3850-4ecf-aa50-455ea08e794c\",\"type\":\"BasicTickFormatter\"},\"plot\":{\"id\":\"19726b8e-34e2-41e6-95f3-af60940f5b5d\",\"subtype\":\"Figure\",\"type\":\"Plot\"},\"ticker\":{\"id\":\"ad3a738c-9684-444a-ab82-4cbf43b593dc\",\"type\":\"BasicTicker\"}},\"id\":\"a0c1fc37-b38d-49e0-b87a-7c7f524b481d\",\"type\":\"LinearAxis\"},{\"attributes\":{\"formatter\":{\"id\":\"c1f836cb-9ded-4a8e-9c21-c9c73102f91b\",\"type\":\"BasicTickFormatter\"},\"plot\":{\"id\":\"19726b8e-34e2-41e6-95f3-af60940f5b5d\",\"subtype\":\"Figure\",\"type\":\"Plot\"},\"ticker\":{\"id\":\"027658cf-0b18-4553-ad25-22a0edfadfc9\",\"type\":\"BasicTicker\"}},\"id\":\"1a59c065-c2ee-421d-8c6e-4a8de6b7dc3b\",\"type\":\"LinearAxis\"},{\"attributes\":{\"plot\":{\"id\":\"19726b8e-34e2-41e6-95f3-af60940f5b5d\",\"subtype\":\"Figure\",\"type\":\"Plot\"},\"ticker\":{\"id\":\"027658cf-0b18-4553-ad25-22a0edfadfc9\",\"type\":\"BasicTicker\"}},\"id\":\"501b9984-5073-4d2f-93c3-ca658ef4d3c7\",\"type\":\"Grid\"},{\"attributes\":{},\"id\":\"bd5b17ea-b2ba-4748-ba36-9efffca92eca\",\"type\":\"LinearScale\"},{\"attributes\":{\"callback\":null,\"column_names\":[\"x\",\"y\"],\"data\":{\"x\":{\"__ndarray__\":\"FAAAAAAA8D8JAAAAAAAAQAsAAAAAAAhABgAAAAAAEEAAAAAAAAAUQA==\",\"dtype\":\"float64\",\"shape\":[5]},\"y\":{\"__ndarray__\":\"AAAAAAAAGED7//////8bQP7//////x9A/P//////G0D4//////8HQA==\",\"dtype\":\"float64\",\"shape\":[5]}}},\"id\":\"f8662fb5-07b6-42fb-bd2c-327dfb30efd4\",\"type\":\"ColumnDataSource\"},{\"attributes\":{},\"id\":\"027658cf-0b18-4553-ad25-22a0edfadfc9\",\"type\":\"BasicTicker\"},{\"attributes\":{\"data_source\":{\"id\":\"f8662fb5-07b6-42fb-bd2c-327dfb30efd4\",\"type\":\"ColumnDataSource\"},\"glyph\":{\"id\":\"d0a6d642-92aa-4aef-9082-8b9d8e12aedb\",\"type\":\"Patch\"},\"hover_glyph\":null,\"muted_glyph\":null,\"nonselection_glyph\":{\"id\":\"cc17f37c-38fa-43a2-b384-d5082671afd3\",\"type\":\"Patch\"},\"selection_glyph\":null,\"view\":{\"id\":\"b45a5d7e-1c38-4153-87aa-f3d4918347d5\",\"type\":\"CDSView\"}},\"id\":\"f0a70a33-baaf-4b8f-a935-e276d83b47d6\",\"type\":\"GlyphRenderer\"},{\"attributes\":{\"dimension\":1,\"plot\":{\"id\":\"19726b8e-34e2-41e6-95f3-af60940f5b5d\",\"subtype\":\"Figure\",\"type\":\"Plot\"},\"ticker\":{\"id\":\"ad3a738c-9684-444a-ab82-4cbf43b593dc\",\"type\":\"BasicTicker\"}},\"id\":\"334f22f6-4ab7-4dc7-9bd9-5f5d24640e58\",\"type\":\"Grid\"},{\"attributes\":{\"callback\":null},\"id\":\"f3e06328-9158-4482-9b11-31bfb329bef4\",\"type\":\"DataRange1d\"},{\"attributes\":{},\"id\":\"c1f836cb-9ded-4a8e-9c21-c9c73102f91b\",\"type\":\"BasicTickFormatter\"},{\"attributes\":{\"fill_alpha\":{\"value\":0.1},\"fill_color\":{\"value\":\"#1f77b4\"},\"line_alpha\":{\"value\":0.1},\"line_color\":{\"value\":\"#1f77b4\"},\"line_width\":{\"value\":2},\"x\":{\"field\":\"x\"},\"y\":{\"field\":\"y\"}},\"id\":\"cc17f37c-38fa-43a2-b384-d5082671afd3\",\"type\":\"Patch\"},{\"attributes\":{\"callback\":null},\"id\":\"677b56c4-06b5-40f7-8d25-ecc9a1bad759\",\"type\":\"DataRange1d\"},{\"attributes\":{},\"id\":\"e9ce415f-1fb7-4398-8c9c-a853c394912e\",\"type\":\"ResetTool\"},{\"attributes\":{},\"id\":\"15600397-2d48-4e7f-9669-595dc221f0af\",\"type\":\"LinearScale\"},{\"attributes\":{\"overlay\":{\"id\":\"7550206c-fd31-4edc-9f97-3617e254f5ff\",\"type\":\"BoxAnnotation\"}},\"id\":\"08fbe0a3-8f25-40d6-b2f4-3ad399b4673f\",\"type\":\"BoxZoomTool\"},{\"attributes\":{},\"id\":\"63a6b2ff-f26b-4808-83f0-a75cdfbfe4bf\",\"type\":\"HelpTool\"},{\"attributes\":{},\"id\":\"8bb9bd14-def9-4456-b050-a806806ebe66\",\"type\":\"WheelZoomTool\"},{\"attributes\":{},\"id\":\"c0798ab2-a78e-4011-9ffa-300bdd885bc4\",\"type\":\"PanTool\"},{\"attributes\":{},\"id\":\"193eafcc-3850-4ecf-aa50-455ea08e794c\",\"type\":\"BasicTickFormatter\"},{\"attributes\":{\"plot\":null,\"text\":\"\"},\"id\":\"5db41b74-c594-4238-af73-cc0ab7eabcbc\",\"type\":\"Title\"},{\"attributes\":{\"active_drag\":\"auto\",\"active_inspect\":\"auto\",\"active_scroll\":\"auto\",\"active_tap\":\"auto\",\"tools\":[{\"id\":\"c0798ab2-a78e-4011-9ffa-300bdd885bc4\",\"type\":\"PanTool\"},{\"id\":\"8bb9bd14-def9-4456-b050-a806806ebe66\",\"type\":\"WheelZoomTool\"},{\"id\":\"08fbe0a3-8f25-40d6-b2f4-3ad399b4673f\",\"type\":\"BoxZoomTool\"},{\"id\":\"c071d6a8-58ac-4147-b2c4-5c9dd3c40fd9\",\"type\":\"SaveTool\"},{\"id\":\"e9ce415f-1fb7-4398-8c9c-a853c394912e\",\"type\":\"ResetTool\"},{\"id\":\"63a6b2ff-f26b-4808-83f0-a75cdfbfe4bf\",\"type\":\"HelpTool\"}]},\"id\":\"eff18792-d7b0-4273-9393-a2d433f40726\",\"type\":\"Toolbar\"},{\"attributes\":{\"source\":{\"id\":\"f8662fb5-07b6-42fb-bd2c-327dfb30efd4\",\"type\":\"ColumnDataSource\"}},\"id\":\"b45a5d7e-1c38-4153-87aa-f3d4918347d5\",\"type\":\"CDSView\"},{\"attributes\":{},\"id\":\"c071d6a8-58ac-4147-b2c4-5c9dd3c40fd9\",\"type\":\"SaveTool\"},{\"attributes\":{\"bottom_units\":\"screen\",\"fill_alpha\":{\"value\":0.5},\"fill_color\":{\"value\":\"lightgrey\"},\"left_units\":\"screen\",\"level\":\"overlay\",\"line_alpha\":{\"value\":1.0},\"line_color\":{\"value\":\"black\"},\"line_dash\":[4,4],\"line_width\":{\"value\":2},\"plot\":null,\"render_mode\":\"css\",\"right_units\":\"screen\",\"top_units\":\"screen\"},\"id\":\"7550206c-fd31-4edc-9f97-3617e254f5ff\",\"type\":\"BoxAnnotation\"},{\"attributes\":{},\"id\":\"ad3a738c-9684-444a-ab82-4cbf43b593dc\",\"type\":\"BasicTicker\"},{\"attributes\":{\"below\":[{\"id\":\"1a59c065-c2ee-421d-8c6e-4a8de6b7dc3b\",\"type\":\"LinearAxis\"}],\"left\":[{\"id\":\"a0c1fc37-b38d-49e0-b87a-7c7f524b481d\",\"type\":\"LinearAxis\"}],\"plot_height\":400,\"plot_width\":400,\"renderers\":[{\"id\":\"1a59c065-c2ee-421d-8c6e-4a8de6b7dc3b\",\"type\":\"LinearAxis\"},{\"id\":\"501b9984-5073-4d2f-93c3-ca658ef4d3c7\",\"type\":\"Grid\"},{\"id\":\"a0c1fc37-b38d-49e0-b87a-7c7f524b481d\",\"type\":\"LinearAxis\"},{\"id\":\"334f22f6-4ab7-4dc7-9bd9-5f5d24640e58\",\"type\":\"Grid\"},{\"id\":\"7550206c-fd31-4edc-9f97-3617e254f5ff\",\"type\":\"BoxAnnotation\"},{\"id\":\"f0a70a33-baaf-4b8f-a935-e276d83b47d6\",\"type\":\"GlyphRenderer\"}],\"title\":{\"id\":\"5db41b74-c594-4238-af73-cc0ab7eabcbc\",\"type\":\"Title\"},\"toolbar\":{\"id\":\"eff18792-d7b0-4273-9393-a2d433f40726\",\"type\":\"Toolbar\"},\"x_range\":{\"id\":\"677b56c4-06b5-40f7-8d25-ecc9a1bad759\",\"type\":\"DataRange1d\"},\"x_scale\":{\"id\":\"bd5b17ea-b2ba-4748-ba36-9efffca92eca\",\"type\":\"LinearScale\"},\"y_range\":{\"id\":\"f3e06328-9158-4482-9b11-31bfb329bef4\",\"type\":\"DataRange1d\"},\"y_scale\":{\"id\":\"15600397-2d48-4e7f-9669-595dc221f0af\",\"type\":\"LinearScale\"}},\"id\":\"19726b8e-34e2-41e6-95f3-af60940f5b5d\",\"subtype\":\"Figure\",\"type\":\"Plot\"},{\"attributes\":{\"fill_alpha\":{\"value\":0.5},\"fill_color\":{\"value\":\"#1f77b4\"},\"line_alpha\":{\"value\":0.5},\"line_color\":{\"value\":\"#1f77b4\"},\"line_width\":{\"value\":2},\"x\":{\"field\":\"x\"},\"y\":{\"field\":\"y\"}},\"id\":\"d0a6d642-92aa-4aef-9082-8b9d8e12aedb\",\"type\":\"Patch\"}],\"root_ids\":[\"19726b8e-34e2-41e6-95f3-af60940f5b5d\"]},\"title\":\"Bokeh Application\",\"version\":\"0.12.10\"}};\n",
       "    var render_items = [{\"docid\":\"ac2ae60f-9c1c-4f0b-b720-611ff58dcf4a\",\"elementid\":\"8bc2ec3a-90c8-4b4a-a8b3-f235484190c3\",\"modelid\":\"19726b8e-34e2-41e6-95f3-af60940f5b5d\"}];\n",
       "\n",
       "    root.Bokeh.embed.embed_items(docs_json, render_items);\n",
       "  }\n",
       "\n",
       "  if (root.Bokeh !== undefined) {\n",
       "    embed_document(root);\n",
       "  } else {\n",
       "    var attempts = 0;\n",
       "    var timer = setInterval(function(root) {\n",
       "      if (root.Bokeh !== undefined) {\n",
       "        embed_document(root);\n",
       "        clearInterval(timer);\n",
       "      }\n",
       "      attempts++;\n",
       "      if (attempts > 100) {\n",
       "        console.log(\"Bokeh: ERROR: Unable to embed document because BokehJS library is missing\")\n",
       "        clearInterval(timer);\n",
       "      }\n",
       "    }, 10, root)\n",
       "  }\n",
       "})(window);"
      ],
      "application/vnd.bokehjs_exec.v0+json": ""
     },
     "metadata": {
      "application/vnd.bokehjs_exec.v0+json": {
       "id": "19726b8e-34e2-41e6-95f3-af60940f5b5d"
      }
     },
     "output_type": "display_data"
    }
   ],
   "source": [
    "# Finally, we'll update the figure and plot again.\n",
    "x = output[0,:]\n",
    "y = output[1,:]\n",
    "# add a patch renderer with an alpha an line width\n",
    "q = figure(plot_width=400, plot_height=400)\n",
    "q.patch(x, y, alpha=0.5, line_width=2)\n",
    "show(q)"
   ]
  },
  {
   "cell_type": "code",
   "execution_count": null,
   "metadata": {
    "collapsed": true
   },
   "outputs": [],
   "source": []
  }
 ],
 "metadata": {
  "kernelspec": {
   "display_name": "Python 3",
   "language": "python",
   "name": "python3"
  },
  "language_info": {
   "codemirror_mode": {
    "name": "ipython",
    "version": 3
   },
   "file_extension": ".py",
   "mimetype": "text/x-python",
   "name": "python",
   "nbconvert_exporter": "python",
   "pygments_lexer": "ipython3",
   "version": "3.6.3"
  }
 },
 "nbformat": 4,
 "nbformat_minor": 2
}
