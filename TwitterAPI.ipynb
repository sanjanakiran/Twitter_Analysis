{
 "cells": [
  {
   "cell_type": "markdown",
   "metadata": {},
   "source": [
    "# CIS600 - Social Media & Data Mining\n",
    "###  \n",
    "<img src=\"https://www.syracuse.edu/wp-content/themes/g6-carbon/img/syracuse-university-seal.svg?ver=6.3.9\" style=\"width: 200px;\"/>\n",
    "\n",
    "# Twitter\n",
    "\n",
    "###  February 13, 2018"
   ]
  },
  {
   "cell_type": "markdown",
   "metadata": {},
   "source": [
    "# Generalities - 'Scraping'"
   ]
  },
  {
   "cell_type": "markdown",
   "metadata": {},
   "source": [
    "- You don't need an API to automate data retrieval\n",
    "- Very often, none is provided.\n",
    "- But you still have to worry about errors and rate limits\n",
    "- Some packages to use for this:\n",
    "    - Requests\n",
    "    - Beautiful Soup\n",
    "    - Scrapy\n",
    "- We will use the designated APIs."
   ]
  },
  {
   "cell_type": "markdown",
   "metadata": {},
   "source": [
    "# Generatlities - REST APIs"
   ]
  },
  {
   "cell_type": "markdown",
   "metadata": {},
   "source": [
    "- RESTful web services provide representations of resources in *text*.    \n",
    "- JSON and XML format\n",
    "- This is done via *stateless* operations.\n",
    "- Uses HTTP methods such as GET, POST.\n",
    "- We will be using mostly GET requests.\n",
    "- You can also PUT, POST and DELETE."
   ]
  },
  {
   "cell_type": "markdown",
   "metadata": {},
   "source": [
    "# Generalties - JSON & XML"
   ]
  },
  {
   "cell_type": "markdown",
   "metadata": {},
   "source": [
    "- JSON: Javascript Object Notation\n",
    "- XML: Extensible Markup Language\n",
    "- Both record information that is *human-* and *machine-*readable\n",
    "- JSON works like dictionaries in Python\n",
    "- XML looks like basic HTML\n",
    "- Both are *hierarchical*\n",
    "    - Values in a JSON dictionary can themselves be dictionaries.\n",
    "    - Elements in XML can themeselves be element trees."
   ]
  },
  {
   "cell_type": "markdown",
   "metadata": {},
   "source": [
    "## Example - JSON"
   ]
  },
  {
   "cell_type": "code",
   "execution_count": 1,
   "metadata": {},
   "outputs": [
    {
     "data": {
      "text/plain": [
       "'Guido'"
      ]
     },
     "execution_count": 1,
     "metadata": {},
     "output_type": "execute_result"
    }
   ],
   "source": [
    "#JSON\n",
    "# See Introduction notebook for other JSON examples.\n",
    "import json\n",
    "json_string = '{\"first_name\": \"Guido\", \"last_name\":\"Rossum\"}'\n",
    "\n",
    "# Read it into a JSON object\n",
    "parsed_json = json.loads(json_string)\n",
    "\n",
    "# Get its values, treating it as a dictionary\n",
    "parsed_json['first_name']"
   ]
  },
  {
   "cell_type": "code",
   "execution_count": 15,
   "metadata": {},
   "outputs": [
    {
     "data": {
      "text/plain": [
       "dict"
      ]
     },
     "execution_count": 15,
     "metadata": {},
     "output_type": "execute_result"
    }
   ],
   "source": [
    "# Alternatively, we could start with a dictionary\n",
    "d = {\n",
    "    'first_name': 'Guido',\n",
    "    'second_name': 'Rossum',\n",
    "    'titles': ['BDFL', 'Developer'],\n",
    "}\n",
    "type(d)"
   ]
  },
  {
   "cell_type": "code",
   "execution_count": 16,
   "metadata": {},
   "outputs": [
    {
     "data": {
      "text/plain": [
       "'BDFL'"
      ]
     },
     "execution_count": 16,
     "metadata": {},
     "output_type": "execute_result"
    }
   ],
   "source": [
    "# And convert it to JSON\n",
    "new_json = json.loads(json.dumps(d))\n",
    "new_json['titles'][0]"
   ]
  },
  {
   "cell_type": "markdown",
   "metadata": {},
   "source": [
    "## Example - XPath"
   ]
  },
  {
   "cell_type": "code",
   "execution_count": 2,
   "metadata": {
    "collapsed": true
   },
   "outputs": [],
   "source": [
    "#XML\n",
    "from lxml import html\n",
    "import requests\n",
    "page = requests.get('http://econpy.pythonanywhere.com/ex/001.html')\n",
    "tree = html.fromstring(page.content)"
   ]
  },
  {
   "cell_type": "markdown",
   "metadata": {},
   "source": [
    "### We now have the entire HTML source for that page in the variable \"tree\". Let's use XPath, the XML query language, to pull things out of it."
   ]
  },
  {
   "cell_type": "code",
   "execution_count": 11,
   "metadata": {
    "collapsed": true
   },
   "outputs": [],
   "source": [
    "buyers = tree.xpath('//div[@title=\"buyer-name\"]/text()')"
   ]
  },
  {
   "cell_type": "code",
   "execution_count": 12,
   "metadata": {},
   "outputs": [
    {
     "data": {
      "text/plain": [
       "['Carson Busses',\n",
       " 'Earl E. Byrd',\n",
       " 'Patty Cakes',\n",
       " 'Derri Anne Connecticut',\n",
       " 'Moe Dess',\n",
       " 'Leda Doggslife',\n",
       " 'Dan Druff',\n",
       " 'Al Fresco',\n",
       " 'Ido Hoe',\n",
       " 'Howie Kisses',\n",
       " 'Len Lease',\n",
       " 'Phil Meup',\n",
       " 'Ira Pent',\n",
       " 'Ben D. Rules',\n",
       " 'Ave Sectomy',\n",
       " 'Gary Shattire',\n",
       " 'Bobbi Soks',\n",
       " 'Sheila Takya',\n",
       " 'Rose Tattoo',\n",
       " 'Moe Tell']"
      ]
     },
     "execution_count": 12,
     "metadata": {},
     "output_type": "execute_result"
    }
   ],
   "source": [
    "buyers"
   ]
  },
  {
   "cell_type": "markdown",
   "metadata": {},
   "source": [
    "### We got a list of \"buyers\". Why? The first part \"//\" refers to *descendants* of a given node, in this case the root of \"tree\". All children are descendants, but not all descendants are (direct) children! Next, we are looking for *div* elements - but not all of them!\n",
    "\n",
    "### The @ symbol refers to *attributes*. We are therefore filtering for div elements whose *title* attribute is equal to \"buyer-name\".\n",
    "\n",
    "### Finally, we get the text that is the direct descendant, or child, of the div elements having title equal to \"buyer-name\". In other words, we get all the buyer names.\n",
    "\n",
    "### See [this page](https://en.wikipedia.org/wiki/XPath) for more."
   ]
  },
  {
   "cell_type": "markdown",
   "metadata": {},
   "source": [
    "# Twitter API - Search"
   ]
  },
  {
   "cell_type": "markdown",
   "metadata": {},
   "source": [
    "### The Twitter Search API is RESTful. Let's get some responses and look at what is inside them."
   ]
  },
  {
   "cell_type": "code",
   "execution_count": 3,
   "metadata": {
    "collapsed": true
   },
   "outputs": [],
   "source": [
    "from twitter import *"
   ]
  },
  {
   "cell_type": "code",
   "execution_count": 4,
   "metadata": {
    "collapsed": true
   },
   "outputs": [],
   "source": [
    "# Loading my authentication tokens\n",
    "with open('auth_dict','r') as f:\n",
    "    twtr_auth = json.load(f)\n",
    "# Notice that there are four tokens - you need to create these in the\n",
    "# Twitter Apps dashboard after you have created your own \"app\".\n",
    "t = Twitter(auth=OAuth(twtr_auth['token'], twtr_auth['token_secret'], \n",
    "                       twtr_auth['consumer_key'], twtr_auth['consumer_secret']))"
   ]
  },
  {
   "cell_type": "markdown",
   "metadata": {},
   "source": [
    "### Let's look at the \"Example Request\" provided by Twitter."
   ]
  },
  {
   "cell_type": "code",
   "execution_count": 5,
   "metadata": {
    "collapsed": true
   },
   "outputs": [],
   "source": [
    "docs_example = \"\"\"GET https://api.twitter.com/1.1/search/tweets\n",
    "                .json?q=%23freebandnames&since_id=2401261998405\n",
    "                1000&max_id=250126199840518145&result_type=mixed&count=4\"\"\""
   ]
  },
  {
   "cell_type": "markdown",
   "metadata": {},
   "source": [
    "### Note that we used triple quotes (i.e. 3 double quotes) for this multiline string. It is still just a string.\n",
    "\n",
    "### What is going on in this string?"
   ]
  },
  {
   "cell_type": "markdown",
   "metadata": {},
   "source": [
    "### The first piece of information in the string *docs_example* that stands out is \"freebandnames\". That's a search term, but what is its effect? It is preceded by \"%23\" to indicate *hashtags*. See [this](https://brajeshwar.github.io/entities/) for more.\n",
    "\n",
    "### Rmk: [There is no such thing as plaintext.](https://www.joelonsoftware.com/2003/10/08/the-absolute-minimum-every-software-developer-absolutely-positively-must-know-about-unicode-and-character-sets-no-excuses/)\n",
    "\n",
    "### Next, we see \"since_id\" - we are searching for tweets tweeted since a given tweet ID number."
   ]
  },
  {
   "cell_type": "markdown",
   "metadata": {},
   "source": [
    "### The \"max_id\" gives the other bound - we want no tweets with IDs greater than this value."
   ]
  },
  {
   "cell_type": "markdown",
   "metadata": {},
   "source": [
    "### We are asking for \"mixed\" results - both popular and recent"
   ]
  },
  {
   "cell_type": "markdown",
   "metadata": {},
   "source": [
    "### Finally, we specify the number of results, 4, as opposed to the default of 15."
   ]
  },
  {
   "cell_type": "markdown",
   "metadata": {},
   "source": [
    "### Let's look at the Example Results"
   ]
  },
  {
   "cell_type": "markdown",
   "metadata": {},
   "source": [
    "# Twitter API - Python Wrapper"
   ]
  },
  {
   "cell_type": "markdown",
   "metadata": {},
   "source": [
    "### We don't want to build one of these strings every time, and we don't have to. Now we will do the above query using the python library \"twitter\" from SixOhSix."
   ]
  },
  {
   "cell_type": "code",
   "execution_count": 46,
   "metadata": {
    "collapsed": true
   },
   "outputs": [],
   "source": [
    "frebandnames = t.search.tweets(q='#freebandnames', since_id=24012619984051000,\n",
    "                result_type='mixed', count=4)"
   ]
  },
  {
   "cell_type": "code",
   "execution_count": 50,
   "metadata": {},
   "outputs": [
    {
     "data": {
      "text/plain": [
       "dict_keys(['statuses', 'search_metadata'])"
      ]
     },
     "execution_count": 50,
     "metadata": {},
     "output_type": "execute_result"
    }
   ],
   "source": [
    "frebandnames.keys()"
   ]
  },
  {
   "cell_type": "code",
   "execution_count": 51,
   "metadata": {
    "collapsed": true
   },
   "outputs": [],
   "source": [
    "freeb = frebandnames['statuses']"
   ]
  },
  {
   "cell_type": "code",
   "execution_count": 55,
   "metadata": {},
   "outputs": [
    {
     "data": {
      "text/plain": [
       "'jakeonthego'"
      ]
     },
     "execution_count": 55,
     "metadata": {},
     "output_type": "execute_result"
    }
   ],
   "source": [
    "freeb[0]['user']['screen_name']"
   ]
  },
  {
   "cell_type": "markdown",
   "metadata": {},
   "source": [
    "### Note the structure of this JSON object. Let's discuss."
   ]
  },
  {
   "cell_type": "markdown",
   "metadata": {},
   "source": [
    "### Challenge: get \"max_id\" to work, so that this query reproduces exactly the \"Example Results\" from the documentation."
   ]
  },
  {
   "cell_type": "markdown",
   "metadata": {},
   "source": [
    "### Exercise: try the other example searches [here](https://developer.twitter.com/en/docs/tweets/rules-and-filtering/guides/how-to-build-a-query). Play around and change things, see what you get!"
   ]
  },
  {
   "cell_type": "markdown",
   "metadata": {},
   "source": [
    "# Python Wrapper - More Examples"
   ]
  },
  {
   "cell_type": "code",
   "execution_count": 60,
   "metadata": {},
   "outputs": [
    {
     "data": {
      "text/plain": [
       "{'author_name': 'Larry Rosbach',\n",
       " 'author_url': 'https://twitter.com/lrphils',\n",
       " 'cache_age': '3153600000',\n",
       " 'height': None,\n",
       " 'html': '<blockquote class=\"twitter-tweet\"><p lang=\"en\" dir=\"ltr\">Ran Frostbite 5-miler in Ambler, PA this morning and did pretty well considering. A good start to, I hope, a good weekend.</p>&mdash; Larry Rosbach (@lrphils) <a href=\"https://twitter.com/lrphils/status/1234577890?ref_src=twsrc%5Etfw\">February 21, 2009</a></blockquote>\\n<script async src=\"https://platform.twitter.com/widgets.js\" charset=\"utf-8\"></script>\\n',\n",
       " 'provider_name': 'Twitter',\n",
       " 'provider_url': 'https://twitter.com',\n",
       " 'type': 'rich',\n",
       " 'url': 'https://twitter.com/lrphils/status/1234577890',\n",
       " 'version': '1.0',\n",
       " 'width': 550}"
      ]
     },
     "execution_count": 60,
     "metadata": {},
     "output_type": "execute_result"
    }
   ],
   "source": [
    "t.statuses.oembed(_id=1234577890)"
   ]
  },
  {
   "cell_type": "code",
   "execution_count": null,
   "metadata": {
    "collapsed": true
   },
   "outputs": [],
   "source": [
    "# Get your \"home\" timeline\n",
    "t.statuses.home_timeline()\n",
    "\n",
    "# Get a particular friend's timeline\n",
    "t.statuses.user_timeline(screen_name=\"zedshaw\")\n",
    "\n",
    "# to pass in GET/POST parameters, such as `count`\n",
    "t.statuses.home_timeline(count=5)\n",
    "\n",
    "# to pass in the GET/POST parameter `id` you need to use `_id`\n",
    "t.statuses.oembed(_id=1234567890)\n",
    "\n",
    "# Update your status\n",
    "t.statuses.update(\n",
    "    status=\"Using Python Twitter Tools.\")\n",
    "\n",
    "# Send a direct message\n",
    "t.direct_messages.new(\n",
    "    user=\"zedshaw\",\n",
    "    text=\"Hi Zed, big fan of your work.\")\n",
    "\n",
    "# Get the members of tamtar's list \"Things That Are Rad\"\n",
    "t.lists.members(owner_screen_name=\"buffer\", slug=\"the-buffer-team\")\n",
    "\n",
    "# An *optional* `_timeout` parameter can also be used for API\n",
    "# calls which take much more time than normal or twitter stops\n",
    "# responding for some reason:\n",
    "t.users.lookup(\n",
    "    screen_name=','.join(A_LIST_OF_100_SCREEN_NAMES), _timeout=1)\n",
    "\n",
    "# Rmk: A_LIST_OF_100_SCREEN_NAMES is not defined. Why not fix that?\n",
    "\n",
    "# Overriding Method: GET/POST\n",
    "# you should not need to use this method as this library properly\n",
    "# detects whether GET or POST should be used, Nevertheless\n",
    "# to force a particular method, use `_method`\n",
    "t.statuses.oembed(_id=1234567890, _method='GET')"
   ]
  },
  {
   "cell_type": "code",
   "execution_count": null,
   "metadata": {
    "collapsed": true
   },
   "outputs": [],
   "source": [
    "# Search for the latest tweets about #pycon\n",
    "t.search.tweets(q=\"#pycon\")\n",
    "\n",
    "# Search for the latest tweets about #pycon, using extended mode\n",
    "t.search.tweets(q=\"#pycon\", tweet_mode='extended')"
   ]
  },
  {
   "cell_type": "code",
   "execution_count": null,
   "metadata": {
    "collapsed": true
   },
   "outputs": [],
   "source": [
    "x = t.statuses.home_timeline()\n",
    "\n",
    "# The first 'tweet' in the timeline\n",
    "x[0]\n",
    "\n",
    "# The screen name of the user who wrote the first 'tweet'\n",
    "x[0]['user']['screen_name']"
   ]
  },
  {
   "cell_type": "markdown",
   "metadata": {},
   "source": [
    "# Twitter Streaming API"
   ]
  },
  {
   "cell_type": "markdown",
   "metadata": {},
   "source": [
    "### The general idea (from SixOhSix):"
   ]
  },
  {
   "cell_type": "code",
   "execution_count": null,
   "metadata": {
    "collapsed": true
   },
   "outputs": [],
   "source": [
    "# Rmk: this cell will not run!\n",
    "twitter_stream = TwitterStream(auth=OAuth(...))\n",
    "iterator = twitter_stream.statuses.sample()\n",
    "\n",
    "for tweet in iterator:\n",
    "    #...do something with this tweet..."
   ]
  },
  {
   "cell_type": "markdown",
   "metadata": {},
   "source": [
    "### Let's see a basic example."
   ]
  },
  {
   "cell_type": "code",
   "execution_count": null,
   "metadata": {
    "collapsed": true
   },
   "outputs": [],
   "source": [
    "# Create a *streaming* connection (not RESTful, different from Search).\n",
    "t_stream = TwitterStream(auth=OAuth(twtr_auth['token'], twtr_auth['token_secret'], \n",
    "                       twtr_auth['consumer_key'], twtr_auth['consumer_secret']))\n",
    "\n",
    "\n",
    "# Get an *iterator* object from the twitter wrapper\n",
    "\n",
    "tweeterator = t_stream.statuses.sample()\n",
    "\n",
    "\n",
    "# The loop below simply prints randomly selected new tweets\n",
    "# until we reach the threshold of \"tweet_count\"\n",
    "\n",
    "tweet_count = 200\n",
    "for tweet in tweeterator:\n",
    "    tweet_count -= 1\n",
    "    print(json.dumps(tweet))  \n",
    "    if tweet_count <= 0:\n",
    "        break "
   ]
  }
 ],
 "metadata": {
  "kernelspec": {
   "display_name": "Python 3",
   "language": "python",
   "name": "python3"
  },
  "language_info": {
   "codemirror_mode": {
    "name": "ipython",
    "version": 3
   },
   "file_extension": ".py",
   "mimetype": "text/x-python",
   "name": "python",
   "nbconvert_exporter": "python",
   "pygments_lexer": "ipython3",
   "version": "3.6.3"
  }
 },
 "nbformat": 4,
 "nbformat_minor": 2
}
